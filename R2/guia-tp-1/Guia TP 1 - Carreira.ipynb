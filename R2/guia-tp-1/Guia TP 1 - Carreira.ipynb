{
 "cells": [
  {
   "cell_type": "markdown",
   "metadata": {},
   "source": [
    "# Guía TP 1\n",
    "\n",
    "## Primeros pasos con R\n",
    "\n",
    "---\n",
    "\n",
    "#### Alumno: Leandro Carreira\n",
    "#### LU: 669/18\n",
    "\n",
    "---"
   ]
  },
  {
   "cell_type": "markdown",
   "metadata": {},
   "source": [
    "El objetivo de esta guía es repasar algunos conceptos relativos a la sintaxis y manejo de datos usando R, siguiendo la propuesta presentada en *Foundations of Statistics with R*, de Darrin Speegle y Bryan Clair.\n",
    "\n",
    "Haciendo clicke [aquí]() podra acceder al libro. Buena suerte!"
   ]
  },
  {
   "cell_type": "markdown",
   "metadata": {},
   "source": [
    "### Ejercicio 1.a)"
   ]
  },
  {
   "cell_type": "markdown",
   "metadata": {},
   "source": [
    "Sea\n",
    "\n",
    "> `x <- c(1,2,3)`\n",
    ">\n",
    "> `y <- c(6,5,4)`\n",
    "\n",
    "  **Predecir** el resultado de correr cada una de las siguientes líneas y **después** chequear las respuestas.\n",
    "  \n",
    "> `x * 2`\n",
    "\n",
    "> `x * y`\n",
    "\n",
    "> `x[1] * y[2]`\n",
    "\n",
    "> `1/x`\n",
    "\n",
    "> `(1:10) * x[2]`\n",
    "\n",
    "> `rep(c(1,1,2), times = 2)`\n",
    "\n",
    "> `seq(from = 0, to = 10, length.out = 5) + 1:10`"
   ]
  },
  {
   "cell_type": "markdown",
   "metadata": {},
   "source": [
    "### Solución 1.a"
   ]
  },
  {
   "cell_type": "markdown",
   "metadata": {
    "ExecuteTime": {
     "end_time": "2020-04-13T19:57:33.900028Z",
     "start_time": "2020-04-13T19:57:33.883Z"
    }
   },
   "source": [
    "Predicciones antes de ejecutar el codigo:\n",
    "\n",
    "> `x * 2` $\\xrightarrow[]{\\text{devuelve}}$ el vector: `2 4 6`\n",
    "\n",
    "> `x * y` $\\xrightarrow[]{\\text{devuelve}}$ el vector: `6 10 12`\n",
    ">\n",
    "> **Justificación:** Producto de los elementos de cada vector uno a uno.\n",
    "\n",
    "> `x[1] * y[2]` $\\xrightarrow[]{\\text{devuelve}}$ el valor numérico: `5`\n",
    "\n",
    "> `1/x` $\\xrightarrow[]{\\text{devuelve}}$ el vector: `1 0.5 0.333...` \n",
    ">\n",
    "> **Justificación:** Con cantidad de `3`'s correspondiente a una variale numerica de doble precisión, 16 bits totales entre parte entera y parte decimal.\n",
    ">\n",
    "> En este caso el `0.` ocupa 1 bit, por lo que quedan 15 `3`'s detrás de la coma.\n",
    "\n",
    "> `(1:10) * x[2]` $\\xrightarrow[]{\\text{devuelve}}$ el vector: `2 4 6 8 10 12 14 16 18 20`\n",
    ">\n",
    "> **Justificación:** Similar a la primera línea, cada uno de los elementos del vector secuencia de 1 a 10 se multiplica por el segundo elemento del vector x\n",
    "\n",
    "> `rep(c(1,1,2), times = 2)` $\\xrightarrow[]{\\text{devuelve}}$ el vector: `1 1 2 1 1 2`\n",
    ">\n",
    "> **Justificación:** Se repite *times* veces y concatena de izquierda a derecha el vector `1 1 2`  \n",
    "\n",
    "> `seq(from = 0, to = 10, length.out = 5) + 1:10` $\\xrightarrow[]{\\text{devuelve}}$ el vector: `1 4.5 8 11.5 15 6 9.5 13 16.5 20`\n",
    ">\n",
    "> **Justificación:** Se genera una secuencia de **5 elementos** equidistantes entre 0 y 10 incluídos `0 2.5 5 7.5 10` y se suma a la secuencia de **10 elementos** de los naturales entre 1 y 10. \n",
    ">\n",
    "> Al ser de **longitudes diferentes**, por *recycling* (o *broadcasting* en python), **R repite la operación del elemento más corto sobre el más largo la cantidad de veces necesaria** para que el **resultado final** tenga la **longitud del elemento más largo**.\n",
    ">\n",
    "> En particular, a los primeros 5 elementos de la secuencia del 1 al 10 `1 2 3 4 5` le suma la menor secuencia `0 2.5 5 7.5 10`, y a los segundos 5 elementos de la secuencia del 1 al 10 `6 7 8 9 10`, vuelve a sumarle la misma menor secuencia `0 2.5 5 7.5 10`.\n",
    ">\n",
    "> El resultado son estas dos secuencias resultantes concatenadas.\n"
   ]
  },
  {
   "cell_type": "markdown",
   "metadata": {},
   "source": [
    "### Chequeo de respuestas (ejecución de código)"
   ]
  },
  {
   "cell_type": "code",
   "execution_count": 2,
   "metadata": {
    "ExecuteTime": {
     "end_time": "2020-04-15T01:51:01.280907Z",
     "start_time": "2020-04-15T01:51:01.262Z"
    }
   },
   "outputs": [],
   "source": [
    "# Variables de datos\n",
    "x <- c(1,2,3)\n",
    "y <- c(6,5,4)"
   ]
  },
  {
   "cell_type": "code",
   "execution_count": 3,
   "metadata": {
    "ExecuteTime": {
     "end_time": "2020-04-15T01:51:01.323941Z",
     "start_time": "2020-04-15T01:51:01.269Z"
    }
   },
   "outputs": [
    {
     "data": {
      "text/html": [
       "<ol class=list-inline>\n",
       "\t<li>2</li>\n",
       "\t<li>4</li>\n",
       "\t<li>6</li>\n",
       "</ol>\n"
      ],
      "text/latex": [
       "\\begin{enumerate*}\n",
       "\\item 2\n",
       "\\item 4\n",
       "\\item 6\n",
       "\\end{enumerate*}\n"
      ],
      "text/markdown": [
       "1. 2\n",
       "2. 4\n",
       "3. 6\n",
       "\n",
       "\n"
      ],
      "text/plain": [
       "[1] 2 4 6"
      ]
     },
     "metadata": {},
     "output_type": "display_data"
    },
    {
     "data": {
      "text/html": [
       "<ol class=list-inline>\n",
       "\t<li>6</li>\n",
       "\t<li>10</li>\n",
       "\t<li>12</li>\n",
       "</ol>\n"
      ],
      "text/latex": [
       "\\begin{enumerate*}\n",
       "\\item 6\n",
       "\\item 10\n",
       "\\item 12\n",
       "\\end{enumerate*}\n"
      ],
      "text/markdown": [
       "1. 6\n",
       "2. 10\n",
       "3. 12\n",
       "\n",
       "\n"
      ],
      "text/plain": [
       "[1]  6 10 12"
      ]
     },
     "metadata": {},
     "output_type": "display_data"
    },
    {
     "data": {
      "text/html": [
       "5"
      ],
      "text/latex": [
       "5"
      ],
      "text/markdown": [
       "5"
      ],
      "text/plain": [
       "[1] 5"
      ]
     },
     "metadata": {},
     "output_type": "display_data"
    },
    {
     "data": {
      "text/html": [
       "<ol class=list-inline>\n",
       "\t<li>1</li>\n",
       "\t<li>0.5</li>\n",
       "\t<li>0.333333333333333</li>\n",
       "</ol>\n"
      ],
      "text/latex": [
       "\\begin{enumerate*}\n",
       "\\item 1\n",
       "\\item 0.5\n",
       "\\item 0.333333333333333\n",
       "\\end{enumerate*}\n"
      ],
      "text/markdown": [
       "1. 1\n",
       "2. 0.5\n",
       "3. 0.333333333333333\n",
       "\n",
       "\n"
      ],
      "text/plain": [
       "[1] 1.0000000 0.5000000 0.3333333"
      ]
     },
     "metadata": {},
     "output_type": "display_data"
    },
    {
     "data": {
      "text/html": [
       "<ol class=list-inline>\n",
       "\t<li>2</li>\n",
       "\t<li>4</li>\n",
       "\t<li>6</li>\n",
       "\t<li>8</li>\n",
       "\t<li>10</li>\n",
       "\t<li>12</li>\n",
       "\t<li>14</li>\n",
       "\t<li>16</li>\n",
       "\t<li>18</li>\n",
       "\t<li>20</li>\n",
       "</ol>\n"
      ],
      "text/latex": [
       "\\begin{enumerate*}\n",
       "\\item 2\n",
       "\\item 4\n",
       "\\item 6\n",
       "\\item 8\n",
       "\\item 10\n",
       "\\item 12\n",
       "\\item 14\n",
       "\\item 16\n",
       "\\item 18\n",
       "\\item 20\n",
       "\\end{enumerate*}\n"
      ],
      "text/markdown": [
       "1. 2\n",
       "2. 4\n",
       "3. 6\n",
       "4. 8\n",
       "5. 10\n",
       "6. 12\n",
       "7. 14\n",
       "8. 16\n",
       "9. 18\n",
       "10. 20\n",
       "\n",
       "\n"
      ],
      "text/plain": [
       " [1]  2  4  6  8 10 12 14 16 18 20"
      ]
     },
     "metadata": {},
     "output_type": "display_data"
    },
    {
     "data": {
      "text/html": [
       "<ol class=list-inline>\n",
       "\t<li>1</li>\n",
       "\t<li>1</li>\n",
       "\t<li>2</li>\n",
       "\t<li>1</li>\n",
       "\t<li>1</li>\n",
       "\t<li>2</li>\n",
       "</ol>\n"
      ],
      "text/latex": [
       "\\begin{enumerate*}\n",
       "\\item 1\n",
       "\\item 1\n",
       "\\item 2\n",
       "\\item 1\n",
       "\\item 1\n",
       "\\item 2\n",
       "\\end{enumerate*}\n"
      ],
      "text/markdown": [
       "1. 1\n",
       "2. 1\n",
       "3. 2\n",
       "4. 1\n",
       "5. 1\n",
       "6. 2\n",
       "\n",
       "\n"
      ],
      "text/plain": [
       "[1] 1 1 2 1 1 2"
      ]
     },
     "metadata": {},
     "output_type": "display_data"
    },
    {
     "data": {
      "text/html": [
       "<ol class=list-inline>\n",
       "\t<li>1</li>\n",
       "\t<li>4.5</li>\n",
       "\t<li>8</li>\n",
       "\t<li>11.5</li>\n",
       "\t<li>15</li>\n",
       "\t<li>6</li>\n",
       "\t<li>9.5</li>\n",
       "\t<li>13</li>\n",
       "\t<li>16.5</li>\n",
       "\t<li>20</li>\n",
       "</ol>\n"
      ],
      "text/latex": [
       "\\begin{enumerate*}\n",
       "\\item 1\n",
       "\\item 4.5\n",
       "\\item 8\n",
       "\\item 11.5\n",
       "\\item 15\n",
       "\\item 6\n",
       "\\item 9.5\n",
       "\\item 13\n",
       "\\item 16.5\n",
       "\\item 20\n",
       "\\end{enumerate*}\n"
      ],
      "text/markdown": [
       "1. 1\n",
       "2. 4.5\n",
       "3. 8\n",
       "4. 11.5\n",
       "5. 15\n",
       "6. 6\n",
       "7. 9.5\n",
       "8. 13\n",
       "9. 16.5\n",
       "10. 20\n",
       "\n",
       "\n"
      ],
      "text/plain": [
       " [1]  1.0  4.5  8.0 11.5 15.0  6.0  9.5 13.0 16.5 20.0"
      ]
     },
     "metadata": {},
     "output_type": "display_data"
    }
   ],
   "source": [
    "# Operaciones sobre x e y\n",
    "x * 2\n",
    "x * y\n",
    "x[1] * y[2]\n",
    "1/x\n",
    "(1:10) * x[2]\n",
    "rep(c(1,1,2), times = 2)\n",
    "seq(from = 0, to = 10, length.out = 5) + 1:10"
   ]
  },
  {
   "cell_type": "markdown",
   "metadata": {},
   "source": [
    "> Se verifica que los resultados se corresponden con las respuestas anteriores."
   ]
  },
  {
   "cell_type": "markdown",
   "metadata": {
    "ExecuteTime": {
     "end_time": "2020-04-13T20:03:57.413553Z",
     "start_time": "2020-04-13T20:03:57.391Z"
    }
   },
   "source": [
    "### Ejercicio 1.b\n",
    "\n",
    "> ¿Qué ocurre si se multiplican 2 vectores de **distinta** longitud?\n",
    "\n",
    "### Respuesta 1.b\n",
    "\n",
    "Similar a lo que sucedió con la suma de vectores de distintas longitudes, R resuelve estos casos haciendo uso de *recycling*, realizando la operación **elemento a elemento**, **repitiendo el más corto la cantidad de veces que sea necesaria**.\n",
    "\n",
    "Si la cantidad de elementos del más largo es proporcional a la longitud del más corto, la operación se ejecuta normalmente.\n",
    "\n",
    "Pero si la cantidad de elementos **no** es proporcional, R avisa con un mensaje de advertencia que éste es el caso, aunque devuelve el resultado anteriormente descripto.\n",
    "\n",
    "### Ejemplo 1.b"
   ]
  },
  {
   "cell_type": "code",
   "execution_count": 4,
   "metadata": {
    "ExecuteTime": {
     "end_time": "2020-04-15T01:51:01.338906Z",
     "start_time": "2020-04-15T01:51:01.278Z"
    }
   },
   "outputs": [
    {
     "name": "stderr",
     "output_type": "stream",
     "text": [
      "Warning message in c(2, 3, 4) * c(1, 1, 1, 1, 1):\n",
      "“longer object length is not a multiple of shorter object length”"
     ]
    },
    {
     "data": {
      "text/html": [
       "<ol class=list-inline>\n",
       "\t<li>2</li>\n",
       "\t<li>3</li>\n",
       "\t<li>4</li>\n",
       "\t<li>2</li>\n",
       "\t<li>3</li>\n",
       "</ol>\n"
      ],
      "text/latex": [
       "\\begin{enumerate*}\n",
       "\\item 2\n",
       "\\item 3\n",
       "\\item 4\n",
       "\\item 2\n",
       "\\item 3\n",
       "\\end{enumerate*}\n"
      ],
      "text/markdown": [
       "1. 2\n",
       "2. 3\n",
       "3. 4\n",
       "4. 2\n",
       "5. 3\n",
       "\n",
       "\n"
      ],
      "text/plain": [
       "[1] 2 3 4 2 3"
      ]
     },
     "metadata": {},
     "output_type": "display_data"
    }
   ],
   "source": [
    "c(2,3,4)*c(1,1,1,1,1)"
   ]
  },
  {
   "cell_type": "markdown",
   "metadata": {
    "ExecuteTime": {
     "end_time": "2020-04-13T20:12:56.374182Z",
     "start_time": "2020-04-13T20:12:56.345Z"
    }
   },
   "source": [
    "### Ejercicio 2.a\n",
    "\n",
    "> Crear un vector llamado `tratamiento` con coordenadas A, B y C de manera que A aparezca 20 veces, B 18 y C 22."
   ]
  },
  {
   "cell_type": "markdown",
   "metadata": {
    "ExecuteTime": {
     "end_time": "2020-04-13T20:27:34.333549Z",
     "start_time": "2020-04-13T20:27:34.314Z"
    }
   },
   "source": [
    "### Solución 2.a\n",
    "\n",
    "> **DUDA:**\n",
    ">\n",
    "> >No estoy muy seguro de entender lo que pide el enunciado cuando se refiere a coordenadas A,B,C que se repiten:\n",
    "> >\n",
    "> > Lo interpreto como un vector de 60 coordenadas donde existen 3 valores distintos (que no se especifican), repetidos la cantidad de veces solicitadas.\n",
    "> >\n",
    "> > Mi duda está en que cuando dice *\"con coordenadas A, B y C\"* pienso en un vector de 3 coordenadas, pero luego éstas se repiten, entonces no son 3, sino que 60, donde sus valores se repiten 20, 18 y 22 veces (no necesariamente ordenados)."
   ]
  },
  {
   "cell_type": "code",
   "execution_count": 5,
   "metadata": {
    "ExecuteTime": {
     "end_time": "2020-04-15T01:51:01.353825Z",
     "start_time": "2020-04-15T01:51:01.287Z"
    }
   },
   "outputs": [],
   "source": [
    "A <- 1\n",
    "B <- 2\n",
    "C <- 3"
   ]
  },
  {
   "cell_type": "code",
   "execution_count": 6,
   "metadata": {
    "ExecuteTime": {
     "end_time": "2020-04-15T01:51:01.370185Z",
     "start_time": "2020-04-15T01:51:01.294Z"
    }
   },
   "outputs": [
    {
     "data": {
      "text/html": [
       "<ol class=list-inline>\n",
       "\t<li>1</li>\n",
       "\t<li>1</li>\n",
       "\t<li>1</li>\n",
       "\t<li>1</li>\n",
       "\t<li>1</li>\n",
       "\t<li>1</li>\n",
       "\t<li>1</li>\n",
       "\t<li>1</li>\n",
       "\t<li>1</li>\n",
       "\t<li>1</li>\n",
       "\t<li>1</li>\n",
       "\t<li>1</li>\n",
       "\t<li>1</li>\n",
       "\t<li>1</li>\n",
       "\t<li>1</li>\n",
       "\t<li>1</li>\n",
       "\t<li>1</li>\n",
       "\t<li>1</li>\n",
       "\t<li>1</li>\n",
       "\t<li>1</li>\n",
       "\t<li>2</li>\n",
       "\t<li>2</li>\n",
       "\t<li>2</li>\n",
       "\t<li>2</li>\n",
       "\t<li>2</li>\n",
       "\t<li>2</li>\n",
       "\t<li>2</li>\n",
       "\t<li>2</li>\n",
       "\t<li>2</li>\n",
       "\t<li>2</li>\n",
       "\t<li>2</li>\n",
       "\t<li>2</li>\n",
       "\t<li>2</li>\n",
       "\t<li>2</li>\n",
       "\t<li>2</li>\n",
       "\t<li>2</li>\n",
       "\t<li>2</li>\n",
       "\t<li>2</li>\n",
       "\t<li>3</li>\n",
       "\t<li>3</li>\n",
       "\t<li>3</li>\n",
       "\t<li>3</li>\n",
       "\t<li>3</li>\n",
       "\t<li>3</li>\n",
       "\t<li>3</li>\n",
       "\t<li>3</li>\n",
       "\t<li>3</li>\n",
       "\t<li>3</li>\n",
       "\t<li>3</li>\n",
       "\t<li>3</li>\n",
       "\t<li>3</li>\n",
       "\t<li>3</li>\n",
       "\t<li>3</li>\n",
       "\t<li>3</li>\n",
       "\t<li>3</li>\n",
       "\t<li>3</li>\n",
       "\t<li>3</li>\n",
       "\t<li>3</li>\n",
       "\t<li>3</li>\n",
       "\t<li>3</li>\n",
       "</ol>\n"
      ],
      "text/latex": [
       "\\begin{enumerate*}\n",
       "\\item 1\n",
       "\\item 1\n",
       "\\item 1\n",
       "\\item 1\n",
       "\\item 1\n",
       "\\item 1\n",
       "\\item 1\n",
       "\\item 1\n",
       "\\item 1\n",
       "\\item 1\n",
       "\\item 1\n",
       "\\item 1\n",
       "\\item 1\n",
       "\\item 1\n",
       "\\item 1\n",
       "\\item 1\n",
       "\\item 1\n",
       "\\item 1\n",
       "\\item 1\n",
       "\\item 1\n",
       "\\item 2\n",
       "\\item 2\n",
       "\\item 2\n",
       "\\item 2\n",
       "\\item 2\n",
       "\\item 2\n",
       "\\item 2\n",
       "\\item 2\n",
       "\\item 2\n",
       "\\item 2\n",
       "\\item 2\n",
       "\\item 2\n",
       "\\item 2\n",
       "\\item 2\n",
       "\\item 2\n",
       "\\item 2\n",
       "\\item 2\n",
       "\\item 2\n",
       "\\item 3\n",
       "\\item 3\n",
       "\\item 3\n",
       "\\item 3\n",
       "\\item 3\n",
       "\\item 3\n",
       "\\item 3\n",
       "\\item 3\n",
       "\\item 3\n",
       "\\item 3\n",
       "\\item 3\n",
       "\\item 3\n",
       "\\item 3\n",
       "\\item 3\n",
       "\\item 3\n",
       "\\item 3\n",
       "\\item 3\n",
       "\\item 3\n",
       "\\item 3\n",
       "\\item 3\n",
       "\\item 3\n",
       "\\item 3\n",
       "\\end{enumerate*}\n"
      ],
      "text/markdown": [
       "1. 1\n",
       "2. 1\n",
       "3. 1\n",
       "4. 1\n",
       "5. 1\n",
       "6. 1\n",
       "7. 1\n",
       "8. 1\n",
       "9. 1\n",
       "10. 1\n",
       "11. 1\n",
       "12. 1\n",
       "13. 1\n",
       "14. 1\n",
       "15. 1\n",
       "16. 1\n",
       "17. 1\n",
       "18. 1\n",
       "19. 1\n",
       "20. 1\n",
       "21. 2\n",
       "22. 2\n",
       "23. 2\n",
       "24. 2\n",
       "25. 2\n",
       "26. 2\n",
       "27. 2\n",
       "28. 2\n",
       "29. 2\n",
       "30. 2\n",
       "31. 2\n",
       "32. 2\n",
       "33. 2\n",
       "34. 2\n",
       "35. 2\n",
       "36. 2\n",
       "37. 2\n",
       "38. 2\n",
       "39. 3\n",
       "40. 3\n",
       "41. 3\n",
       "42. 3\n",
       "43. 3\n",
       "44. 3\n",
       "45. 3\n",
       "46. 3\n",
       "47. 3\n",
       "48. 3\n",
       "49. 3\n",
       "50. 3\n",
       "51. 3\n",
       "52. 3\n",
       "53. 3\n",
       "54. 3\n",
       "55. 3\n",
       "56. 3\n",
       "57. 3\n",
       "58. 3\n",
       "59. 3\n",
       "60. 3\n",
       "\n",
       "\n"
      ],
      "text/plain": [
       " [1] 1 1 1 1 1 1 1 1 1 1 1 1 1 1 1 1 1 1 1 1 2 2 2 2 2 2 2 2 2 2 2 2 2 2 2 2 2 2\n",
       "[39] 3 3 3 3 3 3 3 3 3 3 3 3 3 3 3 3 3 3 3 3 3 3"
      ]
     },
     "metadata": {},
     "output_type": "display_data"
    }
   ],
   "source": [
    "# Forma 1\n",
    "tratamiento <- c(rep(A, 20), rep(B, 18), rep(C, 22))\n",
    "tratamiento"
   ]
  },
  {
   "cell_type": "code",
   "execution_count": 7,
   "metadata": {
    "ExecuteTime": {
     "end_time": "2020-04-15T01:51:01.388682Z",
     "start_time": "2020-04-15T01:51:01.301Z"
    }
   },
   "outputs": [
    {
     "data": {
      "text/html": [
       "<ol class=list-inline>\n",
       "\t<li>1</li>\n",
       "\t<li>1</li>\n",
       "\t<li>1</li>\n",
       "\t<li>1</li>\n",
       "\t<li>1</li>\n",
       "\t<li>1</li>\n",
       "\t<li>1</li>\n",
       "\t<li>1</li>\n",
       "\t<li>1</li>\n",
       "\t<li>1</li>\n",
       "\t<li>1</li>\n",
       "\t<li>1</li>\n",
       "\t<li>1</li>\n",
       "\t<li>1</li>\n",
       "\t<li>1</li>\n",
       "\t<li>1</li>\n",
       "\t<li>1</li>\n",
       "\t<li>1</li>\n",
       "\t<li>1</li>\n",
       "\t<li>1</li>\n",
       "\t<li>2</li>\n",
       "\t<li>2</li>\n",
       "\t<li>2</li>\n",
       "\t<li>2</li>\n",
       "\t<li>2</li>\n",
       "\t<li>2</li>\n",
       "\t<li>2</li>\n",
       "\t<li>2</li>\n",
       "\t<li>2</li>\n",
       "\t<li>2</li>\n",
       "\t<li>2</li>\n",
       "\t<li>2</li>\n",
       "\t<li>2</li>\n",
       "\t<li>2</li>\n",
       "\t<li>2</li>\n",
       "\t<li>2</li>\n",
       "\t<li>2</li>\n",
       "\t<li>2</li>\n",
       "\t<li>3</li>\n",
       "\t<li>3</li>\n",
       "\t<li>3</li>\n",
       "\t<li>3</li>\n",
       "\t<li>3</li>\n",
       "\t<li>3</li>\n",
       "\t<li>3</li>\n",
       "\t<li>3</li>\n",
       "\t<li>3</li>\n",
       "\t<li>3</li>\n",
       "\t<li>3</li>\n",
       "\t<li>3</li>\n",
       "\t<li>3</li>\n",
       "\t<li>3</li>\n",
       "\t<li>3</li>\n",
       "\t<li>3</li>\n",
       "\t<li>3</li>\n",
       "\t<li>3</li>\n",
       "\t<li>3</li>\n",
       "\t<li>3</li>\n",
       "\t<li>3</li>\n",
       "\t<li>3</li>\n",
       "</ol>\n"
      ],
      "text/latex": [
       "\\begin{enumerate*}\n",
       "\\item 1\n",
       "\\item 1\n",
       "\\item 1\n",
       "\\item 1\n",
       "\\item 1\n",
       "\\item 1\n",
       "\\item 1\n",
       "\\item 1\n",
       "\\item 1\n",
       "\\item 1\n",
       "\\item 1\n",
       "\\item 1\n",
       "\\item 1\n",
       "\\item 1\n",
       "\\item 1\n",
       "\\item 1\n",
       "\\item 1\n",
       "\\item 1\n",
       "\\item 1\n",
       "\\item 1\n",
       "\\item 2\n",
       "\\item 2\n",
       "\\item 2\n",
       "\\item 2\n",
       "\\item 2\n",
       "\\item 2\n",
       "\\item 2\n",
       "\\item 2\n",
       "\\item 2\n",
       "\\item 2\n",
       "\\item 2\n",
       "\\item 2\n",
       "\\item 2\n",
       "\\item 2\n",
       "\\item 2\n",
       "\\item 2\n",
       "\\item 2\n",
       "\\item 2\n",
       "\\item 3\n",
       "\\item 3\n",
       "\\item 3\n",
       "\\item 3\n",
       "\\item 3\n",
       "\\item 3\n",
       "\\item 3\n",
       "\\item 3\n",
       "\\item 3\n",
       "\\item 3\n",
       "\\item 3\n",
       "\\item 3\n",
       "\\item 3\n",
       "\\item 3\n",
       "\\item 3\n",
       "\\item 3\n",
       "\\item 3\n",
       "\\item 3\n",
       "\\item 3\n",
       "\\item 3\n",
       "\\item 3\n",
       "\\item 3\n",
       "\\end{enumerate*}\n"
      ],
      "text/markdown": [
       "1. 1\n",
       "2. 1\n",
       "3. 1\n",
       "4. 1\n",
       "5. 1\n",
       "6. 1\n",
       "7. 1\n",
       "8. 1\n",
       "9. 1\n",
       "10. 1\n",
       "11. 1\n",
       "12. 1\n",
       "13. 1\n",
       "14. 1\n",
       "15. 1\n",
       "16. 1\n",
       "17. 1\n",
       "18. 1\n",
       "19. 1\n",
       "20. 1\n",
       "21. 2\n",
       "22. 2\n",
       "23. 2\n",
       "24. 2\n",
       "25. 2\n",
       "26. 2\n",
       "27. 2\n",
       "28. 2\n",
       "29. 2\n",
       "30. 2\n",
       "31. 2\n",
       "32. 2\n",
       "33. 2\n",
       "34. 2\n",
       "35. 2\n",
       "36. 2\n",
       "37. 2\n",
       "38. 2\n",
       "39. 3\n",
       "40. 3\n",
       "41. 3\n",
       "42. 3\n",
       "43. 3\n",
       "44. 3\n",
       "45. 3\n",
       "46. 3\n",
       "47. 3\n",
       "48. 3\n",
       "49. 3\n",
       "50. 3\n",
       "51. 3\n",
       "52. 3\n",
       "53. 3\n",
       "54. 3\n",
       "55. 3\n",
       "56. 3\n",
       "57. 3\n",
       "58. 3\n",
       "59. 3\n",
       "60. 3\n",
       "\n",
       "\n"
      ],
      "text/plain": [
       " [1] 1 1 1 1 1 1 1 1 1 1 1 1 1 1 1 1 1 1 1 1 2 2 2 2 2 2 2 2 2 2 2 2 2 2 2 2 2 2\n",
       "[39] 3 3 3 3 3 3 3 3 3 3 3 3 3 3 3 3 3 3 3 3 3 3"
      ]
     },
     "metadata": {},
     "output_type": "display_data"
    }
   ],
   "source": [
    "# Forma 2. Con funciones que NO vimos todavia, pero al ser escalable, lo agrego\n",
    "coordenadas  <- c(A,B,C)\n",
    "repeticiones <- c(20,18,22)\n",
    "# mapply: aplica FUN entre los elementos de los vectores uno a uno, en orden\n",
    "tratamiento  <- unlist(mapply(FUN=rep, coordenadas, repeticiones))\n",
    "tratamiento"
   ]
  },
  {
   "cell_type": "markdown",
   "metadata": {
    "run_control": {
     "marked": true
    }
   },
   "source": [
    "### Ejercicio 2.b\n",
    "\n",
    "> Definir un vector J que sea una secuencia de 1 a 30 con un incremento de 2 y luego sumar la primera y la octava coordenadas."
   ]
  },
  {
   "cell_type": "code",
   "execution_count": 8,
   "metadata": {
    "ExecuteTime": {
     "end_time": "2020-04-15T01:51:01.403492Z",
     "start_time": "2020-04-15T01:51:01.306Z"
    }
   },
   "outputs": [
    {
     "data": {
      "text/html": [
       "16"
      ],
      "text/latex": [
       "16"
      ],
      "text/markdown": [
       "16"
      ],
      "text/plain": [
       "[1] 16"
      ]
     },
     "metadata": {},
     "output_type": "display_data"
    }
   ],
   "source": [
    "J <- seq(1, 30, by=2)\n",
    "sum(J[1], J[8])"
   ]
  },
  {
   "cell_type": "markdown",
   "metadata": {},
   "source": [
    "### Ejercicio 3\n",
    "\n",
    "> Calcular la suma de los números naturales del 1 al 100 usando R.\n",
    "\n",
    "### Solución 3"
   ]
  },
  {
   "cell_type": "code",
   "execution_count": 9,
   "metadata": {
    "ExecuteTime": {
     "end_time": "2020-04-15T01:51:01.418859Z",
     "start_time": "2020-04-15T01:51:01.311Z"
    }
   },
   "outputs": [
    {
     "data": {
      "text/html": [
       "5050"
      ],
      "text/latex": [
       "5050"
      ],
      "text/markdown": [
       "5050"
      ],
      "text/plain": [
       "[1] 5050"
      ]
     },
     "metadata": {},
     "output_type": "display_data"
    }
   ],
   "source": [
    "sum(1:100)"
   ]
  },
  {
   "cell_type": "markdown",
   "metadata": {},
   "source": [
    "### Ejercicio 4\n",
    "\n",
    "> Calcular la suma de los cuadrados de los números naturales del 1 al 100 usando R.\n",
    "\n",
    "### Solución 4"
   ]
  },
  {
   "cell_type": "code",
   "execution_count": 10,
   "metadata": {
    "ExecuteTime": {
     "end_time": "2020-04-15T01:51:01.431171Z",
     "start_time": "2020-04-15T01:51:01.316Z"
    }
   },
   "outputs": [
    {
     "data": {
      "text/html": [
       "338350"
      ],
      "text/latex": [
       "338350"
      ],
      "text/markdown": [
       "338350"
      ],
      "text/plain": [
       "[1] 338350"
      ]
     },
     "metadata": {},
     "output_type": "display_data"
    }
   ],
   "source": [
    "sum(c(1:100)^2)"
   ]
  },
  {
   "cell_type": "markdown",
   "metadata": {},
   "source": [
    "### Ejercicio 5\n",
    "\n",
    ">Considerar el conjunto de datos *airquality*, incluído en la librería *datasets*.\n",
    ">\n",
    ">Pida ayuda con el comando `?airquality` para obtener información."
   ]
  },
  {
   "cell_type": "code",
   "execution_count": 11,
   "metadata": {
    "ExecuteTime": {
     "end_time": "2020-04-15T01:51:01.451505Z",
     "start_time": "2020-04-15T01:51:01.322Z"
    }
   },
   "outputs": [
    {
     "data": {
      "text/html": [
       "<table>\n",
       "<thead><tr><th scope=col>Ozone</th><th scope=col>Solar.R</th><th scope=col>Wind</th><th scope=col>Temp</th><th scope=col>Month</th><th scope=col>Day</th></tr></thead>\n",
       "<tbody>\n",
       "\t<tr><td>41  </td><td>190 </td><td> 7.4</td><td>67  </td><td>5   </td><td>1   </td></tr>\n",
       "\t<tr><td>36  </td><td>118 </td><td> 8.0</td><td>72  </td><td>5   </td><td>2   </td></tr>\n",
       "\t<tr><td>12  </td><td>149 </td><td>12.6</td><td>74  </td><td>5   </td><td>3   </td></tr>\n",
       "\t<tr><td>18  </td><td>313 </td><td>11.5</td><td>62  </td><td>5   </td><td>4   </td></tr>\n",
       "\t<tr><td>NA  </td><td> NA </td><td>14.3</td><td>56  </td><td>5   </td><td>5   </td></tr>\n",
       "\t<tr><td>28  </td><td> NA </td><td>14.9</td><td>66  </td><td>5   </td><td>6   </td></tr>\n",
       "</tbody>\n",
       "</table>\n"
      ],
      "text/latex": [
       "\\begin{tabular}{r|llllll}\n",
       " Ozone & Solar.R & Wind & Temp & Month & Day\\\\\n",
       "\\hline\n",
       "\t 41   & 190  &  7.4 & 67   & 5    & 1   \\\\\n",
       "\t 36   & 118  &  8.0 & 72   & 5    & 2   \\\\\n",
       "\t 12   & 149  & 12.6 & 74   & 5    & 3   \\\\\n",
       "\t 18   & 313  & 11.5 & 62   & 5    & 4   \\\\\n",
       "\t NA   &  NA  & 14.3 & 56   & 5    & 5   \\\\\n",
       "\t 28   &  NA  & 14.9 & 66   & 5    & 6   \\\\\n",
       "\\end{tabular}\n"
      ],
      "text/markdown": [
       "\n",
       "| Ozone | Solar.R | Wind | Temp | Month | Day |\n",
       "|---|---|---|---|---|---|\n",
       "| 41   | 190  |  7.4 | 67   | 5    | 1    |\n",
       "| 36   | 118  |  8.0 | 72   | 5    | 2    |\n",
       "| 12   | 149  | 12.6 | 74   | 5    | 3    |\n",
       "| 18   | 313  | 11.5 | 62   | 5    | 4    |\n",
       "| NA   |  NA  | 14.3 | 56   | 5    | 5    |\n",
       "| 28   |  NA  | 14.9 | 66   | 5    | 6    |\n",
       "\n"
      ],
      "text/plain": [
       "  Ozone Solar.R Wind Temp Month Day\n",
       "1 41    190      7.4 67   5     1  \n",
       "2 36    118      8.0 72   5     2  \n",
       "3 12    149     12.6 74   5     3  \n",
       "4 18    313     11.5 62   5     4  \n",
       "5 NA     NA     14.3 56   5     5  \n",
       "6 28     NA     14.9 66   5     6  "
      ]
     },
     "metadata": {},
     "output_type": "display_data"
    }
   ],
   "source": [
    "#?airquality\n",
    "head(airquality)"
   ]
  },
  {
   "cell_type": "markdown",
   "metadata": {},
   "source": [
    "### Ejercicio 5.a\n",
    "\n",
    "> ¿Cuántas **observaciones** tiene el conjunto de datos? ¿Cuántas **variables**?"
   ]
  },
  {
   "cell_type": "markdown",
   "metadata": {},
   "source": [
    "### Respuesta 5.a\n",
    "\n",
    "La cantidad de **observaciones** corresponde con la totalidad de datos observados, donde **cada dato observado**, incluye la totalidad de las **variables** que lo caracterizan.\n",
    "\n",
    "En otras palabras, las **observaciones** se corresponden con las **filas**, y la **variables** (*características*) se corresponden con las **columnas**.\n",
    "\n",
    "De la documentación:\n",
    "> *A data frame with 154 observations on 6 variables.*\n",
    "\n",
    "Podemos obtener que:\n",
    "\n",
    "> La cantidad de **observaciones** es **154**\n",
    ">\n",
    "> La cantidad de **variables** es **6**"
   ]
  },
  {
   "cell_type": "markdown",
   "metadata": {
    "ExecuteTime": {
     "end_time": "2020-04-13T21:31:29.245653Z",
     "start_time": "2020-04-13T21:31:29.230Z"
    }
   },
   "source": [
    "### Ejercicio 5.b\n",
    "\n",
    "> ¿Cuáles son los **nombres de las variables**?\n",
    "\n",
    "### Respuesta 5.b\n",
    "\n",
    "Usando nuevamente la documentación, los **nombres de las variables** son:\n",
    "\n",
    "> **Ozone**\n",
    ">\n",
    "> **Solar.R**\n",
    ">\n",
    "> **Wind**\n",
    ">\n",
    "> **Temp**\n",
    ">\n",
    "> **Month**\n",
    ">\n",
    "> **Day**"
   ]
  },
  {
   "cell_type": "markdown",
   "metadata": {
    "ExecuteTime": {
     "end_time": "2020-04-13T21:31:54.882553Z",
     "start_time": "2020-04-13T21:31:54.864Z"
    }
   },
   "source": [
    "### Ejercicio 5.c\n",
    "\n",
    ">¿Qué variables tienen **datos faltantes**?\n",
    "\n",
    "### Solución 5.c\n",
    "\n",
    "Usando el comando `is.na` podemos obtener una matriz de valores booleanos en la que habrá **verdaderos** donde **existan datos faltantes** (*NA*).\n",
    "\n",
    "Sumando todos estos valores por columnas, podemos determinar qué **variables** (*columnas*) poseen NAs, donde cada NA contará como un **1** (verdadero)."
   ]
  },
  {
   "cell_type": "code",
   "execution_count": 12,
   "metadata": {
    "ExecuteTime": {
     "end_time": "2020-04-15T01:51:01.465163Z",
     "start_time": "2020-04-15T01:51:01.329Z"
    }
   },
   "outputs": [
    {
     "data": {
      "text/html": [
       "<dl class=dl-horizontal>\n",
       "\t<dt>Ozone</dt>\n",
       "\t\t<dd>37</dd>\n",
       "\t<dt>Solar.R</dt>\n",
       "\t\t<dd>7</dd>\n",
       "\t<dt>Wind</dt>\n",
       "\t\t<dd>0</dd>\n",
       "\t<dt>Temp</dt>\n",
       "\t\t<dd>0</dd>\n",
       "\t<dt>Month</dt>\n",
       "\t\t<dd>0</dd>\n",
       "\t<dt>Day</dt>\n",
       "\t\t<dd>0</dd>\n",
       "</dl>\n"
      ],
      "text/latex": [
       "\\begin{description*}\n",
       "\\item[Ozone] 37\n",
       "\\item[Solar.R] 7\n",
       "\\item[Wind] 0\n",
       "\\item[Temp] 0\n",
       "\\item[Month] 0\n",
       "\\item[Day] 0\n",
       "\\end{description*}\n"
      ],
      "text/markdown": [
       "Ozone\n",
       ":   37Solar.R\n",
       ":   7Wind\n",
       ":   0Temp\n",
       ":   0Month\n",
       ":   0Day\n",
       ":   0\n",
       "\n"
      ],
      "text/plain": [
       "  Ozone Solar.R    Wind    Temp   Month     Day \n",
       "     37       7       0       0       0       0 "
      ]
     },
     "metadata": {},
     "output_type": "display_data"
    }
   ],
   "source": [
    "colSums(is.na(airquality))"
   ]
  },
  {
   "cell_type": "markdown",
   "metadata": {},
   "source": [
    "> Las variables que poseen **valores faltantes** son **Ozone** y **Solar.R**"
   ]
  },
  {
   "cell_type": "markdown",
   "metadata": {},
   "source": [
    "### Ejercicio 5.d\n",
    "\n",
    "> d ) ¿Cuántas observaciones corresponden al **mes de mayo**?\n",
    "\n",
    "### Solución 5.d\n",
    "\n",
    "Podemos filtrar la columna `Month` usando `airquality$Month`, y generar una máscara booleana a partir de ella, para luego sumar sus componentes (los `TRUE` valdrán 1, los `FALSE` valdrán 0 )"
   ]
  },
  {
   "cell_type": "code",
   "execution_count": 13,
   "metadata": {
    "ExecuteTime": {
     "end_time": "2020-04-15T01:51:01.487113Z",
     "start_time": "2020-04-15T01:51:01.336Z"
    }
   },
   "outputs": [
    {
     "data": {
      "text/html": [
       "31"
      ],
      "text/latex": [
       "31"
      ],
      "text/markdown": [
       "31"
      ],
      "text/plain": [
       "[1] 31"
      ]
     },
     "metadata": {},
     "output_type": "display_data"
    }
   ],
   "source": [
    "sum(airquality$Month == 5)"
   ]
  },
  {
   "cell_type": "markdown",
   "metadata": {},
   "source": [
    "> Existen **31** observaciones en el mes de Mayo"
   ]
  },
  {
   "cell_type": "markdown",
   "metadata": {},
   "source": [
    "### Ejercicio 6\n",
    "\n",
    "Considerar el conjunto de datos `mtcars` en R.\n",
    "\n",
    "(Ver `help(mtcars)`)"
   ]
  },
  {
   "cell_type": "code",
   "execution_count": 14,
   "metadata": {
    "ExecuteTime": {
     "end_time": "2020-04-15T01:51:01.509523Z",
     "start_time": "2020-04-15T01:51:01.344Z"
    }
   },
   "outputs": [
    {
     "data": {
      "text/html": [
       "<table>\n",
       "<thead><tr><th></th><th scope=col>mpg</th><th scope=col>cyl</th><th scope=col>disp</th><th scope=col>hp</th><th scope=col>drat</th><th scope=col>wt</th><th scope=col>qsec</th><th scope=col>vs</th><th scope=col>am</th><th scope=col>gear</th><th scope=col>carb</th></tr></thead>\n",
       "<tbody>\n",
       "\t<tr><th scope=row>Mazda RX4</th><td>21.0 </td><td>6    </td><td>160  </td><td>110  </td><td>3.90 </td><td>2.620</td><td>16.46</td><td>0    </td><td>1    </td><td>4    </td><td>4    </td></tr>\n",
       "\t<tr><th scope=row>Mazda RX4 Wag</th><td>21.0 </td><td>6    </td><td>160  </td><td>110  </td><td>3.90 </td><td>2.875</td><td>17.02</td><td>0    </td><td>1    </td><td>4    </td><td>4    </td></tr>\n",
       "\t<tr><th scope=row>Datsun 710</th><td>22.8 </td><td>4    </td><td>108  </td><td> 93  </td><td>3.85 </td><td>2.320</td><td>18.61</td><td>1    </td><td>1    </td><td>4    </td><td>1    </td></tr>\n",
       "\t<tr><th scope=row>Hornet 4 Drive</th><td>21.4 </td><td>6    </td><td>258  </td><td>110  </td><td>3.08 </td><td>3.215</td><td>19.44</td><td>1    </td><td>0    </td><td>3    </td><td>1    </td></tr>\n",
       "\t<tr><th scope=row>Hornet Sportabout</th><td>18.7 </td><td>8    </td><td>360  </td><td>175  </td><td>3.15 </td><td>3.440</td><td>17.02</td><td>0    </td><td>0    </td><td>3    </td><td>2    </td></tr>\n",
       "\t<tr><th scope=row>Valiant</th><td>18.1 </td><td>6    </td><td>225  </td><td>105  </td><td>2.76 </td><td>3.460</td><td>20.22</td><td>1    </td><td>0    </td><td>3    </td><td>1    </td></tr>\n",
       "</tbody>\n",
       "</table>\n"
      ],
      "text/latex": [
       "\\begin{tabular}{r|lllllllllll}\n",
       "  & mpg & cyl & disp & hp & drat & wt & qsec & vs & am & gear & carb\\\\\n",
       "\\hline\n",
       "\tMazda RX4 & 21.0  & 6     & 160   & 110   & 3.90  & 2.620 & 16.46 & 0     & 1     & 4     & 4    \\\\\n",
       "\tMazda RX4 Wag & 21.0  & 6     & 160   & 110   & 3.90  & 2.875 & 17.02 & 0     & 1     & 4     & 4    \\\\\n",
       "\tDatsun 710 & 22.8  & 4     & 108   &  93   & 3.85  & 2.320 & 18.61 & 1     & 1     & 4     & 1    \\\\\n",
       "\tHornet 4 Drive & 21.4  & 6     & 258   & 110   & 3.08  & 3.215 & 19.44 & 1     & 0     & 3     & 1    \\\\\n",
       "\tHornet Sportabout & 18.7  & 8     & 360   & 175   & 3.15  & 3.440 & 17.02 & 0     & 0     & 3     & 2    \\\\\n",
       "\tValiant & 18.1  & 6     & 225   & 105   & 2.76  & 3.460 & 20.22 & 1     & 0     & 3     & 1    \\\\\n",
       "\\end{tabular}\n"
      ],
      "text/markdown": [
       "\n",
       "| <!--/--> | mpg | cyl | disp | hp | drat | wt | qsec | vs | am | gear | carb |\n",
       "|---|---|---|---|---|---|---|---|---|---|---|---|\n",
       "| Mazda RX4 | 21.0  | 6     | 160   | 110   | 3.90  | 2.620 | 16.46 | 0     | 1     | 4     | 4     |\n",
       "| Mazda RX4 Wag | 21.0  | 6     | 160   | 110   | 3.90  | 2.875 | 17.02 | 0     | 1     | 4     | 4     |\n",
       "| Datsun 710 | 22.8  | 4     | 108   |  93   | 3.85  | 2.320 | 18.61 | 1     | 1     | 4     | 1     |\n",
       "| Hornet 4 Drive | 21.4  | 6     | 258   | 110   | 3.08  | 3.215 | 19.44 | 1     | 0     | 3     | 1     |\n",
       "| Hornet Sportabout | 18.7  | 8     | 360   | 175   | 3.15  | 3.440 | 17.02 | 0     | 0     | 3     | 2     |\n",
       "| Valiant | 18.1  | 6     | 225   | 105   | 2.76  | 3.460 | 20.22 | 1     | 0     | 3     | 1     |\n",
       "\n"
      ],
      "text/plain": [
       "                  mpg  cyl disp hp  drat wt    qsec  vs am gear carb\n",
       "Mazda RX4         21.0 6   160  110 3.90 2.620 16.46 0  1  4    4   \n",
       "Mazda RX4 Wag     21.0 6   160  110 3.90 2.875 17.02 0  1  4    4   \n",
       "Datsun 710        22.8 4   108   93 3.85 2.320 18.61 1  1  4    1   \n",
       "Hornet 4 Drive    21.4 6   258  110 3.08 3.215 19.44 1  0  3    1   \n",
       "Hornet Sportabout 18.7 8   360  175 3.15 3.440 17.02 0  0  3    2   \n",
       "Valiant           18.1 6   225  105 2.76 3.460 20.22 1  0  3    1   "
      ]
     },
     "metadata": {},
     "output_type": "display_data"
    }
   ],
   "source": [
    "#help(mtcars)\n",
    "head(mtcars)"
   ]
  },
  {
   "cell_type": "markdown",
   "metadata": {},
   "source": [
    "### Ejercicio 6.a\n",
    "\n",
    ">¿Qué autos tienen **4 velocidades**?\n",
    "\n",
    "### Solución 6.a\n",
    "\n",
    "Podemos filtrar la columna de velocidades (`gear`) para obtener todas las observaciones que coincidan, y extraer de ellas solo los **nombres de las filas**, que corresponden a los **modelos de los vehículos**."
   ]
  },
  {
   "cell_type": "code",
   "execution_count": 15,
   "metadata": {
    "ExecuteTime": {
     "end_time": "2020-04-15T01:51:01.530741Z",
     "start_time": "2020-04-15T01:51:01.350Z"
    }
   },
   "outputs": [
    {
     "data": {
      "text/html": [
       "<ol>\n",
       "\t<li>'Mazda RX4'</li>\n",
       "\t<li>'Mazda RX4 Wag'</li>\n",
       "\t<li>'Datsun 710'</li>\n",
       "\t<li>'Merc 240D'</li>\n",
       "\t<li>'Merc 230'</li>\n",
       "\t<li>'Merc 280'</li>\n",
       "\t<li>'Merc 280C'</li>\n",
       "\t<li>'Fiat 128'</li>\n",
       "\t<li>'Honda Civic'</li>\n",
       "\t<li>'Toyota Corolla'</li>\n",
       "\t<li>'Fiat X1-9'</li>\n",
       "\t<li>'Volvo 142E'</li>\n",
       "</ol>\n"
      ],
      "text/latex": [
       "\\begin{enumerate}\n",
       "\\item 'Mazda RX4'\n",
       "\\item 'Mazda RX4 Wag'\n",
       "\\item 'Datsun 710'\n",
       "\\item 'Merc 240D'\n",
       "\\item 'Merc 230'\n",
       "\\item 'Merc 280'\n",
       "\\item 'Merc 280C'\n",
       "\\item 'Fiat 128'\n",
       "\\item 'Honda Civic'\n",
       "\\item 'Toyota Corolla'\n",
       "\\item 'Fiat X1-9'\n",
       "\\item 'Volvo 142E'\n",
       "\\end{enumerate}\n"
      ],
      "text/markdown": [
       "1. 'Mazda RX4'\n",
       "2. 'Mazda RX4 Wag'\n",
       "3. 'Datsun 710'\n",
       "4. 'Merc 240D'\n",
       "5. 'Merc 230'\n",
       "6. 'Merc 280'\n",
       "7. 'Merc 280C'\n",
       "8. 'Fiat 128'\n",
       "9. 'Honda Civic'\n",
       "10. 'Toyota Corolla'\n",
       "11. 'Fiat X1-9'\n",
       "12. 'Volvo 142E'\n",
       "\n",
       "\n"
      ],
      "text/plain": [
       "[[1]]\n",
       "[1] \"Mazda RX4\"\n",
       "\n",
       "[[2]]\n",
       "[1] \"Mazda RX4 Wag\"\n",
       "\n",
       "[[3]]\n",
       "[1] \"Datsun 710\"\n",
       "\n",
       "[[4]]\n",
       "[1] \"Merc 240D\"\n",
       "\n",
       "[[5]]\n",
       "[1] \"Merc 230\"\n",
       "\n",
       "[[6]]\n",
       "[1] \"Merc 280\"\n",
       "\n",
       "[[7]]\n",
       "[1] \"Merc 280C\"\n",
       "\n",
       "[[8]]\n",
       "[1] \"Fiat 128\"\n",
       "\n",
       "[[9]]\n",
       "[1] \"Honda Civic\"\n",
       "\n",
       "[[10]]\n",
       "[1] \"Toyota Corolla\"\n",
       "\n",
       "[[11]]\n",
       "[1] \"Fiat X1-9\"\n",
       "\n",
       "[[12]]\n",
       "[1] \"Volvo 142E\"\n"
      ]
     },
     "metadata": {},
     "output_type": "display_data"
    }
   ],
   "source": [
    "as.list(row.names(mtcars[mtcars$gear == 4,]))"
   ]
  },
  {
   "cell_type": "markdown",
   "metadata": {
    "ExecuteTime": {
     "end_time": "2020-04-13T22:47:09.307101Z",
     "start_time": "2020-04-13T22:47:09.292Z"
    }
   },
   "source": [
    "> Los modelos de automóviles con **4 velocidades** son los **listados anteriormente**."
   ]
  },
  {
   "cell_type": "markdown",
   "metadata": {},
   "source": [
    "### Ejercicio 6.b\n",
    "\n",
    ">¿Qué subconjunto de `mtcars` es `mtcars[mtcars$disp > 150 & mtcars$mpg > 20,]`?\n",
    "\n",
    "### Solucion 6.b\n",
    "\n",
    "El código dado devuelve solo los automóviles con **cilindrada** (*engine displacement*) **mayor a 150 pulgadas cúbicas** ($\\approx 2458 \\ cm^3$ ) **y que además** consuman más de **20 galones por milla** recorrida ($\\approx 47.043 \\ L/Km$)  ."
   ]
  },
  {
   "cell_type": "code",
   "execution_count": 16,
   "metadata": {
    "ExecuteTime": {
     "end_time": "2020-04-15T01:51:01.545118Z",
     "start_time": "2020-04-15T01:51:01.356Z"
    }
   },
   "outputs": [
    {
     "data": {
      "text/html": [
       "<ol>\n",
       "\t<li>'Mazda RX4'</li>\n",
       "\t<li>'Mazda RX4 Wag'</li>\n",
       "\t<li>'Hornet 4 Drive'</li>\n",
       "</ol>\n"
      ],
      "text/latex": [
       "\\begin{enumerate}\n",
       "\\item 'Mazda RX4'\n",
       "\\item 'Mazda RX4 Wag'\n",
       "\\item 'Hornet 4 Drive'\n",
       "\\end{enumerate}\n"
      ],
      "text/markdown": [
       "1. 'Mazda RX4'\n",
       "2. 'Mazda RX4 Wag'\n",
       "3. 'Hornet 4 Drive'\n",
       "\n",
       "\n"
      ],
      "text/plain": [
       "[[1]]\n",
       "[1] \"Mazda RX4\"\n",
       "\n",
       "[[2]]\n",
       "[1] \"Mazda RX4 Wag\"\n",
       "\n",
       "[[3]]\n",
       "[1] \"Hornet 4 Drive\"\n"
      ]
     },
     "metadata": {},
     "output_type": "display_data"
    }
   ],
   "source": [
    "as.list(row.names(mtcars[mtcars$disp > 150 & mtcars$mpg > 20,]))"
   ]
  },
  {
   "cell_type": "markdown",
   "metadata": {},
   "source": [
    "> Los 3 automóviles en cuestión son los **listados anteriormente**."
   ]
  },
  {
   "cell_type": "markdown",
   "metadata": {},
   "source": [
    "### Ejercicio 6.c\n",
    "\n",
    ">¿Qué autos tienen **4 velocidades** y **transmisión manual**?\n",
    "\n",
    "### Solución 6.c\n",
    "\n",
    "La variable binaria `am` indica cuándo un automóvil tiene transmisión manual (`1`) o automática (`0`)"
   ]
  },
  {
   "cell_type": "code",
   "execution_count": 17,
   "metadata": {
    "ExecuteTime": {
     "end_time": "2020-04-15T01:51:01.561040Z",
     "start_time": "2020-04-15T01:51:01.363Z"
    }
   },
   "outputs": [
    {
     "data": {
      "text/html": [
       "<ol>\n",
       "\t<li>'Mazda RX4'</li>\n",
       "\t<li>'Mazda RX4 Wag'</li>\n",
       "\t<li>'Datsun 710'</li>\n",
       "\t<li>'Fiat 128'</li>\n",
       "\t<li>'Honda Civic'</li>\n",
       "\t<li>'Toyota Corolla'</li>\n",
       "\t<li>'Fiat X1-9'</li>\n",
       "\t<li>'Volvo 142E'</li>\n",
       "</ol>\n"
      ],
      "text/latex": [
       "\\begin{enumerate}\n",
       "\\item 'Mazda RX4'\n",
       "\\item 'Mazda RX4 Wag'\n",
       "\\item 'Datsun 710'\n",
       "\\item 'Fiat 128'\n",
       "\\item 'Honda Civic'\n",
       "\\item 'Toyota Corolla'\n",
       "\\item 'Fiat X1-9'\n",
       "\\item 'Volvo 142E'\n",
       "\\end{enumerate}\n"
      ],
      "text/markdown": [
       "1. 'Mazda RX4'\n",
       "2. 'Mazda RX4 Wag'\n",
       "3. 'Datsun 710'\n",
       "4. 'Fiat 128'\n",
       "5. 'Honda Civic'\n",
       "6. 'Toyota Corolla'\n",
       "7. 'Fiat X1-9'\n",
       "8. 'Volvo 142E'\n",
       "\n",
       "\n"
      ],
      "text/plain": [
       "[[1]]\n",
       "[1] \"Mazda RX4\"\n",
       "\n",
       "[[2]]\n",
       "[1] \"Mazda RX4 Wag\"\n",
       "\n",
       "[[3]]\n",
       "[1] \"Datsun 710\"\n",
       "\n",
       "[[4]]\n",
       "[1] \"Fiat 128\"\n",
       "\n",
       "[[5]]\n",
       "[1] \"Honda Civic\"\n",
       "\n",
       "[[6]]\n",
       "[1] \"Toyota Corolla\"\n",
       "\n",
       "[[7]]\n",
       "[1] \"Fiat X1-9\"\n",
       "\n",
       "[[8]]\n",
       "[1] \"Volvo 142E\"\n"
      ]
     },
     "metadata": {},
     "output_type": "display_data"
    }
   ],
   "source": [
    "as.list(row.names(mtcars[mtcars$gear == 4 & mtcars$am == 1,]))"
   ]
  },
  {
   "cell_type": "markdown",
   "metadata": {},
   "source": [
    "> Los automóviles con **4 velocidades** y **transmisión manual** están **listados anteriormente**."
   ]
  },
  {
   "cell_type": "markdown",
   "metadata": {},
   "source": [
    "### Ejercicio 6.d\n",
    "\n",
    ">Hallar la **cantidad media de millas por galón** de los autos con **2 carburadores**.\n",
    "\n",
    "### Solución 6.d"
   ]
  },
  {
   "cell_type": "code",
   "execution_count": 18,
   "metadata": {
    "ExecuteTime": {
     "end_time": "2020-04-15T01:51:01.575410Z",
     "start_time": "2020-04-15T01:51:01.369Z"
    }
   },
   "outputs": [
    {
     "data": {
      "text/html": [
       "22.4"
      ],
      "text/latex": [
       "22.4"
      ],
      "text/markdown": [
       "22.4"
      ],
      "text/plain": [
       "[1] 22.4"
      ]
     },
     "metadata": {},
     "output_type": "display_data"
    }
   ],
   "source": [
    "mean(mtcars[mtcars$carb == 2, 'mpg'])"
   ]
  },
  {
   "cell_type": "markdown",
   "metadata": {},
   "source": [
    "> La **cantidad media de millas por galón** de autos con **2 carburadores** es de **22.4**"
   ]
  },
  {
   "cell_type": "markdown",
   "metadata": {
    "ExecuteTime": {
     "end_time": "2020-04-13T23:04:42.521634Z",
     "start_time": "2020-04-13T23:04:42.471Z"
    }
   },
   "source": [
    "### Ejercicio 7\n",
    "\n",
    "El conjunto de datos ***arbolado-en-espacios-verdes.csv*** contiene datos de 2011 de **todos los árboles de los espacios verdes de la ciudad de Buenos Aires**.\n",
    "\n",
    "Los datos actualizados pueden encontrarse [aquí](https://data.buenosaires.gob.ar/dataset/arbolado-espacios-verdes), junto con una descripción de los mismos.\n",
    "\n"
   ]
  },
  {
   "cell_type": "markdown",
   "metadata": {},
   "source": [
    "### Ejercicio 7.a\n",
    "\n",
    "> ¿Cuántas **observaciones** tiene el conjunto de datos? ¿Cuántas **variables**?\n",
    "\n",
    "### Solución 7.a\n",
    "\n",
    "Cargamos los datos del .csv en el mismo directorio que esta notebook, agrego `colClasses = \"character\"` para prevenir la conversiona factores, que luego son devueltos en cada impresión de valores."
   ]
  },
  {
   "cell_type": "code",
   "execution_count": 47,
   "metadata": {
    "ExecuteTime": {
     "end_time": "2020-04-15T02:02:28.922720Z",
     "start_time": "2020-04-15T02:02:28.579Z"
    }
   },
   "outputs": [],
   "source": [
    "data <- read.csv('./arbolado-en-espacios-verdes.csv', colClasses = \"character\")"
   ]
  },
  {
   "cell_type": "markdown",
   "metadata": {},
   "source": [
    "Bajo la misma descripción que en el ejercicio **5.a**, podemos establecer la **cantidad de observaciones** a partir de la **cantidad de filas**, y la **cantidad de variables** a partir de las **columnas**:"
   ]
  },
  {
   "cell_type": "code",
   "execution_count": 48,
   "metadata": {
    "ExecuteTime": {
     "end_time": "2020-04-15T02:02:29.755137Z",
     "start_time": "2020-04-15T02:02:29.735Z"
    }
   },
   "outputs": [
    {
     "data": {
      "text/html": [
       "51502"
      ],
      "text/latex": [
       "51502"
      ],
      "text/markdown": [
       "51502"
      ],
      "text/plain": [
       "[1] 51502"
      ]
     },
     "metadata": {},
     "output_type": "display_data"
    },
    {
     "data": {
      "text/html": [
       "17"
      ],
      "text/latex": [
       "17"
      ],
      "text/markdown": [
       "17"
      ],
      "text/plain": [
       "[1] 17"
      ]
     },
     "metadata": {},
     "output_type": "display_data"
    }
   ],
   "source": [
    "nrow(data)\n",
    "ncol(data)"
   ]
  },
  {
   "cell_type": "markdown",
   "metadata": {},
   "source": [
    "> Podemos ver que los datos importados poseen **51.502 observaciones**, y **17 variables**"
   ]
  },
  {
   "cell_type": "markdown",
   "metadata": {},
   "source": [
    "### Ejercicio 7.b\n",
    "\n",
    "> ¿Cuáles son los **nombres de las variables**?\n",
    "\n",
    "### Solución 7.b\n",
    "\n",
    "Usando el comando `colnames` podemos mostrar los nombres de cada una de las columnas del data frame:"
   ]
  },
  {
   "cell_type": "code",
   "execution_count": 49,
   "metadata": {
    "ExecuteTime": {
     "end_time": "2020-04-15T02:02:33.466487Z",
     "start_time": "2020-04-15T02:02:33.445Z"
    }
   },
   "outputs": [
    {
     "data": {
      "text/html": [
       "<ol>\n",
       "\t<li>'long'</li>\n",
       "\t<li>'lat'</li>\n",
       "\t<li>'id_arbol'</li>\n",
       "\t<li>'altura_tot'</li>\n",
       "\t<li>'diametro'</li>\n",
       "\t<li>'inclinacio'</li>\n",
       "\t<li>'id_especie'</li>\n",
       "\t<li>'nombre_com'</li>\n",
       "\t<li>'nombre_cie'</li>\n",
       "\t<li>'tipo_folla'</li>\n",
       "\t<li>'espacio_ve'</li>\n",
       "\t<li>'ubicacion'</li>\n",
       "\t<li>'nombre_fam'</li>\n",
       "\t<li>'nombre_gen'</li>\n",
       "\t<li>'origen'</li>\n",
       "\t<li>'coord_x'</li>\n",
       "\t<li>'coord_y'</li>\n",
       "</ol>\n"
      ],
      "text/latex": [
       "\\begin{enumerate}\n",
       "\\item 'long'\n",
       "\\item 'lat'\n",
       "\\item 'id\\_arbol'\n",
       "\\item 'altura\\_tot'\n",
       "\\item 'diametro'\n",
       "\\item 'inclinacio'\n",
       "\\item 'id\\_especie'\n",
       "\\item 'nombre\\_com'\n",
       "\\item 'nombre\\_cie'\n",
       "\\item 'tipo\\_folla'\n",
       "\\item 'espacio\\_ve'\n",
       "\\item 'ubicacion'\n",
       "\\item 'nombre\\_fam'\n",
       "\\item 'nombre\\_gen'\n",
       "\\item 'origen'\n",
       "\\item 'coord\\_x'\n",
       "\\item 'coord\\_y'\n",
       "\\end{enumerate}\n"
      ],
      "text/markdown": [
       "1. 'long'\n",
       "2. 'lat'\n",
       "3. 'id_arbol'\n",
       "4. 'altura_tot'\n",
       "5. 'diametro'\n",
       "6. 'inclinacio'\n",
       "7. 'id_especie'\n",
       "8. 'nombre_com'\n",
       "9. 'nombre_cie'\n",
       "10. 'tipo_folla'\n",
       "11. 'espacio_ve'\n",
       "12. 'ubicacion'\n",
       "13. 'nombre_fam'\n",
       "14. 'nombre_gen'\n",
       "15. 'origen'\n",
       "16. 'coord_x'\n",
       "17. 'coord_y'\n",
       "\n",
       "\n"
      ],
      "text/plain": [
       "[[1]]\n",
       "[1] \"long\"\n",
       "\n",
       "[[2]]\n",
       "[1] \"lat\"\n",
       "\n",
       "[[3]]\n",
       "[1] \"id_arbol\"\n",
       "\n",
       "[[4]]\n",
       "[1] \"altura_tot\"\n",
       "\n",
       "[[5]]\n",
       "[1] \"diametro\"\n",
       "\n",
       "[[6]]\n",
       "[1] \"inclinacio\"\n",
       "\n",
       "[[7]]\n",
       "[1] \"id_especie\"\n",
       "\n",
       "[[8]]\n",
       "[1] \"nombre_com\"\n",
       "\n",
       "[[9]]\n",
       "[1] \"nombre_cie\"\n",
       "\n",
       "[[10]]\n",
       "[1] \"tipo_folla\"\n",
       "\n",
       "[[11]]\n",
       "[1] \"espacio_ve\"\n",
       "\n",
       "[[12]]\n",
       "[1] \"ubicacion\"\n",
       "\n",
       "[[13]]\n",
       "[1] \"nombre_fam\"\n",
       "\n",
       "[[14]]\n",
       "[1] \"nombre_gen\"\n",
       "\n",
       "[[15]]\n",
       "[1] \"origen\"\n",
       "\n",
       "[[16]]\n",
       "[1] \"coord_x\"\n",
       "\n",
       "[[17]]\n",
       "[1] \"coord_y\"\n"
      ]
     },
     "metadata": {},
     "output_type": "display_data"
    }
   ],
   "source": [
    "as.list(colnames(data))"
   ]
  },
  {
   "cell_type": "markdown",
   "metadata": {},
   "source": [
    "> Los nombres de las **17 variables** están **listados anteriormente**."
   ]
  },
  {
   "cell_type": "markdown",
   "metadata": {},
   "source": [
    "### Ejercicio 7.c\n",
    "\n",
    "> Calcular la **altura promedio de los árboles** de la ciudad.\n",
    "\n",
    "### Solución 7.c\n",
    "\n",
    "Podemos promediar la altura total de cada uno de los árboles (`altura_tot`), convertiendo de caracteres a tipo numérico:"
   ]
  },
  {
   "cell_type": "code",
   "execution_count": 52,
   "metadata": {
    "ExecuteTime": {
     "end_time": "2020-04-15T02:03:20.998164Z",
     "start_time": "2020-04-15T02:03:20.974Z"
    }
   },
   "outputs": [
    {
     "data": {
      "text/html": [
       "12.1671003067842"
      ],
      "text/latex": [
       "12.1671003067842"
      ],
      "text/markdown": [
       "12.1671003067842"
      ],
      "text/plain": [
       "[1] 12.1671"
      ]
     },
     "metadata": {},
     "output_type": "display_data"
    }
   ],
   "source": [
    "mean(as.numeric(data$altura_tot))"
   ]
  },
  {
   "cell_type": "markdown",
   "metadata": {},
   "source": [
    "> La **altura promedio** es de **12.167 metros**"
   ]
  },
  {
   "cell_type": "markdown",
   "metadata": {},
   "source": [
    "### Ejercicio 7.d\n",
    "\n",
    "> ¿Cuántos árboles había en 2011 en la plaza Arenales?\n",
    "\n",
    "### Solución 7.d\n",
    "\n",
    "Dado que las observaciones corresponden a **TODOS** los árboles de la ciudad, podemos contar la **cantidad de observaciones** en plaza Arenales, que se corresponderá con la **cantidad de árboles** en esa plaza."
   ]
  },
  {
   "cell_type": "code",
   "execution_count": 55,
   "metadata": {
    "ExecuteTime": {
     "end_time": "2020-04-15T02:03:34.887456Z",
     "start_time": "2020-04-15T02:03:34.873Z"
    }
   },
   "outputs": [
    {
     "data": {
      "text/html": [
       "198"
      ],
      "text/latex": [
       "198"
      ],
      "text/markdown": [
       "198"
      ],
      "text/plain": [
       "[1] 198"
      ]
     },
     "metadata": {},
     "output_type": "display_data"
    }
   ],
   "source": [
    "sum(data$espacio_ve == \"ARENALES\")"
   ]
  },
  {
   "cell_type": "markdown",
   "metadata": {},
   "source": [
    "> **Cantidad de árboles** en plaza Arenales (en 2011): **198**"
   ]
  },
  {
   "cell_type": "markdown",
   "metadata": {},
   "source": [
    "### Ejercicio 7.e\n",
    "\n",
    "> Construya un data.frame llamado `arboles_cercanos` que contenga sólo las filas correspondientes a su espacio verde favorito.\n",
    ">\n",
    "> Puede utilizar el comando sort para ordenar alfabéticamente un vector de caracteres.\n",
    "\n",
    "### Solución 7.e\n",
    "\n",
    "Elijo [Plaza Holanda](https://goo.gl/maps/dwu82ButCkrMU45Y9), cercano al Jardín Japonés. Un espacio verde amplio y con algunos árboles muy antíguos."
   ]
  },
  {
   "cell_type": "code",
   "execution_count": 56,
   "metadata": {
    "ExecuteTime": {
     "end_time": "2020-04-15T02:03:35.993917Z",
     "start_time": "2020-04-15T02:03:35.977Z"
    }
   },
   "outputs": [
    {
     "data": {
      "text/html": [
       "253"
      ],
      "text/latex": [
       "253"
      ],
      "text/markdown": [
       "253"
      ],
      "text/plain": [
       "[1] 253"
      ]
     },
     "metadata": {},
     "output_type": "display_data"
    }
   ],
   "source": [
    "arboles_cercanos <- data.frame(data[data$espacio_ve == \"HOLANDA\",])\n",
    "nrow(arboles_cercanos)\n",
    "#head(arboles_cercanos)"
   ]
  },
  {
   "cell_type": "markdown",
   "metadata": {},
   "source": [
    "### Ejercicio 7.f\n",
    "\n",
    "> Utilizando el comando `unique` averigüe los **nombres de los árboles** presentes en su espacio verde favorito en 2011.\n",
    "\n",
    "### Solución 7.f\n",
    "\n",
    "Los datos tienen tanto los nombres comunes de los árboles, como los nombres científicos, de la familia, y el género.\n",
    "\n",
    "Elijo los **nombres comunes** ya que en su gran parte son de conocimiento general."
   ]
  },
  {
   "cell_type": "code",
   "execution_count": 60,
   "metadata": {
    "ExecuteTime": {
     "end_time": "2020-04-15T02:03:59.594391Z",
     "start_time": "2020-04-15T02:03:59.580Z"
    }
   },
   "outputs": [
    {
     "data": {
      "text/html": [
       "<ol class=list-inline>\n",
       "\t<li>'El chañar'</li>\n",
       "\t<li>'No Determinado'</li>\n",
       "\t<li>'Eucalipto'</li>\n",
       "\t<li>'No Determinable'</li>\n",
       "\t<li>'Palmito'</li>\n",
       "\t<li>'Fenix'</li>\n",
       "\t<li>'Jacarandá'</li>\n",
       "\t<li>'Plátano'</li>\n",
       "\t<li>'Coculus, Cóculo'</li>\n",
       "\t<li>'Washingtonia'</li>\n",
       "\t<li>'Celtis tala'</li>\n",
       "\t<li>'Cedro del Himalaya variedad aurea'</li>\n",
       "\t<li>'Bunya-bunya (Araucaria de Bidwill)'</li>\n",
       "\t<li>'Laurel'</li>\n",
       "\t<li>'Ligustro disciplinado (Ligustro variegado)'</li>\n",
       "\t<li>'Tipa blanca'</li>\n",
       "\t<li>'Palo borracho rosado'</li>\n",
       "\t<li>'Magnolia'</li>\n",
       "\t<li>'Almez (Almecino o Almecina)'</li>\n",
       "\t<li>'Liquidambar'</li>\n",
       "\t<li>'Árbol del cielo (Ailanto o Árbol de los dioses)'</li>\n",
       "\t<li>'Naranjo amargo'</li>\n",
       "\t<li>'Lapacho amarillo'</li>\n",
       "\t<li>'Sófora japónica'</li>\n",
       "\t<li>'Álamo plateado'</li>\n",
       "\t<li>'Pino del Paraná (Pino de Misiones o Pino de Brasil)'</li>\n",
       "\t<li>'Ginkgo'</li>\n",
       "\t<li>'Morera blanca'</li>\n",
       "\t<li>'Encina'</li>\n",
       "\t<li>'Pino de las canarias'</li>\n",
       "\t<li>'Falso alerce'</li>\n",
       "\t<li>'Ombú'</li>\n",
       "\t<li>'Coronillo'</li>\n",
       "\t<li>'Robusta'</li>\n",
       "\t<li>'Washingtonia (Palmera washingtonia)'</li>\n",
       "\t<li>'Palma de california'</li>\n",
       "\t<li>'Pindó'</li>\n",
       "\t<li>'Arrayán (Anacahuita)'</li>\n",
       "\t<li>'Tejo chino'</li>\n",
       "\t<li>'Quebracho colorado'</li>\n",
       "\t<li>'Roble palustre'</li>\n",
       "\t<li>'Crespón (Àrbol de Júpiter)'</li>\n",
       "\t<li>'Arbol de las orquideas'</li>\n",
       "\t<li>'Álamo carolina'</li>\n",
       "\t<li>'Eucalipto sideroxylon'</li>\n",
       "\t<li>'Ligustro'</li>\n",
       "\t<li>'Cefalotaxus'</li>\n",
       "\t<li>'Cedro del Himalaya'</li>\n",
       "\t<li>'Fotinia'</li>\n",
       "\t<li>'Cica'</li>\n",
       "\t<li>'Roble sedoso (Grevillea)'</li>\n",
       "\t<li>'Eucalipto (Eucalipto común)'</li>\n",
       "\t<li>'Ciprés'</li>\n",
       "</ol>\n"
      ],
      "text/latex": [
       "\\begin{enumerate*}\n",
       "\\item 'El chañar'\n",
       "\\item 'No Determinado'\n",
       "\\item 'Eucalipto'\n",
       "\\item 'No Determinable'\n",
       "\\item 'Palmito'\n",
       "\\item 'Fenix'\n",
       "\\item 'Jacarandá'\n",
       "\\item 'Plátano'\n",
       "\\item 'Coculus, Cóculo'\n",
       "\\item 'Washingtonia'\n",
       "\\item 'Celtis tala'\n",
       "\\item 'Cedro del Himalaya variedad aurea'\n",
       "\\item 'Bunya-bunya (Araucaria de Bidwill)'\n",
       "\\item 'Laurel'\n",
       "\\item 'Ligustro disciplinado (Ligustro variegado)'\n",
       "\\item 'Tipa blanca'\n",
       "\\item 'Palo borracho rosado'\n",
       "\\item 'Magnolia'\n",
       "\\item 'Almez (Almecino o Almecina)'\n",
       "\\item 'Liquidambar'\n",
       "\\item 'Árbol del cielo (Ailanto o Árbol de los dioses)'\n",
       "\\item 'Naranjo amargo'\n",
       "\\item 'Lapacho amarillo'\n",
       "\\item 'Sófora japónica'\n",
       "\\item 'Álamo plateado'\n",
       "\\item 'Pino del Paraná (Pino de Misiones o Pino de Brasil)'\n",
       "\\item 'Ginkgo'\n",
       "\\item 'Morera blanca'\n",
       "\\item 'Encina'\n",
       "\\item 'Pino de las canarias'\n",
       "\\item 'Falso alerce'\n",
       "\\item 'Ombú'\n",
       "\\item 'Coronillo'\n",
       "\\item 'Robusta'\n",
       "\\item 'Washingtonia (Palmera washingtonia)'\n",
       "\\item 'Palma de california'\n",
       "\\item 'Pindó'\n",
       "\\item 'Arrayán (Anacahuita)'\n",
       "\\item 'Tejo chino'\n",
       "\\item 'Quebracho colorado'\n",
       "\\item 'Roble palustre'\n",
       "\\item 'Crespón (Àrbol de Júpiter)'\n",
       "\\item 'Arbol de las orquideas'\n",
       "\\item 'Álamo carolina'\n",
       "\\item 'Eucalipto sideroxylon'\n",
       "\\item 'Ligustro'\n",
       "\\item 'Cefalotaxus'\n",
       "\\item 'Cedro del Himalaya'\n",
       "\\item 'Fotinia'\n",
       "\\item 'Cica'\n",
       "\\item 'Roble sedoso (Grevillea)'\n",
       "\\item 'Eucalipto (Eucalipto común)'\n",
       "\\item 'Ciprés'\n",
       "\\end{enumerate*}\n"
      ],
      "text/markdown": [
       "1. 'El chañar'\n",
       "2. 'No Determinado'\n",
       "3. 'Eucalipto'\n",
       "4. 'No Determinable'\n",
       "5. 'Palmito'\n",
       "6. 'Fenix'\n",
       "7. 'Jacarandá'\n",
       "8. 'Plátano'\n",
       "9. 'Coculus, Cóculo'\n",
       "10. 'Washingtonia'\n",
       "11. 'Celtis tala'\n",
       "12. 'Cedro del Himalaya variedad aurea'\n",
       "13. 'Bunya-bunya (Araucaria de Bidwill)'\n",
       "14. 'Laurel'\n",
       "15. 'Ligustro disciplinado (Ligustro variegado)'\n",
       "16. 'Tipa blanca'\n",
       "17. 'Palo borracho rosado'\n",
       "18. 'Magnolia'\n",
       "19. 'Almez (Almecino o Almecina)'\n",
       "20. 'Liquidambar'\n",
       "21. 'Árbol del cielo (Ailanto o Árbol de los dioses)'\n",
       "22. 'Naranjo amargo'\n",
       "23. 'Lapacho amarillo'\n",
       "24. 'Sófora japónica'\n",
       "25. 'Álamo plateado'\n",
       "26. 'Pino del Paraná (Pino de Misiones o Pino de Brasil)'\n",
       "27. 'Ginkgo'\n",
       "28. 'Morera blanca'\n",
       "29. 'Encina'\n",
       "30. 'Pino de las canarias'\n",
       "31. 'Falso alerce'\n",
       "32. 'Ombú'\n",
       "33. 'Coronillo'\n",
       "34. 'Robusta'\n",
       "35. 'Washingtonia (Palmera washingtonia)'\n",
       "36. 'Palma de california'\n",
       "37. 'Pindó'\n",
       "38. 'Arrayán (Anacahuita)'\n",
       "39. 'Tejo chino'\n",
       "40. 'Quebracho colorado'\n",
       "41. 'Roble palustre'\n",
       "42. 'Crespón (Àrbol de Júpiter)'\n",
       "43. 'Arbol de las orquideas'\n",
       "44. 'Álamo carolina'\n",
       "45. 'Eucalipto sideroxylon'\n",
       "46. 'Ligustro'\n",
       "47. 'Cefalotaxus'\n",
       "48. 'Cedro del Himalaya'\n",
       "49. 'Fotinia'\n",
       "50. 'Cica'\n",
       "51. 'Roble sedoso (Grevillea)'\n",
       "52. 'Eucalipto (Eucalipto común)'\n",
       "53. 'Ciprés'\n",
       "\n",
       "\n"
      ],
      "text/plain": [
       " [1] \"El chañar\"                                          \n",
       " [2] \"No Determinado\"                                     \n",
       " [3] \"Eucalipto\"                                          \n",
       " [4] \"No Determinable\"                                    \n",
       " [5] \"Palmito\"                                            \n",
       " [6] \"Fenix\"                                              \n",
       " [7] \"Jacarandá\"                                          \n",
       " [8] \"Plátano\"                                            \n",
       " [9] \"Coculus, Cóculo\"                                    \n",
       "[10] \"Washingtonia\"                                       \n",
       "[11] \"Celtis tala\"                                        \n",
       "[12] \"Cedro del Himalaya variedad aurea\"                  \n",
       "[13] \"Bunya-bunya (Araucaria de Bidwill)\"                 \n",
       "[14] \"Laurel\"                                             \n",
       "[15] \"Ligustro disciplinado (Ligustro variegado)\"         \n",
       "[16] \"Tipa blanca\"                                        \n",
       "[17] \"Palo borracho rosado\"                               \n",
       "[18] \"Magnolia\"                                           \n",
       "[19] \"Almez (Almecino o Almecina)\"                        \n",
       "[20] \"Liquidambar\"                                        \n",
       "[21] \"Árbol del cielo (Ailanto o Árbol de los dioses)\"    \n",
       "[22] \"Naranjo amargo\"                                     \n",
       "[23] \"Lapacho amarillo\"                                   \n",
       "[24] \"Sófora japónica\"                                    \n",
       "[25] \"Álamo plateado\"                                     \n",
       "[26] \"Pino del Paraná (Pino de Misiones o Pino de Brasil)\"\n",
       "[27] \"Ginkgo\"                                             \n",
       "[28] \"Morera blanca\"                                      \n",
       "[29] \"Encina\"                                             \n",
       "[30] \"Pino de las canarias\"                               \n",
       "[31] \"Falso alerce\"                                       \n",
       "[32] \"Ombú\"                                               \n",
       "[33] \"Coronillo\"                                          \n",
       "[34] \"Robusta\"                                            \n",
       "[35] \"Washingtonia (Palmera washingtonia)\"                \n",
       "[36] \"Palma de california\"                                \n",
       "[37] \"Pindó\"                                              \n",
       "[38] \"Arrayán (Anacahuita)\"                               \n",
       "[39] \"Tejo chino\"                                         \n",
       "[40] \"Quebracho colorado\"                                 \n",
       "[41] \"Roble palustre\"                                     \n",
       "[42] \"Crespón (Àrbol de Júpiter)\"                         \n",
       "[43] \"Arbol de las orquideas\"                             \n",
       "[44] \"Álamo carolina\"                                     \n",
       "[45] \"Eucalipto sideroxylon\"                              \n",
       "[46] \"Ligustro\"                                           \n",
       "[47] \"Cefalotaxus\"                                        \n",
       "[48] \"Cedro del Himalaya\"                                 \n",
       "[49] \"Fotinia\"                                            \n",
       "[50] \"Cica\"                                               \n",
       "[51] \"Roble sedoso (Grevillea)\"                           \n",
       "[52] \"Eucalipto (Eucalipto común)\"                        \n",
       "[53] \"Ciprés\"                                             "
      ]
     },
     "metadata": {},
     "output_type": "display_data"
    }
   ],
   "source": [
    "unique(arboles_cercanos$nombre_com)"
   ]
  },
  {
   "cell_type": "markdown",
   "metadata": {
    "ExecuteTime": {
     "end_time": "2020-04-14T00:48:50.276081Z",
     "start_time": "2020-04-14T00:48:50.245Z"
    }
   },
   "source": [
    ">Listado de **árboles en plaza Holanda** (ignorando arboles no identificados):\n",
    ">\n",
    ">> El chañar, Eucalipto, Palmito, Fenix, Jacarandá, Plátano, Coculus, Cóculo, Washingtonia, Celtis tala, Cedro del Himalaya variedad aurea, Bunya-bunya (Araucaria de Bidwill), Laurel, Ligustro disciplinado (Ligustro variegado), Tipa blanca, Palo borracho rosado, Magnolia Almez (Almecino o Almecina), Liquidambar, Árbol del cielo (Ailanto o Árbol de los dioses) ,Naranjo amargo, Lapacho amarillo, Sófora japónica, Álamo plateado ,Pino del Paraná (Pino de Misiones o Pino de Brasil) ,Ginkgo, Morera blanca, Encina, Pino de las canarias, Falso alerce, Ombú Coronillo, Robusta Washingtonia (Palmera washingtonia), Palma de california, Pindó Arrayán (Anacahuita), Tejo chino, Quebracho colorado, Roble palustre, Crespón (Àrbol de Júpiter), Arbol de las orquideas, Álamo carolina, Eucalipto sideroxylon, Ligustro Cefalotaxus, Cedro del Himalaya, Fotinia Cica, Roble sedoso (Grevillea), Eucalipto (Eucalipto común) y Ciprés"
   ]
  },
  {
   "cell_type": "markdown",
   "metadata": {},
   "source": [
    "### Ejercicio 8\n",
    "\n",
    "Los datos `TITANIC3` del paquete `PASWR2` contienen información sobre los pasajeros del Titanic, incluyendo clase, sexo y si sobrevivieron o no, entre otras caracterı́sticas."
   ]
  },
  {
   "cell_type": "markdown",
   "metadata": {},
   "source": [
    "### Ejercicio 8.a\n",
    "\n",
    "> Determine la **proporción de sobrevivientes por clase**.\n",
    "\n",
    "### Solución 8.a\n",
    "\n"
   ]
  },
  {
   "cell_type": "code",
   "execution_count": 75,
   "metadata": {
    "ExecuteTime": {
     "end_time": "2020-04-15T02:04:30.576169Z",
     "start_time": "2020-04-15T02:04:23.713Z"
    }
   },
   "outputs": [
    {
     "name": "stderr",
     "output_type": "stream",
     "text": [
      "Updating HTML index of packages in '.Library'\n",
      "Making 'packages.html' ... done\n"
     ]
    }
   ],
   "source": [
    "# Se necesita para ejercicios 8 y 9\n",
    "install.packages(\"PASWR2\")"
   ]
  },
  {
   "cell_type": "code",
   "execution_count": 76,
   "metadata": {
    "ExecuteTime": {
     "end_time": "2020-04-15T02:04:30.592219Z",
     "start_time": "2020-04-15T02:04:24.512Z"
    }
   },
   "outputs": [],
   "source": [
    "# Importo librería PASWR2\n",
    "require(PASWR2)"
   ]
  },
  {
   "cell_type": "code",
   "execution_count": 63,
   "metadata": {
    "ExecuteTime": {
     "end_time": "2020-04-15T02:04:14.959791Z",
     "start_time": "2020-04-15T02:04:02.762Z"
    }
   },
   "outputs": [
    {
     "data": {
      "text/html": [
       "<table>\n",
       "<thead><tr><th scope=col>pclass</th><th scope=col>survived</th><th scope=col>name</th><th scope=col>sex</th><th scope=col>age</th><th scope=col>sibsp</th><th scope=col>parch</th><th scope=col>ticket</th><th scope=col>fare</th><th scope=col>cabin</th><th scope=col>embarked</th><th scope=col>boat</th><th scope=col>body</th><th scope=col>home.dest</th></tr></thead>\n",
       "<tbody>\n",
       "\t<tr><td>1st                            </td><td>1                              </td><td>Allen, Miss. Elisabeth Walton  </td><td>female                         </td><td>29.0000                        </td><td>0                              </td><td>0                              </td><td>24160                          </td><td>211.3375                       </td><td>B5                             </td><td>Southampton                    </td><td>2                              </td><td> NA                            </td><td>St Louis, MO                   </td></tr>\n",
       "\t<tr><td>1st                            </td><td>1                              </td><td>Allison, Master. Hudson Trevor </td><td>male                           </td><td> 0.9167                        </td><td>1                              </td><td>2                              </td><td>113781                         </td><td>151.5500                       </td><td>C22 C26                        </td><td>Southampton                    </td><td>11                             </td><td> NA                            </td><td>Montreal, PQ / Chesterville, ON</td></tr>\n",
       "\t<tr><td>1st                            </td><td>0                              </td><td>Allison, Miss. Helen Loraine   </td><td>female                         </td><td> 2.0000                        </td><td>1                              </td><td>2                              </td><td>113781                         </td><td>151.5500                       </td><td>C22 C26                        </td><td>Southampton                    </td><td>                               </td><td> NA                            </td><td>Montreal, PQ / Chesterville, ON</td></tr>\n",
       "\t<tr><td>1st                            </td><td>0                              </td><td>Allison, Mr. Hudson Joshua Crei</td><td>male                           </td><td>30.0000                        </td><td>1                              </td><td>2                              </td><td>113781                         </td><td>151.5500                       </td><td>C22 C26                        </td><td>Southampton                    </td><td>                               </td><td>135                            </td><td>Montreal, PQ / Chesterville, ON</td></tr>\n",
       "\t<tr><td>1st                            </td><td>0                              </td><td>Allison, Mrs. Hudson J C (Bessi</td><td>female                         </td><td>25.0000                        </td><td>1                              </td><td>2                              </td><td>113781                         </td><td>151.5500                       </td><td>C22 C26                        </td><td>Southampton                    </td><td>                               </td><td> NA                            </td><td>Montreal, PQ / Chesterville, ON</td></tr>\n",
       "\t<tr><td>1st                            </td><td>1                              </td><td>Anderson, Mr. Harry            </td><td>male                           </td><td>48.0000                        </td><td>0                              </td><td>0                              </td><td>19952                          </td><td> 26.5500                       </td><td>E12                            </td><td>Southampton                    </td><td>3                              </td><td> NA                            </td><td>New York, NY                   </td></tr>\n",
       "</tbody>\n",
       "</table>\n"
      ],
      "text/latex": [
       "\\begin{tabular}{r|llllllllllllll}\n",
       " pclass & survived & name & sex & age & sibsp & parch & ticket & fare & cabin & embarked & boat & body & home.dest\\\\\n",
       "\\hline\n",
       "\t 1st                             & 1                               & Allen, Miss. Elisabeth Walton   & female                          & 29.0000                         & 0                               & 0                               & 24160                           & 211.3375                        & B5                              & Southampton                     & 2                               &  NA                             & St Louis, MO                   \\\\\n",
       "\t 1st                             & 1                               & Allison, Master. Hudson Trevor  & male                            &  0.9167                         & 1                               & 2                               & 113781                          & 151.5500                        & C22 C26                         & Southampton                     & 11                              &  NA                             & Montreal, PQ / Chesterville, ON\\\\\n",
       "\t 1st                             & 0                               & Allison, Miss. Helen Loraine    & female                          &  2.0000                         & 1                               & 2                               & 113781                          & 151.5500                        & C22 C26                         & Southampton                     &                                 &  NA                             & Montreal, PQ / Chesterville, ON\\\\\n",
       "\t 1st                             & 0                               & Allison, Mr. Hudson Joshua Crei & male                            & 30.0000                         & 1                               & 2                               & 113781                          & 151.5500                        & C22 C26                         & Southampton                     &                                 & 135                             & Montreal, PQ / Chesterville, ON\\\\\n",
       "\t 1st                             & 0                               & Allison, Mrs. Hudson J C (Bessi & female                          & 25.0000                         & 1                               & 2                               & 113781                          & 151.5500                        & C22 C26                         & Southampton                     &                                 &  NA                             & Montreal, PQ / Chesterville, ON\\\\\n",
       "\t 1st                             & 1                               & Anderson, Mr. Harry             & male                            & 48.0000                         & 0                               & 0                               & 19952                           &  26.5500                        & E12                             & Southampton                     & 3                               &  NA                             & New York, NY                   \\\\\n",
       "\\end{tabular}\n"
      ],
      "text/markdown": [
       "\n",
       "| pclass | survived | name | sex | age | sibsp | parch | ticket | fare | cabin | embarked | boat | body | home.dest |\n",
       "|---|---|---|---|---|---|---|---|---|---|---|---|---|---|\n",
       "| 1st                             | 1                               | Allen, Miss. Elisabeth Walton   | female                          | 29.0000                         | 0                               | 0                               | 24160                           | 211.3375                        | B5                              | Southampton                     | 2                               |  NA                             | St Louis, MO                    |\n",
       "| 1st                             | 1                               | Allison, Master. Hudson Trevor  | male                            |  0.9167                         | 1                               | 2                               | 113781                          | 151.5500                        | C22 C26                         | Southampton                     | 11                              |  NA                             | Montreal, PQ / Chesterville, ON |\n",
       "| 1st                             | 0                               | Allison, Miss. Helen Loraine    | female                          |  2.0000                         | 1                               | 2                               | 113781                          | 151.5500                        | C22 C26                         | Southampton                     |                                 |  NA                             | Montreal, PQ / Chesterville, ON |\n",
       "| 1st                             | 0                               | Allison, Mr. Hudson Joshua Crei | male                            | 30.0000                         | 1                               | 2                               | 113781                          | 151.5500                        | C22 C26                         | Southampton                     |                                 | 135                             | Montreal, PQ / Chesterville, ON |\n",
       "| 1st                             | 0                               | Allison, Mrs. Hudson J C (Bessi | female                          | 25.0000                         | 1                               | 2                               | 113781                          | 151.5500                        | C22 C26                         | Southampton                     |                                 |  NA                             | Montreal, PQ / Chesterville, ON |\n",
       "| 1st                             | 1                               | Anderson, Mr. Harry             | male                            | 48.0000                         | 0                               | 0                               | 19952                           |  26.5500                        | E12                             | Southampton                     | 3                               |  NA                             | New York, NY                    |\n",
       "\n"
      ],
      "text/plain": [
       "  pclass survived name                            sex    age     sibsp parch\n",
       "1 1st    1        Allen, Miss. Elisabeth Walton   female 29.0000 0     0    \n",
       "2 1st    1        Allison, Master. Hudson Trevor  male    0.9167 1     2    \n",
       "3 1st    0        Allison, Miss. Helen Loraine    female  2.0000 1     2    \n",
       "4 1st    0        Allison, Mr. Hudson Joshua Crei male   30.0000 1     2    \n",
       "5 1st    0        Allison, Mrs. Hudson J C (Bessi female 25.0000 1     2    \n",
       "6 1st    1        Anderson, Mr. Harry             male   48.0000 0     0    \n",
       "  ticket fare     cabin   embarked    boat body home.dest                      \n",
       "1 24160  211.3375 B5      Southampton 2     NA  St Louis, MO                   \n",
       "2 113781 151.5500 C22 C26 Southampton 11    NA  Montreal, PQ / Chesterville, ON\n",
       "3 113781 151.5500 C22 C26 Southampton       NA  Montreal, PQ / Chesterville, ON\n",
       "4 113781 151.5500 C22 C26 Southampton      135  Montreal, PQ / Chesterville, ON\n",
       "5 113781 151.5500 C22 C26 Southampton       NA  Montreal, PQ / Chesterville, ON\n",
       "6 19952   26.5500 E12     Southampton 3     NA  New York, NY                   "
      ]
     },
     "metadata": {},
     "output_type": "display_data"
    }
   ],
   "source": [
    "# Verifico que cargue los datos\n",
    "head(TITANIC3)"
   ]
  },
  {
   "cell_type": "markdown",
   "metadata": {
    "heading_collapsed": true
   },
   "source": [
    "### Ejercicio 8.b\n",
    "\n",
    ">Calcule la **proporción de sobrevivientes por clase y sexo**.\n",
    ">\n",
    ">¿Quién tuvo una tasa **más alta** de supervencia: los **varones de 1ra clase** o las **mujeres de 3ra**?\n",
    "\n",
    "### Solución 8.b\n",
    "\n",
    "Filtro pasajeros por **varones de 1ra clase** (`sex==\"male\" & pclass==\"1st\"`) o **mujeres de 3ra** (`sex==\"female\" & pclass==\"3rd\"`), y ademas cuento sobrevivientes en cada uno (`survived==1`), para calcular la tasa:"
   ]
  },
  {
   "cell_type": "code",
   "execution_count": 64,
   "metadata": {
    "ExecuteTime": {
     "end_time": "2020-04-15T02:04:14.987483Z",
     "start_time": "2020-04-15T02:04:05.722Z"
    },
    "hidden": true
   },
   "outputs": [],
   "source": [
    "# Males 1st class\n",
    "total_males    <- nrow(TITANIC3[TITANIC3$sex==\"male\" & TITANIC3$pclass==\"1st\" ,])\n",
    "survived_males <- nrow(TITANIC3[TITANIC3$sex==\"male\" & TITANIC3$pclass==\"1st\" & TITANIC3$survived==1 ,])\n",
    "rate_males     <- survived_males/total_males\n",
    "# Females 3rd class\n",
    "total_females    <- nrow(TITANIC3[TITANIC3$sex==\"female\" & TITANIC3$pclass==\"3rd\",])\n",
    "survived_females <- nrow(TITANIC3[TITANIC3$sex==\"female\" & TITANIC3$pclass==\"3rd\" & TITANIC3$survived==1 ,])\n",
    "rate_females     <- survived_females/total_females"
   ]
  },
  {
   "cell_type": "code",
   "execution_count": 65,
   "metadata": {
    "ExecuteTime": {
     "end_time": "2020-04-15T02:04:15.009451Z",
     "start_time": "2020-04-15T02:04:05.841Z"
    },
    "hidden": true
   },
   "outputs": [
    {
     "data": {
      "text/html": [
       "0.340782122905028"
      ],
      "text/latex": [
       "0.340782122905028"
      ],
      "text/markdown": [
       "0.340782122905028"
      ],
      "text/plain": [
       "[1] 0.3407821"
      ]
     },
     "metadata": {},
     "output_type": "display_data"
    },
    {
     "data": {
      "text/html": [
       "0.490740740740741"
      ],
      "text/latex": [
       "0.490740740740741"
      ],
      "text/markdown": [
       "0.490740740740741"
      ],
      "text/plain": [
       "[1] 0.4907407"
      ]
     },
     "metadata": {},
     "output_type": "display_data"
    }
   ],
   "source": [
    "rate_males\n",
    "rate_females"
   ]
  },
  {
   "cell_type": "markdown",
   "metadata": {
    "hidden": true
   },
   "source": [
    "> Los datos muestran que los **varones de 1era clase** tuvieron una tasa se supervivencia del $\\approx$**34.08%**, mientras que las **mujeres de 3era clase** tuvieron una tasa de supervivencia de $\\approx$**49.07%**.\n",
    ">\n",
    "> Por lo tanto, la **tasa más alta de supervivencia** la tuvo el grupo de **mujeres de 3era clase**."
   ]
  },
  {
   "cell_type": "markdown",
   "metadata": {},
   "source": [
    "### Ejercicio 8.c\n",
    "\n",
    "> ¿Cuál era la **edad** de la **mujer más grande** que **sobrevivió**?\n",
    "\n",
    "### Solución 8.c\n",
    "\n",
    "Dado que hay **muchos valores nulos** (*NA*) entre las edades de los pasajeros en los registros, es necesario hacer explícita la opción `na.rm` del comando `max`, que **calcula el máximo valor solo entre los valores no-nulos**."
   ]
  },
  {
   "cell_type": "code",
   "execution_count": 66,
   "metadata": {
    "ExecuteTime": {
     "end_time": "2020-04-15T02:04:15.047249Z",
     "start_time": "2020-04-15T02:04:06.296Z"
    }
   },
   "outputs": [
    {
     "data": {
      "text/html": [
       "76"
      ],
      "text/latex": [
       "76"
      ],
      "text/markdown": [
       "76"
      ],
      "text/plain": [
       "[1] 76"
      ]
     },
     "metadata": {},
     "output_type": "display_data"
    }
   ],
   "source": [
    "max(TITANIC3[TITANIC3$sex==\"female\" & TITANIC3$survived==1 , \"age\"], na.rm=TRUE)"
   ]
  },
  {
   "cell_type": "markdown",
   "metadata": {
    "ExecuteTime": {
     "end_time": "2020-04-14T02:18:37.981082Z",
     "start_time": "2020-04-14T02:18:37.967Z"
    }
   },
   "source": [
    "> La edad de la mujer más grande que sobrevivió era de **76 años**"
   ]
  },
  {
   "cell_type": "markdown",
   "metadata": {},
   "source": [
    "### Ejercicio 9.\n",
    "\n",
    "El conjunto de datos `CARS2004` del paquete `PASWR2` contiene datos de automóviles en Europa del año 2004.\n",
    "\n",
    "(ver `help(CARS2004)`)"
   ]
  },
  {
   "cell_type": "markdown",
   "metadata": {},
   "source": [
    "### Ejercicio 9.a\n",
    "\n",
    "> Calcular **cantidad total de autos** en cada país.\n",
    "\n",
    "### Solución 9.a\n",
    "\n",
    "El conjunto de datos `CARS2004` posee la cantidad de autos organizados por países entre sus variables, aunque **por cada 1000 habitantes**.\n",
    "\n",
    "La población también está normalizada sobre 1000, por lo que para obtener la **cantidad total** de automóviles, debemos multiplicar `cars` por `population`.\n",
    "\n",
    "De la documentación:\n",
    "\n",
    "> *cars (number of cars per 1000 inhabitants)*\n",
    ">\n",
    "> *population (country population/1000)*"
   ]
  },
  {
   "cell_type": "code",
   "execution_count": 119,
   "metadata": {
    "ExecuteTime": {
     "end_time": "2020-04-15T02:42:55.722175Z",
     "start_time": "2020-04-15T02:42:55.669Z"
    }
   },
   "outputs": [
    {
     "data": {
      "text/html": [
       "<table>\n",
       "<thead><tr><th scope=col>country</th><th scope=col>cars</th></tr></thead>\n",
       "<tbody>\n",
       "\t<tr><td>Belgium       </td><td> 4854932      </td></tr>\n",
       "\t<tr><td>Czech Republic</td><td> 3809076      </td></tr>\n",
       "\t<tr><td>Denmark       </td><td> 1910892      </td></tr>\n",
       "\t<tr><td>Germany       </td><td>45062472      </td></tr>\n",
       "\t<tr><td>Estonia       </td><td>  472850      </td></tr>\n",
       "\t<tr><td>Greece        </td><td> 3842268      </td></tr>\n",
       "\t<tr><td>Spain         </td><td>19224630      </td></tr>\n",
       "\t<tr><td>France        </td><td>29411391      </td></tr>\n",
       "\t<tr><td>Ireland       </td><td> 1550780      </td></tr>\n",
       "\t<tr><td>Italy         </td><td>33632928      </td></tr>\n",
       "\t<tr><td>Cyprus        </td><td>  327040      </td></tr>\n",
       "\t<tr><td>Latvia        </td><td>  688743      </td></tr>\n",
       "\t<tr><td>Lithuania     </td><td> 1323264      </td></tr>\n",
       "\t<tr><td>Luxembourg    </td><td>  297868      </td></tr>\n",
       "\t<tr><td>Hungary       </td><td> 2832760      </td></tr>\n",
       "\t<tr><td>Malta         </td><td>  210000      </td></tr>\n",
       "\t<tr><td>Netherlands   </td><td> 6974682      </td></tr>\n",
       "\t<tr><td>Austria       </td><td> 4065114      </td></tr>\n",
       "\t<tr><td>Poland        </td><td>11991974      </td></tr>\n",
       "\t<tr><td>Portugal      </td><td> 5991700      </td></tr>\n",
       "\t<tr><td>Slovenia      </td><td>  910176      </td></tr>\n",
       "\t<tr><td>Slovakia      </td><td> 1194360      </td></tr>\n",
       "\t<tr><td>Finland       </td><td> 2338560      </td></tr>\n",
       "\t<tr><td>Sweden        </td><td> 4093056      </td></tr>\n",
       "\t<tr><td>United Kingdom</td><td>27618876      </td></tr>\n",
       "</tbody>\n",
       "</table>\n"
      ],
      "text/latex": [
       "\\begin{tabular}{r|ll}\n",
       " country & cars\\\\\n",
       "\\hline\n",
       "\t Belgium        &  4854932      \\\\\n",
       "\t Czech Republic &  3809076      \\\\\n",
       "\t Denmark        &  1910892      \\\\\n",
       "\t Germany        & 45062472      \\\\\n",
       "\t Estonia        &   472850      \\\\\n",
       "\t Greece         &  3842268      \\\\\n",
       "\t Spain          & 19224630      \\\\\n",
       "\t France         & 29411391      \\\\\n",
       "\t Ireland        &  1550780      \\\\\n",
       "\t Italy          & 33632928      \\\\\n",
       "\t Cyprus         &   327040      \\\\\n",
       "\t Latvia         &   688743      \\\\\n",
       "\t Lithuania      &  1323264      \\\\\n",
       "\t Luxembourg     &   297868      \\\\\n",
       "\t Hungary        &  2832760      \\\\\n",
       "\t Malta          &   210000      \\\\\n",
       "\t Netherlands    &  6974682      \\\\\n",
       "\t Austria        &  4065114      \\\\\n",
       "\t Poland         & 11991974      \\\\\n",
       "\t Portugal       &  5991700      \\\\\n",
       "\t Slovenia       &   910176      \\\\\n",
       "\t Slovakia       &  1194360      \\\\\n",
       "\t Finland        &  2338560      \\\\\n",
       "\t Sweden         &  4093056      \\\\\n",
       "\t United Kingdom & 27618876      \\\\\n",
       "\\end{tabular}\n"
      ],
      "text/markdown": [
       "\n",
       "| country | cars |\n",
       "|---|---|\n",
       "| Belgium        |  4854932       |\n",
       "| Czech Republic |  3809076       |\n",
       "| Denmark        |  1910892       |\n",
       "| Germany        | 45062472       |\n",
       "| Estonia        |   472850       |\n",
       "| Greece         |  3842268       |\n",
       "| Spain          | 19224630       |\n",
       "| France         | 29411391       |\n",
       "| Ireland        |  1550780       |\n",
       "| Italy          | 33632928       |\n",
       "| Cyprus         |   327040       |\n",
       "| Latvia         |   688743       |\n",
       "| Lithuania      |  1323264       |\n",
       "| Luxembourg     |   297868       |\n",
       "| Hungary        |  2832760       |\n",
       "| Malta          |   210000       |\n",
       "| Netherlands    |  6974682       |\n",
       "| Austria        |  4065114       |\n",
       "| Poland         | 11991974       |\n",
       "| Portugal       |  5991700       |\n",
       "| Slovenia       |   910176       |\n",
       "| Slovakia       |  1194360       |\n",
       "| Finland        |  2338560       |\n",
       "| Sweden         |  4093056       |\n",
       "| United Kingdom | 27618876       |\n",
       "\n"
      ],
      "text/plain": [
       "   country        cars    \n",
       "1  Belgium         4854932\n",
       "2  Czech Republic  3809076\n",
       "3  Denmark         1910892\n",
       "4  Germany        45062472\n",
       "5  Estonia          472850\n",
       "6  Greece          3842268\n",
       "7  Spain          19224630\n",
       "8  France         29411391\n",
       "9  Ireland         1550780\n",
       "10 Italy          33632928\n",
       "11 Cyprus           327040\n",
       "12 Latvia           688743\n",
       "13 Lithuania       1323264\n",
       "14 Luxembourg       297868\n",
       "15 Hungary         2832760\n",
       "16 Malta            210000\n",
       "17 Netherlands     6974682\n",
       "18 Austria         4065114\n",
       "19 Poland         11991974\n",
       "20 Portugal        5991700\n",
       "21 Slovenia         910176\n",
       "22 Slovakia        1194360\n",
       "23 Finland         2338560\n",
       "24 Sweden          4093056\n",
       "25 United Kingdom 27618876"
      ]
     },
     "metadata": {},
     "output_type": "display_data"
    }
   ],
   "source": [
    "total_cars <- CARS2004$cars * CARS2004$population\n",
    "cars_per_country <- data.frame(CARS2004$country, total_cars)\n",
    "colnames(cars_per_country) <- c(\"country\", \"cars\")\n",
    "cars_per_country "
   ]
  },
  {
   "cell_type": "markdown",
   "metadata": {},
   "source": [
    "> La **cantidad total de automóviles por países** se encuentra en la tabla anterior."
   ]
  },
  {
   "cell_type": "markdown",
   "metadata": {},
   "source": [
    "### Ejercicio 9.b\n",
    "\n",
    ">Calcular la **tasa de mortalidad de automovilistas** para cada país como el **número total de muertes de automovilistas dividido el número total de autos**.\n",
    "\n",
    "### Solución 9.b\n",
    "\n",
    "Puedo extraer las variables necesarias de la tabla en forma de **vector**, y operar directamente con ellos ya que mantienen el orden original y son **operaciones elemento a elemento**."
   ]
  },
  {
   "cell_type": "code",
   "execution_count": 120,
   "metadata": {
    "ExecuteTime": {
     "end_time": "2020-04-15T02:43:06.768248Z",
     "start_time": "2020-04-15T02:43:06.739Z"
    }
   },
   "outputs": [
    {
     "data": {
      "text/html": [
       "<table>\n",
       "<thead><tr><th scope=col>country</th><th scope=col>dead_rate</th></tr></thead>\n",
       "<tbody>\n",
       "\t<tr><td>Belgium       </td><td>2.306932e-05  </td></tr>\n",
       "\t<tr><td>Czech Republic</td><td>3.544167e-05  </td></tr>\n",
       "\t<tr><td>Denmark       </td><td>3.558548e-05  </td></tr>\n",
       "\t<tr><td>Germany       </td><td>1.575590e-06  </td></tr>\n",
       "\t<tr><td>Estonia       </td><td>2.664693e-04  </td></tr>\n",
       "\t<tr><td>Greece        </td><td>3.825865e-05  </td></tr>\n",
       "\t<tr><td>Spain         </td><td>5.825860e-06  </td></tr>\n",
       "\t<tr><td>France        </td><td>3.128040e-06  </td></tr>\n",
       "\t<tr><td>Ireland       </td><td>6.061466e-05  </td></tr>\n",
       "\t<tr><td>Italy         </td><td>2.884078e-06  </td></tr>\n",
       "\t<tr><td>Cyprus        </td><td>4.892368e-04  </td></tr>\n",
       "\t<tr><td>Latvia        </td><td>3.223263e-04  </td></tr>\n",
       "\t<tr><td>Lithuania     </td><td>1.647441e-04  </td></tr>\n",
       "\t<tr><td>Luxembourg    </td><td>3.659339e-04  </td></tr>\n",
       "\t<tr><td>Hungary       </td><td>4.518561e-05  </td></tr>\n",
       "\t<tr><td>Malta         </td><td>1.571429e-04  </td></tr>\n",
       "\t<tr><td>Netherlands   </td><td>7.025410e-06  </td></tr>\n",
       "\t<tr><td>Austria       </td><td>2.656752e-05  </td></tr>\n",
       "\t<tr><td>Poland        </td><td>1.250837e-05  </td></tr>\n",
       "\t<tr><td>Portugal      </td><td>2.069530e-05  </td></tr>\n",
       "\t<tr><td>Slovenia      </td><td>1.505203e-04  </td></tr>\n",
       "\t<tr><td>Slovakia      </td><td>9.377407e-05  </td></tr>\n",
       "\t<tr><td>Finland       </td><td>3.078818e-05  </td></tr>\n",
       "\t<tr><td>Sweden        </td><td>1.294876e-05  </td></tr>\n",
       "\t<tr><td>United Kingdom</td><td>2.027599e-06  </td></tr>\n",
       "</tbody>\n",
       "</table>\n"
      ],
      "text/latex": [
       "\\begin{tabular}{r|ll}\n",
       " country & dead\\_rate\\\\\n",
       "\\hline\n",
       "\t Belgium        & 2.306932e-05  \\\\\n",
       "\t Czech Republic & 3.544167e-05  \\\\\n",
       "\t Denmark        & 3.558548e-05  \\\\\n",
       "\t Germany        & 1.575590e-06  \\\\\n",
       "\t Estonia        & 2.664693e-04  \\\\\n",
       "\t Greece         & 3.825865e-05  \\\\\n",
       "\t Spain          & 5.825860e-06  \\\\\n",
       "\t France         & 3.128040e-06  \\\\\n",
       "\t Ireland        & 6.061466e-05  \\\\\n",
       "\t Italy          & 2.884078e-06  \\\\\n",
       "\t Cyprus         & 4.892368e-04  \\\\\n",
       "\t Latvia         & 3.223263e-04  \\\\\n",
       "\t Lithuania      & 1.647441e-04  \\\\\n",
       "\t Luxembourg     & 3.659339e-04  \\\\\n",
       "\t Hungary        & 4.518561e-05  \\\\\n",
       "\t Malta          & 1.571429e-04  \\\\\n",
       "\t Netherlands    & 7.025410e-06  \\\\\n",
       "\t Austria        & 2.656752e-05  \\\\\n",
       "\t Poland         & 1.250837e-05  \\\\\n",
       "\t Portugal       & 2.069530e-05  \\\\\n",
       "\t Slovenia       & 1.505203e-04  \\\\\n",
       "\t Slovakia       & 9.377407e-05  \\\\\n",
       "\t Finland        & 3.078818e-05  \\\\\n",
       "\t Sweden         & 1.294876e-05  \\\\\n",
       "\t United Kingdom & 2.027599e-06  \\\\\n",
       "\\end{tabular}\n"
      ],
      "text/markdown": [
       "\n",
       "| country | dead_rate |\n",
       "|---|---|\n",
       "| Belgium        | 2.306932e-05   |\n",
       "| Czech Republic | 3.544167e-05   |\n",
       "| Denmark        | 3.558548e-05   |\n",
       "| Germany        | 1.575590e-06   |\n",
       "| Estonia        | 2.664693e-04   |\n",
       "| Greece         | 3.825865e-05   |\n",
       "| Spain          | 5.825860e-06   |\n",
       "| France         | 3.128040e-06   |\n",
       "| Ireland        | 6.061466e-05   |\n",
       "| Italy          | 2.884078e-06   |\n",
       "| Cyprus         | 4.892368e-04   |\n",
       "| Latvia         | 3.223263e-04   |\n",
       "| Lithuania      | 1.647441e-04   |\n",
       "| Luxembourg     | 3.659339e-04   |\n",
       "| Hungary        | 4.518561e-05   |\n",
       "| Malta          | 1.571429e-04   |\n",
       "| Netherlands    | 7.025410e-06   |\n",
       "| Austria        | 2.656752e-05   |\n",
       "| Poland         | 1.250837e-05   |\n",
       "| Portugal       | 2.069530e-05   |\n",
       "| Slovenia       | 1.505203e-04   |\n",
       "| Slovakia       | 9.377407e-05   |\n",
       "| Finland        | 3.078818e-05   |\n",
       "| Sweden         | 1.294876e-05   |\n",
       "| United Kingdom | 2.027599e-06   |\n",
       "\n"
      ],
      "text/plain": [
       "   country        dead_rate   \n",
       "1  Belgium        2.306932e-05\n",
       "2  Czech Republic 3.544167e-05\n",
       "3  Denmark        3.558548e-05\n",
       "4  Germany        1.575590e-06\n",
       "5  Estonia        2.664693e-04\n",
       "6  Greece         3.825865e-05\n",
       "7  Spain          5.825860e-06\n",
       "8  France         3.128040e-06\n",
       "9  Ireland        6.061466e-05\n",
       "10 Italy          2.884078e-06\n",
       "11 Cyprus         4.892368e-04\n",
       "12 Latvia         3.223263e-04\n",
       "13 Lithuania      1.647441e-04\n",
       "14 Luxembourg     3.659339e-04\n",
       "15 Hungary        4.518561e-05\n",
       "16 Malta          1.571429e-04\n",
       "17 Netherlands    7.025410e-06\n",
       "18 Austria        2.656752e-05\n",
       "19 Poland         1.250837e-05\n",
       "20 Portugal       2.069530e-05\n",
       "21 Slovenia       1.505203e-04\n",
       "22 Slovakia       9.377407e-05\n",
       "23 Finland        3.078818e-05\n",
       "24 Sweden         1.294876e-05\n",
       "25 United Kingdom 2.027599e-06"
      ]
     },
     "metadata": {},
     "output_type": "display_data"
    }
   ],
   "source": [
    "tasas_mortalidad <- CARS2004$deaths / total_cars\n",
    "# Agrego columna de países y renombro\n",
    "tasa <- data.frame(CARS2004$country, tasas_mortalidad)\n",
    "colnames(tasa) <- c(\"country\",\"dead_rate\")\n",
    "tasa"
   ]
  },
  {
   "cell_type": "markdown",
   "metadata": {},
   "source": [
    "### Ejercicio 9.c\n",
    "\n",
    "> Hacer un gráfico de barras que indique la **tasa de mortalidad en accidentes de tránsito** de cada país de la Unión Europea.\n",
    ">\n",
    "> **Ordene** las barras de forma **creciente**.\n",
    "\n",
    "### Solución 9.c"
   ]
  },
  {
   "cell_type": "code",
   "execution_count": 121,
   "metadata": {
    "ExecuteTime": {
     "end_time": "2020-04-15T02:43:07.947722Z",
     "start_time": "2020-04-15T02:43:07.833Z"
    }
   },
   "outputs": [
    {
     "data": {
      "image/png": "[encoded data removed]",
      "text/plain": [
       "Plot with title “Tasa de Mortalidad por países”"
      ]
     },
     "metadata": {},
     "output_type": "display_data"
    }
   ],
   "source": [
    "tasa <- tasa[order(tasa$dead_rate),]\n",
    "\n",
    "# Agrando margen inferior\n",
    "par(mar=c(7,4,4,2)) \n",
    "\n",
    "# Degrade de colores\n",
    "# NOTA: NO proporcionales a las alturas!\n",
    "color.function <- colorRampPalette( c(\"lightblue\" , \"red\") )\n",
    "color.ramp <- color.function( n=nrow(tasa) )\n",
    "\n",
    "# Grafico de barras\n",
    "bb <- barplot(height=tasa$dead_rate, names.arg=tasa$country,\n",
    "              las=2, cex.names=0.8,\n",
    "              ylim=c(0, 0.0006), yaxt = \"n\",\n",
    "              main=\"Tasa de Mortalidad por países\",\n",
    "              ylab=\"Tasa (muertes / cant.automóviles)\",\n",
    "              col=color.ramp)\n",
    "text(bb, round(tasa$dead_rate, 7)+0.00005, round(tasa$dead_rate, 7), srt=90, cex=0.7)\n",
    "# Ticks en eje y\n",
    "axis(side=2, at=seq(0,0.0005,0.0001), las=2)\n",
    "# Eje x\n",
    "mtext(\"País\", side=1, line=6)\n"
   ]
  },
  {
   "cell_type": "markdown",
   "metadata": {},
   "source": [
    "### Ejercicio 9.d\n",
    "\n",
    "> ¿Qué paı́s tiene la **menor tasa de mortalidad** de automovilistas y qué país la más alta?\n",
    "\n",
    "### Solución 9.d\n",
    "\n",
    "Viendo el gráfico podemos determinar que **Alemania** lidera la **menor tasa**, y **Cyprus** la **más alta**.\n",
    "\n",
    "Extrayendolo directamente de los datos:"
   ]
  },
  {
   "cell_type": "code",
   "execution_count": 122,
   "metadata": {
    "ExecuteTime": {
     "end_time": "2020-04-15T02:43:08.942589Z",
     "start_time": "2020-04-15T02:43:08.913Z"
    }
   },
   "outputs": [
    {
     "name": "stdout",
     "output_type": "stream",
     "text": [
      "[1] \"País con tasa mínima:\"\n"
     ]
    },
    {
     "data": {
      "text/html": [
       "<table>\n",
       "<thead><tr><th></th><th scope=col>country</th><th scope=col>dead_rate</th></tr></thead>\n",
       "<tbody>\n",
       "\t<tr><th scope=row>4</th><td>Germany    </td><td>1.57559e-06</td></tr>\n",
       "</tbody>\n",
       "</table>\n"
      ],
      "text/latex": [
       "\\begin{tabular}{r|ll}\n",
       "  & country & dead\\_rate\\\\\n",
       "\\hline\n",
       "\t4 & Germany     & 1.57559e-06\\\\\n",
       "\\end{tabular}\n"
      ],
      "text/markdown": [
       "\n",
       "| <!--/--> | country | dead_rate |\n",
       "|---|---|---|\n",
       "| 4 | Germany     | 1.57559e-06 |\n",
       "\n"
      ],
      "text/plain": [
       "  country dead_rate  \n",
       "4 Germany 1.57559e-06"
      ]
     },
     "metadata": {},
     "output_type": "display_data"
    },
    {
     "name": "stdout",
     "output_type": "stream",
     "text": [
      "[1] \"País con tasa máxima:\"\n"
     ]
    },
    {
     "data": {
      "text/html": [
       "<table>\n",
       "<thead><tr><th></th><th scope=col>country</th><th scope=col>dead_rate</th></tr></thead>\n",
       "<tbody>\n",
       "\t<tr><th scope=row>11</th><td>Cyprus      </td><td>0.0004892368</td></tr>\n",
       "</tbody>\n",
       "</table>\n"
      ],
      "text/latex": [
       "\\begin{tabular}{r|ll}\n",
       "  & country & dead\\_rate\\\\\n",
       "\\hline\n",
       "\t11 & Cyprus       & 0.0004892368\\\\\n",
       "\\end{tabular}\n"
      ],
      "text/markdown": [
       "\n",
       "| <!--/--> | country | dead_rate |\n",
       "|---|---|---|\n",
       "| 11 | Cyprus       | 0.0004892368 |\n",
       "\n"
      ],
      "text/plain": [
       "   country dead_rate   \n",
       "11 Cyprus  0.0004892368"
      ]
     },
     "metadata": {},
     "output_type": "display_data"
    }
   ],
   "source": [
    "print(\"País con tasa mínima:\")\n",
    "tasa[which.min(tasa$dead_rate), c(\"country\", \"dead_rate\")]\n",
    "print(\"País con tasa máxima:\")\n",
    "tasa[which.max(tasa$dead_rate), c(\"country\", \"dead_rate\")]"
   ]
  },
  {
   "cell_type": "markdown",
   "metadata": {
    "ExecuteTime": {
     "end_time": "2020-04-14T23:07:54.179073Z",
     "start_time": "2020-04-14T23:07:54.168Z"
    }
   },
   "source": [
    "> **Menor tasa** de mortalidad: **Alemania**\n",
    ">\n",
    "> **Mayor tasa** de mortalidad: **Cyprus**"
   ]
  },
  {
   "cell_type": "markdown",
   "metadata": {},
   "source": [
    "### Ejercicio 9.e\n",
    "\n",
    ">Haga un gráfico de **cantidad total de autos** vs **población**. ¿Cómo describiría la relación?\n",
    "\n",
    "### Solución 9.e\n"
   ]
  },
  {
   "cell_type": "code",
   "execution_count": 123,
   "metadata": {
    "ExecuteTime": {
     "end_time": "2020-04-15T02:43:10.463178Z",
     "start_time": "2020-04-15T02:43:10.393Z"
    },
    "run_control": {
     "marked": false
    }
   },
   "outputs": [
    {
     "data": {
      "image/png": "[encoded data removed]",
      "text/plain": [
       "plot without title"
      ]
     },
     "metadata": {},
     "output_type": "display_data"
    }
   ],
   "source": [
    "total_cars <- CARS2004$cars * CARS2004$population\n",
    "total_pobl <- CARS2004$population * 1000\n",
    "plot(total_pobl, total_cars,\n",
    "     xlab=\"Cantidad de habitantes\", ylab=\"Total de automóviles\",\n",
    "     col=\"steelblue\", pch=19)\n",
    "grid()"
   ]
  },
  {
   "cell_type": "markdown",
   "metadata": {},
   "source": [
    "> Se observa una **relación aproximadamente lineal**, donde habría **1 automóvil por cada 2/2.75 habitantes**, graficada toscamente a continuación:"
   ]
  },
  {
   "cell_type": "code",
   "execution_count": 124,
   "metadata": {
    "ExecuteTime": {
     "end_time": "2020-04-15T02:43:13.833098Z",
     "start_time": "2020-04-15T02:43:13.726Z"
    }
   },
   "outputs": [
    {
     "data": {
      "image/png": "[encoded data removed]",
      "text/plain": [
       "plot without title"
      ]
     },
     "metadata": {},
     "output_type": "display_data"
    }
   ],
   "source": [
    "plot(total_pobl, total_cars,\n",
    "     xlab=\"Cantidad de habitantes\", ylab=\"Total de automóviles\",\n",
    "     col=\"steelblue\", pch=19)\n",
    "lines(c(0, 1.75*max(total_cars)), c(0, max(total_cars)), col=\"red\", lwd=2)\n",
    "lines(c(0, 2*max(total_cars)), c(0, max(total_cars)), col=\"orange\", lwd=2)\n",
    "lines(c(0, 2.75*max(total_cars)), c(0, max(total_cars)), col=\"yellow\", lwd=2)\n",
    "grid()\n",
    "legend(\"topleft\", title=\"Autos por persona\",\n",
    "       legend=c(\"1 cada 1.75\",\"1 cada 2\",\"1 cada 2.75\"),\n",
    "       fill=c(\"red\",\"orange\",\"yellow\"),\n",
    "       bg=\"lightgray\")"
   ]
  },
  {
   "cell_type": "markdown",
   "metadata": {},
   "source": [
    "### Ejercicio 9.f\n",
    "\n",
    ">Haga un gráfico de **cantidad total de autos** vs **tasa de mortalidad de automovilistas**. ¿Cómo describirı́a la relación?\n",
    "\n",
    "### Solución 9.f"
   ]
  },
  {
   "cell_type": "code",
   "execution_count": 125,
   "metadata": {
    "ExecuteTime": {
     "end_time": "2020-04-15T02:43:14.795094Z",
     "start_time": "2020-04-15T02:43:14.782Z"
    }
   },
   "outputs": [],
   "source": [
    "cars_vs_deadrate <- data.frame(total_cars, tasas_mortalidad)\n",
    "colnames(cars_vs_deadrate) <- c(\"cars\",\"dead_rate\")"
   ]
  },
  {
   "cell_type": "code",
   "execution_count": 126,
   "metadata": {
    "ExecuteTime": {
     "end_time": "2020-04-15T02:43:15.349842Z",
     "start_time": "2020-04-15T02:43:15.278Z"
    },
    "scrolled": false
   },
   "outputs": [
    {
     "data": {
      "image/png": "[encoded data removed]",
      "text/plain": [
       "plot without title"
      ]
     },
     "metadata": {},
     "output_type": "display_data"
    }
   ],
   "source": [
    "plot(cars_vs_deadrate,\n",
    "     xlab=\"Total de Automóviles\", ylab=\"Tasa de Mortalidad\",\n",
    "     col=\"steelblue\", pch=19)\n",
    "grid()"
   ]
  },
  {
   "cell_type": "markdown",
   "metadata": {},
   "source": [
    "> Se observa una relación poco intuitiva en cuanto a las dos variables.\n",
    ">\n",
    "> Por un lado, a partir de los 10.000 automóviles, la tasa de mortalidad se mantiene muy baja y casi constante hasta llegar a casi 50.000 (5 veces más!)\n",
    ">\n",
    "> Por otro lado, para valores menores a 10.000 automoviles, la tasa de mortalidad crece rápidamente, inversamente proporcional a la misma, alcanzando valores máximos con menos de 2000 automóviles.\n",
    ">\n",
    "> A partir de estos datos, uno *podría* (de manera **incorrecta!**) interpretar que\n",
    ">\n",
    "> >***\"a mayor cantidad de automóviles en un país, menor la tasa de mortalidad, y a menor cantidad, mayor tasa de mortalidad\"***\n",
    "> \n",
    "> Y a partir de ello, **reducir la tasa de mortalidad mundial muy facilmente**: *Fabricar miles de millones de automóviles y reducir el precio de los mismos!*.\n",
    ">\n",
    "> Es claro que este no es el caso, y analisis deja afuera muchas otras variables que influyen de forma directa e indirecta en las causas y de la tasa de mortalidad:\n",
    ">\n",
    ">> * Tamaño del país\n",
    ">>\n",
    ">>* Densidad de población\n",
    ">>\n",
    ">>* Estructura y planeamiento vial\n",
    ">>\n",
    ">>* Transporte público\n",
    ">>\n",
    ">>* Principales actividades laborales\n",
    ">>\n",
    ">>* Nivel de educación de la población"
   ]
  },
  {
   "cell_type": "markdown",
   "metadata": {},
   "source": [
    " ${fin}$"
   ]
  }
 ],
 "metadata": {
  "kernelspec": {
   "display_name": "R",
   "language": "R",
   "name": "ir"
  },
  "language_info": {
   "codemirror_mode": "r",
   "file_extension": ".r",
   "mimetype": "text/x-r-source",
   "name": "R",
   "pygments_lexer": "r",
   "version": "3.6.3"
  },
  "toc": {
   "base_numbering": 1,
   "nav_menu": {},
   "number_sections": false,
   "sideBar": true,
   "skip_h1_title": false,
   "title_cell": "Table of Contents",
   "title_sidebar": "Contents",
   "toc_cell": false,
   "toc_position": {},
   "toc_section_display": true,
   "toc_window_display": false
  }
 },
 "nbformat": 4,
 "nbformat_minor": 2
}
