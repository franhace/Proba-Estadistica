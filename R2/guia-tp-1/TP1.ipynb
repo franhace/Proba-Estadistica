{
 "cells": [
  {
   "cell_type": "markdown",
   "metadata": {},
   "source": [
    "# TP 1: Primeros pasos con R\n",
    "\n",
    "---\n",
    "\n",
    "### Alumno: Leandro Carreira\n",
    "### LU: 669/18\n",
    "\n",
    "---\n",
    "\n",
    "## Ejercicio 8 de Guía TP 1\n",
    "\n",
    "---"
   ]
  },
  {
   "cell_type": "markdown",
   "metadata": {
    "toc": true
   },
   "source": [
    "<h1>Indice<span class=\"tocSkip\"></span></h1>\n",
    "<div class=\"toc\"><ul class=\"toc-item\"><li><span><a href=\"#TP-1:-Primeros-pasos-con-R\" data-toc-modified-id=\"TP-1:-Primeros-pasos-con-R-1\">TP 1: Primeros pasos con R</a></span><ul class=\"toc-item\"><li><ul class=\"toc-item\"><li><span><a href=\"#Alumno:-Leandro-Carreira\" data-toc-modified-id=\"Alumno:-Leandro-Carreira-1.0.1\">Alumno: Leandro Carreira</a></span></li><li><span><a href=\"#LU:-669/18\" data-toc-modified-id=\"LU:-669/18-1.0.2\">LU: 669/18</a></span></li></ul></li><li><span><a href=\"#Ejercicio-8-de-Guía-TP-1\" data-toc-modified-id=\"Ejercicio-8-de-Guía-TP-1-1.1\">Ejercicio 8 de Guía TP 1</a></span><ul class=\"toc-item\"><li><span><a href=\"#Ejercicio-8\" data-toc-modified-id=\"Ejercicio-8-1.1.1\">Ejercicio 8</a></span></li><li><span><a href=\"#Ejercicio-8.a\" data-toc-modified-id=\"Ejercicio-8.a-1.1.2\">Ejercicio 8.a</a></span></li><li><span><a href=\"#Solución-8.a\" data-toc-modified-id=\"Solución-8.a-1.1.3\">Solución 8.a</a></span></li><li><span><a href=\"#Ejercicio-8.b\" data-toc-modified-id=\"Ejercicio-8.b-1.1.4\">Ejercicio 8.b</a></span></li><li><span><a href=\"#Solución-8.b\" data-toc-modified-id=\"Solución-8.b-1.1.5\">Solución 8.b</a></span></li><li><span><a href=\"#Ejercicio-8.c\" data-toc-modified-id=\"Ejercicio-8.c-1.1.6\">Ejercicio 8.c</a></span></li><li><span><a href=\"#Solución-8.c\" data-toc-modified-id=\"Solución-8.c-1.1.7\">Solución 8.c</a></span></li></ul></li></ul></li></ul></div>"
   ]
  },
  {
   "cell_type": "markdown",
   "metadata": {},
   "source": [
    "### Ejercicio 8\n",
    "\n",
    "Los datos `TITANIC3` del paquete `PASWR2` contienen información sobre los pasajeros del Titanic, incluyendo **clase**, **sexo** y **si sobrevivieron o no**, entre otras caracterı́sticas."
   ]
  },
  {
   "cell_type": "markdown",
   "metadata": {},
   "source": [
    "### Ejercicio 8.a\n",
    "\n",
    "> Determine la **proporción de sobrevivientes por clase**.\n",
    "\n",
    "### Solución 8.a\n",
    "\n"
   ]
  },
  {
   "cell_type": "code",
   "execution_count": 1,
   "metadata": {
    "ExecuteTime": {
     "end_time": "2020-04-18T15:21:36.129117Z",
     "start_time": "2020-04-18T15:21:21.869Z"
    }
   },
   "outputs": [
    {
     "name": "stderr",
     "output_type": "stream",
     "text": [
      "Updating HTML index of packages in '.Library'\n",
      "Making 'packages.html' ... done\n"
     ]
    }
   ],
   "source": [
    "# Se necesita para ejercicios 8\n",
    "install.packages(\"PASWR2\")"
   ]
  },
  {
   "cell_type": "code",
   "execution_count": 2,
   "metadata": {
    "ExecuteTime": {
     "end_time": "2020-04-18T15:21:36.617846Z",
     "start_time": "2020-04-18T15:21:22.482Z"
    }
   },
   "outputs": [
    {
     "name": "stderr",
     "output_type": "stream",
     "text": [
      "Loading required package: PASWR2\n",
      "Loading required package: lattice\n",
      "Loading required package: ggplot2\n",
      "Registered S3 methods overwritten by 'ggplot2':\n",
      "  method         from \n",
      "  [.quosures     rlang\n",
      "  c.quosures     rlang\n",
      "  print.quosures rlang\n"
     ]
    }
   ],
   "source": [
    "# Importo librería PASWR2\n",
    "require(PASWR2)"
   ]
  },
  {
   "cell_type": "code",
   "execution_count": 5,
   "metadata": {
    "ExecuteTime": {
     "end_time": "2020-04-18T15:22:13.941029Z",
     "start_time": "2020-04-18T15:22:13.919Z"
    }
   },
   "outputs": [],
   "source": [
    "# Descomentar para verificar que cargue los datos \n",
    "#head(TITANIC3)"
   ]
  },
  {
   "cell_type": "markdown",
   "metadata": {},
   "source": [
    "### Ejercicio 8.b\n",
    "\n",
    ">Calcule la **proporción de sobrevivientes por clase y sexo**.\n",
    ">\n",
    ">¿Quién tuvo una tasa **más alta** de supervencia: los **varones de 1ra clase** o las **mujeres de 3ra**?\n",
    "\n",
    "### Solución 8.b\n",
    "\n",
    "Filtro pasajeros por\n",
    "\n",
    ">**varones de 1ra clase** (`sex==\"male\" & pclass==\"1st\"`)\n",
    ">\n",
    ">o\n",
    ">\n",
    ">**mujeres de 3ra** (`sex==\"female\" & pclass==\"3rd\"`),\n",
    "\n",
    "y ademas cuento sobrevivientes en cada uno (`survived==1`), para calcular la tasa:"
   ]
  },
  {
   "cell_type": "code",
   "execution_count": 6,
   "metadata": {
    "ExecuteTime": {
     "end_time": "2020-04-18T15:24:00.355190Z",
     "start_time": "2020-04-18T15:24:00.330Z"
    }
   },
   "outputs": [],
   "source": [
    "# Males 1st class\n",
    "total_males    <- nrow(TITANIC3[TITANIC3$sex==\"male\" & TITANIC3$pclass==\"1st\" ,])\n",
    "survived_males <- nrow(TITANIC3[TITANIC3$sex==\"male\" & TITANIC3$pclass==\"1st\" & TITANIC3$survived==1, ])\n",
    "rate_males     <- survived_males/total_males\n",
    "# Females 3rd class\n",
    "total_females    <- nrow(TITANIC3[TITANIC3$sex==\"female\" & TITANIC3$pclass==\"3rd\",])\n",
    "survived_females <- nrow(TITANIC3[TITANIC3$sex==\"female\" & TITANIC3$pclass==\"3rd\" & TITANIC3$survived==1, ])\n",
    "rate_females     <- survived_females/total_females"
   ]
  },
  {
   "cell_type": "code",
   "execution_count": 9,
   "metadata": {
    "ExecuteTime": {
     "end_time": "2020-04-18T15:25:07.967573Z",
     "start_time": "2020-04-18T15:25:07.941Z"
    }
   },
   "outputs": [
    {
     "data": {
      "text/html": [
       "<table>\n",
       "<thead><tr><th scope=col>rate_males</th><th scope=col>rate_females</th></tr></thead>\n",
       "<tbody>\n",
       "\t<tr><td>0.3407821</td><td>0.4907407</td></tr>\n",
       "</tbody>\n",
       "</table>\n"
      ],
      "text/latex": [
       "\\begin{tabular}{r|ll}\n",
       " rate\\_males & rate\\_females\\\\\n",
       "\\hline\n",
       "\t 0.3407821 & 0.4907407\\\\\n",
       "\\end{tabular}\n"
      ],
      "text/markdown": [
       "\n",
       "| rate_males | rate_females |\n",
       "|---|---|\n",
       "| 0.3407821 | 0.4907407 |\n",
       "\n"
      ],
      "text/plain": [
       "  rate_males rate_females\n",
       "1 0.3407821  0.4907407   "
      ]
     },
     "metadata": {},
     "output_type": "display_data"
    }
   ],
   "source": [
    "data.frame(rate_males, rate_females)"
   ]
  },
  {
   "cell_type": "markdown",
   "metadata": {},
   "source": [
    "> Los datos muestran que los **varones de 1era clase** tuvieron una tasa se supervivencia del $\\approx$**34.08%**, mientras que las **mujeres de 3era clase** tuvieron una tasa de supervivencia de $\\approx$**49.07%**.\n",
    ">\n",
    "> Por lo tanto, la **tasa más alta de supervivencia** la tuvo el grupo de **mujeres de 3era clase**."
   ]
  },
  {
   "cell_type": "markdown",
   "metadata": {},
   "source": [
    "### Ejercicio 8.c\n",
    "\n",
    "> ¿Cuál era la **edad** de la **mujer más grande** que **sobrevivió**?\n",
    "\n",
    "### Solución 8.c\n",
    "\n",
    "Dado que hay **muchos valores nulos** (*NA*) entre las edades de los pasajeros en los registros, es necesario hacer explícita la opción `na.rm` del comando `max`, que **calcula el máximo valor *solo* entre los valores no-nulos**."
   ]
  },
  {
   "cell_type": "code",
   "execution_count": 66,
   "metadata": {
    "ExecuteTime": {
     "end_time": "2020-04-15T02:04:15.047249Z",
     "start_time": "2020-04-15T02:04:06.296Z"
    }
   },
   "outputs": [
    {
     "data": {
      "text/html": [
       "76"
      ],
      "text/latex": [
       "76"
      ],
      "text/markdown": [
       "76"
      ],
      "text/plain": [
       "[1] 76"
      ]
     },
     "metadata": {},
     "output_type": "display_data"
    }
   ],
   "source": [
    "max(TITANIC3[TITANIC3$sex==\"female\" & TITANIC3$survived==1 , \"age\"], na.rm=TRUE)"
   ]
  },
  {
   "cell_type": "markdown",
   "metadata": {
    "ExecuteTime": {
     "end_time": "2020-04-14T02:18:37.981082Z",
     "start_time": "2020-04-14T02:18:37.967Z"
    }
   },
   "source": [
    "> La edad de la mujer más grande que sobrevivió era de **76 años**."
   ]
  }
 ],
 "metadata": {
  "kernelspec": {
   "display_name": "R",
   "language": "R",
   "name": "ir"
  },
  "language_info": {
   "codemirror_mode": "r",
   "file_extension": ".r",
   "mimetype": "text/x-r-source",
   "name": "R",
   "pygments_lexer": "r",
   "version": "3.6.3"
  },
  "toc": {
   "base_numbering": 1,
   "nav_menu": {},
   "number_sections": false,
   "sideBar": true,
   "skip_h1_title": false,
   "title_cell": "Indice",
   "title_sidebar": "Contents",
   "toc_cell": true,
   "toc_position": {
    "height": "calc(100% - 180px)",
    "left": "10px",
    "top": "150px",
    "width": "165px"
   },
   "toc_section_display": true,
   "toc_window_display": true
  }
 },
 "nbformat": 4,
 "nbformat_minor": 4
}
