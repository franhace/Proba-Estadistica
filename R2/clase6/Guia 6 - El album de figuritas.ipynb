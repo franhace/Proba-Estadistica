{
 "cells": [
  {
   "cell_type": "markdown",
   "metadata": {},
   "source": [
    "# 2020 Guía 6: El álbum de figuritas"
   ]
  },
  {
   "cell_type": "markdown",
   "metadata": {
    "ExecuteTime": {
     "end_time": "2020-04-29T15:17:43.086848Z",
     "start_time": "2020-04-29T15:17:43.024Z"
    }
   },
   "source": [
    "> **Primera simplificación:** suponga que las figuritas se compran individualmente.\n",
    "\n",
    "> 1. Simular el numero de una figurita elegida al azar si el  ́album es de 6 figuritas.\n",
    "¿Qu ́e comando sirve?"
   ]
  },
  {
   "cell_type": "code",
   "execution_count": 2,
   "metadata": {
    "ExecuteTime": {
     "end_time": "2020-05-04T14:43:50.386663Z",
     "start_time": "2020-05-04T14:43:50.360Z"
    }
   },
   "outputs": [
    {
     "data": {
      "text/html": [
       "2"
      ],
      "text/latex": [
       "2"
      ],
      "text/markdown": [
       "2"
      ],
      "text/plain": [
       "[1] 2"
      ]
     },
     "metadata": {},
     "output_type": "display_data"
    }
   ],
   "source": [
    "sample(1:6, 1)"
   ]
  },
  {
   "cell_type": "markdown",
   "metadata": {
    "ExecuteTime": {
     "end_time": "2020-04-29T15:17:00.101121Z",
     "start_time": "2020-04-29T15:17:00.075Z"
    }
   },
   "source": [
    "> 2. Simular el llenado de un álbum de 6 figuritas e indicar cuántas figuritas se debieron comprar para completarlo."
   ]
  },
  {
   "cell_type": "code",
   "execution_count": 3,
   "metadata": {
    "ExecuteTime": {
     "end_time": "2020-05-04T14:43:50.831154Z",
     "start_time": "2020-05-04T14:43:50.800Z"
    }
   },
   "outputs": [
    {
     "data": {
      "text/html": [
       "13"
      ],
      "text/latex": [
       "13"
      ],
      "text/markdown": [
       "13"
      ],
      "text/plain": [
       "[1] 13"
      ]
     },
     "metadata": {},
     "output_type": "display_data"
    }
   ],
   "source": [
    "total <- 6\n",
    "album <- rep(0, total)\n",
    "count <- 0\n",
    "while(sum(album) != total){\n",
    "    figu <- sample(1:6, 1)\n",
    "    count <- count+1\n",
    "    album[figu] <- 1\n",
    "}\n",
    "count"
   ]
  },
  {
   "cell_type": "code",
   "execution_count": 4,
   "metadata": {
    "ExecuteTime": {
     "end_time": "2020-05-04T14:43:51.124481Z",
     "start_time": "2020-05-04T14:43:51.100Z"
    }
   },
   "outputs": [
    {
     "data": {
      "text/html": [
       "13"
      ],
      "text/latex": [
       "13"
      ],
      "text/markdown": [
       "13"
      ],
      "text/plain": [
       "[1] 13"
      ]
     },
     "metadata": {},
     "output_type": "display_data"
    }
   ],
   "source": [
    "#Cantidad de figuritas necesarias\n",
    "count"
   ]
  },
  {
   "cell_type": "markdown",
   "metadata": {
    "ExecuteTime": {
     "end_time": "2020-04-29T15:28:20.946976Z",
     "start_time": "2020-04-29T15:28:20.890Z"
    }
   },
   "source": [
    "3. Implementar una funci ́on cuantasFigus(figusTotal) que, dado el tama ̃no del  ́album (figusTotal), simule su llenado y devuelva la cantidad de figuritas que se debieron adquirir para completarlo."
   ]
  },
  {
   "cell_type": "code",
   "execution_count": 5,
   "metadata": {
    "ExecuteTime": {
     "end_time": "2020-05-04T14:43:51.668404Z",
     "start_time": "2020-05-04T14:43:51.645Z"
    }
   },
   "outputs": [],
   "source": [
    "cuantasFigus <- function(figusTotal){\n",
    "    album <- rep(0, figusTotal)\n",
    "    count <- 0\n",
    "    while(sum(album) != figusTotal){\n",
    "        figu <- sample(1:6, 1)\n",
    "        count <- count+1\n",
    "        album[figu] <- 1\n",
    "    }\n",
    "    return(count)\n",
    "}"
   ]
  },
  {
   "cell_type": "code",
   "execution_count": 6,
   "metadata": {
    "ExecuteTime": {
     "end_time": "2020-05-04T14:43:51.849513Z",
     "start_time": "2020-05-04T14:43:51.817Z"
    }
   },
   "outputs": [
    {
     "data": {
      "text/html": [
       "7"
      ],
      "text/latex": [
       "7"
      ],
      "text/markdown": [
       "7"
      ],
      "text/plain": [
       "[1] 7"
      ]
     },
     "metadata": {},
     "output_type": "display_data"
    }
   ],
   "source": [
    "cuantasFigus(6)"
   ]
  },
  {
   "cell_type": "markdown",
   "metadata": {},
   "source": [
    "4. Calcular Nrep=1000 veces la funci ́on anterior utilizando figusTotal=6 y guarde en una lista los resultados obtenidos en cada repetici ́on.\n",
    "\n",
    "Con los resultados obtenidos para un  ́album de seis figuritas, estimar:\n",
    "\n",
    "4.a El n ́umero de figuritas hay que comprar, en media, para completar el álbum.\n",
    "\n",
    "4.b La probabilidad de completar el álbum comprando 16 figuritas.\n",
    "\n",
    "4.c El n ́umero de figuritas que hay que comprar para tener probabilidad del 90%\n",
    "de completar el  ́album."
   ]
  },
  {
   "cell_type": "code",
   "execution_count": 7,
   "metadata": {
    "ExecuteTime": {
     "end_time": "2020-05-04T14:43:52.453290Z",
     "start_time": "2020-05-04T14:43:52.331Z"
    }
   },
   "outputs": [],
   "source": [
    "Nrep <- 1000\n",
    "figusTotal <- 6\n",
    "cantidades <- rep(0, Nrep)\n",
    "\n",
    "for(i in 1:Nrep){\n",
    "    cantidades[i] <- cuantasFigus(6)\n",
    "}"
   ]
  },
  {
   "cell_type": "code",
   "execution_count": 9,
   "metadata": {
    "ExecuteTime": {
     "end_time": "2020-05-04T14:44:01.469614Z",
     "start_time": "2020-05-04T14:44:01.436Z"
    }
   },
   "outputs": [
    {
     "data": {
      "text/html": [
       "14.53"
      ],
      "text/latex": [
       "14.53"
      ],
      "text/markdown": [
       "14.53"
      ],
      "text/plain": [
       "[1] 14.53"
      ]
     },
     "metadata": {},
     "output_type": "display_data"
    }
   ],
   "source": [
    "mean(cantidades)"
   ]
  },
  {
   "cell_type": "code",
   "execution_count": 16,
   "metadata": {
    "ExecuteTime": {
     "end_time": "2020-05-04T14:50:59.446907Z",
     "start_time": "2020-05-04T14:50:59.416Z"
    }
   },
   "outputs": [
    {
     "data": {
      "text/html": [
       "0.718"
      ],
      "text/latex": [
       "0.718"
      ],
      "text/markdown": [
       "0.718"
      ],
      "text/plain": [
       "[1] 0.718"
      ]
     },
     "metadata": {},
     "output_type": "display_data"
    }
   ],
   "source": [
    "#b\n",
    "sum(cantidades<=16)/Nrep"
   ]
  },
  {
   "cell_type": "code",
   "execution_count": 21,
   "metadata": {
    "ExecuteTime": {
     "end_time": "2020-05-04T14:56:49.551056Z",
     "start_time": "2020-05-04T14:56:49.517Z"
    }
   },
   "outputs": [
    {
     "data": {
      "text/html": [
       "<strong>90%:</strong> 23"
      ],
      "text/latex": [
       "\\textbf{90\\textbackslash{}\\%:} 23"
      ],
      "text/markdown": [
       "**90%:** 23"
      ],
      "text/plain": [
       "90% \n",
       " 23 "
      ]
     },
     "metadata": {},
     "output_type": "display_data"
    },
    {
     "data": {
      "text/html": [
       "23"
      ],
      "text/latex": [
       "23"
      ],
      "text/markdown": [
       "23"
      ],
      "text/plain": [
       "[1] 23"
      ]
     },
     "metadata": {},
     "output_type": "display_data"
    }
   ],
   "source": [
    "#4c\n",
    "quantile(cantidades, 0.9)\n",
    "sort(cantidades)[0.9*Nrep]"
   ]
  },
  {
   "cell_type": "code",
   "execution_count": null,
   "metadata": {
    "ExecuteTime": {
     "start_time": "2020-05-04T15:35:52.959Z"
    }
   },
   "outputs": [],
   "source": [
    "Nrep <- 100\n",
    "total <- 0\n",
    "\n",
    "figusTotal <- 640\n",
    "cantidades <- rep(0, Nrep)\n",
    "\n",
    "for(i in 1:Nrep){\n",
    "    cantidades[i] <- cuantasFigus(figusTotal)\n",
    "}"
   ]
  },
  {
   "cell_type": "code",
   "execution_count": null,
   "metadata": {
    "ExecuteTime": {
     "start_time": "2020-05-04T15:35:54.362Z"
    }
   },
   "outputs": [],
   "source": [
    "mean(cantidades)\n",
    "sum(cantidades<=16)/Nrep\n",
    "quantile(cantidades, 0.9)"
   ]
  },
  {
   "cell_type": "code",
   "execution_count": 41,
   "metadata": {
    "ExecuteTime": {
     "end_time": "2020-05-04T15:23:59.027008Z",
     "start_time": "2020-05-04T15:22:39.255Z"
    }
   },
   "outputs": [
    {
     "data": {
      "text/html": [
       "14.702088"
      ],
      "text/latex": [
       "14.702088"
      ],
      "text/markdown": [
       "14.702088"
      ],
      "text/plain": [
       "[1] 14.70209"
      ]
     },
     "metadata": {},
     "output_type": "display_data"
    },
    {
     "data": {
      "text/html": [
       "0.69756"
      ],
      "text/latex": [
       "0.69756"
      ],
      "text/markdown": [
       "0.69756"
      ],
      "text/plain": [
       "[1] 0.69756"
      ]
     },
     "metadata": {},
     "output_type": "display_data"
    },
    {
     "data": {
      "text/html": [
       "<strong>90%:</strong> 23"
      ],
      "text/latex": [
       "\\textbf{90\\textbackslash{}\\%:} 23"
      ],
      "text/markdown": [
       "**90%:** 23"
      ],
      "text/plain": [
       "90% \n",
       " 23 "
      ]
     },
     "metadata": {},
     "output_type": "display_data"
    }
   ],
   "source": [
    "mean(cantidades)\n",
    "sum(cantidades<=16)/Nrep\n",
    "quantile(cantidades, 0.9)"
   ]
  },
  {
   "cell_type": "code",
   "execution_count": 39,
   "metadata": {
    "ExecuteTime": {
     "end_time": "2020-05-04T15:12:34.258480Z",
     "start_time": "2020-05-04T15:11:14.227Z"
    }
   },
   "outputs": [
    {
     "data": {
      "text/html": [
       "14.701247"
      ],
      "text/latex": [
       "14.701247"
      ],
      "text/markdown": [
       "14.701247"
      ],
      "text/plain": [
       "[1] 14.70125"
      ]
     },
     "metadata": {},
     "output_type": "display_data"
    },
    {
     "data": {
      "text/html": [
       "0.698145"
      ],
      "text/latex": [
       "0.698145"
      ],
      "text/markdown": [
       "0.698145"
      ],
      "text/plain": [
       "[1] 0.698145"
      ]
     },
     "metadata": {},
     "output_type": "display_data"
    },
    {
     "data": {
      "text/html": [
       "<strong>90%:</strong> 23"
      ],
      "text/latex": [
       "\\textbf{90\\textbackslash{}\\%:} 23"
      ],
      "text/markdown": [
       "**90%:** 23"
      ],
      "text/plain": [
       "90% \n",
       " 23 "
      ]
     },
     "metadata": {},
     "output_type": "display_data"
    }
   ],
   "source": [
    "mean(cantidades)\n",
    "sum(cantidades<=16)/Nrep\n",
    "quantile(cantidades, 0.9)"
   ]
  }
 ],
 "metadata": {
  "kernelspec": {
   "display_name": "R",
   "language": "R",
   "name": "ir"
  },
  "language_info": {
   "codemirror_mode": "r",
   "file_extension": ".r",
   "mimetype": "text/x-r-source",
   "name": "R",
   "pygments_lexer": "r",
   "version": "3.6.3"
  },
  "toc": {
   "base_numbering": 1,
   "nav_menu": {},
   "number_sections": false,
   "sideBar": true,
   "skip_h1_title": false,
   "title_cell": "Table of Contents",
   "title_sidebar": "Contents",
   "toc_cell": false,
   "toc_position": {
    "height": "calc(100% - 180px)",
    "left": "10px",
    "top": "150px",
    "width": "341.634px"
   },
   "toc_section_display": true,
   "toc_window_display": true
  },
  "varInspector": {
   "cols": {
    "lenName": 16,
    "lenType": 16,
    "lenVar": 40
   },
   "kernels_config": {
    "python": {
     "delete_cmd_postfix": "",
     "delete_cmd_prefix": "del ",
     "library": "var_list.py",
     "varRefreshCmd": "print(var_dic_list())"
    },
    "r": {
     "delete_cmd_postfix": ") ",
     "delete_cmd_prefix": "rm(",
     "library": "var_list.r",
     "varRefreshCmd": "cat(var_dic_list()) "
    }
   },
   "types_to_exclude": [
    "module",
    "function",
    "builtin_function_or_method",
    "instance",
    "_Feature"
   ],
   "window_display": false
  }
 },
 "nbformat": 4,
 "nbformat_minor": 4
}
