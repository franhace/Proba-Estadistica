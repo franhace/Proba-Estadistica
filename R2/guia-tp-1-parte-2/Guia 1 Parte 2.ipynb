{
 "cells": [
  {
   "cell_type": "markdown",
   "metadata": {},
   "source": [
    "# Guia 1 Parte 2 - Titanic"
   ]
  },
  {
   "cell_type": "markdown",
   "metadata": {},
   "source": [
    "Los datos contienen 1028 pasajeros y algunas variables contienen respuestas faltantes.\n",
    "\n",
    "1. Borrar todos los objetos existentes en el entorno de trabajo y establecer directorio de trabajo."
   ]
  },
  {
   "cell_type": "code",
   "execution_count": 5,
   "metadata": {
    "ExecuteTime": {
     "end_time": "2020-04-26T02:23:43.208552Z",
     "start_time": "2020-04-26T02:23:43.189Z"
    }
   },
   "outputs": [],
   "source": [
    "#getwd()\n",
    "#setwd('./')"
   ]
  },
  {
   "cell_type": "markdown",
   "metadata": {},
   "source": [
    "2. Leer el conjunto de titanic.csv teniendo en cuenta que en la primera l ́ınea del archivo figura el nombre de las variables y el tipo de separaci ́on de los datos y as ́ıgnelo al data.frame titanic."
   ]
  },
  {
   "cell_type": "code",
   "execution_count": 104,
   "metadata": {
    "ExecuteTime": {
     "end_time": "2020-04-26T14:02:49.700612Z",
     "start_time": "2020-04-26T14:02:49.674Z"
    }
   },
   "outputs": [],
   "source": [
    "data <- read.csv('titanic.csv', header=TRUE, sep=\",\")"
   ]
  },
  {
   "cell_type": "markdown",
   "metadata": {},
   "source": [
    "3. Inspeccionar los primeros casos del archivo y los  ́ultimos."
   ]
  },
  {
   "cell_type": "code",
   "execution_count": 105,
   "metadata": {
    "ExecuteTime": {
     "end_time": "2020-04-26T14:02:50.038964Z",
     "start_time": "2020-04-26T14:02:50.018Z"
    }
   },
   "outputs": [
    {
     "data": {
      "text/html": [
       "<table>\n",
       "<thead><tr><th scope=col>pclass</th><th scope=col>survived</th><th scope=col>name</th><th scope=col>sex</th><th scope=col>age</th><th scope=col>sibsp</th><th scope=col>parch</th><th scope=col>ticket</th><th scope=col>fare</th><th scope=col>embarked</th></tr></thead>\n",
       "<tbody>\n",
       "\t<tr><td>1                                              </td><td>1                                              </td><td>Allen, Miss. Elisabeth Walton                  </td><td>female                                         </td><td>29                                             </td><td>0                                              </td><td>0                                              </td><td>24160                                          </td><td>211,3375                                       </td><td>S                                              </td></tr>\n",
       "\t<tr><td>1                                              </td><td>1                                              </td><td>Allison, Master. Hudson Trevor                 </td><td>male                                           </td><td>0,9167                                         </td><td>1                                              </td><td>2                                              </td><td>113781                                         </td><td>151,5500                                       </td><td>S                                              </td></tr>\n",
       "\t<tr><td>1                                              </td><td>0                                              </td><td>Allison, Miss. Helen Loraine                   </td><td>female                                         </td><td>2                                              </td><td>1                                              </td><td>2                                              </td><td>113781                                         </td><td>151,5500                                       </td><td>S                                              </td></tr>\n",
       "\t<tr><td>1                                              </td><td>0                                              </td><td>Allison, Mr. Hudson Joshua Creighton           </td><td>male                                           </td><td>30                                             </td><td>1                                              </td><td>2                                              </td><td>113781                                         </td><td>151,5500                                       </td><td>S                                              </td></tr>\n",
       "\t<tr><td>1                                              </td><td>0                                              </td><td>Allison, Mrs. Hudson J C (Bessie Waldo Daniels)</td><td>female                                         </td><td>25                                             </td><td>1                                              </td><td>2                                              </td><td>113781                                         </td><td>151,5500                                       </td><td>S                                              </td></tr>\n",
       "\t<tr><td>1                                              </td><td>1                                              </td><td>Anderson, Mr. Harry                            </td><td>male                                           </td><td>48                                             </td><td>0                                              </td><td>0                                              </td><td>19952                                          </td><td>26,5500                                        </td><td>S                                              </td></tr>\n",
       "</tbody>\n",
       "</table>\n"
      ],
      "text/latex": [
       "\\begin{tabular}{r|llllllllll}\n",
       " pclass & survived & name & sex & age & sibsp & parch & ticket & fare & embarked\\\\\n",
       "\\hline\n",
       "\t 1                                               & 1                                               & Allen, Miss. Elisabeth Walton                   & female                                          & 29                                              & 0                                               & 0                                               & 24160                                           & 211,3375                                        & S                                              \\\\\n",
       "\t 1                                               & 1                                               & Allison, Master. Hudson Trevor                  & male                                            & 0,9167                                          & 1                                               & 2                                               & 113781                                          & 151,5500                                        & S                                              \\\\\n",
       "\t 1                                               & 0                                               & Allison, Miss. Helen Loraine                    & female                                          & 2                                               & 1                                               & 2                                               & 113781                                          & 151,5500                                        & S                                              \\\\\n",
       "\t 1                                               & 0                                               & Allison, Mr. Hudson Joshua Creighton            & male                                            & 30                                              & 1                                               & 2                                               & 113781                                          & 151,5500                                        & S                                              \\\\\n",
       "\t 1                                               & 0                                               & Allison, Mrs. Hudson J C (Bessie Waldo Daniels) & female                                          & 25                                              & 1                                               & 2                                               & 113781                                          & 151,5500                                        & S                                              \\\\\n",
       "\t 1                                               & 1                                               & Anderson, Mr. Harry                             & male                                            & 48                                              & 0                                               & 0                                               & 19952                                           & 26,5500                                         & S                                              \\\\\n",
       "\\end{tabular}\n"
      ],
      "text/markdown": [
       "\n",
       "| pclass | survived | name | sex | age | sibsp | parch | ticket | fare | embarked |\n",
       "|---|---|---|---|---|---|---|---|---|---|\n",
       "| 1                                               | 1                                               | Allen, Miss. Elisabeth Walton                   | female                                          | 29                                              | 0                                               | 0                                               | 24160                                           | 211,3375                                        | S                                               |\n",
       "| 1                                               | 1                                               | Allison, Master. Hudson Trevor                  | male                                            | 0,9167                                          | 1                                               | 2                                               | 113781                                          | 151,5500                                        | S                                               |\n",
       "| 1                                               | 0                                               | Allison, Miss. Helen Loraine                    | female                                          | 2                                               | 1                                               | 2                                               | 113781                                          | 151,5500                                        | S                                               |\n",
       "| 1                                               | 0                                               | Allison, Mr. Hudson Joshua Creighton            | male                                            | 30                                              | 1                                               | 2                                               | 113781                                          | 151,5500                                        | S                                               |\n",
       "| 1                                               | 0                                               | Allison, Mrs. Hudson J C (Bessie Waldo Daniels) | female                                          | 25                                              | 1                                               | 2                                               | 113781                                          | 151,5500                                        | S                                               |\n",
       "| 1                                               | 1                                               | Anderson, Mr. Harry                             | male                                            | 48                                              | 0                                               | 0                                               | 19952                                           | 26,5500                                         | S                                               |\n",
       "\n"
      ],
      "text/plain": [
       "  pclass survived name                                            sex    age   \n",
       "1 1      1        Allen, Miss. Elisabeth Walton                   female 29    \n",
       "2 1      1        Allison, Master. Hudson Trevor                  male   0,9167\n",
       "3 1      0        Allison, Miss. Helen Loraine                    female 2     \n",
       "4 1      0        Allison, Mr. Hudson Joshua Creighton            male   30    \n",
       "5 1      0        Allison, Mrs. Hudson J C (Bessie Waldo Daniels) female 25    \n",
       "6 1      1        Anderson, Mr. Harry                             male   48    \n",
       "  sibsp parch ticket fare     embarked\n",
       "1 0     0     24160  211,3375 S       \n",
       "2 1     2     113781 151,5500 S       \n",
       "3 1     2     113781 151,5500 S       \n",
       "4 1     2     113781 151,5500 S       \n",
       "5 1     2     113781 151,5500 S       \n",
       "6 0     0     19952  26,5500  S       "
      ]
     },
     "metadata": {},
     "output_type": "display_data"
    }
   ],
   "source": [
    "head(data)"
   ]
  },
  {
   "cell_type": "code",
   "execution_count": 106,
   "metadata": {
    "ExecuteTime": {
     "end_time": "2020-04-26T14:02:50.167411Z",
     "start_time": "2020-04-26T14:02:50.144Z"
    }
   },
   "outputs": [
    {
     "data": {
      "text/html": [
       "<table>\n",
       "<thead><tr><th></th><th scope=col>pclass</th><th scope=col>survived</th><th scope=col>name</th><th scope=col>sex</th><th scope=col>age</th><th scope=col>sibsp</th><th scope=col>parch</th><th scope=col>ticket</th><th scope=col>fare</th><th scope=col>embarked</th></tr></thead>\n",
       "<tbody>\n",
       "\t<tr><th scope=row>1304</th><td>3                        </td><td>0                        </td><td>Yousseff, Mr. Gerious    </td><td>male                     </td><td>                         </td><td>0                        </td><td>0                        </td><td>2627                     </td><td>14,4583                  </td><td>C                        </td></tr>\n",
       "\t<tr><th scope=row>1305</th><td>3                        </td><td>0                        </td><td>Zabour, Miss. Hileni     </td><td>female                   </td><td>14,5                     </td><td>1                        </td><td>0                        </td><td>2665                     </td><td>14,4542                  </td><td>C                        </td></tr>\n",
       "\t<tr><th scope=row>1306</th><td>3                        </td><td>0                        </td><td>Zabour, Miss. Thamine    </td><td>female                   </td><td>                         </td><td>1                        </td><td>0                        </td><td>2665                     </td><td>14,4542                  </td><td>C                        </td></tr>\n",
       "\t<tr><th scope=row>1307</th><td>3                        </td><td>0                        </td><td>Zakarian, Mr. Mapriededer</td><td>male                     </td><td>26,5                     </td><td>0                        </td><td>0                        </td><td>2656                     </td><td>7,2250                   </td><td>C                        </td></tr>\n",
       "\t<tr><th scope=row>1308</th><td>3                        </td><td>0                        </td><td>Zakarian, Mr. Ortin      </td><td>male                     </td><td>27                       </td><td>0                        </td><td>0                        </td><td>2670                     </td><td>7,2250                   </td><td>C                        </td></tr>\n",
       "\t<tr><th scope=row>1309</th><td>3                        </td><td>0                        </td><td>Zimmerman, Mr. Leo       </td><td>male                     </td><td>29                       </td><td>0                        </td><td>0                        </td><td>315082                   </td><td>7,8750                   </td><td>S                        </td></tr>\n",
       "</tbody>\n",
       "</table>\n"
      ],
      "text/latex": [
       "\\begin{tabular}{r|llllllllll}\n",
       "  & pclass & survived & name & sex & age & sibsp & parch & ticket & fare & embarked\\\\\n",
       "\\hline\n",
       "\t1304 & 3                         & 0                         & Yousseff, Mr. Gerious     & male                      &                           & 0                         & 0                         & 2627                      & 14,4583                   & C                        \\\\\n",
       "\t1305 & 3                         & 0                         & Zabour, Miss. Hileni      & female                    & 14,5                      & 1                         & 0                         & 2665                      & 14,4542                   & C                        \\\\\n",
       "\t1306 & 3                         & 0                         & Zabour, Miss. Thamine     & female                    &                           & 1                         & 0                         & 2665                      & 14,4542                   & C                        \\\\\n",
       "\t1307 & 3                         & 0                         & Zakarian, Mr. Mapriededer & male                      & 26,5                      & 0                         & 0                         & 2656                      & 7,2250                    & C                        \\\\\n",
       "\t1308 & 3                         & 0                         & Zakarian, Mr. Ortin       & male                      & 27                        & 0                         & 0                         & 2670                      & 7,2250                    & C                        \\\\\n",
       "\t1309 & 3                         & 0                         & Zimmerman, Mr. Leo        & male                      & 29                        & 0                         & 0                         & 315082                    & 7,8750                    & S                        \\\\\n",
       "\\end{tabular}\n"
      ],
      "text/markdown": [
       "\n",
       "| <!--/--> | pclass | survived | name | sex | age | sibsp | parch | ticket | fare | embarked |\n",
       "|---|---|---|---|---|---|---|---|---|---|---|\n",
       "| 1304 | 3                         | 0                         | Yousseff, Mr. Gerious     | male                      |                           | 0                         | 0                         | 2627                      | 14,4583                   | C                         |\n",
       "| 1305 | 3                         | 0                         | Zabour, Miss. Hileni      | female                    | 14,5                      | 1                         | 0                         | 2665                      | 14,4542                   | C                         |\n",
       "| 1306 | 3                         | 0                         | Zabour, Miss. Thamine     | female                    |                           | 1                         | 0                         | 2665                      | 14,4542                   | C                         |\n",
       "| 1307 | 3                         | 0                         | Zakarian, Mr. Mapriededer | male                      | 26,5                      | 0                         | 0                         | 2656                      | 7,2250                    | C                         |\n",
       "| 1308 | 3                         | 0                         | Zakarian, Mr. Ortin       | male                      | 27                        | 0                         | 0                         | 2670                      | 7,2250                    | C                         |\n",
       "| 1309 | 3                         | 0                         | Zimmerman, Mr. Leo        | male                      | 29                        | 0                         | 0                         | 315082                    | 7,8750                    | S                         |\n",
       "\n"
      ],
      "text/plain": [
       "     pclass survived name                      sex    age  sibsp parch ticket\n",
       "1304 3      0        Yousseff, Mr. Gerious     male        0     0     2627  \n",
       "1305 3      0        Zabour, Miss. Hileni      female 14,5 1     0     2665  \n",
       "1306 3      0        Zabour, Miss. Thamine     female      1     0     2665  \n",
       "1307 3      0        Zakarian, Mr. Mapriededer male   26,5 0     0     2656  \n",
       "1308 3      0        Zakarian, Mr. Ortin       male   27   0     0     2670  \n",
       "1309 3      0        Zimmerman, Mr. Leo        male   29   0     0     315082\n",
       "     fare    embarked\n",
       "1304 14,4583 C       \n",
       "1305 14,4542 C       \n",
       "1306 14,4542 C       \n",
       "1307 7,2250  C       \n",
       "1308 7,2250  C       \n",
       "1309 7,8750  S       "
      ]
     },
     "metadata": {},
     "output_type": "display_data"
    }
   ],
   "source": [
    "tail(data)"
   ]
  },
  {
   "cell_type": "markdown",
   "metadata": {},
   "source": [
    "4. Abrir con el editor al data.frame e inspeccionar el archivo."
   ]
  },
  {
   "cell_type": "markdown",
   "metadata": {},
   "source": [
    "5. Establecer el n ́umero de variables y de casos."
   ]
  },
  {
   "cell_type": "markdown",
   "metadata": {},
   "source": [
    "6. Realizar un attach de titanic."
   ]
  },
  {
   "cell_type": "markdown",
   "metadata": {},
   "source": [
    "7. Inspeccionar los nombres de las variables de titanic e identificar de qu ́e tipo de variable se trata cada una de ellas."
   ]
  },
  {
   "cell_type": "code",
   "execution_count": 107,
   "metadata": {
    "ExecuteTime": {
     "end_time": "2020-04-26T14:02:51.653503Z",
     "start_time": "2020-04-26T14:02:51.623Z"
    }
   },
   "outputs": [
    {
     "data": {
      "text/html": [
       "<dl class=dl-horizontal>\n",
       "\t<dt>pclass</dt>\n",
       "\t\t<dd>'integer'</dd>\n",
       "\t<dt>survived</dt>\n",
       "\t\t<dd>'integer'</dd>\n",
       "\t<dt>name</dt>\n",
       "\t\t<dd>'factor'</dd>\n",
       "\t<dt>sex</dt>\n",
       "\t\t<dd>'factor'</dd>\n",
       "\t<dt>age</dt>\n",
       "\t\t<dd>'factor'</dd>\n",
       "\t<dt>sibsp</dt>\n",
       "\t\t<dd>'integer'</dd>\n",
       "\t<dt>parch</dt>\n",
       "\t\t<dd>'integer'</dd>\n",
       "\t<dt>ticket</dt>\n",
       "\t\t<dd>'factor'</dd>\n",
       "\t<dt>fare</dt>\n",
       "\t\t<dd>'factor'</dd>\n",
       "\t<dt>embarked</dt>\n",
       "\t\t<dd>'factor'</dd>\n",
       "</dl>\n"
      ],
      "text/latex": [
       "\\begin{description*}\n",
       "\\item[pclass] 'integer'\n",
       "\\item[survived] 'integer'\n",
       "\\item[name] 'factor'\n",
       "\\item[sex] 'factor'\n",
       "\\item[age] 'factor'\n",
       "\\item[sibsp] 'integer'\n",
       "\\item[parch] 'integer'\n",
       "\\item[ticket] 'factor'\n",
       "\\item[fare] 'factor'\n",
       "\\item[embarked] 'factor'\n",
       "\\end{description*}\n"
      ],
      "text/markdown": [
       "pclass\n",
       ":   'integer'survived\n",
       ":   'integer'name\n",
       ":   'factor'sex\n",
       ":   'factor'age\n",
       ":   'factor'sibsp\n",
       ":   'integer'parch\n",
       ":   'integer'ticket\n",
       ":   'factor'fare\n",
       ":   'factor'embarked\n",
       ":   'factor'\n",
       "\n"
      ],
      "text/plain": [
       "   pclass  survived      name       sex       age     sibsp     parch    ticket \n",
       "\"integer\" \"integer\"  \"factor\"  \"factor\"  \"factor\" \"integer\" \"integer\"  \"factor\" \n",
       "     fare  embarked \n",
       " \"factor\"  \"factor\" "
      ]
     },
     "metadata": {},
     "output_type": "display_data"
    }
   ],
   "source": [
    "sapply(data, class)"
   ]
  },
  {
   "cell_type": "code",
   "execution_count": 120,
   "metadata": {
    "ExecuteTime": {
     "end_time": "2020-04-26T14:10:59.898611Z",
     "start_time": "2020-04-26T14:10:59.875Z"
    }
   },
   "outputs": [
    {
     "data": {
      "text/html": [
       "<table>\n",
       "<thead><tr><th scope=col>fare</th></tr></thead>\n",
       "<tbody>\n",
       "\t<tr><td>211,3375</td></tr>\n",
       "\t<tr><td>151,5500</td></tr>\n",
       "\t<tr><td>151,5500</td></tr>\n",
       "\t<tr><td>151,5500</td></tr>\n",
       "\t<tr><td>151,5500</td></tr>\n",
       "\t<tr><td>26,5500 </td></tr>\n",
       "</tbody>\n",
       "</table>\n"
      ],
      "text/latex": [
       "\\begin{tabular}{r|l}\n",
       " fare\\\\\n",
       "\\hline\n",
       "\t 211,3375\\\\\n",
       "\t 151,5500\\\\\n",
       "\t 151,5500\\\\\n",
       "\t 151,5500\\\\\n",
       "\t 151,5500\\\\\n",
       "\t 26,5500 \\\\\n",
       "\\end{tabular}\n"
      ],
      "text/markdown": [
       "\n",
       "| fare |\n",
       "|---|\n",
       "| 211,3375 |\n",
       "| 151,5500 |\n",
       "| 151,5500 |\n",
       "| 151,5500 |\n",
       "| 151,5500 |\n",
       "| 26,5500  |\n",
       "\n"
      ],
      "text/plain": [
       "  fare    \n",
       "1 211,3375\n",
       "2 151,5500\n",
       "3 151,5500\n",
       "4 151,5500\n",
       "5 151,5500\n",
       "6 26,5500 "
      ]
     },
     "metadata": {},
     "output_type": "display_data"
    }
   ],
   "source": [
    "head(data[,'fare', drop=F])"
   ]
  },
  {
   "cell_type": "markdown",
   "metadata": {
    "ExecuteTime": {
     "end_time": "2020-04-26T14:14:10.497702Z",
     "start_time": "2020-04-26T14:14:10.436Z"
    }
   },
   "source": [
    "### TODO: Consultar coma/punto"
   ]
  },
  {
   "cell_type": "code",
   "execution_count": 139,
   "metadata": {
    "ExecuteTime": {
     "end_time": "2020-04-26T14:15:29.355653Z",
     "start_time": "2020-04-26T14:15:29.333Z"
    }
   },
   "outputs": [
    {
     "data": {
      "text/html": [
       "<dl class=dl-horizontal>\n",
       "\t<dt>pclass</dt>\n",
       "\t\t<dd>'integer'</dd>\n",
       "\t<dt>survived</dt>\n",
       "\t\t<dd>'integer'</dd>\n",
       "\t<dt>name</dt>\n",
       "\t\t<dd>'factor'</dd>\n",
       "\t<dt>sex</dt>\n",
       "\t\t<dd>'factor'</dd>\n",
       "\t<dt>age</dt>\n",
       "\t\t<dd>'factor'</dd>\n",
       "\t<dt>sibsp</dt>\n",
       "\t\t<dd>'integer'</dd>\n",
       "\t<dt>parch</dt>\n",
       "\t\t<dd>'integer'</dd>\n",
       "\t<dt>ticket</dt>\n",
       "\t\t<dd>'factor'</dd>\n",
       "\t<dt>fare</dt>\n",
       "\t\t<dd>'numeric'</dd>\n",
       "\t<dt>embarked</dt>\n",
       "\t\t<dd>'factor'</dd>\n",
       "</dl>\n"
      ],
      "text/latex": [
       "\\begin{description*}\n",
       "\\item[pclass] 'integer'\n",
       "\\item[survived] 'integer'\n",
       "\\item[name] 'factor'\n",
       "\\item[sex] 'factor'\n",
       "\\item[age] 'factor'\n",
       "\\item[sibsp] 'integer'\n",
       "\\item[parch] 'integer'\n",
       "\\item[ticket] 'factor'\n",
       "\\item[fare] 'numeric'\n",
       "\\item[embarked] 'factor'\n",
       "\\end{description*}\n"
      ],
      "text/markdown": [
       "pclass\n",
       ":   'integer'survived\n",
       ":   'integer'name\n",
       ":   'factor'sex\n",
       ":   'factor'age\n",
       ":   'factor'sibsp\n",
       ":   'integer'parch\n",
       ":   'integer'ticket\n",
       ":   'factor'fare\n",
       ":   'numeric'embarked\n",
       ":   'factor'\n",
       "\n"
      ],
      "text/plain": [
       "   pclass  survived      name       sex       age     sibsp     parch    ticket \n",
       "\"integer\" \"integer\"  \"factor\"  \"factor\"  \"factor\" \"integer\" \"integer\"  \"factor\" \n",
       "     fare  embarked \n",
       "\"numeric\"  \"factor\" "
      ]
     },
     "metadata": {},
     "output_type": "display_data"
    }
   ],
   "source": [
    "# Convierto fare a numerica\n",
    "# Primero cambio \",\" por \".\"\n",
    "data$fare <- as.numeric(gsub(\",\", \".\", data[, 'fare']))\n",
    "sapply(data, class)"
   ]
  },
  {
   "cell_type": "markdown",
   "metadata": {},
   "source": [
    "8. Calcule la chance de sobrevivir siendo hombre. Calcule la chance de sobrevivir siendo mujer."
   ]
  },
  {
   "cell_type": "code",
   "execution_count": 140,
   "metadata": {
    "ExecuteTime": {
     "end_time": "2020-04-26T14:15:29.880824Z",
     "start_time": "2020-04-26T14:15:29.864Z"
    }
   },
   "outputs": [],
   "source": [
    "chance.as.male   <- mean(data[data$sex == 'male', 'survived'])\n",
    "chance.as.female <- mean(data[data$sex == 'female', 'survived'])"
   ]
  },
  {
   "cell_type": "code",
   "execution_count": 141,
   "metadata": {
    "ExecuteTime": {
     "end_time": "2020-04-26T14:15:30.272323Z",
     "start_time": "2020-04-26T14:15:30.253Z"
    }
   },
   "outputs": [
    {
     "data": {
      "text/html": [
       "<table>\n",
       "<thead><tr><th scope=col>chance.as.male</th><th scope=col>chance.as.female</th></tr></thead>\n",
       "<tbody>\n",
       "\t<tr><td>0.1909846</td><td>0.7274678</td></tr>\n",
       "</tbody>\n",
       "</table>\n"
      ],
      "text/latex": [
       "\\begin{tabular}{r|ll}\n",
       " chance.as.male & chance.as.female\\\\\n",
       "\\hline\n",
       "\t 0.1909846 & 0.7274678\\\\\n",
       "\\end{tabular}\n"
      ],
      "text/markdown": [
       "\n",
       "| chance.as.male | chance.as.female |\n",
       "|---|---|\n",
       "| 0.1909846 | 0.7274678 |\n",
       "\n"
      ],
      "text/plain": [
       "  chance.as.male chance.as.female\n",
       "1 0.1909846      0.7274678       "
      ]
     },
     "metadata": {},
     "output_type": "display_data"
    }
   ],
   "source": [
    "data.frame(chance.as.male, chance.as.female)"
   ]
  },
  {
   "cell_type": "markdown",
   "metadata": {},
   "source": [
    "9. Cree que el tipo de ticket del pasajero (clase de cabina) esta asociado con su supervivencia?"
   ]
  },
  {
   "cell_type": "code",
   "execution_count": 142,
   "metadata": {
    "ExecuteTime": {
     "end_time": "2020-04-26T14:15:31.295596Z",
     "start_time": "2020-04-26T14:15:31.118Z"
    }
   },
   "outputs": [
    {
     "data": {
      "image/png": "[encoded data removed]",
      "text/plain": [
       "plot without title"
      ]
     },
     "metadata": {},
     "output_type": "display_data"
    }
   ],
   "source": [
    "library(ggplot2)\n",
    "\n",
    "ggplot(, aes(x=data[data$survived==FALSE, 'embarked']), col=red) +\n",
    "    geom_bar()"
   ]
  },
  {
   "cell_type": "markdown",
   "metadata": {},
   "source": [
    "10. Estudie la distribuci ́on de las tarifas. Que observa? Le parece razonable suponer que la variable tarifa tenga distribuci ́on normal? Calcule la media y la mediana. Puede decidir de antemano qui ́en es mas grande si la media o la mediana?"
   ]
  },
  {
   "cell_type": "code",
   "execution_count": 152,
   "metadata": {
    "ExecuteTime": {
     "end_time": "2020-04-26T14:18:15.007697Z",
     "start_time": "2020-04-26T14:18:14.944Z"
    }
   },
   "outputs": [
    {
     "data": {
      "image/png": "[encoded data removed]",
      "text/plain": [
       "Plot with title “Histogram of data[data$fare != \"NA\", \"fare\"]”"
      ]
     },
     "metadata": {},
     "output_type": "display_data"
    }
   ],
   "source": [
    "hist(data[data$fare != \"NA\", 'fare'])"
   ]
  },
  {
   "cell_type": "code",
   "execution_count": 156,
   "metadata": {
    "ExecuteTime": {
     "end_time": "2020-04-26T14:21:04.024493Z",
     "start_time": "2020-04-26T14:21:03.988Z"
    }
   },
   "outputs": [
    {
     "data": {
      "text/html": [
       "33.2954792813456"
      ],
      "text/latex": [
       "33.2954792813456"
      ],
      "text/markdown": [
       "33.2954792813456"
      ],
      "text/plain": [
       "[1] 33.29548"
      ]
     },
     "metadata": {},
     "output_type": "display_data"
    },
    {
     "data": {
      "text/html": [
       "14.4542"
      ],
      "text/latex": [
       "14.4542"
      ],
      "text/markdown": [
       "14.4542"
      ],
      "text/plain": [
       "[1] 14.4542"
      ]
     },
     "metadata": {},
     "output_type": "display_data"
    }
   ],
   "source": [
    "mean(data[data$fare != \"NA\", 'fare'], na.rm=T)\n",
    "median(data[data$fare != \"NA\", 'fare'], na.rm=T)"
   ]
  },
  {
   "cell_type": "code",
   "execution_count": 157,
   "metadata": {
    "ExecuteTime": {
     "end_time": "2020-04-26T14:24:30.154807Z",
     "start_time": "2020-04-26T14:24:30.081Z"
    }
   },
   "outputs": [
    {
     "data": {
      "image/png": "[encoded data removed]",
      "text/plain": [
       "plot without title"
      ]
     },
     "metadata": {},
     "output_type": "display_data"
    }
   ],
   "source": [
    "boxplot(data[data$fare != \"NA\", 'fare'])"
   ]
  },
  {
   "cell_type": "markdown",
   "metadata": {},
   "source": [
    "11. Estudie la relaci ́on entre tarifa y clase y entre edad y clase."
   ]
  },
  {
   "cell_type": "code",
   "execution_count": 165,
   "metadata": {
    "ExecuteTime": {
     "end_time": "2020-04-26T14:28:14.963181Z",
     "start_time": "2020-04-26T14:28:14.894Z"
    }
   },
   "outputs": [
    {
     "data": {
      "image/png": "[encoded data removed]",
      "text/plain": [
       "plot without title"
      ]
     },
     "metadata": {},
     "output_type": "display_data"
    }
   ],
   "source": [
    "plot(data[data$fare != 'NA', c('embarked','fare')])"
   ]
  },
  {
   "cell_type": "code",
   "execution_count": 166,
   "metadata": {
    "ExecuteTime": {
     "end_time": "2020-04-26T14:28:43.755267Z",
     "start_time": "2020-04-26T14:28:43.688Z"
    }
   },
   "outputs": [
    {
     "data": {
      "image/png": "[encoded data removed]",
      "text/plain": [
       "Plot with title “”"
      ]
     },
     "metadata": {},
     "output_type": "display_data"
    }
   ],
   "source": [
    "plot(data[data$fare != 'NA', c('embarked','age')])"
   ]
  },
  {
   "cell_type": "markdown",
   "metadata": {},
   "source": [
    "12. Respecto a la relaci ́on entre la edad y la tarifa podemos pensar que las personas m ́as j ́ovenes\n",
    "ten ́ıan menos dinero y por ende compraron los tiquetes m ́as baratos. Puede confirmar esto en\n",
    "base a los datos?"
   ]
  },
  {
   "cell_type": "markdown",
   "metadata": {},
   "source": [
    "La idea de los puntos anteriores era explorar los datos usando boxplots, histogramas, scatterplots. Si\n",
    "le falt ́o usar alguno de estos gr ́aficos vuelva a empezar."
   ]
  },
  {
   "cell_type": "code",
   "execution_count": null,
   "metadata": {},
   "outputs": [],
   "source": []
  }
 ],
 "metadata": {
  "kernelspec": {
   "display_name": "R",
   "language": "R",
   "name": "ir"
  },
  "language_info": {
   "codemirror_mode": "r",
   "file_extension": ".r",
   "mimetype": "text/x-r-source",
   "name": "R",
   "pygments_lexer": "r",
   "version": "3.6.3"
  },
  "toc": {
   "base_numbering": 1,
   "nav_menu": {},
   "number_sections": true,
   "sideBar": true,
   "skip_h1_title": false,
   "title_cell": "Table of Contents",
   "title_sidebar": "Contents",
   "toc_cell": false,
   "toc_position": {},
   "toc_section_display": true,
   "toc_window_display": false
  }
 },
 "nbformat": 4,
 "nbformat_minor": 4
}
