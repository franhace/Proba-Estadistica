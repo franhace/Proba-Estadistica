{
 "cells": [
  {
   "cell_type": "markdown",
   "metadata": {},
   "source": [
    "# 1."
   ]
  },
  {
   "cell_type": "code",
   "execution_count": 27,
   "metadata": {
    "ExecuteTime": {
     "end_time": "2020-05-15T00:40:41.206453Z",
     "start_time": "2020-05-15T00:40:41.182Z"
    },
    "run_control": {
     "marked": false
    }
   },
   "outputs": [],
   "source": [
    "#1.\n",
    "\n",
    "#a)\n",
    "experimento <- function(m){\n",
    "    # Evento A: Sale cara\n",
    "    A <- 1\n",
    "    no.A <- 0\n",
    "    return(sample(c(A, no.A), size=m, replace=T))\n",
    "}"
   ]
  },
  {
   "cell_type": "code",
   "execution_count": 46,
   "metadata": {
    "ExecuteTime": {
     "end_time": "2020-05-15T00:41:49.215510Z",
     "start_time": "2020-05-15T00:41:49.194Z"
    }
   },
   "outputs": [],
   "source": [
    "m <- 10\n",
    "res.10 <- experimento(m)"
   ]
  },
  {
   "cell_type": "code",
   "execution_count": 47,
   "metadata": {
    "ExecuteTime": {
     "end_time": "2020-05-15T00:41:49.682637Z",
     "start_time": "2020-05-15T00:41:49.653Z"
    }
   },
   "outputs": [
    {
     "data": {
      "text/html": [
       "<strong>Frecuencia-relativa-de-A:</strong> 0.6"
      ],
      "text/latex": [
       "\\textbf{Frecuencia-relativa-de-A:} 0.6"
      ],
      "text/markdown": [
       "**Frecuencia-relativa-de-A:** 0.6"
      ],
      "text/plain": [
       "Frecuencia-relativa-de-A \n",
       "                     0.6 "
      ]
     },
     "metadata": {},
     "output_type": "display_data"
    }
   ],
   "source": [
    "prop <- mean(res.10)\n",
    "names(prop) <- 'Frecuencia-relativa-de-A'\n",
    "prop"
   ]
  },
  {
   "cell_type": "code",
   "execution_count": 48,
   "metadata": {
    "ExecuteTime": {
     "end_time": "2020-05-15T00:41:50.123326Z",
     "start_time": "2020-05-15T00:41:50.099Z"
    }
   },
   "outputs": [],
   "source": [
    "#b)\n",
    "m <- 100\n",
    "res.100 <- experimento(m)"
   ]
  },
  {
   "cell_type": "code",
   "execution_count": 49,
   "metadata": {
    "ExecuteTime": {
     "end_time": "2020-05-15T00:41:50.548817Z",
     "start_time": "2020-05-15T00:41:50.507Z"
    }
   },
   "outputs": [
    {
     "data": {
      "text/html": [
       "<strong>Frecuencia-relativa-de-A:</strong> 0.51"
      ],
      "text/latex": [
       "\\textbf{Frecuencia-relativa-de-A:} 0.51"
      ],
      "text/markdown": [
       "**Frecuencia-relativa-de-A:** 0.51"
      ],
      "text/plain": [
       "Frecuencia-relativa-de-A \n",
       "                    0.51 "
      ]
     },
     "metadata": {},
     "output_type": "display_data"
    }
   ],
   "source": [
    "prop <- mean(res.100)\n",
    "names(prop) <- 'Frecuencia-relativa-de-A'\n",
    "prop"
   ]
  },
  {
   "cell_type": "code",
   "execution_count": 111,
   "metadata": {
    "ExecuteTime": {
     "end_time": "2020-05-15T01:14:23.632801Z",
     "start_time": "2020-05-15T01:14:23.601Z"
    }
   },
   "outputs": [
    {
     "data": {
      "text/html": [
       "<ol class=list-inline>\n",
       "\t<li>10</li>\n",
       "\t<li>50</li>\n",
       "\t<li>100</li>\n",
       "\t<li>150</li>\n",
       "\t<li>200</li>\n",
       "\t<li>250</li>\n",
       "\t<li>300</li>\n",
       "\t<li>350</li>\n",
       "\t<li>400</li>\n",
       "\t<li>450</li>\n",
       "\t<li>500</li>\n",
       "\t<li>550</li>\n",
       "\t<li>600</li>\n",
       "\t<li>650</li>\n",
       "\t<li>700</li>\n",
       "\t<li>750</li>\n",
       "\t<li>800</li>\n",
       "\t<li>850</li>\n",
       "\t<li>900</li>\n",
       "\t<li>950</li>\n",
       "\t<li>1000</li>\n",
       "</ol>\n"
      ],
      "text/latex": [
       "\\begin{enumerate*}\n",
       "\\item 10\n",
       "\\item 50\n",
       "\\item 100\n",
       "\\item 150\n",
       "\\item 200\n",
       "\\item 250\n",
       "\\item 300\n",
       "\\item 350\n",
       "\\item 400\n",
       "\\item 450\n",
       "\\item 500\n",
       "\\item 550\n",
       "\\item 600\n",
       "\\item 650\n",
       "\\item 700\n",
       "\\item 750\n",
       "\\item 800\n",
       "\\item 850\n",
       "\\item 900\n",
       "\\item 950\n",
       "\\item 1000\n",
       "\\end{enumerate*}\n"
      ],
      "text/markdown": [
       "1. 10\n",
       "2. 50\n",
       "3. 100\n",
       "4. 150\n",
       "5. 200\n",
       "6. 250\n",
       "7. 300\n",
       "8. 350\n",
       "9. 400\n",
       "10. 450\n",
       "11. 500\n",
       "12. 550\n",
       "13. 600\n",
       "14. 650\n",
       "15. 700\n",
       "16. 750\n",
       "17. 800\n",
       "18. 850\n",
       "19. 900\n",
       "20. 950\n",
       "21. 1000\n",
       "\n",
       "\n"
      ],
      "text/plain": [
       " [1]   10   50  100  150  200  250  300  350  400  450  500  550  600  650  700\n",
       "[16]  750  800  850  900  950 1000"
      ]
     },
     "metadata": {},
     "output_type": "display_data"
    }
   ],
   "source": [
    "#c) Espero obtener un valor límite de 0.5, el promedio entre \"muchos\" ceros y unos en igual proporción.\n",
    "ms <- c(10, seq(50, 1000, by=50))\n",
    "ms"
   ]
  },
  {
   "cell_type": "code",
   "execution_count": 112,
   "metadata": {
    "ExecuteTime": {
     "end_time": "2020-05-15T01:14:23.775331Z",
     "start_time": "2020-05-15T01:14:23.740Z"
    }
   },
   "outputs": [],
   "source": [
    "frecuencias <- rep(NA, length(ms))\n",
    "df <- data.frame(ms, frecuencias)\n",
    "for(i in 1:length(ms)){\n",
    "    df$frecuencias[i] <- mean(experimento(ms[i]))\n",
    "}"
   ]
  },
  {
   "cell_type": "code",
   "execution_count": 113,
   "metadata": {
    "ExecuteTime": {
     "end_time": "2020-05-15T01:14:24.166767Z",
     "start_time": "2020-05-15T01:14:24.146Z"
    }
   },
   "outputs": [],
   "source": [
    "library('ggplot2')"
   ]
  },
  {
   "cell_type": "code",
   "execution_count": 104,
   "metadata": {
    "ExecuteTime": {
     "end_time": "2020-05-15T01:08:46.033618Z",
     "start_time": "2020-05-15T01:08:45.700Z"
    }
   },
   "outputs": [
    {
     "data": {
      "image/png": "[encoded data removed]",
      "text/plain": [
       "plot without title"
      ]
     },
     "metadata": {},
     "output_type": "display_data"
    }
   ],
   "source": [
    "ggplot(df, aes(ms, frecuencias, col=abs(frecuencias-0.5))) +\n",
    "    geom_hline(yintercept=0.5, linetype=\"dashed\", \n",
    "                color = \"red\", size=0.3) +\n",
    "    geom_point() +\n",
    "    scale_color_gradient(low=\"blue\", high=\"red\")"
   ]
  },
  {
   "cell_type": "code",
   "execution_count": 145,
   "metadata": {
    "ExecuteTime": {
     "end_time": "2020-05-15T01:49:43.139884Z",
     "start_time": "2020-05-15T01:49:43.082Z"
    },
    "run_control": {
     "marked": false
    }
   },
   "outputs": [],
   "source": [
    "#d\n",
    "veces <- 10\n",
    "frecuencias <- rep(NA, length(ms))\n",
    "df <- data.frame(ms)\n",
    "for(v in 1:veces){\n",
    "    for(i in 1:length(ms)){\n",
    "        frecuencias[i] <- mean(experimento(ms[i]))\n",
    "    }\n",
    "\n",
    "    \n",
    "    df <- cbind(df, name=frecuencias)\n",
    "    colnames(df)[v+1] <- paste('frec', v, sep='')\n",
    "}"
   ]
  },
  {
   "cell_type": "code",
   "execution_count": 147,
   "metadata": {
    "ExecuteTime": {
     "end_time": "2020-05-15T01:49:59.517133Z",
     "start_time": "2020-05-15T01:49:59.478Z"
    }
   },
   "outputs": [
    {
     "data": {
      "text/html": [
       "<table>\n",
       "<thead><tr><th scope=col>ms</th><th scope=col>frec1</th><th scope=col>frec2</th><th scope=col>frec3</th><th scope=col>frec4</th><th scope=col>frec5</th><th scope=col>frec6</th><th scope=col>frec7</th><th scope=col>frec8</th><th scope=col>frec9</th><th scope=col>frec10</th></tr></thead>\n",
       "<tbody>\n",
       "\t<tr><td> 10      </td><td>0.5000000</td><td>0.5000000</td><td>0.600    </td><td>0.3000000</td><td>0.500    </td><td>0.5000000</td><td>0.6000000</td><td>0.600    </td><td>0.5000000</td><td>0.3000000</td></tr>\n",
       "\t<tr><td> 50      </td><td>0.4800000</td><td>0.5200000</td><td>0.500    </td><td>0.5200000</td><td>0.440    </td><td>0.5400000</td><td>0.5400000</td><td>0.400    </td><td>0.4800000</td><td>0.3800000</td></tr>\n",
       "\t<tr><td>100      </td><td>0.5900000</td><td>0.4400000</td><td>0.400    </td><td>0.5500000</td><td>0.550    </td><td>0.4700000</td><td>0.4800000</td><td>0.500    </td><td>0.6000000</td><td>0.5200000</td></tr>\n",
       "\t<tr><td>150      </td><td>0.5733333</td><td>0.5266667</td><td>0.460    </td><td>0.4666667</td><td>0.520    </td><td>0.5066667</td><td>0.5466667</td><td>0.500    </td><td>0.5333333</td><td>0.4133333</td></tr>\n",
       "\t<tr><td>200      </td><td>0.4950000</td><td>0.5750000</td><td>0.490    </td><td>0.4850000</td><td>0.510    </td><td>0.5150000</td><td>0.4900000</td><td>0.430    </td><td>0.5550000</td><td>0.5750000</td></tr>\n",
       "\t<tr><td>250      </td><td>0.4800000</td><td>0.4560000</td><td>0.488    </td><td>0.4840000</td><td>0.512    </td><td>0.5480000</td><td>0.4960000</td><td>0.524    </td><td>0.4960000</td><td>0.5000000</td></tr>\n",
       "</tbody>\n",
       "</table>\n"
      ],
      "text/latex": [
       "\\begin{tabular}{r|lllllllllll}\n",
       " ms & frec1 & frec2 & frec3 & frec4 & frec5 & frec6 & frec7 & frec8 & frec9 & frec10\\\\\n",
       "\\hline\n",
       "\t  10       & 0.5000000 & 0.5000000 & 0.600     & 0.3000000 & 0.500     & 0.5000000 & 0.6000000 & 0.600     & 0.5000000 & 0.3000000\\\\\n",
       "\t  50       & 0.4800000 & 0.5200000 & 0.500     & 0.5200000 & 0.440     & 0.5400000 & 0.5400000 & 0.400     & 0.4800000 & 0.3800000\\\\\n",
       "\t 100       & 0.5900000 & 0.4400000 & 0.400     & 0.5500000 & 0.550     & 0.4700000 & 0.4800000 & 0.500     & 0.6000000 & 0.5200000\\\\\n",
       "\t 150       & 0.5733333 & 0.5266667 & 0.460     & 0.4666667 & 0.520     & 0.5066667 & 0.5466667 & 0.500     & 0.5333333 & 0.4133333\\\\\n",
       "\t 200       & 0.4950000 & 0.5750000 & 0.490     & 0.4850000 & 0.510     & 0.5150000 & 0.4900000 & 0.430     & 0.5550000 & 0.5750000\\\\\n",
       "\t 250       & 0.4800000 & 0.4560000 & 0.488     & 0.4840000 & 0.512     & 0.5480000 & 0.4960000 & 0.524     & 0.4960000 & 0.5000000\\\\\n",
       "\\end{tabular}\n"
      ],
      "text/markdown": [
       "\n",
       "| ms | frec1 | frec2 | frec3 | frec4 | frec5 | frec6 | frec7 | frec8 | frec9 | frec10 |\n",
       "|---|---|---|---|---|---|---|---|---|---|---|\n",
       "|  10       | 0.5000000 | 0.5000000 | 0.600     | 0.3000000 | 0.500     | 0.5000000 | 0.6000000 | 0.600     | 0.5000000 | 0.3000000 |\n",
       "|  50       | 0.4800000 | 0.5200000 | 0.500     | 0.5200000 | 0.440     | 0.5400000 | 0.5400000 | 0.400     | 0.4800000 | 0.3800000 |\n",
       "| 100       | 0.5900000 | 0.4400000 | 0.400     | 0.5500000 | 0.550     | 0.4700000 | 0.4800000 | 0.500     | 0.6000000 | 0.5200000 |\n",
       "| 150       | 0.5733333 | 0.5266667 | 0.460     | 0.4666667 | 0.520     | 0.5066667 | 0.5466667 | 0.500     | 0.5333333 | 0.4133333 |\n",
       "| 200       | 0.4950000 | 0.5750000 | 0.490     | 0.4850000 | 0.510     | 0.5150000 | 0.4900000 | 0.430     | 0.5550000 | 0.5750000 |\n",
       "| 250       | 0.4800000 | 0.4560000 | 0.488     | 0.4840000 | 0.512     | 0.5480000 | 0.4960000 | 0.524     | 0.4960000 | 0.5000000 |\n",
       "\n"
      ],
      "text/plain": [
       "  ms  frec1     frec2     frec3 frec4     frec5 frec6     frec7     frec8\n",
       "1  10 0.5000000 0.5000000 0.600 0.3000000 0.500 0.5000000 0.6000000 0.600\n",
       "2  50 0.4800000 0.5200000 0.500 0.5200000 0.440 0.5400000 0.5400000 0.400\n",
       "3 100 0.5900000 0.4400000 0.400 0.5500000 0.550 0.4700000 0.4800000 0.500\n",
       "4 150 0.5733333 0.5266667 0.460 0.4666667 0.520 0.5066667 0.5466667 0.500\n",
       "5 200 0.4950000 0.5750000 0.490 0.4850000 0.510 0.5150000 0.4900000 0.430\n",
       "6 250 0.4800000 0.4560000 0.488 0.4840000 0.512 0.5480000 0.4960000 0.524\n",
       "  frec9     frec10   \n",
       "1 0.5000000 0.3000000\n",
       "2 0.4800000 0.3800000\n",
       "3 0.6000000 0.5200000\n",
       "4 0.5333333 0.4133333\n",
       "5 0.5550000 0.5750000\n",
       "6 0.4960000 0.5000000"
      ]
     },
     "metadata": {},
     "output_type": "display_data"
    }
   ],
   "source": [
    "head(df)"
   ]
  },
  {
   "cell_type": "markdown",
   "metadata": {},
   "source": [
    "Junto todas las columnas de frecuencias en una sola (`frecuencia`), agregando otra columna con sus respectivas categorías (`rep`)"
   ]
  },
  {
   "cell_type": "code",
   "execution_count": 234,
   "metadata": {
    "ExecuteTime": {
     "end_time": "2020-05-15T04:54:28.525015Z",
     "start_time": "2020-05-15T04:51:43.654Z"
    }
   },
   "outputs": [],
   "source": [
    "#install.packages('tidyr')\n",
    "library(tidyr)"
   ]
  },
  {
   "cell_type": "code",
   "execution_count": 161,
   "metadata": {
    "ExecuteTime": {
     "end_time": "2020-05-15T01:59:10.980099Z",
     "start_time": "2020-05-15T01:59:10.928Z"
    }
   },
   "outputs": [
    {
     "data": {
      "text/html": [
       "<table>\n",
       "<thead><tr><th scope=col>ms</th><th scope=col>rep</th><th scope=col>frecuencia</th></tr></thead>\n",
       "<tbody>\n",
       "\t<tr><td> 10      </td><td>frec1    </td><td>0.5000000</td></tr>\n",
       "\t<tr><td> 50      </td><td>frec1    </td><td>0.4800000</td></tr>\n",
       "\t<tr><td>100      </td><td>frec1    </td><td>0.5900000</td></tr>\n",
       "\t<tr><td>150      </td><td>frec1    </td><td>0.5733333</td></tr>\n",
       "\t<tr><td>200      </td><td>frec1    </td><td>0.4950000</td></tr>\n",
       "\t<tr><td>250      </td><td>frec1    </td><td>0.4800000</td></tr>\n",
       "</tbody>\n",
       "</table>\n"
      ],
      "text/latex": [
       "\\begin{tabular}{r|lll}\n",
       " ms & rep & frecuencia\\\\\n",
       "\\hline\n",
       "\t  10       & frec1     & 0.5000000\\\\\n",
       "\t  50       & frec1     & 0.4800000\\\\\n",
       "\t 100       & frec1     & 0.5900000\\\\\n",
       "\t 150       & frec1     & 0.5733333\\\\\n",
       "\t 200       & frec1     & 0.4950000\\\\\n",
       "\t 250       & frec1     & 0.4800000\\\\\n",
       "\\end{tabular}\n"
      ],
      "text/markdown": [
       "\n",
       "| ms | rep | frecuencia |\n",
       "|---|---|---|\n",
       "|  10       | frec1     | 0.5000000 |\n",
       "|  50       | frec1     | 0.4800000 |\n",
       "| 100       | frec1     | 0.5900000 |\n",
       "| 150       | frec1     | 0.5733333 |\n",
       "| 200       | frec1     | 0.4950000 |\n",
       "| 250       | frec1     | 0.4800000 |\n",
       "\n"
      ],
      "text/plain": [
       "  ms  rep   frecuencia\n",
       "1  10 frec1 0.5000000 \n",
       "2  50 frec1 0.4800000 \n",
       "3 100 frec1 0.5900000 \n",
       "4 150 frec1 0.5733333 \n",
       "5 200 frec1 0.4950000 \n",
       "6 250 frec1 0.4800000 "
      ]
     },
     "metadata": {},
     "output_type": "display_data"
    },
    {
     "data": {
      "text/html": [
       "<table>\n",
       "<thead><tr><th></th><th scope=col>ms</th><th scope=col>rep</th><th scope=col>frecuencia</th></tr></thead>\n",
       "<tbody>\n",
       "\t<tr><th scope=row>205</th><td> 750     </td><td>frec10   </td><td>0.5146667</td></tr>\n",
       "\t<tr><th scope=row>206</th><td> 800     </td><td>frec10   </td><td>0.5087500</td></tr>\n",
       "\t<tr><th scope=row>207</th><td> 850     </td><td>frec10   </td><td>0.4929412</td></tr>\n",
       "\t<tr><th scope=row>208</th><td> 900     </td><td>frec10   </td><td>0.5088889</td></tr>\n",
       "\t<tr><th scope=row>209</th><td> 950     </td><td>frec10   </td><td>0.5136842</td></tr>\n",
       "\t<tr><th scope=row>210</th><td>1000     </td><td>frec10   </td><td>0.4970000</td></tr>\n",
       "</tbody>\n",
       "</table>\n"
      ],
      "text/latex": [
       "\\begin{tabular}{r|lll}\n",
       "  & ms & rep & frecuencia\\\\\n",
       "\\hline\n",
       "\t205 &  750      & frec10    & 0.5146667\\\\\n",
       "\t206 &  800      & frec10    & 0.5087500\\\\\n",
       "\t207 &  850      & frec10    & 0.4929412\\\\\n",
       "\t208 &  900      & frec10    & 0.5088889\\\\\n",
       "\t209 &  950      & frec10    & 0.5136842\\\\\n",
       "\t210 & 1000      & frec10    & 0.4970000\\\\\n",
       "\\end{tabular}\n"
      ],
      "text/markdown": [
       "\n",
       "| <!--/--> | ms | rep | frecuencia |\n",
       "|---|---|---|---|\n",
       "| 205 |  750      | frec10    | 0.5146667 |\n",
       "| 206 |  800      | frec10    | 0.5087500 |\n",
       "| 207 |  850      | frec10    | 0.4929412 |\n",
       "| 208 |  900      | frec10    | 0.5088889 |\n",
       "| 209 |  950      | frec10    | 0.5136842 |\n",
       "| 210 | 1000      | frec10    | 0.4970000 |\n",
       "\n"
      ],
      "text/plain": [
       "    ms   rep    frecuencia\n",
       "205  750 frec10 0.5146667 \n",
       "206  800 frec10 0.5087500 \n",
       "207  850 frec10 0.4929412 \n",
       "208  900 frec10 0.5088889 \n",
       "209  950 frec10 0.5136842 \n",
       "210 1000 frec10 0.4970000 "
      ]
     },
     "metadata": {},
     "output_type": "display_data"
    }
   ],
   "source": [
    "tall.df <- df %>% gather(key=rep, value=frecuencia, frec1:frec10)\n",
    "head(tall.df)\n",
    "tail(tall.df)"
   ]
  },
  {
   "cell_type": "code",
   "execution_count": 165,
   "metadata": {
    "ExecuteTime": {
     "end_time": "2020-05-15T02:00:08.848761Z",
     "start_time": "2020-05-15T02:00:08.116Z"
    }
   },
   "outputs": [
    {
     "data": {
      "image/png": "[encoded data removed]",
      "text/plain": [
       "plot without title"
      ]
     },
     "metadata": {},
     "output_type": "display_data"
    }
   ],
   "source": [
    "ggplot(tall.df, aes(ms, frecuencia, col=rep)) +\n",
    "    geom_hline(yintercept=0.5, linetype=\"dashed\", \n",
    "                color = \"red\", size=0.3) +\n",
    "    geom_point()"
   ]
  },
  {
   "cell_type": "markdown",
   "metadata": {},
   "source": [
    "Observamos como las diferentes repeticiones de experimentos \"se mezclan\" de una forma uniforme alrededor de la línea horizontal en 0.5, con mayor variabilidad para una cantidad de tiradas pequeña, y más concentrados a medida que m se acerca a 1000."
   ]
  },
  {
   "cell_type": "markdown",
   "metadata": {
    "ExecuteTime": {
     "end_time": "2020-05-15T02:04:44.661607Z",
     "start_time": "2020-05-15T02:04:44.620Z"
    }
   },
   "source": [
    "Usando colores relativos a la distancia de la media ideal (en el límite):"
   ]
  },
  {
   "cell_type": "code",
   "execution_count": 162,
   "metadata": {
    "ExecuteTime": {
     "end_time": "2020-05-15T01:59:27.992512Z",
     "start_time": "2020-05-15T01:59:27.503Z"
    }
   },
   "outputs": [
    {
     "data": {
      "image/png": "[encoded data removed]",
      "text/plain": [
       "plot without title"
      ]
     },
     "metadata": {},
     "output_type": "display_data"
    }
   ],
   "source": [
    "ggplot(tall.df, aes(ms, frecuencia, col=abs(frecuencia-0.5))) +\n",
    "    geom_hline(yintercept=0.5, linetype=\"dashed\", \n",
    "                color = \"red\", size=0.3) +\n",
    "    geom_point() +\n",
    "    scale_color_gradient(low=\"blue\", high=\"red\")"
   ]
  },
  {
   "cell_type": "markdown",
   "metadata": {},
   "source": [
    "Aprovechando que no estamos presos en Dinamarca sino delante de poderosisimos simuladores universales:"
   ]
  },
  {
   "cell_type": "code",
   "execution_count": 199,
   "metadata": {
    "ExecuteTime": {
     "end_time": "2020-05-15T02:15:43.518558Z",
     "start_time": "2020-05-15T02:15:39.297Z"
    }
   },
   "outputs": [],
   "source": [
    "#d\n",
    "veces <- 100\n",
    "ms <- c(seq(10,50,10), seq(50, 10000, by=50))\n",
    "frecuencias <- rep(NA, length(ms))\n",
    "df <- data.frame(ms)\n",
    "for(v in 1:veces){\n",
    "    for(i in 1:length(ms)){\n",
    "        frecuencias[i] <- mean(experimento(ms[i]))\n",
    "    }\n",
    "    df <- cbind(df, name=frecuencias)\n",
    "    colnames(df)[v+1] <- paste('frec', v, sep='')\n",
    "}"
   ]
  },
  {
   "cell_type": "code",
   "execution_count": 200,
   "metadata": {
    "ExecuteTime": {
     "end_time": "2020-05-15T02:15:44.423519Z",
     "start_time": "2020-05-15T02:15:41.162Z"
    }
   },
   "outputs": [],
   "source": [
    "tall.df <- df %>% gather(key = rep, value = frecuencia, frec1:frec10)"
   ]
  },
  {
   "cell_type": "code",
   "execution_count": 201,
   "metadata": {
    "ExecuteTime": {
     "end_time": "2020-05-15T02:15:45.473764Z",
     "start_time": "2020-05-15T02:15:41.398Z"
    }
   },
   "outputs": [
    {
     "data": {
      "image/png": "[encoded data removed]",
      "text/plain": [
       "plot without title"
      ]
     },
     "metadata": {},
     "output_type": "display_data"
    }
   ],
   "source": [
    "ggplot(tall.df, aes(ms, frecuencia, col=abs(frecuencia-0.5))) +\n",
    "    geom_hline(yintercept=0.5, linetype=\"dashed\", \n",
    "                color = \"red\", size=0.3) +\n",
    "    geom_point(size=0.2, alpha = 10/10) +\n",
    "    scale_color_gradient(low=\"blue\", high=\"red\")"
   ]
  },
  {
   "cell_type": "markdown",
   "metadata": {},
   "source": [
    "# 2."
   ]
  },
  {
   "cell_type": "code",
   "execution_count": 202,
   "metadata": {
    "ExecuteTime": {
     "end_time": "2020-05-15T02:19:58.092283Z",
     "start_time": "2020-05-15T02:19:58.019Z"
    }
   },
   "outputs": [],
   "source": [
    "#2.\n",
    "tabla <- data.frame(biologia=c(0.15, 0.10),fisica=c(0.06,0.12),\n",
    "                    computacion=c(0.12,0.15),quimica=c(0.05,0.10),\n",
    "                    matematica=c(0.10,0.05))\n",
    "rownames(tabla)<- c('femenino','masculino')"
   ]
  },
  {
   "cell_type": "code",
   "execution_count": 203,
   "metadata": {
    "ExecuteTime": {
     "end_time": "2020-05-15T02:20:02.597989Z",
     "start_time": "2020-05-15T02:20:02.566Z"
    }
   },
   "outputs": [
    {
     "data": {
      "text/html": [
       "<table>\n",
       "<thead><tr><th></th><th scope=col>biologia</th><th scope=col>fisica</th><th scope=col>computacion</th><th scope=col>quimica</th><th scope=col>matematica</th></tr></thead>\n",
       "<tbody>\n",
       "\t<tr><th scope=row>femenino</th><td>0.15</td><td>0.06</td><td>0.12</td><td>0.05</td><td>0.10</td></tr>\n",
       "\t<tr><th scope=row>masculino</th><td>0.10</td><td>0.12</td><td>0.15</td><td>0.10</td><td>0.05</td></tr>\n",
       "</tbody>\n",
       "</table>\n"
      ],
      "text/latex": [
       "\\begin{tabular}{r|lllll}\n",
       "  & biologia & fisica & computacion & quimica & matematica\\\\\n",
       "\\hline\n",
       "\tfemenino & 0.15 & 0.06 & 0.12 & 0.05 & 0.10\\\\\n",
       "\tmasculino & 0.10 & 0.12 & 0.15 & 0.10 & 0.05\\\\\n",
       "\\end{tabular}\n"
      ],
      "text/markdown": [
       "\n",
       "| <!--/--> | biologia | fisica | computacion | quimica | matematica |\n",
       "|---|---|---|---|---|---|\n",
       "| femenino | 0.15 | 0.06 | 0.12 | 0.05 | 0.10 |\n",
       "| masculino | 0.10 | 0.12 | 0.15 | 0.10 | 0.05 |\n",
       "\n"
      ],
      "text/plain": [
       "          biologia fisica computacion quimica matematica\n",
       "femenino  0.15     0.06   0.12        0.05    0.10      \n",
       "masculino 0.10     0.12   0.15        0.10    0.05      "
      ]
     },
     "metadata": {},
     "output_type": "display_data"
    }
   ],
   "source": [
    "tabla"
   ]
  },
  {
   "cell_type": "code",
   "execution_count": 208,
   "metadata": {
    "ExecuteTime": {
     "end_time": "2020-05-15T02:25:04.702998Z",
     "start_time": "2020-05-15T02:25:04.682Z"
    }
   },
   "outputs": [
    {
     "data": {
      "text/html": [
       "0.15"
      ],
      "text/latex": [
       "0.15"
      ],
      "text/markdown": [
       "0.15"
      ],
      "text/plain": [
       "[1] 0.15"
      ]
     },
     "metadata": {},
     "output_type": "display_data"
    }
   ],
   "source": [
    "#a) de g ́enero femenino y de Biolog ́ıa.\n",
    "p.a <- tabla['femenino', 'biologia']\n",
    "p.a "
   ]
  },
  {
   "cell_type": "code",
   "execution_count": 209,
   "metadata": {
    "ExecuteTime": {
     "end_time": "2020-05-15T02:25:05.621191Z",
     "start_time": "2020-05-15T02:25:05.073Z"
    }
   },
   "outputs": [
    {
     "data": {
      "text/html": [
       "0.48"
      ],
      "text/latex": [
       "0.48"
      ],
      "text/markdown": [
       "0.48"
      ],
      "text/plain": [
       "[1] 0.48"
      ]
     },
     "metadata": {},
     "output_type": "display_data"
    }
   ],
   "source": [
    "#b) de g ́enero fenenino.\n",
    "p.b <- sum(tabla['femenino',])\n",
    "p.b"
   ]
  },
  {
   "cell_type": "code",
   "execution_count": 210,
   "metadata": {
    "ExecuteTime": {
     "end_time": "2020-05-15T02:25:06.440778Z",
     "start_time": "2020-05-15T02:25:05.602Z"
    }
   },
   "outputs": [
    {
     "data": {
      "text/html": [
       "0.25"
      ],
      "text/latex": [
       "0.25"
      ],
      "text/markdown": [
       "0.25"
      ],
      "text/plain": [
       "[1] 0.25"
      ]
     },
     "metadata": {},
     "output_type": "display_data"
    }
   ],
   "source": [
    "#c) de Biolog ́ıa.\n",
    "p.c <- sum(tabla[,'biologia'])\n",
    "p.c"
   ]
  },
  {
   "cell_type": "code",
   "execution_count": 212,
   "metadata": {
    "ExecuteTime": {
     "end_time": "2020-05-15T02:26:58.985925Z",
     "start_time": "2020-05-15T02:26:58.959Z"
    }
   },
   "outputs": [
    {
     "data": {
      "text/html": [
       "0.58"
      ],
      "text/latex": [
       "0.58"
      ],
      "text/markdown": [
       "0.58"
      ],
      "text/plain": [
       "[1] 0.58"
      ]
     },
     "metadata": {},
     "output_type": "display_data"
    }
   ],
   "source": [
    "#d) de Biolog ́ıa o de g ́enero femenino.\n",
    "p.d <- p.c + p.b - p.a\n",
    "p.d"
   ]
  },
  {
   "cell_type": "code",
   "execution_count": 214,
   "metadata": {
    "ExecuteTime": {
     "end_time": "2020-05-15T02:27:13.436531Z",
     "start_time": "2020-05-15T02:27:13.409Z"
    }
   },
   "outputs": [
    {
     "data": {
      "text/html": [
       "0.3125"
      ],
      "text/latex": [
       "0.3125"
      ],
      "text/markdown": [
       "0.3125"
      ],
      "text/plain": [
       "[1] 0.3125"
      ]
     },
     "metadata": {},
     "output_type": "display_data"
    }
   ],
   "source": [
    "#e) de Biolog ́ıa sabiendo que es de g ́enero femenino.\n",
    "p.e <- tabla['femenino', 'biologia'] / sum(tabla['femenino',])\n",
    "p.e"
   ]
  },
  {
   "cell_type": "code",
   "execution_count": 218,
   "metadata": {
    "ExecuteTime": {
     "end_time": "2020-05-15T03:11:38.025174Z",
     "start_time": "2020-05-15T03:11:37.978Z"
    }
   },
   "outputs": [
    {
     "data": {
      "text/html": [
       "<strong>p.biologo:</strong> 0.25"
      ],
      "text/latex": [
       "\\textbf{p.biologo:} 0.25"
      ],
      "text/markdown": [
       "**p.biologo:** 0.25"
      ],
      "text/plain": [
       "p.biologo \n",
       "     0.25 "
      ]
     },
     "metadata": {},
     "output_type": "display_data"
    },
    {
     "data": {
      "text/html": [
       "<strong>p.fisico:</strong> 0.18"
      ],
      "text/latex": [
       "\\textbf{p.fisico:} 0.18"
      ],
      "text/markdown": [
       "**p.fisico:** 0.18"
      ],
      "text/plain": [
       "p.fisico \n",
       "    0.18 "
      ]
     },
     "metadata": {},
     "output_type": "display_data"
    }
   ],
   "source": [
    "#f ) ¿Es m ́as probable que un estudiante sea Bi ́ologo o F ́ısico?\n",
    "p.biologo <- sum(tabla[,'biologia'])\n",
    "p.fisico  <- sum(tabla[,'fisica'])\n",
    "names(p.biologo) <- 'p.biologo'\n",
    "names(p.fisico)  <- 'p.fisico'\n",
    "p.biologo\n",
    "p.fisico"
   ]
  },
  {
   "cell_type": "code",
   "execution_count": null,
   "metadata": {},
   "outputs": [],
   "source": [
    "Es más probable que sea biologo."
   ]
  },
  {
   "cell_type": "code",
   "execution_count": null,
   "metadata": {},
   "outputs": [],
   "source": []
  },
  {
   "cell_type": "code",
   "execution_count": 219,
   "metadata": {
    "ExecuteTime": {
     "end_time": "2020-05-15T03:30:41.576494Z",
     "start_time": "2020-05-15T03:30:41.465Z"
    }
   },
   "outputs": [
    {
     "data": {
      "text/html": [
       "<strong>p.masc.biologo:</strong> 0.192307692307692"
      ],
      "text/latex": [
       "\\textbf{p.masc.biologo:} 0.192307692307692"
      ],
      "text/markdown": [
       "**p.masc.biologo:** 0.192307692307692"
      ],
      "text/plain": [
       "p.masc.biologo \n",
       "     0.1923077 "
      ]
     },
     "metadata": {},
     "output_type": "display_data"
    },
    {
     "data": {
      "text/html": [
       "<strong>p.masc.fisico:</strong> 0.230769230769231"
      ],
      "text/latex": [
       "\\textbf{p.masc.fisico:} 0.230769230769231"
      ],
      "text/markdown": [
       "**p.masc.fisico:** 0.230769230769231"
      ],
      "text/plain": [
       "p.masc.fisico \n",
       "    0.2307692 "
      ]
     },
     "metadata": {},
     "output_type": "display_data"
    }
   ],
   "source": [
    "#g) Sabiendo que un estudiante es de g ́enero masculino, ¿es m ́as probable que un estudiante sea Bi ́ologo o F ́ısico?\n",
    "p.m.biologo <- tabla['masculino', 'biologia'] / sum(tabla['masculino',])\n",
    "p.m.fisico <- tabla['masculino', 'fisica'] / sum(tabla['masculino',])\n",
    "names(p.m.biologo) <- 'p.masc.biologo'\n",
    "names(p.m.fisico)  <- 'p.masc.fisico'\n",
    "p.m.biologo\n",
    "p.m.fisico"
   ]
  },
  {
   "cell_type": "markdown",
   "metadata": {},
   "source": [
    "Sabiendo que es de género masculino, es más probable que sea físico."
   ]
  },
  {
   "cell_type": "markdown",
   "metadata": {},
   "source": [
    "#h) Comparar los dos  ́ultimos items. Observar c ́omo la cosa cambia cuando tenemos informacion adicional....\n",
    "\n",
    "Es un punto bastante interesante, y a pesar de conocer el concepto de probabilidad condicional desde hace tiempo, todavía me sorprende e intrigan sus posibles interpretaciones y la relación con la ecuación que la caracteriza.\n",
    "\n",
    "$$\\large P(A|B) = \\frac{P(A \\cap B)}{P(B)}$$\n",
    "\n",
    "Una visualización que me gusta es ver la probabilidad de cada evento como un diagrama de Venn.\n",
    "\n",
    "Agregar información extra (\"*dado* $B$\") es restringirnos a un subespacio del espacio muestral, donde solo una fracción de los eventos totales son partícipes: los que están en la intersección $A\\cap B$.\n",
    "\n",
    "Pero al ser $B$ conocida, necesitamos reescalar la probabilidad de la interseccióna un espacio mayor, dividiéndolo por un número menor a 1: $P(B)$"
   ]
  },
  {
   "cell_type": "markdown",
   "metadata": {},
   "source": [
    "# 3."
   ]
  },
  {
   "cell_type": "code",
   "execution_count": 222,
   "metadata": {
    "ExecuteTime": {
     "end_time": "2020-05-15T03:55:47.927095Z",
     "start_time": "2020-05-15T03:55:47.898Z"
    }
   },
   "outputs": [],
   "source": [
    "#3.\n",
    "#intensidades\n",
    "p.baja  <- 0.2\n",
    "p.media <- 0.55\n",
    "p.alta  <- 1 - media - baja"
   ]
  },
  {
   "cell_type": "code",
   "execution_count": 221,
   "metadata": {
    "ExecuteTime": {
     "end_time": "2020-05-15T03:53:45.260500Z",
     "start_time": "2020-05-15T03:53:45.230Z"
    }
   },
   "outputs": [],
   "source": [
    "p.hiper.baja  <- 0.7\n",
    "p.hiper.media <- 0.5\n",
    "p.hiper.alta  <- 0.2"
   ]
  },
  {
   "cell_type": "markdown",
   "metadata": {
    "ExecuteTime": {
     "end_time": "2020-05-15T03:55:50.541046Z",
     "start_time": "2020-05-15T03:55:50.508Z"
    }
   },
   "source": [
    "#a)\n",
    "\n",
    "$H$: Es hipertenso\n",
    "\n",
    "$B/M/A$: Entrena con intensidad $B$aja/$M$edia/$A$lta\n",
    "\n",
    "### Teorema: Ley de Probabilidad Total:\n",
    "\n",
    "$$\\large P(H) = P(H|B) P(B) + P(H|M) P(M) + P(H|A) P(A)$$\n"
   ]
  },
  {
   "cell_type": "code",
   "execution_count": 224,
   "metadata": {
    "ExecuteTime": {
     "end_time": "2020-05-15T03:59:41.934104Z",
     "start_time": "2020-05-15T03:59:41.906Z"
    }
   },
   "outputs": [
    {
     "data": {
      "text/html": [
       "0.465"
      ],
      "text/latex": [
       "0.465"
      ],
      "text/markdown": [
       "0.465"
      ],
      "text/plain": [
       "[1] 0.465"
      ]
     },
     "metadata": {},
     "output_type": "display_data"
    }
   ],
   "source": [
    "p.hiper <- p.hiper.baja * p.baja + p.hiper.media * p.media + p.hiper.alta * p.alta\n",
    "p.hiper"
   ]
  },
  {
   "cell_type": "markdown",
   "metadata": {},
   "source": [
    "La probabilidad de que un adulto mayor elegido al azar sea hipertenso es de 46.5%"
   ]
  },
  {
   "cell_type": "markdown",
   "metadata": {},
   "source": [
    "#b\n",
    "### Teorema de Bayes\n",
    "\n",
    "$$\\large P(B|H) =  \\frac{P(H|B) P(B)}{P(H)}$$"
   ]
  },
  {
   "cell_type": "code",
   "execution_count": 226,
   "metadata": {
    "ExecuteTime": {
     "end_time": "2020-05-15T04:05:42.900906Z",
     "start_time": "2020-05-15T04:05:42.861Z"
    }
   },
   "outputs": [
    {
     "data": {
      "text/html": [
       "0.301075268817204"
      ],
      "text/latex": [
       "0.301075268817204"
      ],
      "text/markdown": [
       "0.301075268817204"
      ],
      "text/plain": [
       "[1] 0.3010753"
      ]
     },
     "metadata": {},
     "output_type": "display_data"
    }
   ],
   "source": [
    "p.baja.dado.hiper <- p.hiper.baja * p.baja / p.hiper\n",
    "p.baja.dado.hiper"
   ]
  },
  {
   "cell_type": "markdown",
   "metadata": {},
   "source": [
    "La probabilidad de que un adulto mayor practique actividad física con baja intensidad sabiendo que es hipertenso es del 30.11%"
   ]
  },
  {
   "cell_type": "markdown",
   "metadata": {
    "ExecuteTime": {
     "end_time": "2020-05-15T04:32:11.571768Z",
     "start_time": "2020-05-15T04:32:11.471Z"
    }
   },
   "source": [
    "# 4.\n",
    "\n",
    "$E$: El paciente está enfermo\n",
    "\n",
    "$+/-$: Resultado del test positivo/negativo\n",
    "\n",
    "Sensibilidad $P(+ | E) = 0.94$\n",
    "\n",
    "Especificidad $P(- | E^c) = 0.9$\n",
    "\n",
    "Usando Bayes\n",
    "$$P(E | +) = \\frac{P(+ | E)P(E)}{P(+)}$$\n",
    "\n",
    "Donde\n",
    "$P(+) = P(+|E)\\ P(E) + P(+|E^c) \\  P(E^c)$"
   ]
  },
  {
   "cell_type": "code",
   "execution_count": 228,
   "metadata": {
    "ExecuteTime": {
     "end_time": "2020-05-15T04:45:11.508299Z",
     "start_time": "2020-05-15T04:45:11.348Z"
    }
   },
   "outputs": [],
   "source": [
    "sensibilidad  <- 0.94\n",
    "especificidad <- 0.9\n",
    "prevalencia   <- 0.03\n",
    "\n",
    "p.E <- prevalencia\n",
    "p.posi.dado.E <- sensibilidad\n",
    "p.posi.dado.noE <- 1 - especificidad\n",
    "p.posi <- p.posi.dado.E * p.E + p.posi.dado.noE * (1-p.E)"
   ]
  },
  {
   "cell_type": "code",
   "execution_count": 230,
   "metadata": {
    "ExecuteTime": {
     "end_time": "2020-05-15T04:45:20.278857Z",
     "start_time": "2020-05-15T04:45:20.252Z"
    }
   },
   "outputs": [
    {
     "data": {
      "text/html": [
       "0.225239616613419"
      ],
      "text/latex": [
       "0.225239616613419"
      ],
      "text/markdown": [
       "0.225239616613419"
      ],
      "text/plain": [
       "[1] 0.2252396"
      ]
     },
     "metadata": {},
     "output_type": "display_data"
    }
   ],
   "source": [
    "p.E.dado.posi <- p.posi.dado.E * p.E / p.posi\n",
    "p.E.dado.posi"
   ]
  },
  {
   "cell_type": "markdown",
   "metadata": {},
   "source": [
    "La probabilidad de estar enfermo dado que el resultado del test dio positivo, es de 22.53%"
   ]
  },
  {
   "cell_type": "markdown",
   "metadata": {},
   "source": [
    "# 5.\n",
    "\n",
    "## a.\n",
    "\n",
    "$A \\perp B$\n",
    "\n",
    "$p(A \\cap B) = p(A).p(B)$"
   ]
  },
  {
   "cell_type": "code",
   "execution_count": 1,
   "metadata": {},
   "outputs": [],
   "source": [
    "# Datos\n",
    "p <- 0.72\n",
    "secue <- c(1,1,1,0,1)"
   ]
  },
  {
   "cell_type": "code",
   "execution_count": 6,
   "metadata": {},
   "outputs": [
    {
     "data": {
      "text/html": [
       "0.0752467968"
      ],
      "text/latex": [
       "0.0752467968"
      ],
      "text/markdown": [
       "0.0752467968"
      ],
      "text/plain": [
       "[1] 0.0752468"
      ]
     },
     "metadata": {},
     "output_type": "display_data"
    }
   ],
   "source": [
    "exitos <- sum(secue == 1)\n",
    "fracas <- sum(secue == 0)\n",
    "proba  <- p^exitos * (1-p)^fracas\n",
    "proba"
   ]
  },
  {
   "cell_type": "markdown",
   "metadata": {},
   "source": [
    "## b."
   ]
  },
  {
   "cell_type": "code",
   "execution_count": 83,
   "metadata": {},
   "outputs": [],
   "source": [
    "n <- 5\n",
    "p <- 0.8"
   ]
  },
  {
   "cell_type": "code",
   "execution_count": 84,
   "metadata": {},
   "outputs": [],
   "source": [
    "toBin <- function(num, long){\n",
    "    d <- num\n",
    "    r <- num\n",
    "    binary <- c()\n",
    "    while(d > 1){\n",
    "        r <- d%%2\n",
    "        d <- d%/%2\n",
    "        binary <- c(binary, r)\n",
    "    }\n",
    "    binary <- c(binary, d)\n",
    "    # Relleno con ceros\n",
    "    while(length(binary)<long){\n",
    "        binary <- c(binary, 0)\n",
    "    }\n",
    "    binary <- rev(binary)\n",
    "   \n",
    "    return(binary)\n",
    "}"
   ]
  },
  {
   "cell_type": "code",
   "execution_count": 85,
   "metadata": {},
   "outputs": [
    {
     "data": {
      "text/html": [
       "<table>\n",
       "<thead><tr><th scope=col>e1</th><th scope=col>e2</th><th scope=col>e3</th><th scope=col>e4</th><th scope=col>e5</th></tr></thead>\n",
       "<tbody>\n",
       "\t<tr><td>0</td><td>0</td><td>0</td><td>0</td><td>0</td></tr>\n",
       "\t<tr><td>0</td><td>0</td><td>0</td><td>0</td><td>1</td></tr>\n",
       "\t<tr><td>0</td><td>0</td><td>0</td><td>1</td><td>0</td></tr>\n",
       "\t<tr><td>0</td><td>0</td><td>0</td><td>1</td><td>1</td></tr>\n",
       "\t<tr><td>0</td><td>0</td><td>1</td><td>0</td><td>0</td></tr>\n",
       "\t<tr><td>0</td><td>0</td><td>1</td><td>0</td><td>1</td></tr>\n",
       "\t<tr><td>0</td><td>0</td><td>1</td><td>1</td><td>0</td></tr>\n",
       "\t<tr><td>0</td><td>0</td><td>1</td><td>1</td><td>1</td></tr>\n",
       "\t<tr><td>0</td><td>1</td><td>0</td><td>0</td><td>0</td></tr>\n",
       "\t<tr><td>0</td><td>1</td><td>0</td><td>0</td><td>1</td></tr>\n",
       "\t<tr><td>0</td><td>1</td><td>0</td><td>1</td><td>0</td></tr>\n",
       "\t<tr><td>0</td><td>1</td><td>0</td><td>1</td><td>1</td></tr>\n",
       "\t<tr><td>0</td><td>1</td><td>1</td><td>0</td><td>0</td></tr>\n",
       "\t<tr><td>0</td><td>1</td><td>1</td><td>0</td><td>1</td></tr>\n",
       "\t<tr><td>0</td><td>1</td><td>1</td><td>1</td><td>0</td></tr>\n",
       "\t<tr><td>0</td><td>1</td><td>1</td><td>1</td><td>1</td></tr>\n",
       "\t<tr><td>1</td><td>0</td><td>0</td><td>0</td><td>0</td></tr>\n",
       "\t<tr><td>1</td><td>0</td><td>0</td><td>0</td><td>1</td></tr>\n",
       "\t<tr><td>1</td><td>0</td><td>0</td><td>1</td><td>0</td></tr>\n",
       "\t<tr><td>1</td><td>0</td><td>0</td><td>1</td><td>1</td></tr>\n",
       "\t<tr><td>1</td><td>0</td><td>1</td><td>0</td><td>0</td></tr>\n",
       "\t<tr><td>1</td><td>0</td><td>1</td><td>0</td><td>1</td></tr>\n",
       "\t<tr><td>1</td><td>0</td><td>1</td><td>1</td><td>0</td></tr>\n",
       "\t<tr><td>1</td><td>0</td><td>1</td><td>1</td><td>1</td></tr>\n",
       "\t<tr><td>1</td><td>1</td><td>0</td><td>0</td><td>0</td></tr>\n",
       "\t<tr><td>1</td><td>1</td><td>0</td><td>0</td><td>1</td></tr>\n",
       "\t<tr><td>1</td><td>1</td><td>0</td><td>1</td><td>0</td></tr>\n",
       "\t<tr><td>1</td><td>1</td><td>0</td><td>1</td><td>1</td></tr>\n",
       "\t<tr><td>1</td><td>1</td><td>1</td><td>0</td><td>0</td></tr>\n",
       "\t<tr><td>1</td><td>1</td><td>1</td><td>0</td><td>1</td></tr>\n",
       "\t<tr><td>1</td><td>1</td><td>1</td><td>1</td><td>0</td></tr>\n",
       "\t<tr><td>1</td><td>1</td><td>1</td><td>1</td><td>1</td></tr>\n",
       "</tbody>\n",
       "</table>\n"
      ],
      "text/latex": [
       "\\begin{tabular}{r|lllll}\n",
       " e1 & e2 & e3 & e4 & e5\\\\\n",
       "\\hline\n",
       "\t 0 & 0 & 0 & 0 & 0\\\\\n",
       "\t 0 & 0 & 0 & 0 & 1\\\\\n",
       "\t 0 & 0 & 0 & 1 & 0\\\\\n",
       "\t 0 & 0 & 0 & 1 & 1\\\\\n",
       "\t 0 & 0 & 1 & 0 & 0\\\\\n",
       "\t 0 & 0 & 1 & 0 & 1\\\\\n",
       "\t 0 & 0 & 1 & 1 & 0\\\\\n",
       "\t 0 & 0 & 1 & 1 & 1\\\\\n",
       "\t 0 & 1 & 0 & 0 & 0\\\\\n",
       "\t 0 & 1 & 0 & 0 & 1\\\\\n",
       "\t 0 & 1 & 0 & 1 & 0\\\\\n",
       "\t 0 & 1 & 0 & 1 & 1\\\\\n",
       "\t 0 & 1 & 1 & 0 & 0\\\\\n",
       "\t 0 & 1 & 1 & 0 & 1\\\\\n",
       "\t 0 & 1 & 1 & 1 & 0\\\\\n",
       "\t 0 & 1 & 1 & 1 & 1\\\\\n",
       "\t 1 & 0 & 0 & 0 & 0\\\\\n",
       "\t 1 & 0 & 0 & 0 & 1\\\\\n",
       "\t 1 & 0 & 0 & 1 & 0\\\\\n",
       "\t 1 & 0 & 0 & 1 & 1\\\\\n",
       "\t 1 & 0 & 1 & 0 & 0\\\\\n",
       "\t 1 & 0 & 1 & 0 & 1\\\\\n",
       "\t 1 & 0 & 1 & 1 & 0\\\\\n",
       "\t 1 & 0 & 1 & 1 & 1\\\\\n",
       "\t 1 & 1 & 0 & 0 & 0\\\\\n",
       "\t 1 & 1 & 0 & 0 & 1\\\\\n",
       "\t 1 & 1 & 0 & 1 & 0\\\\\n",
       "\t 1 & 1 & 0 & 1 & 1\\\\\n",
       "\t 1 & 1 & 1 & 0 & 0\\\\\n",
       "\t 1 & 1 & 1 & 0 & 1\\\\\n",
       "\t 1 & 1 & 1 & 1 & 0\\\\\n",
       "\t 1 & 1 & 1 & 1 & 1\\\\\n",
       "\\end{tabular}\n"
      ],
      "text/markdown": [
       "\n",
       "| e1 | e2 | e3 | e4 | e5 |\n",
       "|---|---|---|---|---|\n",
       "| 0 | 0 | 0 | 0 | 0 |\n",
       "| 0 | 0 | 0 | 0 | 1 |\n",
       "| 0 | 0 | 0 | 1 | 0 |\n",
       "| 0 | 0 | 0 | 1 | 1 |\n",
       "| 0 | 0 | 1 | 0 | 0 |\n",
       "| 0 | 0 | 1 | 0 | 1 |\n",
       "| 0 | 0 | 1 | 1 | 0 |\n",
       "| 0 | 0 | 1 | 1 | 1 |\n",
       "| 0 | 1 | 0 | 0 | 0 |\n",
       "| 0 | 1 | 0 | 0 | 1 |\n",
       "| 0 | 1 | 0 | 1 | 0 |\n",
       "| 0 | 1 | 0 | 1 | 1 |\n",
       "| 0 | 1 | 1 | 0 | 0 |\n",
       "| 0 | 1 | 1 | 0 | 1 |\n",
       "| 0 | 1 | 1 | 1 | 0 |\n",
       "| 0 | 1 | 1 | 1 | 1 |\n",
       "| 1 | 0 | 0 | 0 | 0 |\n",
       "| 1 | 0 | 0 | 0 | 1 |\n",
       "| 1 | 0 | 0 | 1 | 0 |\n",
       "| 1 | 0 | 0 | 1 | 1 |\n",
       "| 1 | 0 | 1 | 0 | 0 |\n",
       "| 1 | 0 | 1 | 0 | 1 |\n",
       "| 1 | 0 | 1 | 1 | 0 |\n",
       "| 1 | 0 | 1 | 1 | 1 |\n",
       "| 1 | 1 | 0 | 0 | 0 |\n",
       "| 1 | 1 | 0 | 0 | 1 |\n",
       "| 1 | 1 | 0 | 1 | 0 |\n",
       "| 1 | 1 | 0 | 1 | 1 |\n",
       "| 1 | 1 | 1 | 0 | 0 |\n",
       "| 1 | 1 | 1 | 0 | 1 |\n",
       "| 1 | 1 | 1 | 1 | 0 |\n",
       "| 1 | 1 | 1 | 1 | 1 |\n",
       "\n"
      ],
      "text/plain": [
       "   e1 e2 e3 e4 e5\n",
       "1  0  0  0  0  0 \n",
       "2  0  0  0  0  1 \n",
       "3  0  0  0  1  0 \n",
       "4  0  0  0  1  1 \n",
       "5  0  0  1  0  0 \n",
       "6  0  0  1  0  1 \n",
       "7  0  0  1  1  0 \n",
       "8  0  0  1  1  1 \n",
       "9  0  1  0  0  0 \n",
       "10 0  1  0  0  1 \n",
       "11 0  1  0  1  0 \n",
       "12 0  1  0  1  1 \n",
       "13 0  1  1  0  0 \n",
       "14 0  1  1  0  1 \n",
       "15 0  1  1  1  0 \n",
       "16 0  1  1  1  1 \n",
       "17 1  0  0  0  0 \n",
       "18 1  0  0  0  1 \n",
       "19 1  0  0  1  0 \n",
       "20 1  0  0  1  1 \n",
       "21 1  0  1  0  0 \n",
       "22 1  0  1  0  1 \n",
       "23 1  0  1  1  0 \n",
       "24 1  0  1  1  1 \n",
       "25 1  1  0  0  0 \n",
       "26 1  1  0  0  1 \n",
       "27 1  1  0  1  0 \n",
       "28 1  1  0  1  1 \n",
       "29 1  1  1  0  0 \n",
       "30 1  1  1  0  1 \n",
       "31 1  1  1  1  0 \n",
       "32 1  1  1  1  1 "
      ]
     },
     "metadata": {},
     "output_type": "display_data"
    }
   ],
   "source": [
    "espacio <- data.frame(e1=rep(0, 2^n), e2=rep(0, 2^n), e3=rep(0, 2^n), e4=rep(0, 2^n), e5=rep(0, 2^n))\n",
    "for(i in 1:2^n){\n",
    "    espacio[i,] <- toBin(i-1, n)\n",
    "}\n",
    "espacio"
   ]
  },
  {
   "cell_type": "code",
   "execution_count": 86,
   "metadata": {},
   "outputs": [
    {
     "data": {
      "text/html": [
       "32"
      ],
      "text/latex": [
       "32"
      ],
      "text/markdown": [
       "32"
      ],
      "text/plain": [
       "[1] 32"
      ]
     },
     "metadata": {},
     "output_type": "display_data"
    }
   ],
   "source": [
    "length(espacio[,1])"
   ]
  },
  {
   "cell_type": "markdown",
   "metadata": {},
   "source": [
    "### b.2)"
   ]
  },
  {
   "cell_type": "code",
   "execution_count": 87,
   "metadata": {},
   "outputs": [],
   "source": [
    "espacio <- cbind(espacio, proba=rep(NA, 2^n))"
   ]
  },
  {
   "cell_type": "code",
   "execution_count": 90,
   "metadata": {},
   "outputs": [
    {
     "data": {
      "text/html": [
       "<table>\n",
       "<thead><tr><th scope=col>e1</th><th scope=col>e2</th><th scope=col>e3</th><th scope=col>e4</th><th scope=col>e5</th><th scope=col>proba</th></tr></thead>\n",
       "<tbody>\n",
       "\t<tr><td>0      </td><td>0      </td><td>0      </td><td>0      </td><td>0      </td><td>0.00032</td></tr>\n",
       "\t<tr><td>0      </td><td>0      </td><td>0      </td><td>0      </td><td>1      </td><td>0.00128</td></tr>\n",
       "\t<tr><td>0      </td><td>0      </td><td>0      </td><td>1      </td><td>0      </td><td>0.00128</td></tr>\n",
       "\t<tr><td>0      </td><td>0      </td><td>0      </td><td>1      </td><td>1      </td><td>0.00512</td></tr>\n",
       "\t<tr><td>0      </td><td>0      </td><td>1      </td><td>0      </td><td>0      </td><td>0.00128</td></tr>\n",
       "\t<tr><td>0      </td><td>0      </td><td>1      </td><td>0      </td><td>1      </td><td>0.00512</td></tr>\n",
       "\t<tr><td>0      </td><td>0      </td><td>1      </td><td>1      </td><td>0      </td><td>0.00512</td></tr>\n",
       "\t<tr><td>0      </td><td>0      </td><td>1      </td><td>1      </td><td>1      </td><td>0.02048</td></tr>\n",
       "\t<tr><td>0      </td><td>1      </td><td>0      </td><td>0      </td><td>0      </td><td>0.00128</td></tr>\n",
       "\t<tr><td>0      </td><td>1      </td><td>0      </td><td>0      </td><td>1      </td><td>0.00512</td></tr>\n",
       "\t<tr><td>0      </td><td>1      </td><td>0      </td><td>1      </td><td>0      </td><td>0.00512</td></tr>\n",
       "\t<tr><td>0      </td><td>1      </td><td>0      </td><td>1      </td><td>1      </td><td>0.02048</td></tr>\n",
       "\t<tr><td>0      </td><td>1      </td><td>1      </td><td>0      </td><td>0      </td><td>0.00512</td></tr>\n",
       "\t<tr><td>0      </td><td>1      </td><td>1      </td><td>0      </td><td>1      </td><td>0.02048</td></tr>\n",
       "\t<tr><td>0      </td><td>1      </td><td>1      </td><td>1      </td><td>0      </td><td>0.02048</td></tr>\n",
       "\t<tr><td>0      </td><td>1      </td><td>1      </td><td>1      </td><td>1      </td><td>0.08192</td></tr>\n",
       "\t<tr><td>1      </td><td>0      </td><td>0      </td><td>0      </td><td>0      </td><td>0.00128</td></tr>\n",
       "\t<tr><td>1      </td><td>0      </td><td>0      </td><td>0      </td><td>1      </td><td>0.00512</td></tr>\n",
       "\t<tr><td>1      </td><td>0      </td><td>0      </td><td>1      </td><td>0      </td><td>0.00512</td></tr>\n",
       "\t<tr><td>1      </td><td>0      </td><td>0      </td><td>1      </td><td>1      </td><td>0.02048</td></tr>\n",
       "\t<tr><td>1      </td><td>0      </td><td>1      </td><td>0      </td><td>0      </td><td>0.00512</td></tr>\n",
       "\t<tr><td>1      </td><td>0      </td><td>1      </td><td>0      </td><td>1      </td><td>0.02048</td></tr>\n",
       "\t<tr><td>1      </td><td>0      </td><td>1      </td><td>1      </td><td>0      </td><td>0.02048</td></tr>\n",
       "\t<tr><td>1      </td><td>0      </td><td>1      </td><td>1      </td><td>1      </td><td>0.08192</td></tr>\n",
       "\t<tr><td>1      </td><td>1      </td><td>0      </td><td>0      </td><td>0      </td><td>0.00512</td></tr>\n",
       "\t<tr><td>1      </td><td>1      </td><td>0      </td><td>0      </td><td>1      </td><td>0.02048</td></tr>\n",
       "\t<tr><td>1      </td><td>1      </td><td>0      </td><td>1      </td><td>0      </td><td>0.02048</td></tr>\n",
       "\t<tr><td>1      </td><td>1      </td><td>0      </td><td>1      </td><td>1      </td><td>0.08192</td></tr>\n",
       "\t<tr><td>1      </td><td>1      </td><td>1      </td><td>0      </td><td>0      </td><td>0.02048</td></tr>\n",
       "\t<tr><td>1      </td><td>1      </td><td>1      </td><td>0      </td><td>1      </td><td>0.08192</td></tr>\n",
       "\t<tr><td>1      </td><td>1      </td><td>1      </td><td>1      </td><td>0      </td><td>0.08192</td></tr>\n",
       "\t<tr><td>1      </td><td>1      </td><td>1      </td><td>1      </td><td>1      </td><td>0.32768</td></tr>\n",
       "</tbody>\n",
       "</table>\n"
      ],
      "text/latex": [
       "\\begin{tabular}{r|llllll}\n",
       " e1 & e2 & e3 & e4 & e5 & proba\\\\\n",
       "\\hline\n",
       "\t 0       & 0       & 0       & 0       & 0       & 0.00032\\\\\n",
       "\t 0       & 0       & 0       & 0       & 1       & 0.00128\\\\\n",
       "\t 0       & 0       & 0       & 1       & 0       & 0.00128\\\\\n",
       "\t 0       & 0       & 0       & 1       & 1       & 0.00512\\\\\n",
       "\t 0       & 0       & 1       & 0       & 0       & 0.00128\\\\\n",
       "\t 0       & 0       & 1       & 0       & 1       & 0.00512\\\\\n",
       "\t 0       & 0       & 1       & 1       & 0       & 0.00512\\\\\n",
       "\t 0       & 0       & 1       & 1       & 1       & 0.02048\\\\\n",
       "\t 0       & 1       & 0       & 0       & 0       & 0.00128\\\\\n",
       "\t 0       & 1       & 0       & 0       & 1       & 0.00512\\\\\n",
       "\t 0       & 1       & 0       & 1       & 0       & 0.00512\\\\\n",
       "\t 0       & 1       & 0       & 1       & 1       & 0.02048\\\\\n",
       "\t 0       & 1       & 1       & 0       & 0       & 0.00512\\\\\n",
       "\t 0       & 1       & 1       & 0       & 1       & 0.02048\\\\\n",
       "\t 0       & 1       & 1       & 1       & 0       & 0.02048\\\\\n",
       "\t 0       & 1       & 1       & 1       & 1       & 0.08192\\\\\n",
       "\t 1       & 0       & 0       & 0       & 0       & 0.00128\\\\\n",
       "\t 1       & 0       & 0       & 0       & 1       & 0.00512\\\\\n",
       "\t 1       & 0       & 0       & 1       & 0       & 0.00512\\\\\n",
       "\t 1       & 0       & 0       & 1       & 1       & 0.02048\\\\\n",
       "\t 1       & 0       & 1       & 0       & 0       & 0.00512\\\\\n",
       "\t 1       & 0       & 1       & 0       & 1       & 0.02048\\\\\n",
       "\t 1       & 0       & 1       & 1       & 0       & 0.02048\\\\\n",
       "\t 1       & 0       & 1       & 1       & 1       & 0.08192\\\\\n",
       "\t 1       & 1       & 0       & 0       & 0       & 0.00512\\\\\n",
       "\t 1       & 1       & 0       & 0       & 1       & 0.02048\\\\\n",
       "\t 1       & 1       & 0       & 1       & 0       & 0.02048\\\\\n",
       "\t 1       & 1       & 0       & 1       & 1       & 0.08192\\\\\n",
       "\t 1       & 1       & 1       & 0       & 0       & 0.02048\\\\\n",
       "\t 1       & 1       & 1       & 0       & 1       & 0.08192\\\\\n",
       "\t 1       & 1       & 1       & 1       & 0       & 0.08192\\\\\n",
       "\t 1       & 1       & 1       & 1       & 1       & 0.32768\\\\\n",
       "\\end{tabular}\n"
      ],
      "text/markdown": [
       "\n",
       "| e1 | e2 | e3 | e4 | e5 | proba |\n",
       "|---|---|---|---|---|---|\n",
       "| 0       | 0       | 0       | 0       | 0       | 0.00032 |\n",
       "| 0       | 0       | 0       | 0       | 1       | 0.00128 |\n",
       "| 0       | 0       | 0       | 1       | 0       | 0.00128 |\n",
       "| 0       | 0       | 0       | 1       | 1       | 0.00512 |\n",
       "| 0       | 0       | 1       | 0       | 0       | 0.00128 |\n",
       "| 0       | 0       | 1       | 0       | 1       | 0.00512 |\n",
       "| 0       | 0       | 1       | 1       | 0       | 0.00512 |\n",
       "| 0       | 0       | 1       | 1       | 1       | 0.02048 |\n",
       "| 0       | 1       | 0       | 0       | 0       | 0.00128 |\n",
       "| 0       | 1       | 0       | 0       | 1       | 0.00512 |\n",
       "| 0       | 1       | 0       | 1       | 0       | 0.00512 |\n",
       "| 0       | 1       | 0       | 1       | 1       | 0.02048 |\n",
       "| 0       | 1       | 1       | 0       | 0       | 0.00512 |\n",
       "| 0       | 1       | 1       | 0       | 1       | 0.02048 |\n",
       "| 0       | 1       | 1       | 1       | 0       | 0.02048 |\n",
       "| 0       | 1       | 1       | 1       | 1       | 0.08192 |\n",
       "| 1       | 0       | 0       | 0       | 0       | 0.00128 |\n",
       "| 1       | 0       | 0       | 0       | 1       | 0.00512 |\n",
       "| 1       | 0       | 0       | 1       | 0       | 0.00512 |\n",
       "| 1       | 0       | 0       | 1       | 1       | 0.02048 |\n",
       "| 1       | 0       | 1       | 0       | 0       | 0.00512 |\n",
       "| 1       | 0       | 1       | 0       | 1       | 0.02048 |\n",
       "| 1       | 0       | 1       | 1       | 0       | 0.02048 |\n",
       "| 1       | 0       | 1       | 1       | 1       | 0.08192 |\n",
       "| 1       | 1       | 0       | 0       | 0       | 0.00512 |\n",
       "| 1       | 1       | 0       | 0       | 1       | 0.02048 |\n",
       "| 1       | 1       | 0       | 1       | 0       | 0.02048 |\n",
       "| 1       | 1       | 0       | 1       | 1       | 0.08192 |\n",
       "| 1       | 1       | 1       | 0       | 0       | 0.02048 |\n",
       "| 1       | 1       | 1       | 0       | 1       | 0.08192 |\n",
       "| 1       | 1       | 1       | 1       | 0       | 0.08192 |\n",
       "| 1       | 1       | 1       | 1       | 1       | 0.32768 |\n",
       "\n"
      ],
      "text/plain": [
       "   e1 e2 e3 e4 e5 proba  \n",
       "1  0  0  0  0  0  0.00032\n",
       "2  0  0  0  0  1  0.00128\n",
       "3  0  0  0  1  0  0.00128\n",
       "4  0  0  0  1  1  0.00512\n",
       "5  0  0  1  0  0  0.00128\n",
       "6  0  0  1  0  1  0.00512\n",
       "7  0  0  1  1  0  0.00512\n",
       "8  0  0  1  1  1  0.02048\n",
       "9  0  1  0  0  0  0.00128\n",
       "10 0  1  0  0  1  0.00512\n",
       "11 0  1  0  1  0  0.00512\n",
       "12 0  1  0  1  1  0.02048\n",
       "13 0  1  1  0  0  0.00512\n",
       "14 0  1  1  0  1  0.02048\n",
       "15 0  1  1  1  0  0.02048\n",
       "16 0  1  1  1  1  0.08192\n",
       "17 1  0  0  0  0  0.00128\n",
       "18 1  0  0  0  1  0.00512\n",
       "19 1  0  0  1  0  0.00512\n",
       "20 1  0  0  1  1  0.02048\n",
       "21 1  0  1  0  0  0.00512\n",
       "22 1  0  1  0  1  0.02048\n",
       "23 1  0  1  1  0  0.02048\n",
       "24 1  0  1  1  1  0.08192\n",
       "25 1  1  0  0  0  0.00512\n",
       "26 1  1  0  0  1  0.02048\n",
       "27 1  1  0  1  0  0.02048\n",
       "28 1  1  0  1  1  0.08192\n",
       "29 1  1  1  0  0  0.02048\n",
       "30 1  1  1  0  1  0.08192\n",
       "31 1  1  1  1  0  0.08192\n",
       "32 1  1  1  1  1  0.32768"
      ]
     },
     "metadata": {},
     "output_type": "display_data"
    }
   ],
   "source": [
    "for(i in 1:2^n){\n",
    "    exitos <- sum(espacio[i,1:n]==1)\n",
    "    fracas <- sum(espacio[i,1:n]==0)\n",
    "    espacio[i, 'proba'] <- p^exitos * (1-p)^fracas\n",
    "}\n",
    "espacio"
   ]
  },
  {
   "cell_type": "code",
   "execution_count": 92,
   "metadata": {},
   "outputs": [
    {
     "data": {
      "text/plain": [
       "\n",
       "0.00032 0.00128 0.00512 0.02048 0.08192 0.32768 \n",
       "      1       5      10      10       5       1 "
      ]
     },
     "metadata": {},
     "output_type": "display_data"
    }
   ],
   "source": [
    "table(espacio$proba)"
   ]
  },
  {
   "cell_type": "markdown",
   "metadata": {},
   "source": [
    "# Segunda Parte"
   ]
  },
  {
   "cell_type": "code",
   "execution_count": null,
   "metadata": {},
   "outputs": [],
   "source": []
  }
 ],
 "metadata": {
  "kernelspec": {
   "display_name": "Python 3",
   "language": "python",
   "name": "python3"
  },
  "language_info": {
   "codemirror_mode": {
    "name": "ipython",
    "version": 3
   },
   "file_extension": ".py",
   "mimetype": "text/x-python",
   "name": "python",
   "nbconvert_exporter": "python",
   "pygments_lexer": "ipython3",
   "version": "3.7.6"
  },
  "toc": {
   "base_numbering": 1,
   "nav_menu": {},
   "number_sections": false,
   "sideBar": true,
   "skip_h1_title": false,
   "title_cell": "Table of Contents",
   "title_sidebar": "Contents",
   "toc_cell": false,
   "toc_position": {},
   "toc_section_display": true,
   "toc_window_display": false
  },
  "varInspector": {
   "cols": {
    "lenName": 16,
    "lenType": 16,
    "lenVar": 40
   },
   "kernels_config": {
    "python": {
     "delete_cmd_postfix": "",
     "delete_cmd_prefix": "del ",
     "library": "var_list.py",
     "varRefreshCmd": "print(var_dic_list())"
    },
    "r": {
     "delete_cmd_postfix": ") ",
     "delete_cmd_prefix": "rm(",
     "library": "var_list.r",
     "varRefreshCmd": "cat(var_dic_list()) "
    }
   },
   "types_to_exclude": [
    "module",
    "function",
    "builtin_function_or_method",
    "instance",
    "_Feature"
   ],
   "window_display": false
  }
 },
 "nbformat": 4,
 "nbformat_minor": 4
}
