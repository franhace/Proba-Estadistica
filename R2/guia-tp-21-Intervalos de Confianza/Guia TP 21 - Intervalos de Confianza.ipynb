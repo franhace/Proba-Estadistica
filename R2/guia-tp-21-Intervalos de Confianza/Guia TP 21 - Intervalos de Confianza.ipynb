{
 "cells": [
  {
   "cell_type": "markdown",
   "metadata": {},
   "source": [
    "# Intervalos de confianza\n",
    "\n",
    "> $$\\large \\it \\text{~ Interval that contains an unknown quantity with a given frequency ~}$$\n",
    "> $$\\text{All of Statistics, Wasserman}$$\n",
    ">"
   ]
  },
  {
   "cell_type": "markdown",
   "metadata": {},
   "source": [
    "# 1.\n",
    "\n",
    "1. Implemente una funci ́on intervalo.mu.asin que tenga por input un conjunto de datos\n",
    "x1, . . . , xn, provenientes de una muestra de X, el nivel 1 − α y devuelva el intervalo de\n",
    "confianza asint ́otico 1 − α para μ = E(X)."
   ]
  },
  {
   "cell_type": "code",
   "execution_count": 198,
   "metadata": {},
   "outputs": [
    {
     "data": {
      "text/html": [
       "0.333333333333333"
      ],
      "text/latex": [
       "0.333333333333333"
      ],
      "text/markdown": [
       "0.333333333333333"
      ],
      "text/plain": [
       "[1] 0.3333333"
      ]
     },
     "metadata": {},
     "output_type": "display_data"
    }
   ],
   "source": [
    "var(c(2,2,3))"
   ]
  },
  {
   "cell_type": "code",
   "execution_count": 199,
   "metadata": {},
   "outputs": [],
   "source": [
    "intervalo.mu.asin <- function(X, nivel){\n",
    "    alpha <- 1 - nivel\n",
    "    theta <- mean(X)\n",
    "    n <- length(X)\n",
    "    S <- sd(X)\n",
    "    z <- qnorm(p=1 - alpha/2)\n",
    "    a <- theta - z * S/sqrt(n)\n",
    "    b <- theta + z * S/sqrt(n)\n",
    "    return(c(a,b))\n",
    "}"
   ]
  },
  {
   "cell_type": "code",
   "execution_count": 200,
   "metadata": {},
   "outputs": [
    {
     "data": {
      "text/html": [
       "<ol class=list-inline>\n",
       "\t<li>-1.13158573407617</li>\n",
       "\t<li>1.13158573407617</li>\n",
       "</ol>\n"
      ],
      "text/latex": [
       "\\begin{enumerate*}\n",
       "\\item -1.13158573407617\n",
       "\\item 1.13158573407617\n",
       "\\end{enumerate*}\n"
      ],
      "text/markdown": [
       "1. -1.13158573407617\n",
       "2. 1.13158573407617\n",
       "\n",
       "\n"
      ],
      "text/plain": [
       "[1] -1.131586  1.131586"
      ]
     },
     "metadata": {},
     "output_type": "display_data"
    }
   ],
   "source": [
    "intervalo.mu.asin(c(-1,0,1), 0.95)"
   ]
  },
  {
   "cell_type": "markdown",
   "metadata": {},
   "source": [
    "# 2.\n",
    "\n",
    "  >Nivel de Cubrimiento emp ́ırico:\n",
    "  >\n",
    "  >El nivel de cubrimiento emp ́ırico (de un procedimiento) se define como la proporci ́on de veces que los intervalos (constru ́ıdos con el procedimiento) utilizando datos simulados contiene a μ (o θ), en cierta cantidad de Nrep replicaciones.\n",
    "  \n",
    "  2. Simulaci ́on 1: bajo normalidad Genere variables con distribuci ́on normal de media\n",
    "μ = 0 y σ = 0,1, 1, 10.\n",
    "\n",
    "Calcule el cubrimiento emp ́ırico del intervalo de confianza\n",
    "asint ́otico de nivel 1-α, definido en intervalo.mu.asin, para α = 0,05, n = 5, n = 10,\n",
    "n = 30, n = 50, n = 100, n = 1000, utilizando Nrep = 1000 replicaciones, y complete la\n",
    "siguiente tabla.\n",
    "\n",
    "En cada caso, calcule el promedio de las longitudes en las Nrep = 1000\n",
    "replicaciones e inlcuya el valor en la tabla (long).\n",
    "\n",
    "Comente los resultados observados.\n",
    "\n",
    "|Modelo|$$n=5$$|$$n=10$$|$$n=30$$|$$n=50$$|$$n=100$$|$$n=1000$$|\n",
    "|--|--|--|--|--|--|--|\n",
    "|$$\\sigma=0.1$$|||||||\n",
    "|$$\\sigma=1$$|||||||\n",
    "|$$\\sigma=10$$|||||||\n",
    "\n",
    "$$\\text{Cuadro 1: Nivel e Cubrimiento Empírico}$$\n",
    "\n",
    "Indique a que valor debe aproximarse el nivel de cubrimiento emp ́ırico. Comente los\n",
    "resultados obtenidos."
   ]
  },
  {
   "cell_type": "code",
   "execution_count": 201,
   "metadata": {},
   "outputs": [],
   "source": [
    "mu <- 0\n",
    "sigmas <- c(0.1, 1, 10)\n",
    "ns <- c(5, 10, 30, 50, 100, 1000)\n",
    "Nrep <- 10000"
   ]
  },
  {
   "cell_type": "code",
   "execution_count": 202,
   "metadata": {},
   "outputs": [
    {
     "data": {
      "text/html": [
       "<table>\n",
       "<thead><tr><th></th><th scope=col>n5</th><th scope=col>n10</th><th scope=col>n30</th><th scope=col>n50</th><th scope=col>n100</th><th scope=col>n1000</th></tr></thead>\n",
       "<tbody>\n",
       "\t<tr><th scope=row>s0.1</th><td>0</td><td>0</td><td>0</td><td>0</td><td>0</td><td>0</td></tr>\n",
       "\t<tr><th scope=row>s1</th><td>0</td><td>0</td><td>0</td><td>0</td><td>0</td><td>0</td></tr>\n",
       "\t<tr><th scope=row>s10</th><td>0</td><td>0</td><td>0</td><td>0</td><td>0</td><td>0</td></tr>\n",
       "</tbody>\n",
       "</table>\n"
      ],
      "text/latex": [
       "\\begin{tabular}{r|llllll}\n",
       "  & n5 & n10 & n30 & n50 & n100 & n1000\\\\\n",
       "\\hline\n",
       "\ts0.1 & 0 & 0 & 0 & 0 & 0 & 0\\\\\n",
       "\ts1 & 0 & 0 & 0 & 0 & 0 & 0\\\\\n",
       "\ts10 & 0 & 0 & 0 & 0 & 0 & 0\\\\\n",
       "\\end{tabular}\n"
      ],
      "text/markdown": [
       "\n",
       "| <!--/--> | n5 | n10 | n30 | n50 | n100 | n1000 |\n",
       "|---|---|---|---|---|---|---|\n",
       "| s0.1 | 0 | 0 | 0 | 0 | 0 | 0 |\n",
       "| s1 | 0 | 0 | 0 | 0 | 0 | 0 |\n",
       "| s10 | 0 | 0 | 0 | 0 | 0 | 0 |\n",
       "\n"
      ],
      "text/plain": [
       "     n5 n10 n30 n50 n100 n1000\n",
       "s0.1 0  0   0   0   0    0    \n",
       "s1   0  0   0   0   0    0    \n",
       "s10  0  0   0   0   0    0    "
      ]
     },
     "metadata": {},
     "output_type": "display_data"
    }
   ],
   "source": [
    "m <- matrix(data=0,nrow=3, ncol=6)\n",
    "rownames(m) <- paste0('s',sigmas)\n",
    "colnames(m) <- paste0('n',ns)\n",
    "m"
   ]
  },
  {
   "cell_type": "code",
   "execution_count": 203,
   "metadata": {},
   "outputs": [
    {
     "data": {
      "text/html": [
       "<table>\n",
       "<thead><tr><th></th><th scope=col>n5</th><th scope=col>n10</th><th scope=col>n30</th><th scope=col>n50</th><th scope=col>n100</th><th scope=col>n1000</th></tr></thead>\n",
       "<tbody>\n",
       "\t<tr><th scope=row>s0.1</th><td>0</td><td>0</td><td>0</td><td>0</td><td>0</td><td>0</td></tr>\n",
       "\t<tr><th scope=row>s1</th><td>0</td><td>0</td><td>0</td><td>0</td><td>0</td><td>0</td></tr>\n",
       "\t<tr><th scope=row>s10</th><td>0</td><td>0</td><td>0</td><td>0</td><td>0</td><td>0</td></tr>\n",
       "</tbody>\n",
       "</table>\n"
      ],
      "text/latex": [
       "\\begin{tabular}{r|llllll}\n",
       "  & n5 & n10 & n30 & n50 & n100 & n1000\\\\\n",
       "\\hline\n",
       "\ts0.1 & 0 & 0 & 0 & 0 & 0 & 0\\\\\n",
       "\ts1 & 0 & 0 & 0 & 0 & 0 & 0\\\\\n",
       "\ts10 & 0 & 0 & 0 & 0 & 0 & 0\\\\\n",
       "\\end{tabular}\n"
      ],
      "text/markdown": [
       "\n",
       "| <!--/--> | n5 | n10 | n30 | n50 | n100 | n1000 |\n",
       "|---|---|---|---|---|---|---|\n",
       "| s0.1 | 0 | 0 | 0 | 0 | 0 | 0 |\n",
       "| s1 | 0 | 0 | 0 | 0 | 0 | 0 |\n",
       "| s10 | 0 | 0 | 0 | 0 | 0 | 0 |\n",
       "\n"
      ],
      "text/plain": [
       "     n5 n10 n30 n50 n100 n1000\n",
       "s0.1 0  0   0   0   0    0    \n",
       "s1   0  0   0   0   0    0    \n",
       "s10  0  0   0   0   0    0    "
      ]
     },
     "metadata": {},
     "output_type": "display_data"
    }
   ],
   "source": [
    "tabla <- data.frame(m)\n",
    "tabla"
   ]
  },
  {
   "cell_type": "code",
   "execution_count": 204,
   "metadata": {},
   "outputs": [],
   "source": [
    "for(n in ns){\n",
    "    # For all ns\n",
    "    col <- paste0('n',n)\n",
    "    for(sigma in sigmas){\n",
    "        # For all sigmas\n",
    "        row <- paste0('s',sigma)\n",
    "        for(i in 1:Nrep){\n",
    "            # Repeat Nrep\n",
    "            X <- rnorm(n=n, mean=mu, sd=sigma )\n",
    "            inter <- intervalo.mu.asin(X, 0.90)\n",
    "            a <- inter[1]\n",
    "            b <- inter[2]\n",
    "            tabla[row,col] <- tabla[row,col] + (mu > a & mu < b)\n",
    "        }\n",
    "    }\n",
    "}\n",
    "tabla <- tabla / Nrep"
   ]
  },
  {
   "cell_type": "code",
   "execution_count": 205,
   "metadata": {},
   "outputs": [
    {
     "data": {
      "text/html": [
       "<table>\n",
       "<thead><tr><th></th><th scope=col>n5</th><th scope=col>n10</th><th scope=col>n30</th><th scope=col>n50</th><th scope=col>n100</th><th scope=col>n1000</th></tr></thead>\n",
       "<tbody>\n",
       "\t<tr><th scope=row>s0.1</th><td>0.8223</td><td>0.8688</td><td>0.8897</td><td>0.8960</td><td>0.9021</td><td>0.9025</td></tr>\n",
       "\t<tr><th scope=row>s1</th><td>0.8241</td><td>0.8610</td><td>0.8851</td><td>0.8949</td><td>0.8987</td><td>0.8966</td></tr>\n",
       "\t<tr><th scope=row>s10</th><td>0.8201</td><td>0.8668</td><td>0.8871</td><td>0.8921</td><td>0.8961</td><td>0.9013</td></tr>\n",
       "</tbody>\n",
       "</table>\n"
      ],
      "text/latex": [
       "\\begin{tabular}{r|llllll}\n",
       "  & n5 & n10 & n30 & n50 & n100 & n1000\\\\\n",
       "\\hline\n",
       "\ts0.1 & 0.8223 & 0.8688 & 0.8897 & 0.8960 & 0.9021 & 0.9025\\\\\n",
       "\ts1 & 0.8241 & 0.8610 & 0.8851 & 0.8949 & 0.8987 & 0.8966\\\\\n",
       "\ts10 & 0.8201 & 0.8668 & 0.8871 & 0.8921 & 0.8961 & 0.9013\\\\\n",
       "\\end{tabular}\n"
      ],
      "text/markdown": [
       "\n",
       "| <!--/--> | n5 | n10 | n30 | n50 | n100 | n1000 |\n",
       "|---|---|---|---|---|---|---|\n",
       "| s0.1 | 0.8223 | 0.8688 | 0.8897 | 0.8960 | 0.9021 | 0.9025 |\n",
       "| s1 | 0.8241 | 0.8610 | 0.8851 | 0.8949 | 0.8987 | 0.8966 |\n",
       "| s10 | 0.8201 | 0.8668 | 0.8871 | 0.8921 | 0.8961 | 0.9013 |\n",
       "\n"
      ],
      "text/plain": [
       "     n5     n10    n30    n50    n100   n1000 \n",
       "s0.1 0.8223 0.8688 0.8897 0.8960 0.9021 0.9025\n",
       "s1   0.8241 0.8610 0.8851 0.8949 0.8987 0.8966\n",
       "s10  0.8201 0.8668 0.8871 0.8921 0.8961 0.9013"
      ]
     },
     "metadata": {},
     "output_type": "display_data"
    }
   ],
   "source": [
    "tabla"
   ]
  },
  {
   "cell_type": "markdown",
   "metadata": {},
   "source": [
    "# 3.\n",
    "\n",
    "3. Simulaci ́on 3:\n",
    "\n",
    "Uniformes Genere variables con distribuci ́on uniforme en el intervalo\n",
    "[0, θ], para θ = 3, 10, 100.\n",
    "\n",
    "Calcule el cubrimiento emp ́ırico del intervalo de confianza\n",
    "asint ́otico de nivel 1-α, definido en intervalo.mu.asin, para α = 0,05, n = 5, n = 10,\n",
    "n = 30, n = 50, n = 100, n = 1000, utilizando Nrep = 1000 replicaciones.\n",
    "\n",
    "En cada\n",
    "caso, calcule el promedio de las longitudes en las Nrep = 1000 replicaciones e informe\n",
    "los valores obtenidos. (long).\n",
    "\n",
    "Comente los resultados observados."
   ]
  },
  {
   "cell_type": "code",
   "execution_count": 206,
   "metadata": {},
   "outputs": [],
   "source": [
    "thetas <- c(3, 10, 100)"
   ]
  },
  {
   "cell_type": "code",
   "execution_count": 207,
   "metadata": {},
   "outputs": [
    {
     "data": {
      "text/html": [
       "<table>\n",
       "<thead><tr><th></th><th scope=col>n5</th><th scope=col>n10</th><th scope=col>n30</th><th scope=col>n50</th><th scope=col>n100</th><th scope=col>n1000</th></tr></thead>\n",
       "<tbody>\n",
       "\t<tr><th scope=row>t3</th><td>0</td><td>0</td><td>0</td><td>0</td><td>0</td><td>0</td></tr>\n",
       "\t<tr><th scope=row>t10</th><td>0</td><td>0</td><td>0</td><td>0</td><td>0</td><td>0</td></tr>\n",
       "\t<tr><th scope=row>t100</th><td>0</td><td>0</td><td>0</td><td>0</td><td>0</td><td>0</td></tr>\n",
       "</tbody>\n",
       "</table>\n"
      ],
      "text/latex": [
       "\\begin{tabular}{r|llllll}\n",
       "  & n5 & n10 & n30 & n50 & n100 & n1000\\\\\n",
       "\\hline\n",
       "\tt3 & 0 & 0 & 0 & 0 & 0 & 0\\\\\n",
       "\tt10 & 0 & 0 & 0 & 0 & 0 & 0\\\\\n",
       "\tt100 & 0 & 0 & 0 & 0 & 0 & 0\\\\\n",
       "\\end{tabular}\n"
      ],
      "text/markdown": [
       "\n",
       "| <!--/--> | n5 | n10 | n30 | n50 | n100 | n1000 |\n",
       "|---|---|---|---|---|---|---|\n",
       "| t3 | 0 | 0 | 0 | 0 | 0 | 0 |\n",
       "| t10 | 0 | 0 | 0 | 0 | 0 | 0 |\n",
       "| t100 | 0 | 0 | 0 | 0 | 0 | 0 |\n",
       "\n"
      ],
      "text/plain": [
       "     n5 n10 n30 n50 n100 n1000\n",
       "t3   0  0   0   0   0    0    \n",
       "t10  0  0   0   0   0    0    \n",
       "t100 0  0   0   0   0    0    "
      ]
     },
     "metadata": {},
     "output_type": "display_data"
    }
   ],
   "source": [
    "m <- matrix(data=0,nrow=3, ncol=6)\n",
    "rownames(m) <- paste0('t',thetas)\n",
    "colnames(m) <- paste0('n',ns)\n",
    "m"
   ]
  },
  {
   "cell_type": "code",
   "execution_count": 208,
   "metadata": {},
   "outputs": [
    {
     "data": {
      "text/html": [
       "<table>\n",
       "<thead><tr><th></th><th scope=col>n5</th><th scope=col>n10</th><th scope=col>n30</th><th scope=col>n50</th><th scope=col>n100</th><th scope=col>n1000</th></tr></thead>\n",
       "<tbody>\n",
       "\t<tr><th scope=row>t3</th><td>0</td><td>0</td><td>0</td><td>0</td><td>0</td><td>0</td></tr>\n",
       "\t<tr><th scope=row>t10</th><td>0</td><td>0</td><td>0</td><td>0</td><td>0</td><td>0</td></tr>\n",
       "\t<tr><th scope=row>t100</th><td>0</td><td>0</td><td>0</td><td>0</td><td>0</td><td>0</td></tr>\n",
       "</tbody>\n",
       "</table>\n"
      ],
      "text/latex": [
       "\\begin{tabular}{r|llllll}\n",
       "  & n5 & n10 & n30 & n50 & n100 & n1000\\\\\n",
       "\\hline\n",
       "\tt3 & 0 & 0 & 0 & 0 & 0 & 0\\\\\n",
       "\tt10 & 0 & 0 & 0 & 0 & 0 & 0\\\\\n",
       "\tt100 & 0 & 0 & 0 & 0 & 0 & 0\\\\\n",
       "\\end{tabular}\n"
      ],
      "text/markdown": [
       "\n",
       "| <!--/--> | n5 | n10 | n30 | n50 | n100 | n1000 |\n",
       "|---|---|---|---|---|---|---|\n",
       "| t3 | 0 | 0 | 0 | 0 | 0 | 0 |\n",
       "| t10 | 0 | 0 | 0 | 0 | 0 | 0 |\n",
       "| t100 | 0 | 0 | 0 | 0 | 0 | 0 |\n",
       "\n"
      ],
      "text/plain": [
       "     n5 n10 n30 n50 n100 n1000\n",
       "t3   0  0   0   0   0    0    \n",
       "t10  0  0   0   0   0    0    \n",
       "t100 0  0   0   0   0    0    "
      ]
     },
     "metadata": {},
     "output_type": "display_data"
    }
   ],
   "source": [
    "tabla <- data.frame(m)\n",
    "tabla"
   ]
  },
  {
   "cell_type": "code",
   "execution_count": 209,
   "metadata": {},
   "outputs": [],
   "source": [
    "\n",
    "for(n in ns){\n",
    "    # For all ns\n",
    "    col <- paste0('n',n)\n",
    "    for(theta in thetas){\n",
    "        # For all sigmas\n",
    "        row <- paste0('t',theta)\n",
    "        for(i in 1:Nrep){\n",
    "            # Repeat Nrep\n",
    "            X <- runif(n=n, min=0, max=theta )\n",
    "            # Factor comun dos por ser 2*mean +/- 2*sd*S/sqrt(n)\n",
    "            inter <- 2*intervalo.mu.asin(X, 0.95)\n",
    "            a <- inter[1]\n",
    "            b <- inter[2]\n",
    "            tabla[row,col] <- tabla[row,col] + (theta > a & theta < b)\n",
    "        }\n",
    "        \n",
    "    }\n",
    "}\n",
    "tabla <- tabla / Nrep"
   ]
  },
  {
   "cell_type": "code",
   "execution_count": 210,
   "metadata": {},
   "outputs": [
    {
     "data": {
      "text/html": [
       "<table>\n",
       "<thead><tr><th></th><th scope=col>n5</th><th scope=col>n10</th><th scope=col>n30</th><th scope=col>n50</th><th scope=col>n100</th><th scope=col>n1000</th></tr></thead>\n",
       "<tbody>\n",
       "\t<tr><th scope=row>t3</th><td>0.8669</td><td>0.9143</td><td>0.9431</td><td>0.9393</td><td>0.9448</td><td>0.9480</td></tr>\n",
       "\t<tr><th scope=row>t10</th><td>0.8744</td><td>0.9204</td><td>0.9474</td><td>0.9440</td><td>0.9507</td><td>0.9494</td></tr>\n",
       "\t<tr><th scope=row>t100</th><td>0.8744</td><td>0.9104</td><td>0.9403</td><td>0.9436</td><td>0.9442</td><td>0.9511</td></tr>\n",
       "</tbody>\n",
       "</table>\n"
      ],
      "text/latex": [
       "\\begin{tabular}{r|llllll}\n",
       "  & n5 & n10 & n30 & n50 & n100 & n1000\\\\\n",
       "\\hline\n",
       "\tt3 & 0.8669 & 0.9143 & 0.9431 & 0.9393 & 0.9448 & 0.9480\\\\\n",
       "\tt10 & 0.8744 & 0.9204 & 0.9474 & 0.9440 & 0.9507 & 0.9494\\\\\n",
       "\tt100 & 0.8744 & 0.9104 & 0.9403 & 0.9436 & 0.9442 & 0.9511\\\\\n",
       "\\end{tabular}\n"
      ],
      "text/markdown": [
       "\n",
       "| <!--/--> | n5 | n10 | n30 | n50 | n100 | n1000 |\n",
       "|---|---|---|---|---|---|---|\n",
       "| t3 | 0.8669 | 0.9143 | 0.9431 | 0.9393 | 0.9448 | 0.9480 |\n",
       "| t10 | 0.8744 | 0.9204 | 0.9474 | 0.9440 | 0.9507 | 0.9494 |\n",
       "| t100 | 0.8744 | 0.9104 | 0.9403 | 0.9436 | 0.9442 | 0.9511 |\n",
       "\n"
      ],
      "text/plain": [
       "     n5     n10    n30    n50    n100   n1000 \n",
       "t3   0.8669 0.9143 0.9431 0.9393 0.9448 0.9480\n",
       "t10  0.8744 0.9204 0.9474 0.9440 0.9507 0.9494\n",
       "t100 0.8744 0.9104 0.9403 0.9436 0.9442 0.9511"
      ]
     },
     "metadata": {},
     "output_type": "display_data"
    }
   ],
   "source": [
    "tabla"
   ]
  },
  {
   "cell_type": "markdown",
   "metadata": {},
   "source": [
    "# 4.\n",
    "\n",
    "4. Implemente una funci ́on intervalo.mu.exacto.normal que tenga por input un con-\n",
    "junto de datos x1, . . . , xn, provenientes de una muestra N (μ, σ2\n",
    "\n",
    "), el nivel 1 − α y\n",
    "\n",
    "devuelva el intervalo de confianza exacto de nivel 1 − α para μ."
   ]
  },
  {
   "cell_type": "code",
   "execution_count": 211,
   "metadata": {},
   "outputs": [],
   "source": [
    "intervalo.mu.exacto.normal <- function(X, nivel){\n",
    "    alpha <- 1 - nivel\n",
    "    theta <- mean(X)\n",
    "    n <- length(X)\n",
    "    S <- sd(X)\n",
    "    z <- qt(p=1 - alpha/2, df=n-1)\n",
    "    a <- theta - z * S/sqrt(n)\n",
    "    b <- theta + z * S/sqrt(n)\n",
    "    return(c(a,b))\n",
    "}"
   ]
  },
  {
   "cell_type": "code",
   "execution_count": 212,
   "metadata": {},
   "outputs": [],
   "source": [
    "mu <- 0\n",
    "sigmas <- c(0.1, 1, 10)\n",
    "ns <- c(5, 10, 30, 50, 100, 1000)\n",
    "Nrep <- 10000"
   ]
  },
  {
   "cell_type": "code",
   "execution_count": 213,
   "metadata": {},
   "outputs": [
    {
     "data": {
      "text/html": [
       "<table>\n",
       "<thead><tr><th></th><th scope=col>n5</th><th scope=col>n10</th><th scope=col>n30</th><th scope=col>n50</th><th scope=col>n100</th><th scope=col>n1000</th></tr></thead>\n",
       "<tbody>\n",
       "\t<tr><th scope=row>s0.1</th><td>0</td><td>0</td><td>0</td><td>0</td><td>0</td><td>0</td></tr>\n",
       "\t<tr><th scope=row>s1</th><td>0</td><td>0</td><td>0</td><td>0</td><td>0</td><td>0</td></tr>\n",
       "\t<tr><th scope=row>s10</th><td>0</td><td>0</td><td>0</td><td>0</td><td>0</td><td>0</td></tr>\n",
       "</tbody>\n",
       "</table>\n"
      ],
      "text/latex": [
       "\\begin{tabular}{r|llllll}\n",
       "  & n5 & n10 & n30 & n50 & n100 & n1000\\\\\n",
       "\\hline\n",
       "\ts0.1 & 0 & 0 & 0 & 0 & 0 & 0\\\\\n",
       "\ts1 & 0 & 0 & 0 & 0 & 0 & 0\\\\\n",
       "\ts10 & 0 & 0 & 0 & 0 & 0 & 0\\\\\n",
       "\\end{tabular}\n"
      ],
      "text/markdown": [
       "\n",
       "| <!--/--> | n5 | n10 | n30 | n50 | n100 | n1000 |\n",
       "|---|---|---|---|---|---|---|\n",
       "| s0.1 | 0 | 0 | 0 | 0 | 0 | 0 |\n",
       "| s1 | 0 | 0 | 0 | 0 | 0 | 0 |\n",
       "| s10 | 0 | 0 | 0 | 0 | 0 | 0 |\n",
       "\n"
      ],
      "text/plain": [
       "     n5 n10 n30 n50 n100 n1000\n",
       "s0.1 0  0   0   0   0    0    \n",
       "s1   0  0   0   0   0    0    \n",
       "s10  0  0   0   0   0    0    "
      ]
     },
     "metadata": {},
     "output_type": "display_data"
    }
   ],
   "source": [
    "m <- matrix(data=0,nrow=3, ncol=6)\n",
    "rownames(m) <- paste0('s',sigmas)\n",
    "colnames(m) <- paste0('n',ns)\n",
    "m"
   ]
  },
  {
   "cell_type": "code",
   "execution_count": 214,
   "metadata": {},
   "outputs": [
    {
     "data": {
      "text/html": [
       "<table>\n",
       "<thead><tr><th></th><th scope=col>n5</th><th scope=col>n10</th><th scope=col>n30</th><th scope=col>n50</th><th scope=col>n100</th><th scope=col>n1000</th></tr></thead>\n",
       "<tbody>\n",
       "\t<tr><th scope=row>s0.1</th><td>0</td><td>0</td><td>0</td><td>0</td><td>0</td><td>0</td></tr>\n",
       "\t<tr><th scope=row>s1</th><td>0</td><td>0</td><td>0</td><td>0</td><td>0</td><td>0</td></tr>\n",
       "\t<tr><th scope=row>s10</th><td>0</td><td>0</td><td>0</td><td>0</td><td>0</td><td>0</td></tr>\n",
       "</tbody>\n",
       "</table>\n"
      ],
      "text/latex": [
       "\\begin{tabular}{r|llllll}\n",
       "  & n5 & n10 & n30 & n50 & n100 & n1000\\\\\n",
       "\\hline\n",
       "\ts0.1 & 0 & 0 & 0 & 0 & 0 & 0\\\\\n",
       "\ts1 & 0 & 0 & 0 & 0 & 0 & 0\\\\\n",
       "\ts10 & 0 & 0 & 0 & 0 & 0 & 0\\\\\n",
       "\\end{tabular}\n"
      ],
      "text/markdown": [
       "\n",
       "| <!--/--> | n5 | n10 | n30 | n50 | n100 | n1000 |\n",
       "|---|---|---|---|---|---|---|\n",
       "| s0.1 | 0 | 0 | 0 | 0 | 0 | 0 |\n",
       "| s1 | 0 | 0 | 0 | 0 | 0 | 0 |\n",
       "| s10 | 0 | 0 | 0 | 0 | 0 | 0 |\n",
       "\n"
      ],
      "text/plain": [
       "     n5 n10 n30 n50 n100 n1000\n",
       "s0.1 0  0   0   0   0    0    \n",
       "s1   0  0   0   0   0    0    \n",
       "s10  0  0   0   0   0    0    "
      ]
     },
     "metadata": {},
     "output_type": "display_data"
    }
   ],
   "source": [
    "tabla <- data.frame(m)\n",
    "tabla"
   ]
  },
  {
   "cell_type": "code",
   "execution_count": 215,
   "metadata": {},
   "outputs": [],
   "source": [
    "for(n in ns){\n",
    "    # For all ns\n",
    "    col <- paste0('n',n)\n",
    "    for(sigma in sigmas){\n",
    "        # For all sigmas\n",
    "        row <- paste0('s',sigma)\n",
    "        for(i in 1:Nrep){\n",
    "            # Repeat Nrep\n",
    "            X <- rnorm(n=n, mean=mu, sd=sigma )\n",
    "            inter <- intervalo.mu.exacto.normal(X, 0.90)\n",
    "            a <- inter[1]\n",
    "            b <- inter[2]\n",
    "            tabla[row,col] <- tabla[row,col] + (mu > a & mu < b)\n",
    "        }\n",
    "        \n",
    "    }\n",
    "}\n",
    "tabla <- tabla / Nrep"
   ]
  },
  {
   "cell_type": "code",
   "execution_count": 216,
   "metadata": {},
   "outputs": [
    {
     "data": {
      "text/html": [
       "<table>\n",
       "<thead><tr><th></th><th scope=col>n5</th><th scope=col>n10</th><th scope=col>n30</th><th scope=col>n50</th><th scope=col>n100</th><th scope=col>n1000</th></tr></thead>\n",
       "<tbody>\n",
       "\t<tr><th scope=row>s0.1</th><td>0.9049</td><td>0.9010</td><td>0.9014</td><td>0.8979</td><td>0.9024</td><td>0.8996</td></tr>\n",
       "\t<tr><th scope=row>s1</th><td>0.9042</td><td>0.9035</td><td>0.9017</td><td>0.8987</td><td>0.9026</td><td>0.8958</td></tr>\n",
       "\t<tr><th scope=row>s10</th><td>0.8971</td><td>0.9036</td><td>0.8997</td><td>0.8992</td><td>0.9015</td><td>0.8983</td></tr>\n",
       "</tbody>\n",
       "</table>\n"
      ],
      "text/latex": [
       "\\begin{tabular}{r|llllll}\n",
       "  & n5 & n10 & n30 & n50 & n100 & n1000\\\\\n",
       "\\hline\n",
       "\ts0.1 & 0.9049 & 0.9010 & 0.9014 & 0.8979 & 0.9024 & 0.8996\\\\\n",
       "\ts1 & 0.9042 & 0.9035 & 0.9017 & 0.8987 & 0.9026 & 0.8958\\\\\n",
       "\ts10 & 0.8971 & 0.9036 & 0.8997 & 0.8992 & 0.9015 & 0.8983\\\\\n",
       "\\end{tabular}\n"
      ],
      "text/markdown": [
       "\n",
       "| <!--/--> | n5 | n10 | n30 | n50 | n100 | n1000 |\n",
       "|---|---|---|---|---|---|---|\n",
       "| s0.1 | 0.9049 | 0.9010 | 0.9014 | 0.8979 | 0.9024 | 0.8996 |\n",
       "| s1 | 0.9042 | 0.9035 | 0.9017 | 0.8987 | 0.9026 | 0.8958 |\n",
       "| s10 | 0.8971 | 0.9036 | 0.8997 | 0.8992 | 0.9015 | 0.8983 |\n",
       "\n"
      ],
      "text/plain": [
       "     n5     n10    n30    n50    n100   n1000 \n",
       "s0.1 0.9049 0.9010 0.9014 0.8979 0.9024 0.8996\n",
       "s1   0.9042 0.9035 0.9017 0.8987 0.9026 0.8958\n",
       "s10  0.8971 0.9036 0.8997 0.8992 0.9015 0.8983"
      ]
     },
     "metadata": {},
     "output_type": "display_data"
    }
   ],
   "source": [
    "tabla"
   ]
  },
  {
   "cell_type": "markdown",
   "metadata": {},
   "source": [
    "# 6.\n",
    "\n",
    "6. Diferencias de medias: Supongamos que tenemos dos conjuntos de observaciones\n",
    "provenientes de dos distribuciones \n",
    "$$N(\\mu_X, \\sigma_X^2) \\ \\  y \\ \\  N(\\mu_Y, \\sigma_Y^2)$$\n",
    "\n",
    ", asumamos que $\\sigma_X = \\sigma_Y$.\n",
    "El objetivo es decidir a partir de las observaciones si las medias son o no iguales.\n"
   ]
  },
  {
   "cell_type": "markdown",
   "metadata": {},
   "source": [
    "a) Implemente una funci ́on dif.mu.interseccion que tenga por input el nivel 1−α, un conjunto de datos x1, . . . , xn y un conjunto de datos y1, . . . , ym y devuelva un 1 si los intervalos exactos de nivel 1 − α para μX y para μY se intersecan y un 0 si no se intersecan. Es decir, si los intervalos obtenidos en el item 4 para cada conjunto de datos se intersecan o no."
   ]
  },
  {
   "cell_type": "code",
   "execution_count": 217,
   "metadata": {},
   "outputs": [],
   "source": [
    "dif.mu.interseccion <- function(X, Y, nivel){\n",
    "    interX <- intervalo.mu.exacto.normal(X, nivel)\n",
    "    interY <- intervalo.mu.exacto.normal(Y, nivel)\n",
    "    se.intersecan <- (interX[1] > interY[1] & interX[1] < interY[2]) |\n",
    "                     (interX[2] > interY[1] & interX[2] < interY[2])\n",
    "    return(se.intersecan)\n",
    "}"
   ]
  },
  {
   "cell_type": "markdown",
   "metadata": {},
   "source": [
    "b) Implemente una funci ́on dif.mu.intervalo que tenga por input el nivel 1 − α, un conjunto de datos x1, . . . , xn y un conjunto de datos y1, . . . , ym y devuelva un intervalo exacto de nivel 1 − α para μX − μY y un 1 si el 0 esta en el intervalo y un 0 si no."
   ]
  },
  {
   "cell_type": "markdown",
   "metadata": {},
   "source": [
    "> $$\\large \\frac{\\bar X - \\bar Y - (\\mu_X - \\mu_Y)}{S_p \\sqrt{\\frac{1}{n_X} + \\frac{1}{n_Y}}} \\sim t_{n_X + n_Y - 2}$$\n",
    "\n",
    "donde:\n",
    "\n",
    "> $\\large S_p^2 = \\frac{\\left(n_X -1\\right)S_X^2 + \\left(n_Y - 1\\right)S_Y^2}{n_X + n_Y - 2}$"
   ]
  },
  {
   "cell_type": "code",
   "execution_count": 218,
   "metadata": {},
   "outputs": [],
   "source": [
    "dif.mu.intervalo <- function(X, Y, nivel){\n",
    "    alpha <- 1-nivel\n",
    "    nX <- length(X)\n",
    "    nY <- length(Y)\n",
    "    Xbar <- mean(X)\n",
    "    Ybar <- mean(Y)\n",
    "    \n",
    "    SX2 <- var(X)\n",
    "    SY2 <- var(Y)\n",
    "    \n",
    "    Sp2 <- ( (nX-1)*SX2 + (nY-1)*SY2 ) / (nX + nY -2)\n",
    "    Sp  <- sqrt(Sp2)\n",
    "    \n",
    "    t <- qt(p = 1-alpha/2, df = (nX+nY-2))\n",
    "    \n",
    "    a <- Xbar - Ybar - t * Sp * sqrt(1/nX + 1/nY)\n",
    "    b <- Xbar - Ybar + t * Sp * sqrt(1/nX + 1/nY)\n",
    "    z <- 0 > a & 0 < b\n",
    "    return(c(a,b,z))\n",
    "}"
   ]
  },
  {
   "cell_type": "markdown",
   "metadata": {},
   "source": [
    "c) Genere variables X con distribuci ́on normal de media μX = 1 y σX = 2 y variables Y μY = 2 y σY = 2. Calcule la proporci ́on de veces que el m ́etodo de intersecci ́on decide que ambas medias son iguales y calcule el cubrimiento emp ́ırico del intervalo de confianza exacto de nivel 1-α para la diferencia de medias (es decir la proporci ́on de veces que el intervalo incluye al 0). Considere α = 0,05, n = 5, n = 10, n = 30, n = 50, n = 100, n = 1000, utilizando Nrep = 1000 replicaciones. Comente los resultados observados."
   ]
  },
  {
   "cell_type": "code",
   "execution_count": 219,
   "metadata": {},
   "outputs": [],
   "source": [
    "muX <- 1\n",
    "sX  <- 2\n",
    "muY <- 2\n",
    "sY  <- 2\n",
    "ns <- c(5, 10, 30, 50, 100, 1000)\n",
    "Nrep <- 10000"
   ]
  },
  {
   "cell_type": "code",
   "execution_count": 220,
   "metadata": {},
   "outputs": [
    {
     "data": {
      "text/html": [
       "<table>\n",
       "<thead><tr><th scope=col>n5</th><th scope=col>n10</th><th scope=col>n30</th><th scope=col>n50</th><th scope=col>n100</th><th scope=col>n1000</th></tr></thead>\n",
       "<tbody>\n",
       "\t<tr><td>0</td><td>0</td><td>0</td><td>0</td><td>0</td><td>0</td></tr>\n",
       "</tbody>\n",
       "</table>\n"
      ],
      "text/latex": [
       "\\begin{tabular}{llllll}\n",
       " n5 & n10 & n30 & n50 & n100 & n1000\\\\\n",
       "\\hline\n",
       "\t 0 & 0 & 0 & 0 & 0 & 0\\\\\n",
       "\\end{tabular}\n"
      ],
      "text/markdown": [
       "\n",
       "| n5 | n10 | n30 | n50 | n100 | n1000 |\n",
       "|---|---|---|---|---|---|\n",
       "| 0 | 0 | 0 | 0 | 0 | 0 |\n",
       "\n"
      ],
      "text/plain": [
       "     n5 n10 n30 n50 n100 n1000\n",
       "[1,] 0  0   0   0   0    0    "
      ]
     },
     "metadata": {},
     "output_type": "display_data"
    }
   ],
   "source": [
    "m <- matrix(data=0,nrow=1, ncol=6)\n",
    "colnames(m) <- paste0('n',ns)\n",
    "m"
   ]
  },
  {
   "cell_type": "code",
   "execution_count": 221,
   "metadata": {},
   "outputs": [
    {
     "data": {
      "text/html": [
       "<table>\n",
       "<thead><tr><th scope=col>n5</th><th scope=col>n10</th><th scope=col>n30</th><th scope=col>n50</th><th scope=col>n100</th><th scope=col>n1000</th></tr></thead>\n",
       "<tbody>\n",
       "\t<tr><td>0</td><td>0</td><td>0</td><td>0</td><td>0</td><td>0</td></tr>\n",
       "</tbody>\n",
       "</table>\n"
      ],
      "text/latex": [
       "\\begin{tabular}{r|llllll}\n",
       " n5 & n10 & n30 & n50 & n100 & n1000\\\\\n",
       "\\hline\n",
       "\t 0 & 0 & 0 & 0 & 0 & 0\\\\\n",
       "\\end{tabular}\n"
      ],
      "text/markdown": [
       "\n",
       "| n5 | n10 | n30 | n50 | n100 | n1000 |\n",
       "|---|---|---|---|---|---|\n",
       "| 0 | 0 | 0 | 0 | 0 | 0 |\n",
       "\n"
      ],
      "text/plain": [
       "  n5 n10 n30 n50 n100 n1000\n",
       "1 0  0   0   0   0    0    "
      ]
     },
     "metadata": {},
     "output_type": "display_data"
    }
   ],
   "source": [
    "tabla <- data.frame(m)\n",
    "tabla"
   ]
  },
  {
   "cell_type": "code",
   "execution_count": 222,
   "metadata": {},
   "outputs": [],
   "source": [
    "for(n in ns){\n",
    "    # For all ns\n",
    "    col <- paste0('n',n)\n",
    "    for(i in 1:Nrep){\n",
    "        # Repeat Nrep\n",
    "        X <- rnorm(n=n, mean=muX, sd=sX )\n",
    "        Y <- rnorm(n=n, mean=muY, sd=sY )\n",
    "        inter <- dif.mu.intervalo(X, Y, 0.90)\n",
    "        z <- inter[3]\n",
    "        tabla[1,col] <- tabla[1,col] + z\n",
    "    }\n",
    "}\n",
    "tabla <- tabla / Nrep"
   ]
  },
  {
   "cell_type": "code",
   "execution_count": 223,
   "metadata": {},
   "outputs": [
    {
     "data": {
      "text/html": [
       "<table>\n",
       "<thead><tr><th scope=col>n5</th><th scope=col>n10</th><th scope=col>n30</th><th scope=col>n50</th><th scope=col>n100</th><th scope=col>n1000</th></tr></thead>\n",
       "<tbody>\n",
       "\t<tr><td>0.8112</td><td>0.7169</td><td>0.3957</td><td>0.1985</td><td>0.0257</td><td>0     </td></tr>\n",
       "</tbody>\n",
       "</table>\n"
      ],
      "text/latex": [
       "\\begin{tabular}{r|llllll}\n",
       " n5 & n10 & n30 & n50 & n100 & n1000\\\\\n",
       "\\hline\n",
       "\t 0.8112 & 0.7169 & 0.3957 & 0.1985 & 0.0257 & 0     \\\\\n",
       "\\end{tabular}\n"
      ],
      "text/markdown": [
       "\n",
       "| n5 | n10 | n30 | n50 | n100 | n1000 |\n",
       "|---|---|---|---|---|---|\n",
       "| 0.8112 | 0.7169 | 0.3957 | 0.1985 | 0.0257 | 0      |\n",
       "\n"
      ],
      "text/plain": [
       "  n5     n10    n30    n50    n100   n1000\n",
       "1 0.8112 0.7169 0.3957 0.1985 0.0257 0    "
      ]
     },
     "metadata": {},
     "output_type": "display_data"
    }
   ],
   "source": [
    "tabla"
   ]
  },
  {
   "cell_type": "markdown",
   "metadata": {},
   "source": [
    "# 7.\n",
    "\n",
    "7. El objetivo de este ejercicio es comparar emp ́ıricamente la performance de diferen-\n",
    "tes intervalos. Por un lado, utilizaremos intervalos constru ́ıdos estimando la varianza\n",
    "\n",
    "asint ́otica mediante\n",
    "\n",
    ">(i) boostrap\n",
    "\n",
    "y\n",
    "\n",
    ">(ii) propagaci ́on de errores;\n",
    "\n",
    "luego consideraremos\n",
    "\n",
    "> (iii) intervalos bootstrap por percentil. \n",
    "\n",
    "Finalmente, contruiremos\n",
    "\n",
    "> (iv) intervalos para una proporci ́on, siendo que el par ́ametro de inter ́es es una probabilidad. \n",
    "\n",
    "Estudiaremos el nivel de cubrimiento emp ́ırico y la longitud media de cada uno procedimientos mencionados.\n",
    "\n",
    "Generaremos datos asumiendo que provienen de una familia exponencia E(λ):X ∼\n",
    "E(λ).\n",
    "\n",
    "Procuramos estimar\n",
    "\n",
    "θ = P(X > 1)\n",
    "\n",
    "a) Obtenga una f ́ormla para el par ́ametro de inter ́es en funci ́on de λ.\n",
    "\n",
    "b) Genere datos utilizando λ = 3. Considere n = 100, 200, 500 y estudie el nivel de\n",
    "cubrmiento emp ́ırico en Nrep = 1000 replicaciones de los intervalos propuestos,\n",
    "tomando N boot = 1000 muestras bootstrap."
   ]
  },
  {
   "cell_type": "markdown",
   "metadata": {},
   "source": [
    "$$\\large \\begin{align}\n",
    "\\theta &= P(X>1)\\\\\n",
    "\\theta &= 1 - P(X<1)\\\\\n",
    "\\theta &= 1 - (1 - e^{-\\lambda . 1})\\\\\n",
    "\\theta &= e^{-\\lambda}\\\\\n",
    "\\log\\theta &= \\log e^{-\\lambda}\\\\\n",
    "\\log\\theta &= \\lambda\\\\\n",
    "\\theta &= e^{-\\frac{1}{E[X]}}\\\\\n",
    "\\\\\n",
    "\\hat\\theta &= e^{-\\frac{1}{\\bar X}}\\\\\n",
    "\\hat\\theta &= e^{-\\frac{1}{\\bar X}}\\\\\n",
    "\\end{align}\n",
    "$$"
   ]
  },
  {
   "cell_type": "markdown",
   "metadata": {},
   "source": [
    "Utilizando método delta, sabemos que:\n",
    "\n",
    ">$$\\large (f(\\hat\\phi) - z_{\\frac \\alpha 2} \\sqrt{f'(\\hat\\phi)^2 \\hat{se}_f^2}) , f(\\hat\\phi) + z_{\\frac \\alpha 2} \\sqrt{f'(\\hat\\phi)^2 \\hat{se}_f^2})) $$\n",
    "\n",
    "Donde\n",
    "\n",
    ">$\\large f(\\phi) = \\theta = e^{- \\frac 1 {E[X]}}$\n",
    "\n",
    "> $\\large f'(\\phi) = - \\frac {1}{E^2[X]} e^{- \\frac 1 {E[X]}}$\n",
    "\n",
    "> Obs: $E'[X] = 0$ pues $E[X]$ es escalar.\n",
    "\n",
    "y\n",
    "\n",
    ">$\\large \\phi = E[X] = \\frac 1 \\lambda$\n",
    "\n"
   ]
  },
  {
   "cell_type": "markdown",
   "metadata": {},
   "source": [
    "Por lo que:\n",
    "\n",
    ">$\\large f(\\hat\\phi) = \\hat\\theta = e^{- \\frac 1 {\\hat\\phi}}$\n",
    "\n",
    ">$\\large f'(\\hat\\phi) = - \\frac {1}{\\hat\\phi^2} e^{- \\frac 1 {\\hat\\phi}}$\n",
    "\n",
    ">$$\\large (f(\\hat\\phi) - z_{\\frac \\alpha 2} |f'(\\hat\\phi)\\ \\hat{se}_f| , f(\\hat\\phi) + z_{\\frac \\alpha 2} |f'(\\hat\\phi)\\ \\hat{se}_f|) $$"
   ]
  },
  {
   "cell_type": "code",
   "execution_count": 235,
   "metadata": {},
   "outputs": [],
   "source": [
    "f <- function(phi){\n",
    "    return( exp(-1/phi) )\n",
    "}"
   ]
  },
  {
   "cell_type": "code",
   "execution_count": 236,
   "metadata": {},
   "outputs": [],
   "source": [
    "df <- function(phi){\n",
    "    return( - 1/(phi^2) * exp( - 1/phi ) )\n",
    "}"
   ]
  },
  {
   "cell_type": "markdown",
   "metadata": {},
   "source": [
    "### Intervalo\n",
    "\n",
    "Defino el intervalo con el método delta, el cual requiere como parámetro la desviación estándar a estimar luego con varios métodos."
   ]
  },
  {
   "cell_type": "code",
   "execution_count": 266,
   "metadata": {},
   "outputs": [],
   "source": [
    "intervalo.f.delta <- function(X, nivel, se){\n",
    "    alpha <- 1 - nivel\n",
    "    phi <- mean(X)\n",
    "    f_phi  <- f(phi)\n",
    "    df_phi <- df(phi)\n",
    "    z <- qnorm(p=1-alpha/2)\n",
    "    a <- f_phi - z * abs(df_phi * se) \n",
    "    b <- f_phi + z * abs(df_phi * se) \n",
    "    return(c(a,b))\n",
    "}"
   ]
  },
  {
   "cell_type": "markdown",
   "metadata": {},
   "source": [
    "### i. Bootstrap\n",
    "\n",
    "Estimo la desviación estándar de $\\large f$ con el método bootstrap"
   ]
  },
  {
   "cell_type": "code",
   "execution_count": 287,
   "metadata": {},
   "outputs": [],
   "source": [
    "estim.se.f.bootstrap <- function(X){\n",
    "    Nboot <- 1000\n",
    "    fs <- rep(NA, Nboot)\n",
    "    for(i in 1:Nboot){\n",
    "        X <- sample(x=X, size=Nboot, replace=T)\n",
    "        fs[i] <- f(mean(X))\n",
    "    }\n",
    "    #hist(fs)\n",
    "    se <- sd(fs)\n",
    "    return(se)\n",
    "}\n",
    "\n",
    "    "
   ]
  },
  {
   "cell_type": "code",
   "execution_count": 288,
   "metadata": {},
   "outputs": [],
   "source": [
    "ns <- c(100,200,500)\n",
    "lambda <- 3\n",
    "Nrep  <- 1000"
   ]
  },
  {
   "cell_type": "code",
   "execution_count": 289,
   "metadata": {},
   "outputs": [
    {
     "data": {
      "text/html": [
       "<table>\n",
       "<thead><tr><th scope=col>n100</th><th scope=col>n200</th><th scope=col>n500</th></tr></thead>\n",
       "<tbody>\n",
       "\t<tr><td>0</td><td>0</td><td>0</td></tr>\n",
       "</tbody>\n",
       "</table>\n"
      ],
      "text/latex": [
       "\\begin{tabular}{lll}\n",
       " n100 & n200 & n500\\\\\n",
       "\\hline\n",
       "\t 0 & 0 & 0\\\\\n",
       "\\end{tabular}\n"
      ],
      "text/markdown": [
       "\n",
       "| n100 | n200 | n500 |\n",
       "|---|---|---|\n",
       "| 0 | 0 | 0 |\n",
       "\n"
      ],
      "text/plain": [
       "     n100 n200 n500\n",
       "[1,] 0    0    0   "
      ]
     },
     "metadata": {},
     "output_type": "display_data"
    }
   ],
   "source": [
    "m <- matrix(data=0,nrow=1, ncol=3)\n",
    "colnames(m) <- paste0('n',ns)\n",
    "m"
   ]
  },
  {
   "cell_type": "code",
   "execution_count": 290,
   "metadata": {},
   "outputs": [
    {
     "data": {
      "text/html": [
       "<table>\n",
       "<thead><tr><th scope=col>n100</th><th scope=col>n200</th><th scope=col>n500</th></tr></thead>\n",
       "<tbody>\n",
       "\t<tr><td>0</td><td>0</td><td>0</td></tr>\n",
       "</tbody>\n",
       "</table>\n"
      ],
      "text/latex": [
       "\\begin{tabular}{r|lll}\n",
       " n100 & n200 & n500\\\\\n",
       "\\hline\n",
       "\t 0 & 0 & 0\\\\\n",
       "\\end{tabular}\n"
      ],
      "text/markdown": [
       "\n",
       "| n100 | n200 | n500 |\n",
       "|---|---|---|\n",
       "| 0 | 0 | 0 |\n",
       "\n"
      ],
      "text/plain": [
       "  n100 n200 n500\n",
       "1 0    0    0   "
      ]
     },
     "metadata": {},
     "output_type": "display_data"
    }
   ],
   "source": [
    "tabla <- data.frame(m)\n",
    "tabla"
   ]
  },
  {
   "cell_type": "code",
   "execution_count": 291,
   "metadata": {},
   "outputs": [],
   "source": [
    "for(n in ns){\n",
    "    # For all ns\n",
    "    col <- paste0('n',n)\n",
    "    for(i in 1:Nrep){\n",
    "        # Repeat Nrep\n",
    "        X <- rexp( n=n, rate=3 )\n",
    "        se <- estim.se.f.bootstrap(X)\n",
    "        inter <- intervalo.f.delta(X, 0.95, se)\n",
    "        a <- inter[1]\n",
    "        b <- inter[2]\n",
    "        EX <- 1/lambda\n",
    "        tabla[1,col] <- tabla[1,col] + (f(EX) > a & f(EX) < b)\n",
    "    }\n",
    "}\n",
    "tabla <- tabla / Nrep"
   ]
  },
  {
   "cell_type": "code",
   "execution_count": 292,
   "metadata": {},
   "outputs": [
    {
     "data": {
      "text/html": [
       "<table>\n",
       "<thead><tr><th scope=col>n100</th><th scope=col>n200</th><th scope=col>n500</th></tr></thead>\n",
       "<tbody>\n",
       "\t<tr><td>0.76 </td><td>0.874</td><td>0.943</td></tr>\n",
       "</tbody>\n",
       "</table>\n"
      ],
      "text/latex": [
       "\\begin{tabular}{r|lll}\n",
       " n100 & n200 & n500\\\\\n",
       "\\hline\n",
       "\t 0.76  & 0.874 & 0.943\\\\\n",
       "\\end{tabular}\n"
      ],
      "text/markdown": [
       "\n",
       "| n100 | n200 | n500 |\n",
       "|---|---|---|\n",
       "| 0.76  | 0.874 | 0.943 |\n",
       "\n"
      ],
      "text/plain": [
       "  n100 n200  n500 \n",
       "1 0.76 0.874 0.943"
      ]
     },
     "metadata": {},
     "output_type": "display_data"
    }
   ],
   "source": [
    "tabla"
   ]
  },
  {
   "cell_type": "markdown",
   "metadata": {},
   "source": [
    "### ii. Propagación de Errores\n",
    "\n",
    "![](https://ih1.redbubble.net/image.993623327.2570/flat,128x,075,f-pad,128x128,f8f8f8.jpg)"
   ]
  },
  {
   "cell_type": "markdown",
   "metadata": {},
   "source": [
    "### iii. Intervalos Bootstrap por Pecentil\n",
    "\n",
    "Así como puedo calcular se con bootstrap, o graficar un histograma de los distintos sampleos, puedo tomar como intervalo:\n",
    "\n",
    "$$\\large (\\hat\\theta^*_{\\frac \\alpha 2}, \\hat\\theta^*_{1 - \\frac \\alpha 2})$$\n",
    "\n",
    "Donde cada $\\large \\hat\\theta^*_i$ es una estimación bootstrap del parámetro"
   ]
  },
  {
   "cell_type": "code",
   "execution_count": 293,
   "metadata": {},
   "outputs": [],
   "source": [
    "intervalo.bootstrap.percentil <- function(X, nivel){\n",
    "    Nboot <- 1000\n",
    "    alpha <- 1 - nivel\n",
    "    fs <- rep(NA, Nboot)\n",
    "    for(i in 1:Nboot){\n",
    "        X <- sample(x=X, size=Nboot, replace=T)\n",
    "        fs[i] <- f(mean(X))\n",
    "    }\n",
    "    #hist(fs)\n",
    "    a <- quantile(fs, probs=alpha/2)\n",
    "    b <- quantile(fs, probs=1-alpha/2)\n",
    "    return(c(a,b))\n",
    "}"
   ]
  },
  {
   "cell_type": "code",
   "execution_count": 294,
   "metadata": {},
   "outputs": [],
   "source": [
    "for(n in ns){\n",
    "    # For all ns\n",
    "    col <- paste0('n',n)\n",
    "    for(i in 1:Nrep){\n",
    "        # Repeat Nrep\n",
    "        X <- rexp( n=n, rate=3 )\n",
    "        inter <- intervalo.bootstrap.percentil(X, 0.95)\n",
    "        a <- inter[1]\n",
    "        b <- inter[2]\n",
    "        EX <- 1/lambda\n",
    "        tabla[1,col] <- tabla[1,col] + (f(EX) > a & f(EX) < b)\n",
    "    }\n",
    "}\n",
    "tabla <- tabla / Nrep"
   ]
  },
  {
   "cell_type": "code",
   "execution_count": 295,
   "metadata": {},
   "outputs": [
    {
     "data": {
      "text/html": [
       "<table>\n",
       "<thead><tr><th scope=col>n100</th><th scope=col>n200</th><th scope=col>n500</th></tr></thead>\n",
       "<tbody>\n",
       "\t<tr><td>0.69176 </td><td>0.724874</td><td>0.709943</td></tr>\n",
       "</tbody>\n",
       "</table>\n"
      ],
      "text/latex": [
       "\\begin{tabular}{r|lll}\n",
       " n100 & n200 & n500\\\\\n",
       "\\hline\n",
       "\t 0.69176  & 0.724874 & 0.709943\\\\\n",
       "\\end{tabular}\n"
      ],
      "text/markdown": [
       "\n",
       "| n100 | n200 | n500 |\n",
       "|---|---|---|\n",
       "| 0.69176  | 0.724874 | 0.709943 |\n",
       "\n"
      ],
      "text/plain": [
       "  n100    n200     n500    \n",
       "1 0.69176 0.724874 0.709943"
      ]
     },
     "metadata": {},
     "output_type": "display_data"
    }
   ],
   "source": [
    "tabla"
   ]
  },
  {
   "cell_type": "markdown",
   "metadata": {},
   "source": [
    "### iv. Intervalos para una proporción\n",
    "\n",
    "**A revisar:** Calculo $\\hat {se}$ de una proporción $\\beta$ a partir del método bootstrap, y expreso el intervalo como:\n",
    "\n",
    "$$\\large (\\beta - \\hat{se}, \\beta + \\hat{se})$$"
   ]
  },
  {
   "cell_type": "code",
   "execution_count": 299,
   "metadata": {},
   "outputs": [],
   "source": [
    "estim.se.prop.bootstrap <- function(X){\n",
    "    Nboot <- 1000\n",
    "    props <- rep(NA, Nboot)\n",
    "    for(i in 1:Nboot){\n",
    "        X <- sample(x=X, size=Nboot, replace=T)\n",
    "        props[i] <- sum(X>1)/Nboot\n",
    "    }\n",
    "    #hist(fs)\n",
    "    se <- sd(props)\n",
    "    return(se)\n",
    "}"
   ]
  },
  {
   "cell_type": "code",
   "execution_count": 300,
   "metadata": {},
   "outputs": [],
   "source": [
    "for(n in ns){\n",
    "    # For all ns\n",
    "    col <- paste0('n',n)\n",
    "    for(i in 1:Nrep){\n",
    "        # Repeat Nrep\n",
    "        X <- rexp( n=n, rate=3 )\n",
    "        se <- estim.se.prop.bootstrap(X)\n",
    "        prop <- sum(X>1)/Nrep\n",
    "        a <- prop - se\n",
    "        b <- prop + se\n",
    "        tabla[1,col] <- tabla[1,col] + (f(EX) > a & f(EX) < b)\n",
    "    }\n",
    "}\n",
    "tabla <- tabla / Nrep"
   ]
  },
  {
   "cell_type": "code",
   "execution_count": 301,
   "metadata": {},
   "outputs": [
    {
     "data": {
      "text/html": [
       "<table>\n",
       "<thead><tr><th scope=col>n100</th><th scope=col>n200</th><th scope=col>n500</th></tr></thead>\n",
       "<tbody>\n",
       "\t<tr><td>0.2417027</td><td>0.2847257</td><td>0.3846907</td></tr>\n",
       "</tbody>\n",
       "</table>\n"
      ],
      "text/latex": [
       "\\begin{tabular}{r|lll}\n",
       " n100 & n200 & n500\\\\\n",
       "\\hline\n",
       "\t 0.2417027 & 0.2847257 & 0.3846907\\\\\n",
       "\\end{tabular}\n"
      ],
      "text/markdown": [
       "\n",
       "| n100 | n200 | n500 |\n",
       "|---|---|---|\n",
       "| 0.2417027 | 0.2847257 | 0.3846907 |\n",
       "\n"
      ],
      "text/plain": [
       "  n100      n200      n500     \n",
       "1 0.2417027 0.2847257 0.3846907"
      ]
     },
     "metadata": {},
     "output_type": "display_data"
    }
   ],
   "source": [
    "tabla"
   ]
  },
  {
   "cell_type": "code",
   "execution_count": null,
   "metadata": {},
   "outputs": [],
   "source": []
  },
  {
   "cell_type": "code",
   "execution_count": null,
   "metadata": {},
   "outputs": [],
   "source": []
  },
  {
   "cell_type": "code",
   "execution_count": null,
   "metadata": {},
   "outputs": [],
   "source": []
  },
  {
   "cell_type": "code",
   "execution_count": null,
   "metadata": {},
   "outputs": [],
   "source": []
  },
  {
   "cell_type": "code",
   "execution_count": null,
   "metadata": {},
   "outputs": [],
   "source": []
  },
  {
   "cell_type": "code",
   "execution_count": null,
   "metadata": {},
   "outputs": [],
   "source": []
  },
  {
   "cell_type": "code",
   "execution_count": null,
   "metadata": {},
   "outputs": [],
   "source": []
  }
 ],
 "metadata": {
  "kernelspec": {
   "display_name": "R [conda env:r] *",
   "language": "R",
   "name": "conda-env-r-r"
  },
  "language_info": {
   "codemirror_mode": "r",
   "file_extension": ".r",
   "mimetype": "text/x-r-source",
   "name": "R",
   "pygments_lexer": "r",
   "version": "3.6.3"
  }
 },
 "nbformat": 4,
 "nbformat_minor": 4
}
