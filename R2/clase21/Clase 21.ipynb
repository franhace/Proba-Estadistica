{
 "cells": [
  {
   "cell_type": "code",
   "execution_count": 4,
   "metadata": {},
   "outputs": [],
   "source": [
    "datos <- read.csv('datos_Practica7_gas1libreta66918n_5.csv')"
   ]
  },
  {
   "cell_type": "markdown",
   "metadata": {},
   "source": [
    "# 2.\n",
    "\n",
    "2. Mi primera estimaci ́on por intervalos - Mundo normal Considere n = 5 datos\n",
    "obtenidos al utilizar el equipo 1. Asuma que los valores son realizaciones de Xi\n",
    "\n",
    "iid, Xi ∼\n",
    "\n",
    "N (μ, σ2\n",
    "). Obtenga una estmaci ́on por intervalos para μ utlizando un procedimiento de nivel\n",
    "0,95. Ingrese los extremos del intervalo obtenido al documento compartido."
   ]
  },
  {
   "cell_type": "code",
   "execution_count": 24,
   "metadata": {},
   "outputs": [
    {
     "data": {
      "text/html": [
       "69.0500759637978"
      ],
      "text/latex": [
       "69.0500759637978"
      ],
      "text/markdown": [
       "69.0500759637978"
      ],
      "text/plain": [
       "[1] 69.05008"
      ]
     },
     "metadata": {},
     "output_type": "display_data"
    }
   ],
   "source": [
    "mean(datos[,1]) + qt(0.025, df=5-1)*sd(datos[,1])/sqrt(5)"
   ]
  },
  {
   "cell_type": "code",
   "execution_count": 25,
   "metadata": {},
   "outputs": [
    {
     "data": {
      "text/html": [
       "72.1419240362022"
      ],
      "text/latex": [
       "72.1419240362022"
      ],
      "text/markdown": [
       "72.1419240362022"
      ],
      "text/plain": [
       "[1] 72.14192"
      ]
     },
     "metadata": {},
     "output_type": "display_data"
    }
   ],
   "source": [
    "mean(datos[,1]) - qt(0.025, df=5-1)*sd(datos[,1])/sqrt(5)"
   ]
  },
  {
   "cell_type": "code",
   "execution_count": 10,
   "metadata": {},
   "outputs": [
    {
     "data": {
      "text/html": [
       "70.596"
      ],
      "text/latex": [
       "70.596"
      ],
      "text/markdown": [
       "70.596"
      ],
      "text/plain": [
       "[1] 70.596"
      ]
     },
     "metadata": {},
     "output_type": "display_data"
    }
   ],
   "source": [
    "mean(datos[,1])"
   ]
  },
  {
   "cell_type": "code",
   "execution_count": 20,
   "metadata": {},
   "outputs": [
    {
     "data": {
      "text/html": [
       "-1.95996398454005"
      ],
      "text/latex": [
       "-1.95996398454005"
      ],
      "text/markdown": [
       "-1.95996398454005"
      ],
      "text/plain": [
       "[1] -1.959964"
      ]
     },
     "metadata": {},
     "output_type": "display_data"
    }
   ],
   "source": [
    "qnorm(0.025)"
   ]
  },
  {
   "cell_type": "markdown",
   "metadata": {},
   "source": [
    "# 2.b\n",
    "\n",
    "2.en R Implementaci ́on Implemente una funci ́on intervalo.mu.exacto.normal que ten-\n",
    "ga por input un conjunto de datos x1, . . . , xn, provenientes de una muestra N (μ, σ2), el nivel\n",
    "1 − α y devuelva el intervalo de confianza exacto de nivel 1 − α para μ.\n",
    "\n",
    "Sub ́ı el codigo a este\n",
    "documento compartido."
   ]
  },
  {
   "cell_type": "code",
   "execution_count": 32,
   "metadata": {},
   "outputs": [],
   "source": [
    "intervalo.mu.exacto.normal <- function(X, beta){\n",
    "    n <- length(X)\n",
    "    alpha.2 <- (1-beta)/2 \n",
    "    a <- mean(X) - qt(1-alpha.2, df=n-1)*sd(X)/sqrt(n)\n",
    "    b <- mean(X) + qt(1-alpha.2, df=n-1)*sd(X)/sqrt(n)\n",
    "    return(c(a,b))\n",
    "}"
   ]
  },
  {
   "cell_type": "code",
   "execution_count": 33,
   "metadata": {},
   "outputs": [
    {
     "data": {
      "text/html": [
       "<ol class=list-inline>\n",
       "\t<li>69.0500759637978</li>\n",
       "\t<li>72.1419240362022</li>\n",
       "</ol>\n"
      ],
      "text/latex": [
       "\\begin{enumerate*}\n",
       "\\item 69.0500759637978\n",
       "\\item 72.1419240362022\n",
       "\\end{enumerate*}\n"
      ],
      "text/markdown": [
       "1. 69.0500759637978\n",
       "2. 72.1419240362022\n",
       "\n",
       "\n"
      ],
      "text/plain": [
       "[1] 69.05008 72.14192"
      ]
     },
     "metadata": {},
     "output_type": "display_data"
    }
   ],
   "source": [
    "intervalo.mu.exacto.normal(datos[,1], 0.95)"
   ]
  },
  {
   "cell_type": "code",
   "execution_count": null,
   "metadata": {},
   "outputs": [],
   "source": []
  }
 ],
 "metadata": {
  "kernelspec": {
   "display_name": "R [conda env:r] *",
   "language": "R",
   "name": "conda-env-r-r"
  },
  "language_info": {
   "codemirror_mode": "r",
   "file_extension": ".r",
   "mimetype": "text/x-r-source",
   "name": "R",
   "pygments_lexer": "r",
   "version": "3.6.3"
  }
 },
 "nbformat": 4,
 "nbformat_minor": 4
}
