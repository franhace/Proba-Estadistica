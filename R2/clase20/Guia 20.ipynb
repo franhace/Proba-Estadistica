{
 "cells": [
  {
   "cell_type": "code",
   "execution_count": 2,
   "metadata": {},
   "outputs": [],
   "source": [
    "datos <- read.csv('datos_Practica7_lamparaslibreta66918n_120.csv')"
   ]
  },
  {
   "cell_type": "code",
   "execution_count": null,
   "metadata": {},
   "outputs": [],
   "source": []
  },
  {
   "cell_type": "markdown",
   "metadata": {},
   "source": [
    "Duraci ́on de l ́amparas\n",
    "\n",
    "1. Considere los datos de la duraci ́on de n = 120 l ́amparas (en meses).\n",
    "a) Realice un histograma de los datos. ¿Son normales?\n",
    "b) Obtenga una estimaci ́on para el tiempo medio de duraci ́on (E(T)) y el error de\n",
    "estimaci ́on y complete el documento compartido.\n",
    "c) Obtenga una estimaci ́on para la mediana del tiempo de duraci ́on (F\n",
    "−1\n",
    "T\n",
    "(0,5)) y el\n",
    "\n",
    "error de estimaci ́on y complete el documento compartido.\n",
    "\n",
    "2. Obtenga el error de estimaci ́on bootstrap correspondiente a la media y a la mediana\n",
    "calculadas. Comparar con los errores previamente obtenidos."
   ]
  },
  {
   "cell_type": "markdown",
   "metadata": {},
   "source": [
    "# 1."
   ]
  },
  {
   "cell_type": "code",
   "execution_count": 3,
   "metadata": {},
   "outputs": [],
   "source": [
    "duraciones <- datos$lamparas"
   ]
  },
  {
   "cell_type": "code",
   "execution_count": 4,
   "metadata": {},
   "outputs": [
    {
     "data": {
      "image/png": "[encoded data removed]",
      "text/plain": [
       "Plot with title “Histogram of duraciones”"
      ]
     },
     "metadata": {},
     "output_type": "display_data"
    }
   ],
   "source": [
    "hist(duraciones)"
   ]
  },
  {
   "cell_type": "code",
   "execution_count": 34,
   "metadata": {},
   "outputs": [],
   "source": [
    "m <- length(duraciones)"
   ]
  },
  {
   "cell_type": "code",
   "execution_count": 35,
   "metadata": {},
   "outputs": [
    {
     "data": {
      "text/html": [
       "10.0258333333333"
      ],
      "text/latex": [
       "10.0258333333333"
      ],
      "text/markdown": [
       "10.0258333333333"
      ],
      "text/plain": [
       "[1] 10.02583"
      ]
     },
     "metadata": {},
     "output_type": "display_data"
    },
    {
     "data": {
      "text/html": [
       "0.967645714845289"
      ],
      "text/latex": [
       "0.967645714845289"
      ],
      "text/markdown": [
       "0.967645714845289"
      ],
      "text/plain": [
       "[1] 0.9676457"
      ]
     },
     "metadata": {},
     "output_type": "display_data"
    }
   ],
   "source": [
    "mean(duraciones)\n",
    "sd(duraciones)/sqrt(m)"
   ]
  },
  {
   "cell_type": "code",
   "execution_count": 36,
   "metadata": {},
   "outputs": [
    {
     "data": {
      "text/html": [
       "6.65"
      ],
      "text/latex": [
       "6.65"
      ],
      "text/markdown": [
       "6.65"
      ],
      "text/plain": [
       "[1] 6.65"
      ]
     },
     "metadata": {},
     "output_type": "display_data"
    },
    {
     "data": {
      "text/html": [
       "0.0912870929175277"
      ],
      "text/latex": [
       "0.0912870929175277"
      ],
      "text/markdown": [
       "0.0912870929175277"
      ],
      "text/plain": [
       "[1] 0.09128709"
      ]
     },
     "metadata": {},
     "output_type": "display_data"
    }
   ],
   "source": [
    "median(duraciones)\n",
    "1/sqrt(m)"
   ]
  },
  {
   "cell_type": "code",
   "execution_count": null,
   "metadata": {},
   "outputs": [],
   "source": []
  },
  {
   "cell_type": "code",
   "execution_count": 8,
   "metadata": {},
   "outputs": [
    {
     "data": {
      "text/html": [
       "0.0912870929175277"
      ],
      "text/latex": [
       "0.0912870929175277"
      ],
      "text/markdown": [
       "0.0912870929175277"
      ],
      "text/plain": [
       "[1] 0.09128709"
      ]
     },
     "metadata": {},
     "output_type": "display_data"
    }
   ],
   "source": [
    "1/sqrt(120)"
   ]
  },
  {
   "cell_type": "markdown",
   "metadata": {},
   "source": [
    "# 2. Bootstraping"
   ]
  },
  {
   "cell_type": "code",
   "execution_count": 30,
   "metadata": {},
   "outputs": [
    {
     "data": {
      "text/html": [
       "0.0870143964237516"
      ],
      "text/latex": [
       "0.0870143964237516"
      ],
      "text/markdown": [
       "0.0870143964237516"
      ],
      "text/plain": [
       "[1] 0.0870144"
      ]
     },
     "metadata": {},
     "output_type": "display_data"
    }
   ],
   "source": [
    "#Media\n",
    "m <- length(duraciones)\n",
    "Nrep <- 10000\n",
    "means <- rep(NA, Nrep)\n",
    "for (i in 1:Nrep){\n",
    "    means[i] <- mean(sample(duraciones, m, replace=T))\n",
    "}\n",
    "sd(means)/sqrt(m)"
   ]
  },
  {
   "cell_type": "code",
   "execution_count": 31,
   "metadata": {},
   "outputs": [],
   "source": [
    "m <- length(duraciones)\n",
    "Nrep <- 10000\n",
    "meds <- rep(NA, Nrep)\n",
    "for (i in 1:Nrep){\n",
    "    meds[i] <- median(sample(duraciones, m, replace=T))\n",
    "}\n"
   ]
  },
  {
   "cell_type": "code",
   "execution_count": 32,
   "metadata": {},
   "outputs": [
    {
     "data": {
      "text/html": [
       "0.102132021884207"
      ],
      "text/latex": [
       "0.102132021884207"
      ],
      "text/markdown": [
       "0.102132021884207"
      ],
      "text/plain": [
       "[1] 0.102132"
      ]
     },
     "metadata": {},
     "output_type": "display_data"
    }
   ],
   "source": [
    "sd(meds)/sqrt(m)"
   ]
  },
  {
   "cell_type": "code",
   "execution_count": 28,
   "metadata": {},
   "outputs": [
    {
     "data": {
      "image/png": "[encoded data removed]",
      "text/plain": [
       "Plot with title “Histogram of meds”"
      ]
     },
     "metadata": {},
     "output_type": "display_data"
    }
   ],
   "source": [
    "hist(meds)"
   ]
  },
  {
   "cell_type": "code",
   "execution_count": null,
   "metadata": {},
   "outputs": [],
   "source": []
  },
  {
   "cell_type": "code",
   "execution_count": null,
   "metadata": {},
   "outputs": [],
   "source": []
  }
 ],
 "metadata": {
  "kernelspec": {
   "display_name": "R [conda env:r] *",
   "language": "R",
   "name": "conda-env-r-r"
  },
  "language_info": {
   "codemirror_mode": "r",
   "file_extension": ".r",
   "mimetype": "text/x-r-source",
   "name": "R",
   "pygments_lexer": "r",
   "version": "3.6.3"
  }
 },
 "nbformat": 4,
 "nbformat_minor": 4
}
