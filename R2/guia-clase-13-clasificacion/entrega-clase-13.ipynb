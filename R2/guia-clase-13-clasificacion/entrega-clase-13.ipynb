{
 "cells": [
  {
   "cell_type": "markdown",
   "metadata": {},
   "source": [
    "# Ciencia de datos con R: Fundamentos Estadísticos\n",
    "## Seminario Elemental de Estadística con R 2020\n",
    "\n",
    "---\n",
    "\n",
    "**Alumno: Leandro Carreira**\n",
    "\n",
    "**LU: 669/18**\n",
    "\n",
    "---\n"
   ]
  },
  {
   "cell_type": "markdown",
   "metadata": {},
   "source": [
    "## Clasificador Vecinos Cercanos"
   ]
  },
  {
   "cell_type": "code",
   "execution_count": 185,
   "metadata": {},
   "outputs": [],
   "source": [
    "ClasificoVecinos <- function(X, Y, xNuevo, k=10){\n",
    "    # Ordeno las etiquetas Y en función de \n",
    "    # la distancia de xNuevo a cada valor de X\n",
    "    Y.ordenados <- Y[ order(abs(X - xNuevo)) ]\n",
    "    k.cercanos  <- Y.ordenados[1:k]\n",
    "    # Clasifica en favor de la clase 1 en empate con k par\n",
    "    pred <- as.numeric(mean(k.cercanos)>=0.5)\n",
    "    return(pred)\n",
    "}"
   ]
  },
  {
   "cell_type": "markdown",
   "metadata": {},
   "source": [
    "## Clasificador Promedio Móvil"
   ]
  },
  {
   "cell_type": "code",
   "execution_count": 187,
   "metadata": {},
   "outputs": [],
   "source": [
    "ClasificoMovil <- function(X, Y, xNuevo, h=1){\n",
    "    # Devuelve NA si no hay datos dentro de la ventana\n",
    "    # Filtro etiquetas de valores de X en ventana +/- h\n",
    "    Y.en.ventana <- Y[ X > xNuevo-h & X < xNuevo+h ]\n",
    "    # Clasifica en favor de la clase 1 en caso de empate\n",
    "    pred <- as.numeric(mean(Y.en.ventana)>=0.5)\n",
    "    return(pred)\n",
    "}"
   ]
  },
  {
   "cell_type": "markdown",
   "metadata": {},
   "source": [
    "## Clasificador Generativo\n",
    "\n",
    "Estimo la función de densidad condicional $f_{X|Y=1}(x)$ y $f_{X|Y=0}(x)$ , llamadas $f_1(x)$ y $f_0(x)$, usando la función `density` de R como se pide en el punto 6.\n",
    "\n",
    "Para evaluar estas funciones y obtener el *likelihood*, especifico un solo valor a estimar, desde y hasta un mismo valor `xNuevo`."
   ]
  },
  {
   "cell_type": "code",
   "execution_count": 201,
   "metadata": {},
   "outputs": [],
   "source": [
    "ClasificoGenerativo <- function(X, Y, xNuevo){\n",
    "    # Estimo probabilidades condicionadas con kernel gaussiano\n",
    "    f_1.x <- density(X[Y==1], k='gaussian', from=xNuevo, to=xNuevo, n=1)$y\n",
    "    f_0.x <- density(X[Y==0], k='gaussian', from=xNuevo, to=xNuevo, n=1)$y\n",
    "    # Estimo probilidades a priori de las clases\n",
    "    P_1 <- mean(Y)\n",
    "    P_0 <- 1 - P_1\n",
    "    # Uso regla de Bayes óptima para clasificación\n",
    "    pred <- as.numeric(f_1.x*P_1 >= f_0.x*P_0)\n",
    "    return(pred)\n",
    "}"
   ]
  }
 ],
 "metadata": {
  "jupytext": {
   "formats": "ipynb,Rmd"
  },
  "kernelspec": {
   "display_name": "R [conda env:r] *",
   "language": "R",
   "name": "conda-env-r-r"
  },
  "language_info": {
   "codemirror_mode": "r",
   "file_extension": ".r",
   "mimetype": "text/x-r-source",
   "name": "R",
   "pygments_lexer": "r",
   "version": "3.6.3"
  }
 },
 "nbformat": 4,
 "nbformat_minor": 4
}
