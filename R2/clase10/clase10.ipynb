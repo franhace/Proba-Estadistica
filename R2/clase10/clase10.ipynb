{
 "cells": [
  {
   "cell_type": "markdown",
   "metadata": {},
   "source": [
    "## 1)\n",
    "\n",
    "Lo mas probable es que sea aceptadora (Prior de 90%)"
   ]
  },
  {
   "cell_type": "markdown",
   "metadata": {},
   "source": [
    "## 2) \n",
    "\n",
    "P(Acep | Remu=5) = P(Remu=5|Acep) * P(Acep) / P(Remu=5)\n",
    "\n",
    "P(Remu=5) = P(Remu=5|Acep)*P(Acep) + P(Remu=5|Recha)*P(Recha)\n",
    "\n",
    "=0.3^5 * 0.3^3"
   ]
  },
  {
   "cell_type": "code",
   "execution_count": 17,
   "metadata": {},
   "outputs": [
    {
     "data": {
      "text/html": [
       "0.001012285"
      ],
      "text/latex": [
       "0.001012285"
      ],
      "text/markdown": [
       "0.001012285"
      ],
      "text/plain": [
       "[1] 0.001012285"
      ]
     },
     "metadata": {},
     "output_type": "display_data"
    }
   ],
   "source": [
    "# P remu = 5\n",
    "P.remu.5 = 0.3^5 * 0.7^3 * 0.9 + 0.8^5 * 0.2^3 * 0.1\n",
    "P.remu.5"
   ]
  },
  {
   "cell_type": "code",
   "execution_count": 18,
   "metadata": {},
   "outputs": [
    {
     "data": {
      "text/html": [
       "0.74103735608055"
      ],
      "text/latex": [
       "0.74103735608055"
      ],
      "text/markdown": [
       "0.74103735608055"
      ],
      "text/plain": [
       "[1] 0.7410374"
      ]
     },
     "metadata": {},
     "output_type": "display_data"
    }
   ],
   "source": [
    "# Proba de aceptadora dado que remueve 5\n",
    "0.3^5 * 0.7^3 * 0.9 / P.remu.5"
   ]
  },
  {
   "cell_type": "code",
   "execution_count": 19,
   "metadata": {},
   "outputs": [
    {
     "data": {
      "text/html": [
       "0.25896264391945"
      ],
      "text/latex": [
       "0.25896264391945"
      ],
      "text/markdown": [
       "0.25896264391945"
      ],
      "text/plain": [
       "[1] 0.2589626"
      ]
     },
     "metadata": {},
     "output_type": "display_data"
    }
   ],
   "source": [
    "# Proba de rechazadora dado que remueve 5\n",
    "0.8^5 * 0.2^3 * 0.1 / P.remu.5"
   ]
  },
  {
   "cell_type": "markdown",
   "metadata": {},
   "source": [
    "Diria que se trata de la especia rechazadora"
   ]
  },
  {
   "cell_type": "markdown",
   "metadata": {},
   "source": [
    "## 3)"
   ]
  },
  {
   "cell_type": "code",
   "execution_count": 20,
   "metadata": {},
   "outputs": [
    {
     "data": {
      "text/html": [
       "0.004100485"
      ],
      "text/latex": [
       "0.004100485"
      ],
      "text/markdown": [
       "0.004100485"
      ],
      "text/plain": [
       "[1] 0.004100485"
      ]
     },
     "metadata": {},
     "output_type": "display_data"
    }
   ],
   "source": [
    "# P remu = 3\n",
    "P.remu.3 = 0.3^3 * 0.7^5 * 0.9 + 0.8^3 * 0.2^5 * 0.1\n",
    "P.remu.3"
   ]
  },
  {
   "cell_type": "code",
   "execution_count": 21,
   "metadata": {},
   "outputs": [
    {
     "data": {
      "text/html": [
       "0.996004375092215"
      ],
      "text/latex": [
       "0.996004375092215"
      ],
      "text/markdown": [
       "0.996004375092215"
      ],
      "text/plain": [
       "[1] 0.9960044"
      ]
     },
     "metadata": {},
     "output_type": "display_data"
    }
   ],
   "source": [
    "# Proba de aceptadora dado que remueve 3\n",
    "0.3^3 * 0.7^5 * 0.9 / P.remu.3"
   ]
  },
  {
   "cell_type": "code",
   "execution_count": 22,
   "metadata": {},
   "outputs": [
    {
     "data": {
      "text/html": [
       "0.0039956249077853"
      ],
      "text/latex": [
       "0.0039956249077853"
      ],
      "text/markdown": [
       "0.0039956249077853"
      ],
      "text/plain": [
       "[1] 0.003995625"
      ]
     },
     "metadata": {},
     "output_type": "display_data"
    }
   ],
   "source": [
    "# Proba de aceptadora dado que remueve 3\n",
    "0.8^3 * 0.2^5 * 0.1 / P.remu.3"
   ]
  },
  {
   "cell_type": "code",
   "execution_count": null,
   "metadata": {},
   "outputs": [],
   "source": []
  }
 ],
 "metadata": {
  "kernelspec": {
   "display_name": "R",
   "language": "R",
   "name": "ir"
  },
  "language_info": {
   "codemirror_mode": "r",
   "file_extension": ".r",
   "mimetype": "text/x-r-source",
   "name": "R",
   "pygments_lexer": "r",
   "version": "3.6.3"
  }
 },
 "nbformat": 4,
 "nbformat_minor": 4
}
