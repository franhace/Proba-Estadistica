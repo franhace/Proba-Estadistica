{
 "cells": [
  {
   "cell_type": "code",
   "execution_count": 2,
   "metadata": {},
   "outputs": [],
   "source": [
    "datos.gas1 <- read.csv('./datos_gas1_n_100.csv')\n",
    "datos.gas2 <- read.csv('./datos_gas2_n_100.csv')\n",
    "datos.lamparas <- read.csv('./datos_lamparas_n_100.csv')"
   ]
  },
  {
   "cell_type": "code",
   "execution_count": 7,
   "metadata": {},
   "outputs": [
    {
     "data": {
      "image/png": "[encoded data removed]",
      "text/plain": [
       "Plot with title “Histogram of datos.lamparas$lamparas”"
      ]
     },
     "metadata": {
      "image/png": {
       "height": 420,
       "width": 420
      },
      "text/plain": {
       "height": 420,
       "width": 420
      }
     },
     "output_type": "display_data"
    }
   ],
   "source": [
    "par(mfrow=c(2,2))\n",
    "hist(datos.gas1$gas_equipo_1)\n",
    "hist(datos.gas2$gas_equipo_2)\n",
    "hist(datos.lamparas$lamparas)"
   ]
  },
  {
   "cell_type": "code",
   "execution_count": null,
   "metadata": {},
   "outputs": [],
   "source": []
  },
  {
   "cell_type": "code",
   "execution_count": 23,
   "metadata": {},
   "outputs": [
    {
     "data": {
      "text/html": [
       "69.33"
      ],
      "text/latex": [
       "69.33"
      ],
      "text/markdown": [
       "69.33"
      ],
      "text/plain": [
       "[1] 69.33"
      ]
     },
     "metadata": {},
     "output_type": "display_data"
    },
    {
     "data": {
      "text/html": [
       "69.9813333333333"
      ],
      "text/latex": [
       "69.9813333333333"
      ],
      "text/markdown": [
       "69.9813333333333"
      ],
      "text/plain": [
       "[1] 69.98133"
      ]
     },
     "metadata": {},
     "output_type": "display_data"
    },
    {
     "data": {
      "text/html": [
       "70.0184"
      ],
      "text/latex": [
       "70.0184"
      ],
      "text/markdown": [
       "70.0184"
      ],
      "text/plain": [
       "[1] 70.0184"
      ]
     },
     "metadata": {},
     "output_type": "display_data"
    }
   ],
   "source": [
    "mean(datos.gas2[1:5,1])\n",
    "mean(datos.gas2[1:30,1])\n",
    "mean(datos.gas2[,1])"
   ]
  },
  {
   "cell_type": "code",
   "execution_count": 24,
   "metadata": {},
   "outputs": [
    {
     "data": {
      "text/html": [
       "<strong>90%:</strong> 70.844"
      ],
      "text/latex": [
       "\\textbf{90\\textbackslash{}\\%:} 70.844"
      ],
      "text/markdown": [
       "**90%:** 70.844"
      ],
      "text/plain": [
       "   90% \n",
       "70.844 "
      ]
     },
     "metadata": {},
     "output_type": "display_data"
    },
    {
     "data": {
      "text/html": [
       "<strong>90%:</strong> 72.374"
      ],
      "text/latex": [
       "\\textbf{90\\textbackslash{}\\%:} 72.374"
      ],
      "text/markdown": [
       "**90%:** 72.374"
      ],
      "text/plain": [
       "   90% \n",
       "72.374 "
      ]
     },
     "metadata": {},
     "output_type": "display_data"
    },
    {
     "data": {
      "text/html": [
       "<strong>90%:</strong> 72.298"
      ],
      "text/latex": [
       "\\textbf{90\\textbackslash{}\\%:} 72.298"
      ],
      "text/markdown": [
       "**90%:** 72.298"
      ],
      "text/plain": [
       "   90% \n",
       "72.298 "
      ]
     },
     "metadata": {},
     "output_type": "display_data"
    }
   ],
   "source": [
    "quantile(datos.gas2[1:5,1], 0.9)\n",
    "quantile(datos.gas2[1:30,1], 0.9)\n",
    "quantile(datos.gas2[1:100,1], 0.9)\n"
   ]
  },
  {
   "cell_type": "code",
   "execution_count": 25,
   "metadata": {},
   "outputs": [
    {
     "data": {
      "text/html": [
       "8.82"
      ],
      "text/latex": [
       "8.82"
      ],
      "text/markdown": [
       "8.82"
      ],
      "text/plain": [
       "[1] 8.82"
      ]
     },
     "metadata": {},
     "output_type": "display_data"
    },
    {
     "data": {
      "text/html": [
       "11.0566666666667"
      ],
      "text/latex": [
       "11.0566666666667"
      ],
      "text/markdown": [
       "11.0566666666667"
      ],
      "text/plain": [
       "[1] 11.05667"
      ]
     },
     "metadata": {},
     "output_type": "display_data"
    },
    {
     "data": {
      "text/html": [
       "10.644"
      ],
      "text/latex": [
       "10.644"
      ],
      "text/markdown": [
       "10.644"
      ],
      "text/plain": [
       "[1] 10.644"
      ]
     },
     "metadata": {},
     "output_type": "display_data"
    }
   ],
   "source": [
    "mean(datos.lamparas[1:5,1])\n",
    "mean(datos.lamparas[1:30,1])\n",
    "mean(datos.lamparas[1:100,1])"
   ]
  },
  {
   "cell_type": "code",
   "execution_count": 26,
   "metadata": {},
   "outputs": [
    {
     "data": {
      "text/html": [
       "<strong>90%:</strong> 14.08"
      ],
      "text/latex": [
       "\\textbf{90\\textbackslash{}\\%:} 14.08"
      ],
      "text/markdown": [
       "**90%:** 14.08"
      ],
      "text/plain": [
       "  90% \n",
       "14.08 "
      ]
     },
     "metadata": {},
     "output_type": "display_data"
    },
    {
     "data": {
      "text/html": [
       "<strong>90%:</strong> 23.07"
      ],
      "text/latex": [
       "\\textbf{90\\textbackslash{}\\%:} 23.07"
      ],
      "text/markdown": [
       "**90%:** 23.07"
      ],
      "text/plain": [
       "  90% \n",
       "23.07 "
      ]
     },
     "metadata": {},
     "output_type": "display_data"
    },
    {
     "data": {
      "text/html": [
       "<strong>90%:</strong> 23.93"
      ],
      "text/latex": [
       "\\textbf{90\\textbackslash{}\\%:} 23.93"
      ],
      "text/markdown": [
       "**90%:** 23.93"
      ],
      "text/plain": [
       "  90% \n",
       "23.93 "
      ]
     },
     "metadata": {},
     "output_type": "display_data"
    }
   ],
   "source": [
    "quantile(datos.lamparas[1:5,1], 0.9)\n",
    "quantile(datos.lamparas[1:30,1], 0.9)\n",
    "quantile(datos.lamparas[1:100,1], 0.9)\n"
   ]
  },
  {
   "cell_type": "code",
   "execution_count": 29,
   "metadata": {},
   "outputs": [
    {
     "data": {
      "text/html": [
       "0.58"
      ],
      "text/latex": [
       "0.58"
      ],
      "text/markdown": [
       "0.58"
      ],
      "text/plain": [
       "[1] 0.58"
      ]
     },
     "metadata": {},
     "output_type": "display_data"
    }
   ],
   "source": [
    "mean(datos.gas1[,1]>72 | datos.gas1[,1]<68)"
   ]
  },
  {
   "cell_type": "code",
   "execution_count": 30,
   "metadata": {},
   "outputs": [
    {
     "data": {
      "text/html": [
       "0.32"
      ],
      "text/latex": [
       "0.32"
      ],
      "text/markdown": [
       "0.32"
      ],
      "text/plain": [
       "[1] 0.32"
      ]
     },
     "metadata": {},
     "output_type": "display_data"
    }
   ],
   "source": [
    "mean(datos.gas2[,1]>72 | datos.gas2[,1]<68)"
   ]
  },
  {
   "cell_type": "code",
   "execution_count": 32,
   "metadata": {},
   "outputs": [
    {
     "data": {
      "text/html": [
       "0.4"
      ],
      "text/latex": [
       "0.4"
      ],
      "text/markdown": [
       "0.4"
      ],
      "text/plain": [
       "[1] 0.4"
      ]
     },
     "metadata": {},
     "output_type": "display_data"
    },
    {
     "data": {
      "text/html": [
       "0.366666666666667"
      ],
      "text/latex": [
       "0.366666666666667"
      ],
      "text/markdown": [
       "0.366666666666667"
      ],
      "text/plain": [
       "[1] 0.3666667"
      ]
     },
     "metadata": {},
     "output_type": "display_data"
    },
    {
     "data": {
      "text/html": [
       "0.32"
      ],
      "text/latex": [
       "0.32"
      ],
      "text/markdown": [
       "0.32"
      ],
      "text/plain": [
       "[1] 0.32"
      ]
     },
     "metadata": {},
     "output_type": "display_data"
    }
   ],
   "source": [
    "mean(datos.lamparas[1:5,1]>12)\n",
    "mean(datos.lamparas[1:30,1]>12)\n",
    "mean(datos.lamparas[,1]>12)"
   ]
  },
  {
   "cell_type": "code",
   "execution_count": null,
   "metadata": {},
   "outputs": [],
   "source": []
  },
  {
   "cell_type": "code",
   "execution_count": 38,
   "metadata": {},
   "outputs": [
    {
     "data": {
      "image/png": "[encoded data removed]",
      "text/plain": [
       "plot without title"
      ]
     },
     "metadata": {},
     "output_type": "display_data"
    }
   ],
   "source": [
    "boxplot(datos.lamparas[1:5,1], datos.lamparas[1:30,1], datos.lamparas[1:100,1])"
   ]
  },
  {
   "cell_type": "code",
   "execution_count": null,
   "metadata": {},
   "outputs": [],
   "source": []
  }
 ],
 "metadata": {
  "kernelspec": {
   "display_name": "R",
   "language": "R",
   "name": "ir"
  },
  "language_info": {
   "codemirror_mode": "r",
   "file_extension": ".r",
   "mimetype": "text/x-r-source",
   "name": "R",
   "pygments_lexer": "r",
   "version": "3.6.1"
  }
 },
 "nbformat": 4,
 "nbformat_minor": 4
}
