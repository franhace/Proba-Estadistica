{
 "cells": [
  {
   "cell_type": "code",
   "execution_count": null,
   "metadata": {},
   "outputs": [],
   "source": [
    "# Ej donde vamos a buscar el mejor predictor lineal(recta de regresion lineal)  entre 2 variables"
   ]
  },
  {
   "cell_type": "code",
   "execution_count": 15,
   "metadata": {},
   "outputs": [
    {
     "data": {
      "text/html": [
       "<style>\n",
       ".list-inline {list-style: none; margin:0; padding: 0}\n",
       ".list-inline>li {display: inline-block}\n",
       ".list-inline>li:not(:last-child)::after {content: \"\\00b7\"; padding: 0 .5ex}\n",
       "</style>\n",
       "<ol class=list-inline><li>'Tree'</li><li>'age'</li><li>'circumference'</li></ol>\n"
      ],
      "text/latex": [
       "\\begin{enumerate*}\n",
       "\\item 'Tree'\n",
       "\\item 'age'\n",
       "\\item 'circumference'\n",
       "\\end{enumerate*}\n"
      ],
      "text/markdown": [
       "1. 'Tree'\n",
       "2. 'age'\n",
       "3. 'circumference'\n",
       "\n",
       "\n"
      ],
      "text/plain": [
       "[1] \"Tree\"          \"age\"           \"circumference\""
      ]
     },
     "metadata": {},
     "output_type": "display_data"
    },
    {
     "data": {
      "text/html": [
       "<table>\n",
       "<caption>A nfnGroupedData: 6 × 3</caption>\n",
       "<thead>\n",
       "\t<tr><th></th><th scope=col>Tree</th><th scope=col>age</th><th scope=col>circumference</th></tr>\n",
       "\t<tr><th></th><th scope=col>&lt;ord&gt;</th><th scope=col>&lt;dbl&gt;</th><th scope=col>&lt;dbl&gt;</th></tr>\n",
       "</thead>\n",
       "<tbody>\n",
       "\t<tr><th scope=row>1</th><td>1</td><td> 118</td><td> 30</td></tr>\n",
       "\t<tr><th scope=row>2</th><td>1</td><td> 484</td><td> 58</td></tr>\n",
       "\t<tr><th scope=row>3</th><td>1</td><td> 664</td><td> 87</td></tr>\n",
       "\t<tr><th scope=row>4</th><td>1</td><td>1004</td><td>115</td></tr>\n",
       "\t<tr><th scope=row>5</th><td>1</td><td>1231</td><td>120</td></tr>\n",
       "\t<tr><th scope=row>6</th><td>1</td><td>1372</td><td>142</td></tr>\n",
       "</tbody>\n",
       "</table>\n"
      ],
      "text/latex": [
       "A nfnGroupedData: 6 × 3\n",
       "\\begin{tabular}{r|lll}\n",
       "  & Tree & age & circumference\\\\\n",
       "  & <ord> & <dbl> & <dbl>\\\\\n",
       "\\hline\n",
       "\t1 & 1 &  118 &  30\\\\\n",
       "\t2 & 1 &  484 &  58\\\\\n",
       "\t3 & 1 &  664 &  87\\\\\n",
       "\t4 & 1 & 1004 & 115\\\\\n",
       "\t5 & 1 & 1231 & 120\\\\\n",
       "\t6 & 1 & 1372 & 142\\\\\n",
       "\\end{tabular}\n"
      ],
      "text/markdown": [
       "\n",
       "A nfnGroupedData: 6 × 3\n",
       "\n",
       "| <!--/--> | Tree &lt;ord&gt; | age &lt;dbl&gt; | circumference &lt;dbl&gt; |\n",
       "|---|---|---|---|\n",
       "| 1 | 1 |  118 |  30 |\n",
       "| 2 | 1 |  484 |  58 |\n",
       "| 3 | 1 |  664 |  87 |\n",
       "| 4 | 1 | 1004 | 115 |\n",
       "| 5 | 1 | 1231 | 120 |\n",
       "| 6 | 1 | 1372 | 142 |\n",
       "\n"
      ],
      "text/plain": [
       "  Tree age  circumference\n",
       "1 1     118  30          \n",
       "2 1     484  58          \n",
       "3 1     664  87          \n",
       "4 1    1004 115          \n",
       "5 1    1231 120          \n",
       "6 1    1372 142          "
      ]
     },
     "metadata": {},
     "output_type": "display_data"
    },
    {
     "data": {
      "text/html": [
       "<style>\n",
       ".dl-inline {width: auto; margin:0; padding: 0}\n",
       ".dl-inline>dt, .dl-inline>dd {float: none; width: auto; display: inline-block}\n",
       ".dl-inline>dt::after {content: \":\\0020\"; padding-right: .5ex}\n",
       ".dl-inline>dt:not(:first-of-type) {padding-left: .5ex}\n",
       "</style><dl class=dl-inline><dt>3</dt><dd>7</dd><dt>1</dt><dd>7</dd><dt>5</dt><dd>7</dd><dt>2</dt><dd>7</dd><dt>4</dt><dd>7</dd></dl>\n"
      ],
      "text/latex": [
       "\\begin{description*}\n",
       "\\item[3] 7\n",
       "\\item[1] 7\n",
       "\\item[5] 7\n",
       "\\item[2] 7\n",
       "\\item[4] 7\n",
       "\\end{description*}\n"
      ],
      "text/markdown": [
       "3\n",
       ":   71\n",
       ":   75\n",
       ":   72\n",
       ":   74\n",
       ":   7\n",
       "\n"
      ],
      "text/plain": [
       "3 1 5 2 4 \n",
       "7 7 7 7 7 "
      ]
     },
     "metadata": {},
     "output_type": "display_data"
    },
    {
     "data": {
      "text/plain": [
       "   Min. 1st Qu.  Median    Mean 3rd Qu.    Max. \n",
       "  118.0   484.0  1004.0   922.1  1372.0  1582.0 "
      ]
     },
     "metadata": {},
     "output_type": "display_data"
    },
    {
     "data": {
      "text/plain": [
       "   Min. 1st Qu.  Median    Mean 3rd Qu.    Max. \n",
       "   30.0    65.5   115.0   115.9   161.5   214.0 "
      ]
     },
     "metadata": {},
     "output_type": "display_data"
    }
   ],
   "source": [
    "data(Orange)\n",
    "colnames(Orange)\n",
    "head(Orange)\n",
    "summary(Orange$Tree)\n",
    "summary(Orange$age)\n",
    "summary(Orange$circumference)"
   ]
  },
  {
   "cell_type": "code",
   "execution_count": null,
   "outputs": [],
   "source": [
    "a<-((Orange)[-c(1, 2, 11, 13),])\n",
    "# edad media\n",
    "mean(a$age)\n",
    "# de circum\n",
    "sd(a$circumference)\n",
    "# edad media naranjos tipo 2\n",
    "edades2<-a[which(a$Tree==2),]\n",
    "edades2$age\n",
    "median(edades2$age)\n",
    "# pendiente recta de regresion predecir edad usando circum\n",
    "ajuste1<-(lm.fit=lm(age~circumference,data=a))\n",
    "# recta de regresion > y = alpha + beta.x \n",
    "# donde alpha es el primer numero que da y beta el segundo\n",
    "ajuste1\n",
    "\n",
    "# hacemos el plot \n",
    "with(data=Orange, plot(circumference, age))\n",
    "\n",
    "# dibujamos la recta de regresion lineal encima\n",
    "abline(ajuste1$coefficients)\n",
    "\n",
    "# para predecir la edad de un naranjo usando la circum\n",
    "x<-97\n",
    "w <- 12.038+8.017*x\n",
    "w"
   ],
   "metadata": {
    "collapsed": false,
    "pycharm": {
     "name": "#%%\n"
    }
   }
  },
  {
   "cell_type": "code",
   "execution_count": 41,
   "metadata": {},
   "outputs": [
    {
     "data": {
      "text/html": [
       "945.064516129032"
      ],
      "text/latex": [
       "945.064516129032"
      ],
      "text/markdown": [
       "945.064516129032"
      ],
      "text/plain": [
       "[1] 945.0645"
      ]
     },
     "metadata": {},
     "output_type": "display_data"
    },
    {
     "data": {
      "text/html": [
       "55.5077636728142"
      ],
      "text/latex": [
       "55.5077636728142"
      ],
      "text/markdown": [
       "55.5077636728142"
      ],
      "text/plain": [
       "[1] 55.50776"
      ]
     },
     "metadata": {},
     "output_type": "display_data"
    },
    {
     "data": {
      "text/html": [
       "<style>\n",
       ".list-inline {list-style: none; margin:0; padding: 0}\n",
       ".list-inline>li {display: inline-block}\n",
       ".list-inline>li:not(:last-child)::after {content: \"\\00b7\"; padding: 0 .5ex}\n",
       "</style>\n",
       "<ol class=list-inline><li>118</li><li>484</li><li>664</li><li>1231</li><li>1582</li></ol>\n"
      ],
      "text/latex": [
       "\\begin{enumerate*}\n",
       "\\item 118\n",
       "\\item 484\n",
       "\\item 664\n",
       "\\item 1231\n",
       "\\item 1582\n",
       "\\end{enumerate*}\n"
      ],
      "text/markdown": [
       "1. 118\n",
       "2. 484\n",
       "3. 664\n",
       "4. 1231\n",
       "5. 1582\n",
       "\n",
       "\n"
      ],
      "text/plain": [
       "[1]  118  484  664 1231 1582"
      ]
     },
     "metadata": {},
     "output_type": "display_data"
    },
    {
     "data": {
      "text/html": [
       "664"
      ],
      "text/latex": [
       "664"
      ],
      "text/markdown": [
       "664"
      ],
      "text/plain": [
       "[1] 664"
      ]
     },
     "metadata": {},
     "output_type": "display_data"
    },
    {
     "data": {
      "text/plain": [
       "\n",
       "Call:\n",
       "lm(formula = age ~ circumference, data = a)\n",
       "\n",
       "Coefficients:\n",
       "  (Intercept)  circumference  \n",
       "       12.038          8.017  \n"
      ]
     },
     "metadata": {},
     "output_type": "display_data"
    },
    {
     "data": {
      "text/html": [
       "789.687"
      ],
      "text/latex": [
       "789.687"
      ],
      "text/markdown": [
       "789.687"
      ],
      "text/plain": [
       "[1] 789.687"
      ]
     },
     "metadata": {},
     "output_type": "display_data"
    },
    {
     "data": {
      "image/png": "[encoded data removed]",
      "text/plain": [
       "plot without title"
      ]
     },
     "metadata": {
      "image/png": {
       "height": 420,
       "width": 420
      },
      "text/plain": {
       "height": 420,
       "width": 420
      }
     },
     "output_type": "display_data"
    }
   ],
   "source": [
    "mean(Orange$age)"
   ]
  },
  {
   "cell_type": "code",
   "execution_count": 4,
   "metadata": {},
   "outputs": [
    {
     "data": {
      "text/html": [
       "922.142857142857"
      ],
      "text/latex": [
       "922.142857142857"
      ],
      "text/markdown": [
       "922.142857142857"
      ],
      "text/plain": [
       "[1] 922.1429"
      ]
     },
     "metadata": {},
     "output_type": "display_data"
    }
   ],
   "source": [
    "mean(Orange$age)"
   ]
  },
  {
   "cell_type": "code",
   "execution_count": 6,
   "metadata": {},
   "outputs": [
    {
     "data": {
      "text/html": [
       "57.4881792745476"
      ],
      "text/latex": [
       "57.4881792745476"
      ],
      "text/markdown": [
       "57.4881792745476"
      ],
      "text/plain": [
       "[1] 57.48818"
      ]
     },
     "metadata": {},
     "output_type": "display_data"
    }
   ],
   "source": [
    "sd(Orange$circumference)"
   ]
  },
  {
   "cell_type": "code",
   "execution_count": 8,
   "metadata": {},
   "outputs": [
    {
     "data": {
      "text/html": [
       "1004"
      ],
      "text/latex": [
       "1004"
      ],
      "text/markdown": [
       "1004"
      ],
      "text/plain": [
       "[1] 1004"
      ]
     },
     "metadata": {},
     "output_type": "display_data"
    }
   ],
   "source": [
    "edades3<-Orange[which(Orange$Tree==3),]\n",
    "median(edades3$age)"
   ]
  },
  {
   "cell_type": "code",
   "execution_count": 78,
   "metadata": {},
   "outputs": [
    {
     "data": {
      "text/plain": [
       "\n",
       "Call:\n",
       "lm(formula = age ~ circumference, data = Orange)\n",
       "\n",
       "Coefficients:\n",
       "  (Intercept)  circumference  \n",
       "       16.604          7.816  \n"
      ]
     },
     "metadata": {},
     "output_type": "display_data"
    },
    {
     "data": {
      "image/png": "[encoded data removed]",
      "text/plain": [
       "plot without title"
      ]
     },
     "metadata": {
      "image/png": {
       "height": 420,
       "width": 420
      },
      "text/plain": {
       "height": 420,
       "width": 420
      }
     },
     "output_type": "display_data"
    }
   ],
   "source": [
    "# Hallar la recta de regresion que permite predecir la edad de un naranjo usando la circunferencia del tronco\n",
    "ajuste1<-(lm.fit=lm(age~circumference,data=Orange))\n",
    "\n",
    "# recta de regresion > y = alpha + beta.x \n",
    "# donde alpha es el primer numero que da y beta el segundo\n",
    "ajuste1\n",
    "\n",
    "# hacemos el plot \n",
    "with(data=Orange, plot(circumference, age))\n",
    "\n",
    "# dibujamos la recta de regresion lineal encima\n",
    "abline(ajuste1$coefficients)"
   ]
  },
  {
   "cell_type": "code",
   "execution_count": 79,
   "metadata": {},
   "outputs": [
    {
     "name": "stdout",
     "output_type": "stream",
     "text": [
      "alpha: 16.60361\n",
      "beta: 7.815998"
     ]
    },
    {
     "data": {
      "text/html": [
       "'recta regresion: y = 16.6036088608173 + 7.81599844386471x'"
      ],
      "text/latex": [
       "'recta regresion: y = 16.6036088608173 + 7.81599844386471x'"
      ],
      "text/markdown": [
       "'recta regresion: y = 16.6036088608173 + 7.81599844386471x'"
      ],
      "text/plain": [
       "recta regresion: y = 16.6036088608173 + 7.81599844386471x"
      ]
     },
     "metadata": {},
     "output_type": "display_data"
    }
   ],
   "source": [
    "# Haciendolo a mano \n",
    "# El mejor predictor lineal de Y basado en X segun el criterio del ECM es:\n",
    "# recta de regresion > y = alpha + beta.x \n",
    "\n",
    "# definimos nuestras variables\n",
    "X<-Orange$circumference\n",
    "Y<-Orange$age\n",
    "\n",
    "mean_X<-mean(X)\n",
    "sd_X<-sd(X)\n",
    "mean_Y<-mean(Y)\n",
    "sd_Y<-sd(Y)\n",
    "corr_XY<-cor(X,Y)\n",
    "\n",
    "# coeficientes de la recta\n",
    "alpha = mean_Y - (sd_Y/sd_X)*corr_XY*mean_X\n",
    "beta = (sd_Y/sd_X)*corr_XY\n",
    "\n",
    "cat(\"alpha:\",alpha)\n",
    "cat(\"\\nbeta:\",beta)\n",
    "library(glue)\n",
    "i = glue(\"recta regresion: y = {alpha} + {beta}x\")\n",
    "i"
   ]
  },
  {
   "cell_type": "code",
   "execution_count": 77,
   "metadata": {},
   "outputs": [
    {
     "data": {
      "text/html": [
       "'edad estimada de un naranjo de 150.4mm de circumferencia: 1192.12977481807'"
      ],
      "text/latex": [
       "'edad estimada de un naranjo de 150.4mm de circumferencia: 1192.12977481807'"
      ],
      "text/markdown": [
       "'edad estimada de un naranjo de 150.4mm de circumferencia: 1192.12977481807'"
      ],
      "text/plain": [
       "edad estimada de un naranjo de 150.4mm de circumferencia: 1192.12977481807"
      ]
     },
     "metadata": {},
     "output_type": "display_data"
    }
   ],
   "source": [
    "# Si quisieramos predecir la edad de un naranjo a partir de una circumferencia de 150.4mm\n",
    "x<-150.4\n",
    "y<-alpha+beta*x\n",
    "\n",
    "j = glue(\"edad estimada de un naranjo de {x}mm de circumferencia: {y}\")\n",
    "j"
   ]
  }
 ],
 "metadata": {
  "kernelspec": {
   "display_name": "R",
   "language": "R",
   "name": "ir"
  },
  "language_info": {
   "codemirror_mode": "r",
   "file_extension": ".r",
   "mimetype": "text/x-r-source",
   "name": "R",
   "pygments_lexer": "r",
   "version": "3.6.3"
  }
 },
 "nbformat": 4,
 "nbformat_minor": 1
}