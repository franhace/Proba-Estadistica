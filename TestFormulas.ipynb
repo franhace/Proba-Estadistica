{
 "cells": [
  {
   "cell_type": "code",
   "execution_count": 47,
   "metadata": {},
   "outputs": [
    {
     "name": "stdout",
     "output_type": "stream",
     "text": [
      "2.213594"
     ]
    },
    {
     "data": {
      "text/html": [
       "'region de rechazo: -1.64485362695147 -&gt; inf \\n\\nse rechaza H0? TRUE'"
      ],
      "text/latex": [
       "'region de rechazo: -1.64485362695147 -> inf \\textbackslash{}n\\textbackslash{}nse rechaza H0? TRUE'"
      ],
      "text/markdown": [
       "'region de rechazo: -1.64485362695147 -&gt; inf \\n\\nse rechaza H0? TRUE'"
      ],
      "text/plain": [
       "region de rechazo: -1.64485362695147 -> inf \n",
       "\n",
       "se rechaza H0? TRUE"
      ]
     },
     "metadata": {},
     "output_type": "display_data"
    },
    {
     "data": {
      "text/html": [
       "TRUE"
      ],
      "text/latex": [
       "TRUE"
      ],
      "text/markdown": [
       "TRUE"
      ],
      "text/plain": [
       "[1] TRUE"
      ]
     },
     "metadata": {},
     "output_type": "display_data"
    }
   ],
   "source": [
    "## ESTE ES EL POSTA!\n",
    "library(glue)\n",
    "promedio<-60\n",
    "muestra<-c(37, 39.50, 41.70, 42 ,40, 41.25, 43, 44.05,38,38.50)\n",
    "promedio<-mean(muestra)\n",
    "# n<-25\n",
    "n<-length(muestra)\n",
    "alpha<-0.05\n",
    "nivel<-1-alpha\n",
    "mu0<-37\n",
    "s<-sqrt(25) # = sd(muestra)\n",
    "# s<-sd(muestra)\n",
    "s_cuadr<-s**2 # = var(muestra)\n",
    "sigma0_cuadr<-\n",
    "\n",
    "### Distribucion NORMAL(mu, sigma²) ###\n",
    "\n",
    "### Si buscamos intervalo para mu: ###\n",
    "# Conocemos sigma\n",
    "# 1 - 1 : elegir el sd (Normal Std)\n",
    "# Desconocemos sigma\n",
    "# 1 - 0 : elegir el s_cuadr (T-student)\n",
    "\n",
    "### Si buscamos intervalo para sigma: ###\n",
    "# Conocemos mu\n",
    "# 0 - 0: (Chi_Cuadrado n)\n",
    "# Desconocemos mu\n",
    "# 0 - 1 : elegir el s_cuadr (Chi_Cuadrado n-1)\n",
    "\n",
    "\n",
    "# Si calculamos una proporcion clase 1 \n",
    "# si es un promedio clase es 0\n",
    "tipo_test<-1\n",
    "mu_cond<-1\n",
    "sigma_cond<-1\n",
    "asint<-0\n",
    "\n",
    "if (mu_cond==1 & sigma_cond==1){\n",
    "    \n",
    "    # # var<- 0.25 # no confundirse con sd\n",
    "    # sd<-sqrt(var)\n",
    "    z_alpha<-qnorm(alpha)\n",
    "    t_obs <- sqrt(n)*(promedio-mu0)/s\n",
    "    cat(t_obs)\n",
    "    # Tipo de test: 1 2 3\n",
    "    if (tipo_test==1){\n",
    "            v <-t_obs>=z_alpha\n",
    "            glue(\"region de rechazo: {z_alpha} -> inf \\n\\n se rechaza H0? {v}\")\n",
    "    } else if(tipo_test==2){\n",
    "            z_alpha_m1<-z_alpha\n",
    "            v <-t_obs<=z_alpha_m1\n",
    "            glue(\"region de rechazo: -inf -> {z_alpha_m1} \\n\\n se rechaza H0? {v}\")\n",
    "    } else {\n",
    "        z_alpha<-qnorm(alpha/2)\n",
    "        v <-abs(t_obs)>=z_alpha\n",
    "        if (z_alpha>0){\n",
    "            glue(\"region de rechazo: -inf -> {-z_alpha} y {z_alpha} -> inf \\n\\n se rechaza H0? {v}\")\n",
    "        } else {\n",
    "        glue(\"region de rechazo: -inf -> {z_alpha} y {-z_alpha} -> inf \\n\\n se rechaza H0? {v}\")\n",
    "        }   \n",
    "    }\n",
    "    \n",
    "    \n",
    "    } else if ((mu_cond==1 & sigma_cond==0) | (mu_cond==0 & sigma_cond==1)) {\n",
    "    # Asi tomamos las 2 que usan S²\n",
    "    # Si sigma desconocido usamos S²\n",
    "    # a medida que n->inf, t_n-1->Z\n",
    "\n",
    "    # s_cuadr<-2/(n-1)\n",
    "    # s_cuadr<-sd**2\n",
    "    #s<-340\n",
    "    #s_cuadr<-s**2\n",
    "\n",
    "    if (mu_cond==1){\n",
    "    t_n_menos1_a<-qt(alpha,n-1,lower.tail = FALSE)\n",
    "    glue(\" t_n_menos1_a: {t_n_menos1_a} \")\n",
    "    t_obs <- sqrt(n)*(promedio-mu0)/s\n",
    "    cat(t_obs)\n",
    "    # Tipo de test: 1 2 3\n",
    "    if (tipo_test==1){\n",
    "            v <-t_obs>=t_n_menos1_a\n",
    "            glue(\"region de rechazo: {t_n_menos1_a} -> inf \\n\\n se rechaza H0? {v}\")\n",
    "    } else if(tipo_test==2){\n",
    "            menos_t_n_menos1_a<-t_n_menos1_a*(-1)\n",
    "            v <-t_obs<=menos_t_n_menos1_a\n",
    "            glue(\"region de rechazo: -inf -> {menos_t_n_menos1_a} \\n\\n se rechaza H0? {v}\")\n",
    "    } else {\n",
    "        t_n_menos1_a<-qt(alpha/2,n-1,lower.tail = FALSE)\n",
    "        v <-abs(t_obs)>=t_n_menos1_a\n",
    "        if (t_n_menos1_a > 0){\n",
    "            glue(\"region de rechazo: -inf -> {-t_n_menos1_a} y {t_n_menos1_a} -> inf \\n\\n se rechaza H0? {v}\")\n",
    "        } else {\n",
    "            glue(\"region de rechazo: -inf -> {t_n_menos1_a} y {-t_n_menos1_a} -> inf \\n\\n se rechaza H0? {v}\")\n",
    "        }  \n",
    "    }\n",
    "\n",
    "    } else {\n",
    "    qchisq_n_menos1_a<- qchisq(alpha,n-1,lower.tail = FALSE)\n",
    "    qchisq_n_menos1_1_menos_a<-qchisq(1-alpha,n-1, lower.tail = FALSE)\n",
    "    qchisq_n_menos1_a_2<- qchisq(alpha/2,n-1,lower.tail = FALSE)\n",
    "    \n",
    "    t_obs <- (n-1)*(s_cuadr)/sigma0_cuadr\n",
    "    cat(t_obs)\n",
    "    if (tipo_test==1){\n",
    "            v <-t_obs>=qchisq_n_menos1_a\n",
    "            glue(\"region de rechazo: {qchisq_n_menos1_a} -> inf \\n\\n se rechaza H0? {v}\")\n",
    "    } else if(tipo_test==2){\n",
    "            menos_qchisq_n_menos1_a<-qchisq_n_menos1_a*(-1)\n",
    "            v <-t_obs<=menos_qchisq_n_menos1_a\n",
    "            glue(\"region de rechazo: -inf -> {menos_qchisq_n_menos1_a} \\n\\n se rechaza H0? {v}\")\n",
    "    } else {\n",
    "        qchisq_n_menos1_a_2<-qt(alpha/2,n-1,lower.tail = FALSE)\n",
    "        v <-abs(t_obs)>=qchisq_n_menos1_a_2\n",
    "        if (qchisq_n_menos1_a_2 > 0){\n",
    "            glue(\"region de rechazo: -inf -> {-qchisq_n_menos1_a_2} y {qchisq_n_menos1_a_2} -> inf \\n\\n se rechaza H0? {v}\")\n",
    "        } else {\n",
    "            glue(\"region de rechazo: -inf -> {qchisq_n_menos1_a_2} y {-qchisq_n_menos1_a_2} -> inf \\n\\n se rechaza H0? {v}\")\n",
    "        }  \n",
    "    }\n",
    "        }\n",
    "    \n",
    "    } else {\n",
    "\n",
    "    # mean<-2\n",
    "    # X<-3\n",
    "    # u<-sum(X-mean)**2\n",
    "\n",
    "    # S_cuadr representa: S²\n",
    "    # S_cuadr<-241.9234\n",
    "    cat(\"HOLA\")\n",
    "    qchisq_n_a_2<- qchisq(alpha/2,n,lower.tail = FALSE)\n",
    "    qchisq_n_1_menos_a_2<-qchisq(1-alpha/2,n, lower.tail = FALSE)\n",
    "    IC_izq<- sum((muestra-mu)**2) / qchisq_n_a_2\n",
    "    IC_der<- sum((muestra-mu)**2) / qchisq_n_1_menos_a_2\n",
    "    glue(\" IC: de nivel {nivel} para sigma con mu conocido [ {IC_izq} , {IC_der} ]\") \n",
    "    }\n",
    "\n",
    "\n",
    "# p-valor\n",
    "# OJO: fijarse el tipo de test y cambiar en ese caso\n",
    "t_obs<--2.263179\n",
    "p_val<-pt(t_obs, df = n-1)\n",
    "p_val<alpha"
   ]
  },
  {
   "cell_type": "code",
   "execution_count": 34,
   "metadata": {},
   "outputs": [
    {
     "data": {
      "text/plain": [
       "\n",
       "\tOne-sample z-Test\n",
       "\n",
       "data:  datos\n",
       "z = 2.2136, p-value = 0.01343\n",
       "alternative hypothesis: true mean is greater than 37\n",
       "95 percent confidence interval:\n",
       " 37.89926       NA\n",
       "sample estimates:\n",
       "mean of x \n",
       "     40.5 \n"
      ]
     },
     "metadata": {},
     "output_type": "display_data"
    },
    {
     "data": {
      "text/plain": [
       "\n",
       "\tOne Sample t-test\n",
       "\n",
       "data:  datos\n",
       "t = 4.8508, df = 9, p-value = 0.0004537\n",
       "alternative hypothesis: true mean is greater than 37\n",
       "95 percent confidence interval:\n",
       " 39.17735      Inf\n",
       "sample estimates:\n",
       "mean of x \n",
       "     40.5 \n"
      ]
     },
     "metadata": {},
     "output_type": "display_data"
    },
    {
     "data": {
      "text/html": [
       "0.999896026427102"
      ],
      "text/latex": [
       "0.999896026427102"
      ],
      "text/markdown": [
       "0.999896026427102"
      ],
      "text/plain": [
       "[1] 0.999896"
      ]
     },
     "metadata": {},
     "output_type": "display_data"
    },
    {
     "data": {
      "text/plain": [
       "\n",
       "     Two-sample t test power calculation \n",
       "\n",
       "              n = 22.0211\n",
       "          delta = 1\n",
       "             sd = 1\n",
       "      sig.level = 0.05\n",
       "          power = 0.9\n",
       "    alternative = two.sided\n",
       "\n",
       "NOTE: n is number in *each* group\n"
      ]
     },
     "metadata": {},
     "output_type": "display_data"
    }
   ],
   "source": [
    "# Otra forma\n",
    "# Para calcular la potencia del test:power.t.test\n",
    "library(BSDA)\n",
    "# Varianza conocida\n",
    "datos<-c(37, 39.50, 41.70, 42 ,40, 41.25, 43, 44.05,38,38.50)\n",
    "# two.sided\", \"less\", \"greater\"\n",
    "# si mu > mu0 greater\n",
    "# H1: mu>mu0\n",
    "\n",
    "mucero <- 37\n",
    "desvio.conocido<-sqrt(25)\n",
    "alpha<-0.05\n",
    "nivel<-1-alpha\n",
    "z.test(x = datos, alternative = c(\"greater\"), \n",
    "mu = mucero,\n",
    "sigma.x = desvio.conocido, conf.level = nivel)\n",
    "# Varianza desco\n",
    "t.test(x = datos, alternative = c(\"greater\"), mu = mucero, conf.level = nivel)\n",
    "\n",
    "# potencia / power \n",
    "n<-length(datos)\n",
    "delta<-mucero-promedio\n",
    "potencia<-power.t.test(n, delta, sd= desvio.conocido, sig.level = alpha, type=\"one.sample\", alternative=\"one.sided\")\n",
    "err2<-1-potencia$power\n",
    "err2\n",
    "# si buscamos el n talque poder sea w\n",
    "w<-.90\n",
    "power.t.test(power = w, delta = 1)"
   ]
  },
  {
   "cell_type": "code",
   "execution_count": 48,
   "metadata": {},
   "outputs": [
    {
     "data": {
      "text/html": [
       "76.0556485674054"
      ],
      "text/latex": [
       "76.0556485674054"
      ],
      "text/markdown": [
       "76.0556485674054"
      ],
      "text/plain": [
       "[1] 76.05565"
      ]
     },
     "metadata": {},
     "output_type": "display_data"
    },
    {
     "data": {
      "text/html": [
       "83.9443514325946"
      ],
      "text/latex": [
       "83.9443514325946"
      ],
      "text/markdown": [
       "83.9443514325946"
      ],
      "text/plain": [
       "[1] 83.94435"
      ]
     },
     "metadata": {},
     "output_type": "display_data"
    },
    {
     "data": {
      "text/html": [
       "0.884330249192726"
      ],
      "text/latex": [
       "0.884330249192726"
      ],
      "text/markdown": [
       "0.884330249192726"
      ],
      "text/plain": [
       "[1] 0.8843302"
      ]
     },
     "metadata": {},
     "output_type": "display_data"
    },
    {
     "data": {
      "text/html": [
       "0.115669750807274"
      ],
      "text/latex": [
       "0.115669750807274"
      ],
      "text/markdown": [
       "0.115669750807274"
      ],
      "text/plain": [
       "[1] 0.1156698"
      ]
     },
     "metadata": {},
     "output_type": "display_data"
    },
    {
     "data": {
      "text/html": [
       "4.06397118716016"
      ],
      "text/latex": [
       "4.06397118716016"
      ],
      "text/markdown": [
       "4.06397118716016"
      ],
      "text/plain": [
       "[1] 4.063971"
      ]
     },
     "metadata": {},
     "output_type": "display_data"
    },
    {
     "data": {
      "text/html": [
       "5.93602881283984"
      ],
      "text/latex": [
       "5.93602881283984"
      ],
      "text/markdown": [
       "5.93602881283984"
      ],
      "text/plain": [
       "[1] 5.936029"
      ]
     },
     "metadata": {},
     "output_type": "display_data"
    },
    {
     "data": {
      "text/html": [
       "0.111258259920483"
      ],
      "text/latex": [
       "0.111258259920483"
      ],
      "text/markdown": [
       "0.111258259920483"
      ],
      "text/plain": [
       "[1] 0.1112583"
      ]
     },
     "metadata": {},
     "output_type": "display_data"
    },
    {
     "data": {
      "text/html": [
       "0.888741740079517"
      ],
      "text/latex": [
       "0.888741740079517"
      ],
      "text/markdown": [
       "0.888741740079517"
      ],
      "text/plain": [
       "[1] 0.8887417"
      ]
     },
     "metadata": {},
     "output_type": "display_data"
    },
    {
     "data": {
      "text/html": [
       "0.888847817400098"
      ],
      "text/latex": [
       "0.888847817400098"
      ],
      "text/markdown": [
       "0.888847817400098"
      ],
      "text/plain": [
       "[1] 0.8888478"
      ]
     },
     "metadata": {},
     "output_type": "display_data"
    }
   ],
   "source": [
    "# POTENCIA\n",
    "\n",
    "## Caso Normal ## \n",
    "mu <- 80\n",
    "s <- 9\n",
    "n <- 20\n",
    "alpha<-0.05\n",
    "error <- qnorm(1-alpha/2)*s/sqrt(n)\n",
    "left <- mu-error\n",
    "right <- mu+error\n",
    "left\n",
    "right\n",
    "\n",
    "# como suponemos que es distinta la media\n",
    "assumed <- mu + 1.5\n",
    "Zleft <- (left-assumed)/(s/sqrt(n))\n",
    "Zright <-(right-assumed)/(s/sqrt(n))\n",
    "potencia <- pnorm(Zright)-pnorm(Zleft)\n",
    "potencia\n",
    "\n",
    "# proba de error \n",
    "1-potencia\n",
    "\n",
    "\n",
    "## Caso t ## \n",
    "# version 1\n",
    "mu <- 5\n",
    "s <- 2\n",
    "n <- 20\n",
    "alpha<-0.05\n",
    "error <- qt(1-alpha/2,df=n-1)*s/sqrt(n)\n",
    "left <- mu-error\n",
    "right <- mu+error\n",
    "left\n",
    "right\n",
    "\n",
    "assumed <- a + 1.5\n",
    "tleft <- (left-assumed)/(s/sqrt(n))\n",
    "tright <- (right-assumed)/(s/sqrt(n))\n",
    "p <- pt(tright,df=n-1)-pt(tleft,df=n-1)\n",
    "p\n",
    "\n",
    "1-p\n",
    "\n",
    "# version 2\n",
    "delta<-mu-assumed\n",
    "ncp <- delta/(s/sqrt(n))\n",
    "t <- qt(1-alpha/2,df=n-1)\n",
    "u<-pt(t,df=n-1,ncp=ncp)-pt(-t,df=n-1,ncp=ncp)\n",
    "1-u"
   ]
  }
 ],
 "metadata": {
  "kernelspec": {
   "display_name": "R",
   "language": "R",
   "name": "ir"
  },
  "language_info": {
   "codemirror_mode": "r",
   "file_extension": ".r",
   "mimetype": "text/x-r-source",
   "name": "R",
   "pygments_lexer": "r",
   "version": "3.6.3"
  }
 },
 "nbformat": 4,
 "nbformat_minor": 4
}
