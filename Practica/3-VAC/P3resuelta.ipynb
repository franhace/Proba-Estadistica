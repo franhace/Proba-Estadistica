{
 "cells": [
  {
   "cell_type": "markdown",
   "metadata": {
    "pycharm": {
     "name": "#%% md\n"
    }
   },
   "source": [
    "### 6. Sea Z una v.a. con distribución N (0, 1). Calcular:\n",
    "#### a) P (0 ≤ Z ≤ 2)\n",
    "#### b) P (|Z| ≤ 2,5)\n",
    "#### c) P (Z ≥ −1,37)\n",
    "#### d) c tal que P (Z < c) = 0,98\n",
    "#### e) c tal que P (|Z| ≤ c) = 0,90\n",
    "#### f) el valor $z_α$ para α = 0,1, 0,05, 0,025, 0,01, donde $z_α$ se define como el valor tal que P ($Z > z_α ) = α$"
   ]
  },
  {
   "cell_type": "code",
   "execution_count": 18,
   "metadata": {},
   "outputs": [
    {
     "data": {
      "text/html": [
       "0.477249868051821"
      ],
      "text/latex": [
       "0.477249868051821"
      ],
      "text/markdown": [
       "0.477249868051821"
      ],
      "text/plain": [
       "[1] 0.4772499"
      ]
     },
     "metadata": {},
     "output_type": "display_data"
    },
    {
     "data": {
      "text/html": [
       "0.987580669348448"
      ],
      "text/latex": [
       "0.987580669348448"
      ],
      "text/markdown": [
       "0.987580669348448"
      ],
      "text/plain": [
       "[1] 0.9875807"
      ]
     },
     "metadata": {},
     "output_type": "display_data"
    },
    {
     "data": {
      "text/html": [
       "0.914656549178033"
      ],
      "text/latex": [
       "0.914656549178033"
      ],
      "text/markdown": [
       "0.914656549178033"
      ],
      "text/plain": [
       "[1] 0.9146565"
      ]
     },
     "metadata": {},
     "output_type": "display_data"
    },
    {
     "data": {
      "text/html": [
       "2.05374891063182"
      ],
      "text/latex": [
       "2.05374891063182"
      ],
      "text/markdown": [
       "2.05374891063182"
      ],
      "text/plain": [
       "[1] 2.053749"
      ]
     },
     "metadata": {},
     "output_type": "display_data"
    },
    {
     "data": {
      "text/html": [
       "1.64485362695147"
      ],
      "text/latex": [
       "1.64485362695147"
      ],
      "text/markdown": [
       "1.64485362695147"
      ],
      "text/plain": [
       "[1] 1.644854"
      ]
     },
     "metadata": {},
     "output_type": "display_data"
    },
    {
     "name": "stdout",
     "output_type": "stream",
     "text": [
      "[1] 1.281552\n",
      "[1] 1.644854\n",
      "[1] 1.959964\n",
      "[1] 2.326348\n"
     ]
    }
   ],
   "source": [
    "# a\n",
    "pnorm(2)-pnorm(0)\n",
    "# b\n",
    "2*(pnorm(2.5)-0.5)\n",
    "# c\n",
    "pnorm(1.37)\n",
    "# d\n",
    "qnorm(0.98)\n",
    "# e \n",
    "tabla <- 0.9\n",
    "qnorm((tabla+1)/2)\n",
    "# f\n",
    "v_a <- c(0.1, 0.05, 0.025, 0.01)\n",
    "for (value in v_a) {\n",
    "    print(qnorm(1-value))\n",
    "}"
   ]
  },
  {
   "cell_type": "markdown",
   "metadata": {},
   "source": [
    "### 7. Sea X una v.a. con distribución N (5, 0,25). Calcular:\n",
    "#### a) P (4,75 ≤ X ≤ 5,50)\n",
    "#### b) P (|X| > 5,25)\n",
    "#### c) c tal que P (|X − 5| ≤ c) = 0,90\n",
    "#### d) el 90-percentil de X."
   ]
  },
  {
   "cell_type": "code",
   "execution_count": 70,
   "metadata": {
    "pycharm": {
     "name": "#%%\n"
    }
   },
   "outputs": [
    {
     "data": {
      "text/html": [
       "0.532807207342556"
      ],
      "text/latex": [
       "0.532807207342556"
      ],
      "text/markdown": [
       "0.532807207342556"
      ],
      "text/plain": [
       "[1] 0.5328072"
      ]
     },
     "metadata": {},
     "output_type": "display_data"
    }
   ],
   "source": [
    "# a\n",
    "esp <- 5\n",
    "var <- 0.5\n",
    "standarizar <- function(a,mu,sigma_cuad){\n",
    "    res = (a-mu)/sigma_cuad\n",
    "    return(res)\n",
    "}\n",
    "pnorm(standarizar(5.5,esp,var))-1+pnorm(standarizar(4.75,esp,var)*(-1))\n",
    "\n",
    "# b\n",
    "\n"
   ]
  },
  {
   "cell_type": "markdown",
   "metadata": {
    "pycharm": {
     "name": "#%%\n"
    }
   },
   "source": [
    "### 8. Se supone que en cierta población humana, el indice cefálico I (anchura del cráneo expresada como porcentaje de la longitud) es una v.a. con distribución N ($μ, σ^2$ ) . \n",
    "#### Si hay un 58 % de individuos con I ≤ 75, un 38 % con 75 < I ≤ 80 y un 4 % con I ≥ 80, hallar la función de densidad de I y calcular P (78 ≤ I ≤ 82)."
   ]
  },
  {
   "cell_type": "code",
   "execution_count": 5,
   "metadata": {
    "pycharm": {
     "name": "#%%\n"
    }
   },
   "outputs": [
    {
     "data": {
      "text/html": [
       "1.75068607125217"
      ],
      "text/latex": [
       "1.75068607125217"
      ],
      "text/markdown": [
       "1.75068607125217"
      ],
      "text/plain": [
       "[1] 1.750686"
      ]
     },
     "metadata": {},
     "output_type": "display_data"
    }
   ],
   "source": [
    "# phi(..) = x\n",
    "# (..) = qnorm(x)\n",
    "# igual fijarse si es proba menor, acotada, mayor y aplicar el criterio que corresponda -> ver cuaderno\n",
    "(e<-qnorm(0.96))"
   ]
  },
  {
   "cell_type": "markdown",
   "metadata": {
    "pycharm": {
     "name": "#%% md\n"
    }
   },
   "source": [
    "### 9. La distancia intercuartil (IQR) de una v.a. se define como la diferencia entre el tercer cuartil y el primer cuartil. Hallar la IQR de Z, una v.a. con distribución N (0, 1)."
   ]
  },
  {
   "cell_type": "markdown",
   "metadata": {
    "pycharm": {
     "name": "#%% md\n"
    }
   },
   "source": [
    "\"IQR es una medida de “centralidad” (qué tan dispersa está la v.a. respecto a un valor central).\"\n",
    "\n",
    "\"Cuartil: son los puntos donde se alcanza el 25%, 50%, 75%. El cuartil de 50% (o segundo cuartil) sería la mediana.\n",
    "\n",
    "Primer cuartil: valor x1 tal que P(x =< x1) = 0,25.\n",
    "\n",
    "Tercer cuartil: valor x3 tal que P(x =< x3) = 0,75.\n",
    "\"\n",
    "\n",
    "\"Rsta:Z: normal(0,1) ---> mediana: 0 (buscando en la tabla, o pensando en que por simetría cuando llegamos al 0 llegamos “a la mitad” de la v.a., y la proba de ser mayor a 0 es igual a la de ser menor a 0).\""
   ]
  },
  {
   "cell_type": "markdown",
   "metadata": {
    "pycharm": {
     "name": "#%% md\n"
    }
   },
   "source": [
    "### 10. (*) La mediana de desviaciones absolutas (MAD) de una v.a. se define como la mediana del valor absoluto de la diferencia entre la variable aleatoria y su mediana. Hallar la MAD de Z, una v.a. con distribución N (0, 1). Sugerencia: Hallar la f.d.a de |Z|."
   ]
  },
  {
   "cell_type": "markdown",
   "metadata": {},
   "source": [
    "\"MAD = mediana( | Z - mediana(Z)| ) = mediana( | Z | )\n",
    "\n",
    "No sabemos la distribución de |Z|, pero podemos expresarla en términos de Z:\n",
    "\n",
    "P(|Z| <= t) =P( -t <= Z <= t) =P(-tZ <0) + P(0<=Z<=t) \n",
    "      =2.(P(Z<= t) -0,5) = 2.P(Z<= t)-1 \n",
    "Entonces, FZ(t) =2.P(Z<= t)-1  si t0. Para t<0, P(|Z| <= t)=FZ(t) =0,porque un módulo nunca puede ser negativo.\n",
    "\n",
    "Si queremos la mediana de |Z|, queremos m tal que FZ(m)=0,5 (por definición de la mediana, es cuando acumulé el 50% de la probabilidad). Usando la fórmula que calculamos:\n",
    " 2.P(Z m)-1 =0,5 2.P(Z m) = 1,5 P(Z m) =0,75 \n",
    "De la tabla sale que m es aproximadamente 0,675. Wikipedia dice que da 0,67449.\n",
    "\n",
    "|Z| no tiene una distribución que haya aparecido hasta ahora, se llama distribución medio normal (half normal en inglés), es como una normal pero los valores negativos están anulados. Se usa en algunas cosas en física, por ejemplo, para construir modelos para la velocidad del viento o de las moléculas de un gas.\n",
    "\""
   ]
  },
  {
   "cell_type": "markdown",
   "metadata": {},
   "source": [
    "### 12.  El diámetro D (expresado en dm) del tronco de cierta especie de árboles es una variable aleatoria con función de densidad $f_D(x) = k x I_{(0,10)}(x)$.\n",
    "#### a) Hallar el valor de la constante k.\n",
    "#### b) ¿Cuál es la probabilidad de que el diámetro de un árbol de esa especie elegido al azar mida entre 4 y 6 dm?\n",
    "#### c) Idem b) sabiendo que el diámetro mide más de 5 dm.\n",
    "#### d) En un área del bosque hay 3 árboles de esa especie. Calcular la probabilidad de que exactamente 2 de ellos tengan el diámetro entre 4 y 6 dm.\n",
    "#### e) ¿Cuántos árboles habrı́a que muestrear en el bosque para que la probabilidad de encontrar al menos uno cuyo diámetro mida entre 4 y 6 dm, sea mayor o igual que 0.99?\""
   ]
  },
  {
   "cell_type": "code",
   "execution_count": 36,
   "metadata": {
    "pycharm": {
     "name": "#%%\n"
    }
   },
   "outputs": [
    {
     "name": "stdout",
     "output_type": "stream",
     "text": [
      "k:  0.02\n",
      "4<=P(D)<=6 :  0.2"
     ]
    },
    {
     "data": {
      "text/html": [
       "0.146666666666667"
      ],
      "text/latex": [
       "0.146666666666667"
      ],
      "text/markdown": [
       "0.146666666666667"
      ],
      "text/plain": [
       "[1] 0.1466667"
      ]
     },
     "metadata": {},
     "output_type": "display_data"
    },
    {
     "name": "stdout",
     "output_type": "stream",
     "text": [
      "probabilidad de que exactamente 2 de ellos tengan el diámetro entre 4 y 6 dm. 0.096\n",
      "Habria que muestrear un numero entero mayor a:  20.6377"
     ]
    }
   ],
   "source": [
    "# a\n",
    "f <- function(x) {x}\n",
    "val <- integrate(f, lower = 0, upper = 10)\n",
    "k<- 1/val$value \n",
    "# asi accedemos al valor de integrate pq en realidad devuelve una list de opciones\n",
    "# ver: https://stackoverflow.com/questions/33788132/how-to-assign-result-of-integrate-in-r-to-a-numeric-variable\n",
    "cat(\"k: \", k)\n",
    "\n",
    "# b\n",
    "f <- function(x) {k*x}\n",
    "val2<- integrate(f, lower = 4, upper = 6)\n",
    "cat(\"\\n4<=P(D)<=6 : \",val2$value)\n",
    "\n",
    "# c \n",
    "val3<- integrate(f, lower = 5, upper = 6)\n",
    "val4<- integrate(f, lower = 5, upper = 10)\n",
    "val3$value/val4$value\n",
    "\n",
    "# d\n",
    "cat(\"probabilidad de que exactamente 2 de ellos tengan el diámetro entre 4 y 6 dm.\",dbinom(2,3,val2$value))\n",
    "\n",
    "# e\n",
    "val5<-log10(0.01) / log10(1-val2$value)\n",
    "cat(\"\\nHabria que muestrear un numero entero mayor a: \", val5)"
   ]
  },
  {
   "cell_type": "markdown",
   "metadata": {},
   "source": [
    "### 13. Una muestra de tabaco puede provenir de dos variedades distintas, I y II, con probabilidades 0.35 y 0.65 respectivamente. El contenido de nicotina es una v.a., cuya distribución es N (1.9, 0.16) en la variedad I y N (2.2, 0.09) en la variedad II.\n",
    "#### a) Hallar la probabilidad de que en una muestra elegida al azar el contenido de nicotina sea mayor o igual que 2.1.\n",
    "#### b) Hallar la probabilidad de que dado que el contenido de nicotina es mayor que 2.1, la muestra provenga de la variedad I."
   ]
  },
  {
   "cell_type": "code",
   "execution_count": 77,
   "metadata": {
    "pycharm": {
     "name": "#%%\n"
    }
   },
   "outputs": [
    {
     "data": {
      "text/html": [
       "0.514086826901744"
      ],
      "text/latex": [
       "0.514086826901744"
      ],
      "text/markdown": [
       "0.514086826901744"
      ],
      "text/plain": [
       "[1] 0.5140868"
      ]
     },
     "metadata": {},
     "output_type": "display_data"
    },
    {
     "data": {
      "text/html": [
       "0.071928356939725"
      ],
      "text/latex": [
       "0.071928356939725"
      ],
      "text/markdown": [
       "0.071928356939725"
      ],
      "text/plain": [
       "[1] 0.07192836"
      ]
     },
     "metadata": {},
     "output_type": "display_data"
    }
   ],
   "source": [
    "# a\n",
    "mu1<-1.9\n",
    "sig_cuad1<-0.16\n",
    "n1<-0.35 \n",
    "\n",
    "mu2<-2.2\n",
    "sig_cuad2<-0.16\n",
    "n2<- 0.65\n",
    "\n",
    "m1<-(1-pnorm(standarizar(2.1,mu1,sig_cuad1)))*n1\n",
    "m2<-(pnorm(-1*standarizar(2.1,mu2,sig_cuad2)))*n2\n",
    "m1+m2\n",
    "\n",
    "# b\n",
    "m1/(m1+m2)\n"
   ]
  },
  {
   "cell_type": "markdown",
   "metadata": {
    "pycharm": {
     "name": "#%% md\n"
    }
   },
   "source": [
    "### 14. La porción de memoria ocupada en un servidor de un sistema de terminales en red es una variable aleatoria continua X que toma valores entre 0 (sin carga) y 1 (carga completa). La densidad de X está dada por \n",
    "\n",
    "$$f_X(x) = 4x^{3} \\ \\   si: \\ \\  0 < x < 1$$\n",
    "#### a) Halle la mediana de la porción ocupada de memoria.\n",
    "#### b) Deduzca la densidad de la variable que mide la porción de memoria que falta ocupar, es decir Z = 1 − X."
   ]
  },
  {
   "cell_type": "code",
   "execution_count": 84,
   "metadata": {
    "pycharm": {
     "name": "#%%\n"
    }
   },
   "outputs": [
    {
     "data": {
      "text/html": [
       "0.840896415253715"
      ],
      "text/latex": [
       "0.840896415253715"
      ],
      "text/markdown": [
       "0.840896415253715"
      ],
      "text/plain": [
       "[1] 0.8408964"
      ]
     },
     "metadata": {},
     "output_type": "display_data"
    },
    {
     "data": {
      "text/html": [
       "'Defino una va. Z=1-X. Obs.: Z también tiene rango (0,1) (importante para la indicadora).\\nFZ(t) = P(Zt) = P(1-X &lt;= t) = P(-X &lt;=t-1) =P(X &lt;=1-t)\\n\\nFZ(t) = P(Zt) =1- P(X &lt; 1-t) = 1 - P(X&lt;=1-t) = 1-FX(1-t) \\n\\nLo que usamos ahora es que la función de densidad es la derivada de la función de distribución acumulada.\\n\\nfZ(t) = F\\'Z(t) = (1-FX(1-t))\\' = -fX(1-t) . (-1) \\n\\nUsé la regla de la cadena: la derivada de 1-FX(1-t) es la derivada de Fx (o sea, la f de densidad) evaluada en 1-t por la derivada de 1-t (que es -1)\\n\\nEntonces, fZ(t) = F\\'Z(t) = -fX(1-t) . (-1) =fX(1-t) fZ(t) = 4(1-t)3.1(0,1)(t)\\n\\nRevisar que el dominio de la indicadora sea el correcto. En este caso no cambia (porque Z y X tienen como rango al (0,1)), entonces 1(0,1)(t) = 1(0,1)(1-t) valen igual.'"
      ],
      "text/latex": [
       "'Defino una va. Z=1-X. Obs.: Z también tiene rango (0,1) (importante para la indicadora).\\textbackslash{}nFZ(t) = P(Zt) = P(1-X <= t) = P(-X <=t-1) =P(X <=1-t)\\textbackslash{}n\\textbackslash{}nFZ(t) = P(Zt) =1- P(X < 1-t) = 1 - P(X<=1-t) = 1-FX(1-t) \\textbackslash{}n\\textbackslash{}nLo que usamos ahora es que la función de densidad es la derivada de la función de distribución acumulada.\\textbackslash{}n\\textbackslash{}nfZ(t) = F\\textbackslash{}'Z(t) = (1-FX(1-t))\\textbackslash{}' = -fX(1-t) . (-1) \\textbackslash{}n\\textbackslash{}nUsé la regla de la cadena: la derivada de 1-FX(1-t) es la derivada de Fx (o sea, la f de densidad) evaluada en 1-t por la derivada de 1-t (que es -1)\\textbackslash{}n\\textbackslash{}nEntonces, fZ(t) = F\\textbackslash{}'Z(t) = -fX(1-t) . (-1) =fX(1-t) fZ(t) = 4(1-t)3.1(0,1)(t)\\textbackslash{}n\\textbackslash{}nRevisar que el dominio de la indicadora sea el correcto. En este caso no cambia (porque Z y X tienen como rango al (0,1)), entonces 1(0,1)(t) = 1(0,1)(1-t) valen igual.'"
      ],
      "text/markdown": [
       "'Defino una va. Z=1-X. Obs.: Z también tiene rango (0,1) (importante para la indicadora).\\nFZ(t) = P(Zt) = P(1-X &lt;= t) = P(-X &lt;=t-1) =P(X &lt;=1-t)\\n\\nFZ(t) = P(Zt) =1- P(X &lt; 1-t) = 1 - P(X&lt;=1-t) = 1-FX(1-t) \\n\\nLo que usamos ahora es que la función de densidad es la derivada de la función de distribución acumulada.\\n\\nfZ(t) = F\\'Z(t) = (1-FX(1-t))\\' = -fX(1-t) . (-1) \\n\\nUsé la regla de la cadena: la derivada de 1-FX(1-t) es la derivada de Fx (o sea, la f de densidad) evaluada en 1-t por la derivada de 1-t (que es -1)\\n\\nEntonces, fZ(t) = F\\'Z(t) = -fX(1-t) . (-1) =fX(1-t) fZ(t) = 4(1-t)3.1(0,1)(t)\\n\\nRevisar que el dominio de la indicadora sea el correcto. En este caso no cambia (porque Z y X tienen como rango al (0,1)), entonces 1(0,1)(t) = 1(0,1)(1-t) valen igual.'"
      ],
      "text/plain": [
       "[1] \"Defino una va. Z=1-X. Obs.: Z también tiene rango (0,1) (importante para la indicadora).\\nFZ(t) = P(Zt) = P(1-X <= t) = P(-X <=t-1) =P(X <=1-t)\\n\\nFZ(t) = P(Zt) =1- P(X < 1-t) = 1 - P(X<=1-t) = 1-FX(1-t) \\n\\nLo que usamos ahora es que la función de densidad es la derivada de la función de distribución acumulada.\\n\\nfZ(t) = F'Z(t) = (1-FX(1-t))' = -fX(1-t) . (-1) \\n\\nUsé la regla de la cadena: la derivada de 1-FX(1-t) es la derivada de Fx (o sea, la f de densidad) evaluada en 1-t por la derivada de 1-t (que es -1)\\n\\nEntonces, fZ(t) = F'Z(t) = -fX(1-t) . (-1) =fX(1-t) fZ(t) = 4(1-t)3.1(0,1)(t)\\n\\nRevisar que el dominio de la indicadora sea el correcto. En este caso no cambia (porque Z y X tienen como rango al (0,1)), entonces 1(0,1)(t) = 1(0,1)(1-t) valen igual.\""
      ]
     },
     "metadata": {},
     "output_type": "display_data"
    }
   ],
   "source": [
    "# a\n",
    "# La mediana es m tal que P(X <= m) = 0,5.\n",
    "m<-(1/2)**(1/4)\n",
    "m\n",
    "\n",
    "# b\n",
    "\"Defino una va. Z=1-X. Obs.: Z también tiene rango (0,1) (importante para la indicadora).\n",
    "FZ(t) = P(Zt) = P(1-X <= t) = P(-X <=t-1) =P(X <=1-t)\n",
    "\n",
    "FZ(t) = P(Zt) =1- P(X < 1-t) = 1 - P(X<=1-t) = 1-FX(1-t) \n",
    "\n",
    "Lo que usamos ahora es que la función de densidad es la derivada de la función de distribución acumulada.\n",
    "\n",
    "fZ(t) = F'Z(t) = (1-FX(1-t))' = -fX(1-t) . (-1) \n",
    "\n",
    "Usé la regla de la cadena: la derivada de 1-FX(1-t) es la derivada de Fx (o sea, la f de densidad) evaluada en 1-t por la derivada de 1-t (que es -1)\n",
    "\n",
    "Entonces, fZ(t) = F'Z(t) = -fX(1-t) . (-1) =fX(1-t) fZ(t) = 4(1-t)3.1(0,1)(t)\n",
    "\n",
    "Revisar que el dominio de la indicadora sea el correcto. En este caso no cambia (porque Z y X tienen como rango al (0,1)), entonces 1(0,1)(t) = 1(0,1)(1-t) valen igual.\""
   ]
  }
 ],
 "metadata": {
  "kernelspec": {
   "display_name": "R",
   "language": "R",
   "name": "ir"
  },
  "language_info": {
   "codemirror_mode": "r",
   "file_extension": ".r",
   "mimetype": "text/x-r-source",
   "name": "R",
   "pygments_lexer": "r",
   "version": "3.6.3"
  }
 },
 "nbformat": 4,
 "nbformat_minor": 1
}