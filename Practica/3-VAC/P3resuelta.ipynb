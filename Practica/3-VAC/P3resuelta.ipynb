{
 "cells": [
  {
   "cell_type": "markdown",
   "metadata": {
    "pycharm": {
     "name": "#%% md\n"
    }
   },
   "source": [
    "### 6. Sea Z una v.a. con distribución N (0, 1). Calcular:\n",
    "#### a) P (0 ≤ Z ≤ 2)\n",
    "#### b) P (|Z| ≤ 2,5)\n",
    "#### c) P (Z ≥ −1,37)\n",
    "#### d) c tal que P (Z < c) = 0,98\n",
    "#### e) c tal que P (|Z| ≤ c) = 0,90\n",
    "#### f) el valor $z_α$ para α = 0,1, 0,05, 0,025, 0,01, donde $z_α$ se define como el valor tal que P ($Z > z_α ) = α$"
   ]
  },
  {
   "cell_type": "code",
   "execution_count": 18,
   "metadata": {},
   "outputs": [
    {
     "data": {
      "text/html": [
       "0.477249868051821"
      ],
      "text/latex": [
       "0.477249868051821"
      ],
      "text/markdown": [
       "0.477249868051821"
      ],
      "text/plain": [
       "[1] 0.4772499"
      ]
     },
     "metadata": {},
     "output_type": "display_data"
    },
    {
     "data": {
      "text/html": [
       "0.987580669348448"
      ],
      "text/latex": [
       "0.987580669348448"
      ],
      "text/markdown": [
       "0.987580669348448"
      ],
      "text/plain": [
       "[1] 0.9875807"
      ]
     },
     "metadata": {},
     "output_type": "display_data"
    },
    {
     "data": {
      "text/html": [
       "0.914656549178033"
      ],
      "text/latex": [
       "0.914656549178033"
      ],
      "text/markdown": [
       "0.914656549178033"
      ],
      "text/plain": [
       "[1] 0.9146565"
      ]
     },
     "metadata": {},
     "output_type": "display_data"
    },
    {
     "data": {
      "text/html": [
       "2.05374891063182"
      ],
      "text/latex": [
       "2.05374891063182"
      ],
      "text/markdown": [
       "2.05374891063182"
      ],
      "text/plain": [
       "[1] 2.053749"
      ]
     },
     "metadata": {},
     "output_type": "display_data"
    },
    {
     "data": {
      "text/html": [
       "1.64485362695147"
      ],
      "text/latex": [
       "1.64485362695147"
      ],
      "text/markdown": [
       "1.64485362695147"
      ],
      "text/plain": [
       "[1] 1.644854"
      ]
     },
     "metadata": {},
     "output_type": "display_data"
    },
    {
     "name": "stdout",
     "output_type": "stream",
     "text": [
      "[1] 1.281552\n",
      "[1] 1.644854\n",
      "[1] 1.959964\n",
      "[1] 2.326348\n"
     ]
    }
   ],
   "source": [
    "# a\n",
    "pnorm(2)-pnorm(0)\n",
    "# b\n",
    "2*(pnorm(2.5)-0.5)\n",
    "# c\n",
    "pnorm(1.37)\n",
    "# d\n",
    "qnorm(0.98)\n",
    "# e \n",
    "tabla <- 0.9\n",
    "qnorm((tabla+1)/2)\n",
    "# f\n",
    "v_a <- c(0.1, 0.05, 0.025, 0.01)\n",
    "for (value in v_a) {\n",
    "    print(qnorm(1-value))\n",
    "}"
   ]
  },
  {
   "cell_type": "markdown",
   "source": [
    "### 7. Sea X una v.a. con distribución N (5, 0,25). Calcular:\n",
    "#### a) P (4,75 ≤ X ≤ 5,50)\n",
    "#### b) P (|X| > 5,25)\n",
    "#### c) c tal que P (|X − 5| ≤ c) = 0,90\n",
    "#### d) el 90-percentil de X."
   ],
   "metadata": {
    "collapsed": false
   }
  },
  {
   "cell_type": "code",
   "execution_count": null,
   "outputs": [],
   "source": [
    "# a\n",
    "esp <- 5\n",
    "var <- 0.5\n",
    "standarizar <- function(a,mu,sigma_cuad){\n",
    "    res = (a-mu)/sigma_cuad\n",
    "    print(res)\n",
    "    return(res)\n",
    "}\n",
    "pnorm(standarizar(5.5,esp,var))-1+pnorm(standarizar(4.75,esp,var)*(-1))\n",
    "\n",
    "# b\n",
    "\n"
   ],
   "metadata": {
    "collapsed": false,
    "pycharm": {
     "name": "#%%\n"
    }
   }
  },
  {
   "cell_type": "code",
   "execution_count": null,
   "outputs": [],
   "source": [
    "### 8. Se supone que en cierta población humana, el indice cefálico I (anchura del cráneo expresada como porcentaje de la longitud) es una v.a. con distribución N ($μ, σ^2$ ) . \n",
    "#### Si hay un 58 % de individuos con I ≤ 75, un 38 % con 75 < I ≤ 80 y un 4 % con I ≥ 80, hallar la función de densidad de I y calcular P (78 ≤ I ≤ 82)."
   ],
   "metadata": {
    "collapsed": false,
    "pycharm": {
     "name": "#%%\n"
    }
   }
  },
  {
   "cell_type": "markdown",
   "metadata": {},
   "source": []
  },
  {
   "cell_type": "code",
   "execution_count": 53,
   "metadata": {},
   "outputs": [
    {
     "name": "stdout",
     "output_type": "stream",
     "text": [
      "[1] 1\n",
      "[1] -0.5\n"
     ]
    },
    {
     "data": {
      "text/html": [
       "0.532807207342556"
      ],
      "text/latex": [
       "0.532807207342556"
      ],
      "text/markdown": [
       "0.532807207342556"
      ],
      "text/plain": [
       "[1] 0.5328072"
      ]
     },
     "metadata": {},
     "output_type": "display_data"
    }
   ],
   "source": [
    "# a\n",
    "esp <- 5\n",
    "var <- 0.5\n",
    "standarizar <- function(a,mu,sigma_cuad){\n",
    "    res = (a-mu)/sigma_cuad\n",
    "    print(res)\n",
    "    return(res)\n",
    "}\n",
    "pnorm(standarizar(5.5,esp,var))-1+pnorm(standarizar(4.75,esp,var)*(-1))\n",
    "\n",
    "# b\n",
    "\n"
   ]
  },
  {
   "cell_type": "markdown",
   "metadata": {
    "pycharm": {
     "name": "#%%\n"
    }
   },
   "source": [
    "### 8. Se supone que en cierta población humana, el indice cefálico I (anchura del cráneo expresada como porcentaje de la longitud) es una v.a. con distribución N ($μ, σ^2$ ) . \n",
    "#### Si hay un 58 % de individuos con I ≤ 75, un 38 % con 75 < I ≤ 80 y un 4 % con I ≥ 80, hallar la función de densidad de I y calcular P (78 ≤ I ≤ 82)."
   ]
  },
  {
   "cell_type": "code",
   "execution_count": null,
   "metadata": {},
   "outputs": [],
   "source": []
  }
 ],
 "metadata": {
  "kernelspec": {
   "display_name": "R",
   "language": "R",
   "name": "ir"
  },
  "language_info": {
   "codemirror_mode": "r",
   "file_extension": ".r",
   "mimetype": "text/x-r-source",
   "name": "R",
   "pygments_lexer": "r",
   "version": "3.6.3"
  }
 },
 "nbformat": 4,
 "nbformat_minor": 1
}