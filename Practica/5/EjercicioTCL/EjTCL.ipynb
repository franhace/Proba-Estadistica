{
 "cells": [
  {
   "cell_type": "markdown",
   "metadata": {
    "collapsed": true
   },
   "source": [
    "A: suma de 2 numeros es por lo menos 5 <br>\n",
    "B: el valor obtenido en el primer tiro es superior al obtenido en el segundo \n",
    "C: el valor obtenido en el primer tiro es un 4\n",
    "\n",
    "Xi: tiempo que tarda el gato en comer iesima racion en dias <br>\n",
    "E(Xi) = 1/2 = 1/lambda -> lambda = 2 <br>\n",
    "V(Xi) = 1/labda² = 1/4 <br>\n",
    ">$\\mu(Xi) = \\frac{1}{\\lambda} = 1/2 and V(Xi) = \\frac{1}{\\lambda^2}\n",
    ">$$X \\sim \\mathcal E(2)$$\n",
    "X1,..,Xn"
   ]
  },
  {
   "cell_type": "code",
   "execution_count": 3,
   "metadata": {},
   "outputs": [],
   "source": [
    "pa <- scan(\"pa.txt\")\n",
    "media_estimada <- mean(pa)\n",
    "varianza_estimada <- mean(pa^2)-mean(pa)^2"
   ]
  },
  {
   "cell_type": "code",
   "execution_count": null,
   "outputs": [],
   "source": [
    "media_estimada"
   ],
   "metadata": {
    "collapsed": false,
    "pycharm": {
     "name": "#%%\n"
    }
   }
  },
  {
   "cell_type": "code",
   "execution_count": null,
   "outputs": [],
   "source": [
    "varianza_estimada"
   ],
   "metadata": {
    "collapsed": false,
    "pycharm": {
     "name": "#%%\n"
    }
   }
  },
  {
   "cell_type": "code",
   "execution_count": 4,
   "metadata": {},
   "outputs": [
    {
     "data": {
      "text/html": [
       "0.834816279069767"
      ],
      "text/latex": [
       "0.834816279069767"
      ],
      "text/markdown": [
       "0.834816279069767"
      ],
      "text/plain": [
       "[1] 0.8348163"
      ]
     },
     "metadata": {},
     "output_type": "display_data"
    }
   ],
   "source": [
    "varianza_estimada"
   ]
  },
  {
   "cell_type": "code",
   "execution_count": 5,
   "metadata": {},
   "outputs": [
    {
     "data": {
      "text/html": [
       "0.000182066246619761"
      ],
      "text/latex": [
       "0.000182066246619761"
      ],
      "text/markdown": [
       "0.000182066246619761"
      ],
      "text/plain": [
       "[1] 0.0001820662"
      ]
     },
     "metadata": {},
     "output_type": "display_data"
    }
   ],
   "source": [
    "varianza_estimada"
   ]
  }
 ],
 "metadata": {
  "kernelspec": {
   "display_name": "R",
   "language": "R",
   "name": "ir"
  },
  "language_info": {
   "codemirror_mode": "r",
   "file_extension": ".r",
   "mimetype": "text/x-r-source",
   "name": "R",
   "pygments_lexer": "r",
   "version": "3.6.1"
  }
 },
 "nbformat": 4,
 "nbformat_minor": 1
}