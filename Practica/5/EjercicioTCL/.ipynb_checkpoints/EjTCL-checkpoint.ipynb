{
 "cells": [
  {
   "cell_type": "markdown",
   "metadata": {
    "collapsed": true
   },
   "source": [
    "$ A: suma de 2 numeros es por lo menos 5 /\n",
    "B: el valor obtenido en el primer tiro es superior al obtenido en el segundo /\n",
    "C: el valor obtenido en el primer tiro es un 4 / $\n",
    "\n",
    "Xi: tiempo que tarda el gato en comer iesima racion en dias\n",
    "E(Xi) = 1/2 = 1/lambda -> lambda = 2\n",
    "V(Xi) = 1/labda² = 1/4\n",
    ">$\\mu(Xi) = \\frac{1}{\\lambda} = 1/2 and V(Xi) = \\frac{1}{\\lambda^2}\n",
    ">$$X \\sim \\mathcal E(2)$$\n",
    "X1,..,Xn"
   ]
  }
 ],
 "metadata": {
  "kernelspec": {
   "display_name": "Python 3",
   "language": "python",
   "name": "python3"
  },
  "language_info": {
   "codemirror_mode": {
    "name": "ipython",
    "version": 3
   },
   "file_extension": ".py",
   "mimetype": "text/x-python",
   "name": "python",
   "nbconvert_exporter": "python",
   "pygments_lexer": "ipython3",
   "version": "3.7.5"
  }
 },
 "nbformat": 4,
 "nbformat_minor": 1
}
