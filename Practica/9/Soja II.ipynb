{
 "cells": [
  {
   "cell_type": "markdown",
   "metadata": {},
   "source": [
    "# $\\huge\\mathcal{Soja}$"
   ]
  },
  {
   "cell_type": "markdown",
   "metadata": {},
   "source": [
    "Una empresa vende dos variedades de **soja**:\n",
    "\n",
    "* La variedad $I$ tiene un rendimiento por ha. que puede considerarse una variable aleatoria con distribuci´on $\\mathcal{N}(37, 25)$\n",
    "\n",
    "* La variedad $II$ tiene un rendimiento por ha. que puede considerarse $\\mathcal{N}(40, 25)$\n",
    "\n",
    "Un cliente realizó una compra de semillas de la variedad $II$ y antes de continuar comprando a esta empresa, quiere asegurarse de que las semillas que le enviaron realmente pertenecen a esa variedad y no a la variedad $I$.\n",
    "\n",
    "Sea $X$ la variable aleatoria que mide el **rendimiento** de soja en una hectárea cultivada.\n",
    "\n",
    "> **1.** ¿Qué distribución tiene $X$ si se utiliza la variedad $I$?\n",
    "> \n",
    "> **2.** ¿Qué distribución tiene $X$ si se utiliza la variedad $II$?"
   ]
  },
  {
   "cell_type": "markdown",
   "metadata": {},
   "source": [
    "1. Llamo $X_I$ a $X$ si se utiliza la variedad $I$\n",
    "   \n",
    "   $X_I \\sim \\mathcal{N}(37, 25)$\n",
    "   \n",
    "   \n",
    "2. Llamo $X_{II}$ a $X$ si se utiliza la variedad ${II}$\n",
    "   \n",
    "   $X_{II} \\sim \\mathcal{N}(40, 25)$"
   ]
  },
  {
   "cell_type": "code",
   "execution_count": 1,
   "metadata": {
    "ExecuteTime": {
     "end_time": "2019-09-28T22:26:28.721984Z",
     "start_time": "2019-09-28T22:26:28.497Z"
    }
   },
   "outputs": [
    {
     "name": "stdout",
     "output_type": "stream",
     "text": [
      "Object `plotmath` not found.\n"
     ]
    }
   ],
   "source": [
    "?plotmath\n",
    "\n"
   ]
  },
  {
   "cell_type": "code",
   "execution_count": 2,
   "metadata": {
    "ExecuteTime": {
     "end_time": "2019-09-28T22:32:47.573998Z",
     "start_time": "2019-09-28T22:32:47.484Z"
    }
   },
   "outputs": [
    {
     "ename": "SyntaxError",
     "evalue": "invalid syntax (<ipython-input-2-0d55d6d062c3>, line 1)",
     "output_type": "error",
     "traceback": [
      "\u001B[0;36m  File \u001B[0;32m\"<ipython-input-2-0d55d6d062c3>\"\u001B[0;36m, line \u001B[0;32m1\u001B[0m\n\u001B[0;31m    x <- c(17:60)\u001B[0m\n\u001B[0m             ^\u001B[0m\n\u001B[0;31mSyntaxError\u001B[0m\u001B[0;31m:\u001B[0m invalid syntax\n"
     ]
    }
   ],
   "source": [
    "x <- c(17:60)\n",
    "XI  <- dnorm(x, mean=37, sd=5)\n",
    "XII <- dnorm(x, mean=40, sd=5)\n",
    "plot(x,XI, col='red', main='variedad I vs variedad II')\n",
    "points(x,XII, col='green', main='variedad II')\n",
    "grid()\n",
    "legend( x='topleft', \n",
    "        legend=c('variedad I','variedad II'),\n",
    "        col=c('red','green'), lwd=1)\n",
    "abline(v=37, col=\"blue\", lty=3)\n",
    "abline(v=40, col=\"blue\", lty=3)"
   ]
  },
  {
   "cell_type": "markdown",
   "metadata": {},
   "source": [
    "### Regla de decición sembrando en $n = 1$ lote (de una ha.)\n",
    "\n",
    "> **3.** Consideremos el **criterio** que determina que **las semillas son de la variedad $II$ si obtenemos $A$ o\n",
    "más $\\frac{ton}{ha}$**\n",
    ">  \n",
    "> Cuál es el valor de $A$ si queremos que la probabildad de **equivocarnos** al decidir que\n",
    "*las semillas son de **alto rendimiento** cuando en realidad son de la variedad $I$* sea $0.05$?\n",
    ">\n",
    "> **4.** Supongamos que las semillas son de la variedad $II$.\n",
    ">\n",
    "> Calcule la probabilidad de que *consideremos* que **las semillas son de la variedad $I$** para el criterio establecido en el item anterior."
   ]
  },
  {
   "cell_type": "code",
   "execution_count": null,
   "metadata": {
    "ExecuteTime": {
     "end_time": "2019-09-28T23:11:09.142615Z",
     "start_time": "2019-09-28T23:11:09.040Z"
    }
   },
   "outputs": [],
   "source": [
    "x <- seq(from=17, to=60, by=0.5)\n",
    "XI  <- dnorm(x, mean=37, sd=5)\n",
    "XII <- dnorm(x, mean=40, sd=5)\n",
    "plot(x, XI, lwd=0, main='variedad I vs variedad II') # Dummy plot\n",
    "lines(x, XI, col='red')\n",
    "lines(x, XII, col='green')\n",
    "grid()\n",
    "legend( x='topleft', \n",
    "        legend=c('variedad I','variedad II'),\n",
    "        col=c('red','green'), lwd=1)\n",
    "abline(v=37, col=\"blue\", lty=3)\n",
    "abline(v=40, col=\"blue\", lty=3)\n",
    "# A\n",
    "abline(v=39, col=\"red\", lty=3)\n",
    "text(39, 0, c('A'), cex=1, pos=3)"
   ]
  },
  {
   "cell_type": "code",
   "execution_count": null,
   "metadata": {},
   "outputs": [],
   "source": []
  }
 ],
 "metadata": {
  "kernelspec": {
   "name": "python3",
   "language": "python",
   "display_name": "Python 3"
  },
  "language_info": {
   "codemirror_mode": "r",
   "file_extension": ".r",
   "mimetype": "text/x-r-source",
   "name": "R",
   "pygments_lexer": "r",
   "version": "3.6.0"
  },
  "toc": {
   "base_numbering": 1,
   "nav_menu": {},
   "number_sections": true,
   "sideBar": true,
   "skip_h1_title": false,
   "title_cell": "Table of Contents",
   "title_sidebar": "Contents",
   "toc_cell": false,
   "toc_position": {},
   "toc_section_display": true,
   "toc_window_display": false
  }
 },
 "nbformat": 4,
 "nbformat_minor": 2
}