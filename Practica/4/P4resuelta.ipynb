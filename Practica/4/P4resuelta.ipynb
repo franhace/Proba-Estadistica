{
 "cells": [
  {
   "cell_type": "markdown",
   "source": [
    "### 1. Sea (X, Y ) un vector aleatorio con función de densidad conjunta\n",
    "$$f_{XY}(x, y) = { k(x^2 + y^2 ) si 2 ≤ x ≤ 3, 2 ≤ y ≤ 3$$\n",
    "              \n",
    "#### a) ¿Cuál es el valor de k ?\n",
    "#### b) ¿Cuál es la probabilidad de que tanto X como Y sean menores que 2,6?\n",
    "#### c) ¿Cuál es la probabilidad de que máx(X, Y ) < 2,6?\n",
    "#### d) Hallar f X y f Y , las funciones de densidad marginales."
   ],
   "metadata": {
    "collapsed": false
   }
  },
  {
   "cell_type": "code",
   "execution_count": null,
   "outputs": [],
   "source": [],
   "metadata": {
    "collapsed": false,
    "pycharm": {
     "name": "#%%\n"
    }
   }
  },
  {
   "cell_type": "markdown",
   "source": [
    "### 2. De un grupo de tres profesores, dos graduados y un alumno debe seleccionarse al azar una comisión de dos personas. Sean X el número de profesores e Y el número de graduados en la comisión.\n",
    "#### a) Hallar la función de probabilidad conjunta del par (X, Y ) y las marginales de X e Y.\n",
    "#### b) ¿Cuál es la probabilidad de que el alumno no forme parte de la comisión?\n"
   ],
   "metadata": {
    "collapsed": false
   }
  },
  {
   "cell_type": "code",
   "execution_count": null,
   "outputs": [],
   "source": [],
   "metadata": {
    "collapsed": false,
    "pycharm": {
     "name": "#%%\n"
    }
   }
  },
  {
   "cell_type": "markdown",
   "source": [
    "### 3. Sea (X, Y ) una v.a. bidimensional continua con distribución uniforme en el trapecio de vértices (−1, 0) , (0, 1) , (1, 1) y (2, 0) .\n",
    "#### a) Hallar la función de densidad conjunta de (X, Y ) .\n",
    "#### b) Calcular P (Y ≤ X) .\n",
    "#### c) Hallar las funciones de densidad marginales f X y f Y .\n"
   ],
   "metadata": {
    "collapsed": false
   }
  },
  {
   "cell_type": "code",
   "execution_count": null,
   "outputs": [],
   "source": [],
   "metadata": {
    "collapsed": false,
    "pycharm": {
     "name": "#%%\n"
    }
   }
  },
  {
   "cell_type": "markdown",
   "source": [
    "### 4. Para iluminar sin interrupción una sala (de computadoras!) se cuenta con dos lamparitas; cuando se quema una, se coloca la otra. Sean X e Y los tiempos de vida de cada lamparita (en 10 3 horas) y supóngase que esos tiempos son independientes y tienen distribución E (1) .\n",
    "#### a) Hallar la densidad conjunta de (X, Y ) .\n",
    "#### b) Hallar la probabilidad de que la sala permanezca iluminada al menos 2000 horas."
   ],
   "metadata": {
    "collapsed": false
   }
  },
  {
   "cell_type": "code",
   "execution_count": null,
   "outputs": [],
   "source": [],
   "metadata": {
    "collapsed": false,
    "pycharm": {
     "name": "#%%\n"
    }
   }
  },
  {
   "cell_type": "markdown",
   "source": [
    "### 5. Dos servidores A y B procesan trabajos a medida que van llegando. El tiempo que tarda el servidor A en procesar un trabajo es una variable aleatoria X ∼ E(λ 1 ), mientras que el tiempo que tarda el servidor B es una variable aleatoria Y ∼ E(λ 2 ). Ambos servidores actúan en forma independiente. Dos trabajos llegan simultáneamente y son atendidos uno por A y otro B. ¿Cuál es la probabilidad de que el servidor A termine con su trabajo antes que B?\n"
   ],
   "metadata": {
    "collapsed": false
   }
  },
  {
   "cell_type": "code",
   "execution_count": null,
   "outputs": [],
   "source": [],
   "metadata": {
    "collapsed": false,
    "pycharm": {
     "name": "#%%\n"
    }
   }
  },
  {
   "cell_type": "markdown",
   "source": [
    "### 6. (*) Retomemos el problema anterior y supongamos que tres trabajos llegan simultáneamente. Uno es atendido por A, otro por B y el tercero queda esperando a que uno de los servidores se libere. Si λ 1 = λ 2 , pruebe que la probabilidad de que el último trabajo en ser atendido sea el último en ser completado es 0.5."
   ],
   "metadata": {
    "collapsed": false
   }
  },
  {
   "cell_type": "markdown",
   "metadata": {
    "collapsed": true
   },
   "source": []
  },
  {
   "cell_type": "code",
   "execution_count": null,
   "metadata": {},
   "outputs": [],
   "source": []
  },
  {
   "cell_type": "markdown",
   "metadata": {},
   "source": [
    "### 2. De un grupo de tres profesores, dos graduados y un alumno debe seleccionarse al azar una comisión de dos personas. Sean X el número de profesores e Y el número de graduados en la comisión.\n",
    "#### a) Hallar la función de probabilidad conjunta del par (X, Y ) y las marginales de X e Y.\n",
    "#### b) ¿Cuál es la probabilidad de que el alumno no forme parte de la comisión?\n"
   ]
  },
  {
   "cell_type": "code",
   "execution_count": null,
   "metadata": {},
   "outputs": [],
   "source": []
  },
  {
   "cell_type": "markdown",
   "metadata": {},
   "source": [
    "### 3. Sea (X, Y ) una v.a. bidimensional continua con distribución uniforme en el trapecio de vértices (−1, 0) , (0, 1) , (1, 1) y (2, 0) .\n",
    "#### a) Hallar la función de densidad conjunta de (X, Y ) .\n",
    "#### b) Calcular P (Y ≤ X) .\n",
    "#### c) Hallar las funciones de densidad marginales f X y f Y .\n"
   ]
  },
  {
   "cell_type": "code",
   "execution_count": null,
   "metadata": {},
   "outputs": [],
   "source": []
  },
  {
   "cell_type": "markdown",
   "metadata": {},
   "source": [
    "### 4. Para iluminar sin interrupción una sala (de computadoras!) se cuenta con dos lamparitas; cuando se quema una, se coloca la otra. Sean X e Y los tiempos de vida de cada lamparita (en 10 3 horas) y supóngase que esos tiempos son independientes y tienen distribución E (1) .\n",
    "#### a) Hallar la densidad conjunta de (X, Y ) .\n",
    "#### b) Hallar la probabilidad de que la sala permanezca iluminada al menos 2000 horas."
   ]
  },
  {
   "cell_type": "code",
   "execution_count": null,
   "metadata": {},
   "outputs": [],
   "source": []
  },
  {
   "cell_type": "markdown",
   "metadata": {},
   "source": [
    "### 5. Dos servidores A y B procesan trabajos a medida que van llegando. El tiempo que tarda el servidor A en procesar un trabajo es una variable aleatoria X ∼ E(λ 1 ), mientras que el tiempo que tarda el servidor B es una variable aleatoria Y ∼ E(λ 2 ). Ambos servidores actúan en forma independiente. Dos trabajos llegan simultáneamente y son atendidos uno por A y otro B. ¿Cuál es la probabilidad de que el servidor A termine con su trabajo antes que B?\n"
   ]
  },
  {
   "cell_type": "code",
   "execution_count": null,
   "metadata": {},
   "outputs": [],
   "source": []
  },
  {
   "cell_type": "markdown",
   "metadata": {},
   "source": [
    "### 6. (*) Retomemos el problema anterior y supongamos que tres trabajos llegan simultáneamente. Uno es atendido por A, otro por B y el tercero queda esperando a que uno de los servidores se libere. Si λ 1 = λ 2 , pruebe que la probabilidad de que el último trabajo en ser atendido sea el último en ser completado es 0.5."
   ]
  },
  {
   "cell_type": "code",
   "execution_count": null,
   "metadata": {},
   "outputs": [],
   "source": []
  }
 ],
 "metadata": {
  "kernelspec": {
   "display_name": "Python 3",
   "language": "python",
   "name": "python3"
  },
  "language_info": {
   "codemirror_mode": {
    "name": "ipython",
    "version": 3
   },
   "file_extension": ".py",
   "mimetype": "text/x-python",
   "name": "python",
   "nbconvert_exporter": "python",
   "pygments_lexer": "ipython3",
   "version": "3.8.5"
  }
 },
 "nbformat": 4,
 "nbformat_minor": 1
}