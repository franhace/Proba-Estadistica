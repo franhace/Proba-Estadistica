{
 "cells": [
  {
   "cell_type": "markdown",
   "metadata": {
    "collapsed": true
   },
   "source": [
    "### 1. Sea (X, Y ) un vector aleatorio con función de densidad conjunta\n",
    "$$ f_{XY}(x, y) = { k(x^2 + y^2 ) \\ si \\ 2 ≤ x ≤ 3, 2 ≤ y ≤ 3 }$$\n",
    "\n",
    "              \n",
    "#### a) ¿Cuál es el valor de k ?\n",
    "#### b) ¿Cuál es la probabilidad de que tanto X como Y sean menores que 2,6?\n",
    "#### c) ¿Cuál es la probabilidad de que máx(X, Y ) < 2,6?\n",
    "#### d) Hallar f X y f Y , las funciones de densidad marginales."
   ]
  },
  {
   "cell_type": "code",
   "execution_count": 10,
   "metadata": {},
   "outputs": [
    {
     "data": {
      "text/html": [
       "7.89473684210526e-06"
      ],
      "text/latex": [
       "7.89473684210526e-06"
      ],
      "text/markdown": [
       "7.89473684210526e-06"
      ],
      "text/plain": [
       "[1] 7.894737e-06"
      ]
     },
     "metadata": {},
     "output_type": "display_data"
    },
    {
     "data": {
      "text/html": [
       "81.6106736842105"
      ],
      "text/latex": [
       "81.6106736842105"
      ],
      "text/markdown": [
       "81.6106736842105"
      ],
      "text/plain": [
       "[1] 81.61067"
      ]
     },
     "metadata": {},
     "output_type": "display_data"
    }
   ],
   "source": [
    "# a : integral doble de 𝑘(𝑥2+𝑦2) dx dy = 1 ..\n",
    "f <- function(x) {10*x**2+19000/3}\n",
    "val <- integrate(f, lower = 2, upper = 3)\n",
    "k<- 1/val$value \n",
    "k\n",
    "\n",
    "# b \n",
    "# P (X<2.6, Y<2.6)\n",
    "f2 <- function(x) {3192*x**2+2*x**3}\n",
    "val2 <- integrate(f2, lower = 2, upper = 2.6)\n",
    "res<- k * val2$value\n",
    "res\n",
    "\n",
    "# c \n"
   ]
  },
  {
   "cell_type": "markdown",
   "metadata": {},
   "source": [
    "### 2. De un grupo de tres profesores, dos graduados y un alumno debe seleccionarse al azar una comisión de dos personas. Sean X el número de profesores e Y el número de graduados en la comisión.\n",
    "#### a) Hallar la función de probabilidad conjunta del par (X, Y ) y las marginales de X e Y.\n",
    "#### b) ¿Cuál es la probabilidad de que el alumno no forme parte de la comisión?\n"
   ]
  },
  {
   "cell_type": "code",
   "execution_count": null,
   "metadata": {},
   "outputs": [],
   "source": []
  },
  {
   "cell_type": "markdown",
   "metadata": {},
   "source": [
    "### 3. Sea (X, Y ) una v.a. bidimensional continua con distribución uniforme en el trapecio de vértices (−1, 0) , (0, 1) , (1, 1) y (2, 0) .\n",
    "#### a) Hallar la función de densidad conjunta de (X, Y ) .\n",
    "#### b) Calcular P (Y ≤ X) .\n",
    "#### c) Hallar las funciones de densidad marginales f X y f Y .\n"
   ]
  },
  {
   "cell_type": "code",
   "execution_count": null,
   "metadata": {},
   "outputs": [],
   "source": []
  },
  {
   "cell_type": "markdown",
   "metadata": {},
   "source": [
    "### 4. Para iluminar sin interrupción una sala (de computadoras!) se cuenta con dos lamparitas; cuando se quema una, se coloca la otra. Sean X e Y los tiempos de vida de cada lamparita (en 10 3 horas) y supóngase que esos tiempos son independientes y tienen distribución E (1) .\n",
    "#### a) Hallar la densidad conjunta de (X, Y ) .\n",
    "#### b) Hallar la probabilidad de que la sala permanezca iluminada al menos 2000 horas."
   ]
  },
  {
   "cell_type": "code",
   "execution_count": null,
   "metadata": {},
   "outputs": [],
   "source": []
  },
  {
   "cell_type": "markdown",
   "metadata": {},
   "source": [
    "### 5. Dos servidores A y B procesan trabajos a medida que van llegando. El tiempo que tarda el servidor A en procesar un trabajo es una variable aleatoria X ∼ E(λ 1 ), mientras que el tiempo que tarda el servidor B es una variable aleatoria Y ∼ E(λ 2 ). Ambos servidores actúan en forma independiente. Dos trabajos llegan simultáneamente y son atendidos uno por A y otro B. ¿Cuál es la probabilidad de que el servidor A termine con su trabajo antes que B?\n"
   ]
  },
  {
   "cell_type": "code",
   "execution_count": null,
   "metadata": {},
   "outputs": [],
   "source": []
  },
  {
   "cell_type": "markdown",
   "metadata": {},
   "source": [
    "### 6. (*) Retomemos el problema anterior y supongamos que tres trabajos llegan simultáneamente. Uno es atendido por A, otro por B y el tercero queda esperando a que uno de los servidores se libere. Si λ 1 = λ 2 , pruebe que la probabilidad de que el último trabajo en ser atendido sea el último en ser completado es 0.5."
   ]
  },
  {
   "cell_type": "markdown",
   "metadata": {
    "pycharm": {
     "name": "#%% md\n"
    }
   },
   "source": [
    "### 15."
   ]
  },
  {
   "cell_type": "code",
   "execution_count": 6,
   "metadata": {
    "pycharm": {
     "name": "#%%\n"
    }
   },
   "outputs": [
    {
     "data": {
      "text/html": [
       "0.420740290560897"
      ],
      "text/latex": [
       "0.420740290560897"
      ],
      "text/markdown": [
       "0.420740290560897"
      ],
      "text/plain": [
       "[1] 0.4207403"
      ]
     },
     "metadata": {},
     "output_type": "display_data"
    },
    {
     "data": {
      "text/html": [
       "0.53469424668056"
      ],
      "text/latex": [
       "0.53469424668056"
      ],
      "text/markdown": [
       "0.53469424668056"
      ],
      "text/plain": [
       "[1] 0.5346942"
      ]
     },
     "metadata": {},
     "output_type": "display_data"
    },
    {
     "data": {
      "text/html": [
       "0.044565462758543"
      ],
      "text/latex": [
       "0.044565462758543"
      ],
      "text/markdown": [
       "0.044565462758543"
      ],
      "text/plain": [
       "[1] 0.04456546"
      ]
     },
     "metadata": {},
     "output_type": "display_data"
    },
    {
     "data": {
      "text/html": [
       "0.0118807194455043"
      ],
      "text/latex": [
       "0.0118807194455043"
      ],
      "text/markdown": [
       "0.0118807194455043"
      ],
      "text/plain": [
       "[1] 0.01188072"
      ]
     },
     "metadata": {},
     "output_type": "display_data"
    },
    {
     "data": {
      "text/html": [
       "0.0118807194455044"
      ],
      "text/latex": [
       "0.0118807194455044"
      ],
      "text/markdown": [
       "0.0118807194455044"
      ],
      "text/plain": [
       "[1] 0.01188072"
      ]
     },
     "metadata": {},
     "output_type": "display_data"
    }
   ],
   "source": [
    "a<-1-pnorm(0.2)\n",
    "b<-pnorm(1.7)-(1-pnorm(0.2))\n",
    "c<-1-(a+b)\n",
    "a\n",
    "b\n",
    "c\n",
    "dmultinom(c(9,12,3),prob=c(a,b,c))\n",
    "\n",
    "facto<-factorial(24)/(factorial(9)*factorial(12)*factorial(3))\n",
    "pots<-(a**9)*(b**12)*(c**3)\n",
    "facto*pots"
   ]
  }
 ],
 "metadata": {
  "kernelspec": {
   "display_name": "R",
   "language": "R",
   "name": "ir"
  },
  "language_info": {
   "codemirror_mode": "r",
   "file_extension": ".r",
   "mimetype": "text/x-r-source",
   "name": "R",
   "pygments_lexer": "r",
   "version": "3.6.3"
  }
 },
 "nbformat": 4,
 "nbformat_minor": 1
}