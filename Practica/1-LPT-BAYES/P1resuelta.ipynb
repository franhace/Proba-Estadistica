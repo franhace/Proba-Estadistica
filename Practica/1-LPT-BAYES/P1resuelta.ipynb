{
 "cells": [
  {
   "cell_type": "markdown",
   "metadata": {},
   "source": [
    "### 1. Se arroja dos veces un dado equilibrado, registrándose los resultados obtenidos.\n",
    "#### a) Definir un espacio muestral S apropiado para este experimento.\n",
    "#### b) Describir el conjunto de elementos del espacio muestral que satisface que:\n",
    "A: la suma de los dos números obtenidos es por lo menos 5\n",
    "B: el valor obtenido en el primer tiro es superior al obtenido en el segundo\n",
    "C: el valor obtenido en el primer tiro es un 4\n",
    "c) Calcular las probabilidades de los eventos definidos en 1b).\n",
    "#### d ) Simular en R el experimento de tirar dos veces un dado equilibrado.\n",
    "#### e) Simular 1000 veces en R el experimento de tirar dos veces un dado equilibrado y\n",
    "estimar las probabilidades de los sucesos definidos en 1b).\n",
    "#### f ) Describir los siguientes conjuntos:\n",
    "i. A ∩ B\n",
    "ii. B ∪ C\n",
    "iii. A ∩ (B ∪ C)\n",
    "#### g) Calcular las probabilidades de los sucesos definidos en 1f ). Verificar los resultados utilizando los experimentos simulados en 1e)"
   ]
  },
  {
   "cell_type": "code",
   "execution_count": 11,
   "metadata": {},
   "outputs": [
    {
     "data": {
      "text/html": [
       "<style>\n",
       ".list-inline {list-style: none; margin:0; padding: 0}\n",
       ".list-inline>li {display: inline-block}\n",
       ".list-inline>li:not(:last-child)::after {content: \"\\00b7\"; padding: 0 .5ex}\n",
       "</style>\n",
       "<ol class=list-inline><li>5</li><li>3</li></ol>\n"
      ],
      "text/latex": [
       "\\begin{enumerate*}\n",
       "\\item 5\n",
       "\\item 3\n",
       "\\end{enumerate*}\n"
      ],
      "text/markdown": [
       "1. 5\n",
       "2. 3\n",
       "\n",
       "\n"
      ],
      "text/plain": [
       "[1] 5 3"
      ]
     },
     "metadata": {},
     "output_type": "display_data"
    },
    {
     "data": {
      "text/html": [
       "2"
      ],
      "text/latex": [
       "2"
      ],
      "text/markdown": [
       "2"
      ],
      "text/plain": [
       "[1] 2"
      ]
     },
     "metadata": {},
     "output_type": "display_data"
    },
    {
     "data": {
      "text/html": [
       "<style>\n",
       ".list-inline {list-style: none; margin:0; padding: 0}\n",
       ".list-inline>li {display: inline-block}\n",
       ".list-inline>li:not(:last-child)::after {content: \"\\00b7\"; padding: 0 .5ex}\n",
       "</style>\n",
       "<ol class=list-inline><li>6</li><li>1</li></ol>\n"
      ],
      "text/latex": [
       "\\begin{enumerate*}\n",
       "\\item 6\n",
       "\\item 1\n",
       "\\end{enumerate*}\n"
      ],
      "text/markdown": [
       "1. 6\n",
       "2. 1\n",
       "\n",
       "\n"
      ],
      "text/plain": [
       "[1] 6 1"
      ]
     },
     "metadata": {},
     "output_type": "display_data"
    },
    {
     "data": {
      "text/html": [
       "<table>\n",
       "<caption>A matrix: 2 × 10 of type int</caption>\n",
       "<tbody>\n",
       "\t<tr><td>6</td><td>6</td><td>6</td><td>6</td><td>6</td><td>6</td><td>6</td><td>6</td><td>6</td><td>6</td></tr>\n",
       "\t<tr><td>1</td><td>1</td><td>1</td><td>1</td><td>1</td><td>1</td><td>1</td><td>1</td><td>1</td><td>1</td></tr>\n",
       "</tbody>\n",
       "</table>\n"
      ],
      "text/latex": [
       "A matrix: 2 × 10 of type int\n",
       "\\begin{tabular}{llllllllll}\n",
       "\t 6 & 6 & 6 & 6 & 6 & 6 & 6 & 6 & 6 & 6\\\\\n",
       "\t 1 & 1 & 1 & 1 & 1 & 1 & 1 & 1 & 1 & 1\\\\\n",
       "\\end{tabular}\n"
      ],
      "text/markdown": [
       "\n",
       "A matrix: 2 × 10 of type int\n",
       "\n",
       "| 6 | 6 | 6 | 6 | 6 | 6 | 6 | 6 | 6 | 6 |\n",
       "| 1 | 1 | 1 | 1 | 1 | 1 | 1 | 1 | 1 | 1 |\n",
       "\n"
      ],
      "text/plain": [
       "     [,1] [,2] [,3] [,4] [,5] [,6] [,7] [,8] [,9] [,10]\n",
       "[1,] 6    6    6    6    6    6    6    6    6    6    \n",
       "[2,] 1    1    1    1    1    1    1    1    1    1    "
      ]
     },
     "metadata": {},
     "output_type": "display_data"
    }
   ],
   "source": [
    "# a) \n",
    "tirar_dos_dados <- function() sample(1:6, 2, replace=TRUE)\n",
    "tirar_dos_dados_y_sumarlos <- function() sum(tirar_dos_dados())\n",
    "tirar_dos_dados()\n",
    "tirar_dos_dados_y_sumarlos()\n",
    "dice.roll2<-sample(1:6, size = 2, replace = TRUE)\n",
    "dice.roll2\n",
    "dice.rolling<-replicate(10,dice.roll2)\n",
    "dice.rolling"
   ]
  },
  {
   "cell_type": "code",
   "execution_count": 45,
   "metadata": {},
   "outputs": [
    {
     "data": {
      "text/html": [
       "33448"
      ],
      "text/latex": [
       "33448"
      ],
      "text/markdown": [
       "33448"
      ],
      "text/plain": [
       "[1] 33448"
      ]
     },
     "metadata": {},
     "output_type": "display_data"
    },
    {
     "data": {
      "text/html": [
       "0.33514"
      ],
      "text/latex": [
       "0.33514"
      ],
      "text/markdown": [
       "0.33514"
      ],
      "text/plain": [
       "[1] 0.33514"
      ]
     },
     "metadata": {},
     "output_type": "display_data"
    },
    {
     "data": {
      "text/html": [
       "0.50305"
      ],
      "text/latex": [
       "0.50305"
      ],
      "text/markdown": [
       "0.50305"
      ],
      "text/plain": [
       "[1] 0.50305"
      ]
     },
     "metadata": {},
     "output_type": "display_data"
    }
   ],
   "source": [
    "# Ej 11\n",
    "# Una persona arroja dos dados equilibrados. Calcular la probabilidad de que la suma sea 7 dado que:\n",
    "# a) la suma es impar.\n",
    "\n",
    "experimentoA <- function(){\n",
    "  rolls <- sample(1:6, size = 2, replace = TRUE)\n",
    "  condition <- sum(rolls) == 7\n",
    "  return(condition)\n",
    "}\n",
    "\n",
    "experimentoAbis <- function(){\n",
    "  rolls <- sample(1:6, size = 2, replace = TRUE)\n",
    "  condition <- (sum(rolls) == 7) & (sum(rolls) %% 2 != 0)\n",
    "  return(condition)\n",
    "}\n",
    "\n",
    "experimentoAbis2 <- function(){\n",
    "  rolls <- sample(1:6, size = 2, replace = TRUE)\n",
    "  condition <- (sum(rolls) %% 2 != 0)\n",
    "  return(condition)\n",
    "}\n",
    "\n",
    "simsA <- replicate(100000, experimentoA())\n",
    "sum(simsA)/length(simsAbis2)\n",
    "\n",
    "q<-0.5*100000 # cantidad de veces que la suma es 7\n",
    "\n",
    "simsAbis <- replicate(100000, experimentoAbis())\n",
    "sum(simsAbis)/q\n",
    "simsAbis2 <- replicate(100000, experimentoAbis2())\n",
    "sum(simsAbis2)/length(simsAbis2)"
   ]
  },
  {
   "cell_type": "code",
   "execution_count": 30,
   "metadata": {},
   "outputs": [
    {
     "data": {
      "text/html": [
       "0.16603"
      ],
      "text/latex": [
       "0.16603"
      ],
      "text/markdown": [
       "0.16603"
      ],
      "text/plain": [
       "[1] 0.16603"
      ]
     },
     "metadata": {},
     "output_type": "display_data"
    }
   ],
   "source": [
    "# b) la suma es mayor que 6.\n",
    "\n",
    "experimentoB <- function(){\n",
    "  rolls <- sample(1:6, size = 2, replace = TRUE)\n",
    "  condition <- (sum(rolls) == 7) & (sum(rolls) > 6)\n",
    "  return(condition)\n",
    "}\n",
    "\n",
    "simsB <- replicate(100000, experimentoB())\n",
    "sum(simsB)/length(simsB)"
   ]
  },
  {
   "cell_type": "code",
   "execution_count": 34,
   "metadata": {},
   "outputs": [
    {
     "data": {
      "text/html": [
       "0.493760416666667"
      ],
      "text/latex": [
       "0.493760416666667"
      ],
      "text/markdown": [
       "0.493760416666667"
      ],
      "text/plain": [
       "[1] 0.4937604"
      ]
     },
     "metadata": {},
     "output_type": "display_data"
    }
   ],
   "source": [
    "# c) el número del segundo dado es par.\n",
    "\n",
    "experimentoC <- function(){\n",
    "  first.die <- sample(1:6, size = 24, replace = TRUE)\n",
    "  second.die <- sample(1:6, size = 24, replace = TRUE)\n",
    "  condition <- (sum(first.die + second.die == 7) & (second.die %% 2 == 0))\n",
    "  return(condition)\n",
    "}\n",
    "\n",
    "simsC <- replicate(100000, experimentoC())\n",
    "sum(simsC)/length(simsC)"
   ]
  },
  {
   "cell_type": "code",
   "execution_count": 49,
   "metadata": {},
   "outputs": [
    {
     "data": {
      "text/html": [
       "3.99064"
      ],
      "text/latex": [
       "3.99064"
      ],
      "text/markdown": [
       "3.99064"
      ],
      "text/plain": [
       "[1] 3.99064"
      ]
     },
     "metadata": {},
     "output_type": "display_data"
    }
   ],
   "source": [
    "# d ) el número de alguno de los dados es impar.\n",
    "\n",
    "experimentoD <- function(){\n",
    "  first.die <- sample(1:6, size = 24, replace = TRUE)\n",
    "  second.die <- sample(1:6, size = 24, replace = TRUE)\n",
    "  condition <- sum(first.die + second.die == 7 & ((second.die %% 2 != 0) | (first.die %% 2 != 0)))\n",
    "  return(condition)\n",
    "}\n",
    "\n",
    "simsD <- replicate(100000, experimentoD())\n",
    "sum(simsD)/length(simsD)"
   ]
  },
  {
   "cell_type": "code",
   "execution_count": 46,
   "metadata": {},
   "outputs": [
    {
     "data": {
      "text/html": [
       "0"
      ],
      "text/latex": [
       "0"
      ],
      "text/markdown": [
       "0"
      ],
      "text/plain": [
       "[1] 0"
      ]
     },
     "metadata": {},
     "output_type": "display_data"
    }
   ],
   "source": [
    "# e) los números de los dados son iguales.\n",
    "\n",
    "experimentoE <- function(){\n",
    "  first.die <- sample(1:6, size = 24, replace = TRUE)\n",
    "  second.die <- sample(1:6, size = 24, replace = TRUE)\n",
    "  condition <- (sum(first.die + second.die == 7 & second.die == first.die ))\n",
    "  return(condition)\n",
    "}\n",
    "\n",
    "simsE <- replicate(100000, experimentoE())\n",
    "sum(simsE)/length(simsE)"
   ]
  }
 ],
 "metadata": {
  "kernelspec": {
   "display_name": "R",
   "language": "R",
   "name": "ir"
  },
  "language_info": {
   "codemirror_mode": "r",
   "file_extension": ".r",
   "mimetype": "text/x-r-source",
   "name": "R",
   "pygments_lexer": "r",
   "version": "3.6.3"
  }
 },
 "nbformat": 4,
 "nbformat_minor": 4
}
