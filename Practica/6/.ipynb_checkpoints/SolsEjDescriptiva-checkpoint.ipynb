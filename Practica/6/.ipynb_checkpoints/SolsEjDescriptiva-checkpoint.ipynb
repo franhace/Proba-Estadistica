{
 "cells": [
  {
   "cell_type": "markdown",
   "metadata": {},
   "source": [
    "![EjercicioEstadisticaDescriptivca.png](attachment:EjercicioEstadisticaDescriptivca.png)"
   ]
  },
  {
   "cell_type": "markdown",
   "metadata": {},
   "source": [
    "#### a) Calcular media, mediana, media a-podada. Que dieta no parece saludable?"
   ]
  },
  {
   "cell_type": "code",
   "execution_count": 10,
   "metadata": {
    "pycharm": {
     "name": "#%%\n"
    }
   },
   "outputs": [
    {
     "data": {
      "text/html": [
       "<style>\n",
       ".list-inline {list-style: none; margin:0; padding: 0}\n",
       ".list-inline>li {display: inline-block}\n",
       ".list-inline>li:not(:last-child)::after {content: \"\\00b7\"; padding: 0 .5ex}\n",
       "</style>\n",
       "<ol class=list-inline><li>105</li><li>86</li><li>109</li><li>87</li><li>90</li><li>104</li><li>68</li><li>104</li><li>110</li><li>112</li><li>90</li><li>88</li><li>99</li><li>108</li><li>95</li><li>104</li><li>108</li><li>81</li><li>84</li><li>100</li><li>97</li><li>97</li><li>99</li><li>88</li><li>111</li><li>105</li><li>102</li><li>91</li><li>119</li><li>96</li><li>92</li><li>81</li><li>86</li><li>95</li><li>93</li><li>87</li><li>101</li><li>113</li><li>93</li><li>87</li><li>91</li><li>95</li><li>118</li><li>109</li><li>86</li><li>99</li><li>108</li><li>104</li><li>111</li><li>86</li><li>105</li><li>94</li><li>115</li><li>80</li><li>89</li><li>85</li><li>109</li><li>100</li><li>110</li><li>96</li><li>96</li><li>102</li><li>102</li><li>100</li><li>108</li><li>95</li><li>96</li><li>99</li><li>95</li><li>95</li><li>102</li><li>90</li><li>92</li><li>111</li><li>88</li><li>119</li><li>99</li><li>102</li><li>106</li><li>121</li><li>105</li><li>89</li><li>114</li><li>86</li><li>86</li><li>116</li><li>110</li><li>97</li><li>102</li><li>101</li><li>98</li><li>87</li><li>88</li><li>98</li><li>106</li><li>100</li><li>116</li><li>99</li><li>97</li><li>100</li></ol>\n"
      ],
      "text/latex": [
       "\\begin{enumerate*}\n",
       "\\item 105\n",
       "\\item 86\n",
       "\\item 109\n",
       "\\item 87\n",
       "\\item 90\n",
       "\\item 104\n",
       "\\item 68\n",
       "\\item 104\n",
       "\\item 110\n",
       "\\item 112\n",
       "\\item 90\n",
       "\\item 88\n",
       "\\item 99\n",
       "\\item 108\n",
       "\\item 95\n",
       "\\item 104\n",
       "\\item 108\n",
       "\\item 81\n",
       "\\item 84\n",
       "\\item 100\n",
       "\\item 97\n",
       "\\item 97\n",
       "\\item 99\n",
       "\\item 88\n",
       "\\item 111\n",
       "\\item 105\n",
       "\\item 102\n",
       "\\item 91\n",
       "\\item 119\n",
       "\\item 96\n",
       "\\item 92\n",
       "\\item 81\n",
       "\\item 86\n",
       "\\item 95\n",
       "\\item 93\n",
       "\\item 87\n",
       "\\item 101\n",
       "\\item 113\n",
       "\\item 93\n",
       "\\item 87\n",
       "\\item 91\n",
       "\\item 95\n",
       "\\item 118\n",
       "\\item 109\n",
       "\\item 86\n",
       "\\item 99\n",
       "\\item 108\n",
       "\\item 104\n",
       "\\item 111\n",
       "\\item 86\n",
       "\\item 105\n",
       "\\item 94\n",
       "\\item 115\n",
       "\\item 80\n",
       "\\item 89\n",
       "\\item 85\n",
       "\\item 109\n",
       "\\item 100\n",
       "\\item 110\n",
       "\\item 96\n",
       "\\item 96\n",
       "\\item 102\n",
       "\\item 102\n",
       "\\item 100\n",
       "\\item 108\n",
       "\\item 95\n",
       "\\item 96\n",
       "\\item 99\n",
       "\\item 95\n",
       "\\item 95\n",
       "\\item 102\n",
       "\\item 90\n",
       "\\item 92\n",
       "\\item 111\n",
       "\\item 88\n",
       "\\item 119\n",
       "\\item 99\n",
       "\\item 102\n",
       "\\item 106\n",
       "\\item 121\n",
       "\\item 105\n",
       "\\item 89\n",
       "\\item 114\n",
       "\\item 86\n",
       "\\item 86\n",
       "\\item 116\n",
       "\\item 110\n",
       "\\item 97\n",
       "\\item 102\n",
       "\\item 101\n",
       "\\item 98\n",
       "\\item 87\n",
       "\\item 88\n",
       "\\item 98\n",
       "\\item 106\n",
       "\\item 100\n",
       "\\item 116\n",
       "\\item 99\n",
       "\\item 97\n",
       "\\item 100\n",
       "\\end{enumerate*}\n"
      ],
      "text/markdown": [
       "1. 105\n",
       "2. 86\n",
       "3. 109\n",
       "4. 87\n",
       "5. 90\n",
       "6. 104\n",
       "7. 68\n",
       "8. 104\n",
       "9. 110\n",
       "10. 112\n",
       "11. 90\n",
       "12. 88\n",
       "13. 99\n",
       "14. 108\n",
       "15. 95\n",
       "16. 104\n",
       "17. 108\n",
       "18. 81\n",
       "19. 84\n",
       "20. 100\n",
       "21. 97\n",
       "22. 97\n",
       "23. 99\n",
       "24. 88\n",
       "25. 111\n",
       "26. 105\n",
       "27. 102\n",
       "28. 91\n",
       "29. 119\n",
       "30. 96\n",
       "31. 92\n",
       "32. 81\n",
       "33. 86\n",
       "34. 95\n",
       "35. 93\n",
       "36. 87\n",
       "37. 101\n",
       "38. 113\n",
       "39. 93\n",
       "40. 87\n",
       "41. 91\n",
       "42. 95\n",
       "43. 118\n",
       "44. 109\n",
       "45. 86\n",
       "46. 99\n",
       "47. 108\n",
       "48. 104\n",
       "49. 111\n",
       "50. 86\n",
       "51. 105\n",
       "52. 94\n",
       "53. 115\n",
       "54. 80\n",
       "55. 89\n",
       "56. 85\n",
       "57. 109\n",
       "58. 100\n",
       "59. 110\n",
       "60. 96\n",
       "61. 96\n",
       "62. 102\n",
       "63. 102\n",
       "64. 100\n",
       "65. 108\n",
       "66. 95\n",
       "67. 96\n",
       "68. 99\n",
       "69. 95\n",
       "70. 95\n",
       "71. 102\n",
       "72. 90\n",
       "73. 92\n",
       "74. 111\n",
       "75. 88\n",
       "76. 119\n",
       "77. 99\n",
       "78. 102\n",
       "79. 106\n",
       "80. 121\n",
       "81. 105\n",
       "82. 89\n",
       "83. 114\n",
       "84. 86\n",
       "85. 86\n",
       "86. 116\n",
       "87. 110\n",
       "88. 97\n",
       "89. 102\n",
       "90. 101\n",
       "91. 98\n",
       "92. 87\n",
       "93. 88\n",
       "94. 98\n",
       "95. 106\n",
       "96. 100\n",
       "97. 116\n",
       "98. 99\n",
       "99. 97\n",
       "100. 100\n",
       "\n",
       "\n"
      ],
      "text/plain": [
       "  [1] 105  86 109  87  90 104  68 104 110 112  90  88  99 108  95 104 108  81\n",
       " [19]  84 100  97  97  99  88 111 105 102  91 119  96  92  81  86  95  93  87\n",
       " [37] 101 113  93  87  91  95 118 109  86  99 108 104 111  86 105  94 115  80\n",
       " [55]  89  85 109 100 110  96  96 102 102 100 108  95  96  99  95  95 102  90\n",
       " [73]  92 111  88 119  99 102 106 121 105  89 114  86  86 116 110  97 102 101\n",
       " [91]  98  87  88  98 106 100 116  99  97 100"
      ]
     },
     "metadata": {},
     "output_type": "display_data"
    }
   ],
   "source": [
    "# Leemos los datos\n",
    "gluco <- read.delim(\"./dietas.txt\")\n",
    "\n",
    "# attach(gluco)\n",
    "\n",
    "# dietaa  \n",
    "# dietab\n",
    "# dietac\n",
    "\n",
    "# # o bien si las columnas no tienen nombre\n",
    "\n",
    "DietaA<-gluco[,1]\n",
    "DietaA\n",
    "DietaB<-gluco[,2]\n",
    "DietaC<-gluco[,3]"
   ]
  },
  {
   "cell_type": "code",
   "execution_count": 11,
   "metadata": {
    "pycharm": {
     "name": "#%%\n"
    }
   },
   "outputs": [
    {
     "data": {
      "text/plain": [
       "     dietaa           dietab           dietac      \n",
       " Min.   : 68.00   Min.   : 68.00   Min.   : 68.00  \n",
       " 1st Qu.: 90.75   1st Qu.: 79.00   1st Qu.: 70.00  \n",
       " Median : 99.00   Median : 94.50   Median : 73.00  \n",
       " Mean   : 98.68   Mean   : 94.46   Mean   : 77.29  \n",
       " 3rd Qu.:105.25   3rd Qu.:110.25   3rd Qu.: 81.00  \n",
       " Max.   :121.00   Max.   :122.00   Max.   :121.00  "
      ]
     },
     "metadata": {},
     "output_type": "display_data"
    }
   ],
   "source": [
    "summary(gluco)"
   ]
  },
  {
   "cell_type": "code",
   "execution_count": 12,
   "metadata": {
    "pycharm": {
     "name": "#%%\n"
    }
   },
   "outputs": [
    {
     "data": {
      "text/html": [
       "<style>\n",
       ".dl-inline {width: auto; margin:0; padding: 0}\n",
       ".dl-inline>dt, .dl-inline>dd {float: none; width: auto; display: inline-block}\n",
       ".dl-inline>dt::after {content: \":\\0020\"; padding-right: .5ex}\n",
       ".dl-inline>dt:not(:first-of-type) {padding-left: .5ex}\n",
       "</style><dl class=dl-inline><dt>dietaa</dt><dd>98.68</dd><dt>dietab</dt><dd>94.46</dd><dt>dietac</dt><dd>77.29</dd></dl>\n"
      ],
      "text/latex": [
       "\\begin{description*}\n",
       "\\item[dietaa] 98.68\n",
       "\\item[dietab] 94.46\n",
       "\\item[dietac] 77.29\n",
       "\\end{description*}\n"
      ],
      "text/markdown": [
       "dietaa\n",
       ":   98.68dietab\n",
       ":   94.46dietac\n",
       ":   77.29\n",
       "\n"
      ],
      "text/plain": [
       "dietaa dietab dietac \n",
       " 98.68  94.46  77.29 "
      ]
     },
     "metadata": {},
     "output_type": "display_data"
    },
    {
     "data": {
      "text/html": [
       "98.68"
      ],
      "text/latex": [
       "98.68"
      ],
      "text/markdown": [
       "98.68"
      ],
      "text/plain": [
       "[1] 98.68"
      ]
     },
     "metadata": {},
     "output_type": "display_data"
    },
    {
     "data": {
      "text/html": [
       "94.46"
      ],
      "text/latex": [
       "94.46"
      ],
      "text/markdown": [
       "94.46"
      ],
      "text/plain": [
       "[1] 94.46"
      ]
     },
     "metadata": {},
     "output_type": "display_data"
    },
    {
     "data": {
      "text/html": [
       "77.29"
      ],
      "text/latex": [
       "77.29"
      ],
      "text/markdown": [
       "77.29"
      ],
      "text/plain": [
       "[1] 77.29"
      ]
     },
     "metadata": {},
     "output_type": "display_data"
    }
   ],
   "source": [
    "apply(gluco, 2, mean)\n",
    "\n",
    "mean(DietaA)\n",
    "mean(DietaB)\n",
    "mean(DietaC)"
   ]
  },
  {
   "cell_type": "code",
   "execution_count": 13,
   "metadata": {
    "pycharm": {
     "name": "#%%\n"
    }
   },
   "outputs": [
    {
     "data": {
      "text/html": [
       "<style>\n",
       ".dl-inline {width: auto; margin:0; padding: 0}\n",
       ".dl-inline>dt, .dl-inline>dd {float: none; width: auto; display: inline-block}\n",
       ".dl-inline>dt::after {content: \":\\0020\"; padding-right: .5ex}\n",
       ".dl-inline>dt:not(:first-of-type) {padding-left: .5ex}\n",
       "</style><dl class=dl-inline><dt>dietaa</dt><dd>99</dd><dt>dietab</dt><dd>94.5</dd><dt>dietac</dt><dd>73</dd></dl>\n"
      ],
      "text/latex": [
       "\\begin{description*}\n",
       "\\item[dietaa] 99\n",
       "\\item[dietab] 94.5\n",
       "\\item[dietac] 73\n",
       "\\end{description*}\n"
      ],
      "text/markdown": [
       "dietaa\n",
       ":   99dietab\n",
       ":   94.5dietac\n",
       ":   73\n",
       "\n"
      ],
      "text/plain": [
       "dietaa dietab dietac \n",
       "  99.0   94.5   73.0 "
      ]
     },
     "metadata": {},
     "output_type": "display_data"
    },
    {
     "data": {
      "text/html": [
       "99"
      ],
      "text/latex": [
       "99"
      ],
      "text/markdown": [
       "99"
      ],
      "text/plain": [
       "[1] 99"
      ]
     },
     "metadata": {},
     "output_type": "display_data"
    },
    {
     "data": {
      "text/html": [
       "94.5"
      ],
      "text/latex": [
       "94.5"
      ],
      "text/markdown": [
       "94.5"
      ],
      "text/plain": [
       "[1] 94.5"
      ]
     },
     "metadata": {},
     "output_type": "display_data"
    },
    {
     "data": {
      "text/html": [
       "73"
      ],
      "text/latex": [
       "73"
      ],
      "text/markdown": [
       "73"
      ],
      "text/plain": [
       "[1] 73"
      ]
     },
     "metadata": {},
     "output_type": "display_data"
    },
    {
     "data": {
      "text/html": [
       "99"
      ],
      "text/latex": [
       "99"
      ],
      "text/markdown": [
       "99"
      ],
      "text/plain": [
       "[1] 99"
      ]
     },
     "metadata": {},
     "output_type": "display_data"
    },
    {
     "data": {
      "text/html": [
       "99"
      ],
      "text/latex": [
       "99"
      ],
      "text/markdown": [
       "99"
      ],
      "text/plain": [
       "[1] 99"
      ]
     },
     "metadata": {},
     "output_type": "display_data"
    }
   ],
   "source": [
    "# Mediana muestral:\n",
    "\n",
    "apply(gluco, 2, median)\n",
    "\n",
    "median(DietaA)\n",
    "median(DietaB)\n",
    "median(DietaC)\n",
    "\n",
    "# o bien como length(DietaA) es par podemos hacer:\n",
    "\n",
    "(sort(DietaA)[50]+sort(DietaA)[51])/2\n",
    "\n",
    "# O bien a mano porque nos interesa la posicion 1/2(100+1)=50.5\n",
    "\n",
    "DietaAOrdenada<- sort(DietaA)\n",
    "med<-DietaAOrdenada[lengths(list(DietaAOrdenada))/2]\n",
    "med\n"
   ]
  },
  {
   "cell_type": "code",
   "execution_count": 14,
   "metadata": {
    "pycharm": {
     "name": "#%%\n"
    }
   },
   "outputs": [
    {
     "name": "stderr",
     "output_type": "stream",
     "text": [
      "Warning message in mean.default(gluco, trim = 0.1):\n",
      "“argument is not numeric or logical: returning NA”\n"
     ]
    },
    {
     "data": {
      "text/html": [
       "&lt;NA&gt;"
      ],
      "text/latex": [
       "<NA>"
      ],
      "text/markdown": [
       "&lt;NA&gt;"
      ],
      "text/plain": [
       "[1] NA"
      ]
     },
     "metadata": {},
     "output_type": "display_data"
    },
    {
     "data": {
      "text/html": [
       "98.525"
      ],
      "text/latex": [
       "98.525"
      ],
      "text/markdown": [
       "98.525"
      ],
      "text/plain": [
       "[1] 98.525"
      ]
     },
     "metadata": {},
     "output_type": "display_data"
    },
    {
     "data": {
      "text/html": [
       "94.5"
      ],
      "text/latex": [
       "94.5"
      ],
      "text/markdown": [
       "94.5"
      ],
      "text/plain": [
       "[1] 94.5"
      ]
     },
     "metadata": {},
     "output_type": "display_data"
    },
    {
     "data": {
      "text/html": [
       "75.3"
      ],
      "text/latex": [
       "75.3"
      ],
      "text/markdown": [
       "75.3"
      ],
      "text/plain": [
       "[1] 75.3"
      ]
     },
     "metadata": {},
     "output_type": "display_data"
    }
   ],
   "source": [
    "# Media alpha podada al 10%\n",
    "\n",
    "mean(gluco,trim=0.1) # anda segn la version de R\n",
    "\n",
    "mean(DietaA,trim=0.1)\n",
    "mean(DietaB,trim=0.1)\n",
    "mean(DietaC,trim=0.1)"
   ]
  },
  {
   "cell_type": "code",
   "execution_count": 15,
   "metadata": {
    "pycharm": {
     "name": "#%%\n"
    }
   },
   "outputs": [
    {
     "data": {
      "text/html": [
       "98.525"
      ],
      "text/latex": [
       "98.525"
      ],
      "text/markdown": [
       "98.525"
      ],
      "text/plain": [
       "[1] 98.525"
      ]
     },
     "metadata": {},
     "output_type": "display_data"
    }
   ],
   "source": [
    "# Observemos que coincide con\n",
    "\n",
    "DietaAordenada<-sort(DietaA)\n",
    "mean(DietaAordenada[11:90])"
   ]
  },
  {
   "cell_type": "code",
   "execution_count": 16,
   "metadata": {
    "pycharm": {
     "name": "#%%\n"
    }
   },
   "outputs": [
    {
     "data": {
      "text/html": [
       "<style>\n",
       ".dl-inline {width: auto; margin:0; padding: 0}\n",
       ".dl-inline>dt, .dl-inline>dd {float: none; width: auto; display: inline-block}\n",
       ".dl-inline>dt::after {content: \":\\0020\"; padding-right: .5ex}\n",
       ".dl-inline>dt:not(:first-of-type) {padding-left: .5ex}\n",
       "</style><dl class=dl-inline><dt>dietaa</dt><dd>98.525</dd><dt>dietab</dt><dd>94.5</dd><dt>dietac</dt><dd>75.3</dd></dl>\n"
      ],
      "text/latex": [
       "\\begin{description*}\n",
       "\\item[dietaa] 98.525\n",
       "\\item[dietab] 94.5\n",
       "\\item[dietac] 75.3\n",
       "\\end{description*}\n"
      ],
      "text/markdown": [
       "dietaa\n",
       ":   98.525dietab\n",
       ":   94.5dietac\n",
       ":   75.3\n",
       "\n"
      ],
      "text/plain": [
       "dietaa dietab dietac \n",
       "98.525 94.500 75.300 "
      ]
     },
     "metadata": {},
     "output_type": "display_data"
    }
   ],
   "source": [
    "# si hay muchas columnas mejor hacer los siguiente:\n",
    "\n",
    "gluco.ord<-apply(gluco, 2, sort)\n",
    "apply(gluco.ord[11:90,], 2, mean)"
   ]
  },
  {
   "cell_type": "markdown",
   "metadata": {},
   "source": [
    "#### b) Calcular medidas de dispersion"
   ]
  },
  {
   "cell_type": "code",
   "execution_count": 17,
   "metadata": {
    "pycharm": {
     "name": "#%%\n"
    }
   },
   "outputs": [
    {
     "data": {
      "text/html": [
       "<style>\n",
       ".dl-inline {width: auto; margin:0; padding: 0}\n",
       ".dl-inline>dt, .dl-inline>dd {float: none; width: auto; display: inline-block}\n",
       ".dl-inline>dt::after {content: \":\\0020\"; padding-right: .5ex}\n",
       ".dl-inline>dt:not(:first-of-type) {padding-left: .5ex}\n",
       "</style><dl class=dl-inline><dt>dietaa</dt><dd>103.714747474747</dd><dt>dietab</dt><dd>280.412525252525</dd><dt>dietac</dt><dd>112.00595959596</dd></dl>\n"
      ],
      "text/latex": [
       "\\begin{description*}\n",
       "\\item[dietaa] 103.714747474747\n",
       "\\item[dietab] 280.412525252525\n",
       "\\item[dietac] 112.00595959596\n",
       "\\end{description*}\n"
      ],
      "text/markdown": [
       "dietaa\n",
       ":   103.714747474747dietab\n",
       ":   280.412525252525dietac\n",
       ":   112.00595959596\n",
       "\n"
      ],
      "text/plain": [
       "  dietaa   dietab   dietac \n",
       "103.7147 280.4125 112.0060 "
      ]
     },
     "metadata": {},
     "output_type": "display_data"
    },
    {
     "data": {
      "text/html": [
       "103.714747474747"
      ],
      "text/latex": [
       "103.714747474747"
      ],
      "text/markdown": [
       "103.714747474747"
      ],
      "text/plain": [
       "[1] 103.7147"
      ]
     },
     "metadata": {},
     "output_type": "display_data"
    },
    {
     "data": {
      "text/html": [
       "280.412525252525"
      ],
      "text/latex": [
       "280.412525252525"
      ],
      "text/markdown": [
       "280.412525252525"
      ],
      "text/plain": [
       "[1] 280.4125"
      ]
     },
     "metadata": {},
     "output_type": "display_data"
    },
    {
     "data": {
      "text/html": [
       "112.00595959596"
      ],
      "text/latex": [
       "112.00595959596"
      ],
      "text/markdown": [
       "112.00595959596"
      ],
      "text/plain": [
       "[1] 112.006"
      ]
     },
     "metadata": {},
     "output_type": "display_data"
    }
   ],
   "source": [
    "# Varianza muestral\n",
    "\n",
    "apply(gluco, 2, var)\n",
    "\n",
    "var(DietaA)\n",
    "var(DietaB)\n",
    "var(DietaC)"
   ]
  },
  {
   "cell_type": "code",
   "execution_count": 18,
   "metadata": {
    "pycharm": {
     "name": "#%%\n"
    }
   },
   "outputs": [
    {
     "data": {
      "text/html": [
       "<style>\n",
       ".dl-inline {width: auto; margin:0; padding: 0}\n",
       ".dl-inline>dt, .dl-inline>dd {float: none; width: auto; display: inline-block}\n",
       ".dl-inline>dt::after {content: \":\\0020\"; padding-right: .5ex}\n",
       ".dl-inline>dt:not(:first-of-type) {padding-left: .5ex}\n",
       "</style><dl class=dl-inline><dt>dietaa</dt><dd>10.1840437683048</dd><dt>dietab</dt><dd>16.7455225434301</dd><dt>dietac</dt><dd>10.5832868049562</dd></dl>\n"
      ],
      "text/latex": [
       "\\begin{description*}\n",
       "\\item[dietaa] 10.1840437683048\n",
       "\\item[dietab] 16.7455225434301\n",
       "\\item[dietac] 10.5832868049562\n",
       "\\end{description*}\n"
      ],
      "text/markdown": [
       "dietaa\n",
       ":   10.1840437683048dietab\n",
       ":   16.7455225434301dietac\n",
       ":   10.5832868049562\n",
       "\n"
      ],
      "text/plain": [
       "  dietaa   dietab   dietac \n",
       "10.18404 16.74552 10.58329 "
      ]
     },
     "metadata": {},
     "output_type": "display_data"
    },
    {
     "data": {
      "text/html": [
       "<style>\n",
       ".list-inline {list-style: none; margin:0; padding: 0}\n",
       ".list-inline>li {display: inline-block}\n",
       ".list-inline>li:not(:last-child)::after {content: \"\\00b7\"; padding: 0 .5ex}\n",
       "</style>\n",
       "<ol class=list-inline><li>10.1840437683048</li><li>16.7455225434301</li><li>10.5832868049562</li></ol>\n"
      ],
      "text/latex": [
       "\\begin{enumerate*}\n",
       "\\item 10.1840437683048\n",
       "\\item 16.7455225434301\n",
       "\\item 10.5832868049562\n",
       "\\end{enumerate*}\n"
      ],
      "text/markdown": [
       "1. 10.1840437683048\n",
       "2. 16.7455225434301\n",
       "3. 10.5832868049562\n",
       "\n",
       "\n"
      ],
      "text/plain": [
       "[1] 10.18404 16.74552 10.58329"
      ]
     },
     "metadata": {},
     "output_type": "display_data"
    }
   ],
   "source": [
    "# Desvio Muestral: raiz cuadrada de la varianza muestral\n",
    "\n",
    "sqrt(apply(gluco, 2, var))\n",
    "\n",
    "c(sqrt(var(DietaA)),sqrt(var(DietaB)),sqrt(var(DietaC)))\n"
   ]
  },
  {
   "cell_type": "code",
   "execution_count": 19,
   "metadata": {
    "pycharm": {
     "name": "#%%\n"
    }
   },
   "outputs": [
    {
     "data": {
      "text/html": [
       "<style>\n",
       ".list-inline {list-style: none; margin:0; padding: 0}\n",
       ".list-inline>li {display: inline-block}\n",
       ".list-inline>li:not(:last-child)::after {content: \"\\00b7\"; padding: 0 .5ex}\n",
       "</style>\n",
       "<ol class=list-inline><li>7.5</li><li>15.5</li><li>4</li></ol>\n"
      ],
      "text/latex": [
       "\\begin{enumerate*}\n",
       "\\item 7.5\n",
       "\\item 15.5\n",
       "\\item 4\n",
       "\\end{enumerate*}\n"
      ],
      "text/markdown": [
       "1. 7.5\n",
       "2. 15.5\n",
       "3. 4\n",
       "\n",
       "\n"
      ],
      "text/plain": [
       "[1]  7.5 15.5  4.0"
      ]
     },
     "metadata": {},
     "output_type": "display_data"
    },
    {
     "data": {
      "text/html": [
       "<style>\n",
       ".list-inline {list-style: none; margin:0; padding: 0}\n",
       ".list-inline>li {display: inline-block}\n",
       ".list-inline>li:not(:last-child)::after {content: \"\\00b7\"; padding: 0 .5ex}\n",
       "</style>\n",
       "<ol class=list-inline><li>11.1111111111111</li><li>22.962962962963</li><li>5.92592592592593</li></ol>\n"
      ],
      "text/latex": [
       "\\begin{enumerate*}\n",
       "\\item 11.1111111111111\n",
       "\\item 22.962962962963\n",
       "\\item 5.92592592592593\n",
       "\\end{enumerate*}\n"
      ],
      "text/markdown": [
       "1. 11.1111111111111\n",
       "2. 22.962962962963\n",
       "3. 5.92592592592593\n",
       "\n",
       "\n"
      ],
      "text/plain": [
       "[1] 11.111111 22.962963  5.925926"
      ]
     },
     "metadata": {},
     "output_type": "display_data"
    }
   ],
   "source": [
    "# MAD\n",
    "\n",
    "c(median(abs(DietaA-median(DietaA))),median(abs(DietaB-median(DietaB))),median(abs(DietaC-median(DietaC))))\n",
    "\n",
    "c(median(abs(DietaA-median(DietaA))),median(abs(DietaB-median(DietaB))),median(abs(DietaC-median(DietaC))))/0.675\n"
   ]
  },
  {
   "cell_type": "markdown",
   "metadata": {},
   "source": [
    "#### c) Obtener percentiles y comparar"
   ]
  },
  {
   "cell_type": "code",
   "execution_count": 20,
   "metadata": {
    "pycharm": {
     "name": "#%%\n"
    }
   },
   "outputs": [
    {
     "data": {
      "text/html": [
       "<table>\n",
       "<caption>A matrix: 5 × 3 of type dbl</caption>\n",
       "<thead>\n",
       "\t<tr><th></th><th scope=col>dietaa</th><th scope=col>dietab</th><th scope=col>dietac</th></tr>\n",
       "</thead>\n",
       "<tbody>\n",
       "\t<tr><th scope=row>0%</th><td> 68.00</td><td> 68.00</td><td> 68</td></tr>\n",
       "\t<tr><th scope=row>25%</th><td> 90.75</td><td> 79.00</td><td> 70</td></tr>\n",
       "\t<tr><th scope=row>50%</th><td> 99.00</td><td> 94.50</td><td> 73</td></tr>\n",
       "\t<tr><th scope=row>75%</th><td>105.25</td><td>110.25</td><td> 81</td></tr>\n",
       "\t<tr><th scope=row>100%</th><td>121.00</td><td>122.00</td><td>121</td></tr>\n",
       "</tbody>\n",
       "</table>\n"
      ],
      "text/latex": [
       "A matrix: 5 × 3 of type dbl\n",
       "\\begin{tabular}{r|lll}\n",
       "  & dietaa & dietab & dietac\\\\\n",
       "\\hline\n",
       "\t0\\% &  68.00 &  68.00 &  68\\\\\n",
       "\t25\\% &  90.75 &  79.00 &  70\\\\\n",
       "\t50\\% &  99.00 &  94.50 &  73\\\\\n",
       "\t75\\% & 105.25 & 110.25 &  81\\\\\n",
       "\t100\\% & 121.00 & 122.00 & 121\\\\\n",
       "\\end{tabular}\n"
      ],
      "text/markdown": [
       "\n",
       "A matrix: 5 × 3 of type dbl\n",
       "\n",
       "| <!--/--> | dietaa | dietab | dietac |\n",
       "|---|---|---|---|\n",
       "| 0% |  68.00 |  68.00 |  68 |\n",
       "| 25% |  90.75 |  79.00 |  70 |\n",
       "| 50% |  99.00 |  94.50 |  73 |\n",
       "| 75% | 105.25 | 110.25 |  81 |\n",
       "| 100% | 121.00 | 122.00 | 121 |\n",
       "\n"
      ],
      "text/plain": [
       "     dietaa dietab dietac\n",
       "0%    68.00  68.00  68   \n",
       "25%   90.75  79.00  70   \n",
       "50%   99.00  94.50  73   \n",
       "75%  105.25 110.25  81   \n",
       "100% 121.00 122.00 121   "
      ]
     },
     "metadata": {},
     "output_type": "display_data"
    },
    {
     "data": {
      "text/html": [
       "<style>\n",
       ".dl-inline {width: auto; margin:0; padding: 0}\n",
       ".dl-inline>dt, .dl-inline>dd {float: none; width: auto; display: inline-block}\n",
       ".dl-inline>dt::after {content: \":\\0020\"; padding-right: .5ex}\n",
       ".dl-inline>dt:not(:first-of-type) {padding-left: .5ex}\n",
       "</style><dl class=dl-inline><dt>10%</dt><dd>86</dd><dt>10%</dt><dd>75.8</dd><dt>10%</dt><dd>68</dd></dl>\n"
      ],
      "text/latex": [
       "\\begin{description*}\n",
       "\\item[10\\textbackslash{}\\%] 86\n",
       "\\item[10\\textbackslash{}\\%] 75.8\n",
       "\\item[10\\textbackslash{}\\%] 68\n",
       "\\end{description*}\n"
      ],
      "text/markdown": [
       "10%\n",
       ":   8610%\n",
       ":   75.810%\n",
       ":   68\n",
       "\n"
      ],
      "text/plain": [
       " 10%  10%  10% \n",
       "86.0 75.8 68.0 "
      ]
     },
     "metadata": {},
     "output_type": "display_data"
    },
    {
     "data": {
      "text/html": [
       "<style>\n",
       ".dl-inline {width: auto; margin:0; padding: 0}\n",
       ".dl-inline>dt, .dl-inline>dd {float: none; width: auto; display: inline-block}\n",
       ".dl-inline>dt::after {content: \":\\0020\"; padding-right: .5ex}\n",
       ".dl-inline>dt:not(:first-of-type) {padding-left: .5ex}\n",
       "</style><dl class=dl-inline><dt>90%</dt><dd>111.1</dd><dt>90%</dt><dd>115</dd><dt>90%</dt><dd>90</dd></dl>\n"
      ],
      "text/latex": [
       "\\begin{description*}\n",
       "\\item[90\\textbackslash{}\\%] 111.1\n",
       "\\item[90\\textbackslash{}\\%] 115\n",
       "\\item[90\\textbackslash{}\\%] 90\n",
       "\\end{description*}\n"
      ],
      "text/markdown": [
       "90%\n",
       ":   111.190%\n",
       ":   11590%\n",
       ":   90\n",
       "\n"
      ],
      "text/plain": [
       "  90%   90%   90% \n",
       "111.1 115.0  90.0 "
      ]
     },
     "metadata": {},
     "output_type": "display_data"
    },
    {
     "data": {
      "text/html": [
       "<style>\n",
       ".dl-inline {width: auto; margin:0; padding: 0}\n",
       ".dl-inline>dt, .dl-inline>dd {float: none; width: auto; display: inline-block}\n",
       ".dl-inline>dt::after {content: \":\\0020\"; padding-right: .5ex}\n",
       ".dl-inline>dt:not(:first-of-type) {padding-left: .5ex}\n",
       "</style><dl class=dl-inline><dt>5%</dt><dd>84.95</dd><dt>5%</dt><dd>71.9</dd><dt>5%</dt><dd>68</dd></dl>\n"
      ],
      "text/latex": [
       "\\begin{description*}\n",
       "\\item[5\\textbackslash{}\\%] 84.95\n",
       "\\item[5\\textbackslash{}\\%] 71.9\n",
       "\\item[5\\textbackslash{}\\%] 68\n",
       "\\end{description*}\n"
      ],
      "text/markdown": [
       "5%\n",
       ":   84.955%\n",
       ":   71.95%\n",
       ":   68\n",
       "\n"
      ],
      "text/plain": [
       "   5%    5%    5% \n",
       "84.95 71.90 68.00 "
      ]
     },
     "metadata": {},
     "output_type": "display_data"
    }
   ],
   "source": [
    "##Item c): Percentiles\n",
    "\n",
    "apply(gluco, 2, quantile) #Da los percentiles 0% (m�nimo), 25%, 50%, 75% y 100% (m�ximo)\n",
    "\n",
    "#Percentiles 10% y 90%\n",
    "\n",
    "c(quantile(DietaA,0.10), quantile(DietaB,0.10),quantile(DietaC,0.10))\n",
    "\n",
    "c(quantile(DietaA,0.90), quantile(DietaB,0.90), quantile(DietaC,0.90))\n",
    "\n",
    "c(quantile(DietaA,0.05), quantile(DietaB,0.05),quantile(DietaC,0.05))"
   ]
  },
  {
   "cell_type": "code",
   "execution_count": 21,
   "metadata": {
    "pycharm": {
     "name": "#%%\n"
    }
   },
   "outputs": [
    {
     "data": {
      "text/html": [
       "111"
      ],
      "text/latex": [
       "111"
      ],
      "text/markdown": [
       "111"
      ],
      "text/plain": [
       "[1] 111"
      ]
     },
     "metadata": {},
     "output_type": "display_data"
    },
    {
     "data": {
      "text/html": [
       "112"
      ],
      "text/latex": [
       "112"
      ],
      "text/markdown": [
       "112"
      ],
      "text/plain": [
       "[1] 112"
      ]
     },
     "metadata": {},
     "output_type": "display_data"
    },
    {
     "data": {
      "text/html": [
       "111.9"
      ],
      "text/latex": [
       "111.9"
      ],
      "text/markdown": [
       "111.9"
      ],
      "text/plain": [
       "[1] 111.9"
      ]
     },
     "metadata": {},
     "output_type": "display_data"
    },
    {
     "data": {
      "text/html": [
       "111.1"
      ],
      "text/latex": [
       "111.1"
      ],
      "text/markdown": [
       "111.1"
      ],
      "text/plain": [
       "[1] 111.1"
      ]
     },
     "metadata": {},
     "output_type": "display_data"
    },
    {
     "data": {
      "text/html": [
       "<strong>90%:</strong> 111.1"
      ],
      "text/latex": [
       "\\textbf{90\\textbackslash{}\\%:} 111.1"
      ],
      "text/markdown": [
       "**90%:** 111.1"
      ],
      "text/plain": [
       "  90% \n",
       "111.1 "
      ]
     },
     "metadata": {},
     "output_type": "display_data"
    }
   ],
   "source": [
    "# a mano el percentil 90% se consigue buscando la posici�n =0.9 * 101=90.9\n",
    "\n",
    "sort(DietaA)[90]\n",
    "sort(DietaA)[91]\n",
    "\n",
    "sort(DietaA)[90]*0.1 + sort(DietaA)[91]*0.9# esto es lo correcto!!!\n",
    "\n",
    "sort(DietaA)[90]*0.9 + sort(DietaA)[91]*0.1# est� mal!!! pero da lo mismo que el R\n",
    "\n",
    "quantile(DietaA,0.90) "
   ]
  },
  {
   "cell_type": "code",
   "execution_count": 22,
   "metadata": {
    "pycharm": {
     "name": "#%%\n"
    }
   },
   "outputs": [
    {
     "data": {
      "text/html": [
       "<style>\n",
       ".dl-inline {width: auto; margin:0; padding: 0}\n",
       ".dl-inline>dt, .dl-inline>dd {float: none; width: auto; display: inline-block}\n",
       ".dl-inline>dt::after {content: \":\\0020\"; padding-right: .5ex}\n",
       ".dl-inline>dt:not(:first-of-type) {padding-left: .5ex}\n",
       "</style><dl class=dl-inline><dt>dietaa</dt><dd>14.5</dd><dt>dietab</dt><dd>31.25</dd><dt>dietac</dt><dd>11</dd></dl>\n"
      ],
      "text/latex": [
       "\\begin{description*}\n",
       "\\item[dietaa] 14.5\n",
       "\\item[dietab] 31.25\n",
       "\\item[dietac] 11\n",
       "\\end{description*}\n"
      ],
      "text/markdown": [
       "dietaa\n",
       ":   14.5dietab\n",
       ":   31.25dietac\n",
       ":   11\n",
       "\n"
      ],
      "text/plain": [
       "dietaa dietab dietac \n",
       " 14.50  31.25  11.00 "
      ]
     },
     "metadata": {},
     "output_type": "display_data"
    },
    {
     "data": {
      "text/html": [
       "<strong>75%:</strong> 14.5"
      ],
      "text/latex": [
       "\\textbf{75\\textbackslash{}\\%:} 14.5"
      ],
      "text/markdown": [
       "**75%:** 14.5"
      ],
      "text/plain": [
       " 75% \n",
       "14.5 "
      ]
     },
     "metadata": {},
     "output_type": "display_data"
    },
    {
     "data": {
      "text/html": [
       "<strong>75%:</strong> 31.25"
      ],
      "text/latex": [
       "\\textbf{75\\textbackslash{}\\%:} 31.25"
      ],
      "text/markdown": [
       "**75%:** 31.25"
      ],
      "text/plain": [
       "  75% \n",
       "31.25 "
      ]
     },
     "metadata": {},
     "output_type": "display_data"
    },
    {
     "data": {
      "text/html": [
       "<strong>75%:</strong> 11"
      ],
      "text/latex": [
       "\\textbf{75\\textbackslash{}\\%:} 11"
      ],
      "text/markdown": [
       "**75%:** 11"
      ],
      "text/plain": [
       "75% \n",
       " 11 "
      ]
     },
     "metadata": {},
     "output_type": "display_data"
    }
   ],
   "source": [
    "# Obervacion: Para obtener las distancias intercuartiles podemos hacer:\n",
    "\n",
    "apply(gluco, 2, quantile)[4,]-apply(gluco, 2, quantile)[2,]\n",
    "\n",
    "quantile(DietaA,0.75)-quantile(DietaA,0.25)\n",
    "quantile(DietaB,0.75)-quantile(DietaB,0.25)\n",
    "quantile(DietaC,0.75)-quantile(DietaC,0.25)"
   ]
  },
  {
   "cell_type": "code",
   "execution_count": 23,
   "metadata": {
    "pycharm": {
     "name": "#%%\n"
    }
   },
   "outputs": [
    {
     "data": {
      "text/html": [
       "<table>\n",
       "<caption>A matrix: 2 × 3 of type int</caption>\n",
       "<thead>\n",
       "\t<tr><th scope=col>dietaa</th><th scope=col>dietab</th><th scope=col>dietac</th></tr>\n",
       "</thead>\n",
       "<tbody>\n",
       "\t<tr><td> 68</td><td> 68</td><td> 68</td></tr>\n",
       "\t<tr><td>121</td><td>122</td><td>121</td></tr>\n",
       "</tbody>\n",
       "</table>\n"
      ],
      "text/latex": [
       "A matrix: 2 × 3 of type int\n",
       "\\begin{tabular}{lll}\n",
       " dietaa & dietab & dietac\\\\\n",
       "\\hline\n",
       "\t  68 &  68 &  68\\\\\n",
       "\t 121 & 122 & 121\\\\\n",
       "\\end{tabular}\n"
      ],
      "text/markdown": [
       "\n",
       "A matrix: 2 × 3 of type int\n",
       "\n",
       "| dietaa | dietab | dietac |\n",
       "|---|---|---|\n",
       "|  68 |  68 |  68 |\n",
       "| 121 | 122 | 121 |\n",
       "\n"
      ],
      "text/plain": [
       "     dietaa dietab dietac\n",
       "[1,]  68     68     68   \n",
       "[2,] 121    122    121   "
      ]
     },
     "metadata": {},
     "output_type": "display_data"
    }
   ],
   "source": [
    "# Rango muestral\n",
    "\n",
    "apply(gluco, 2, range)"
   ]
  },
  {
   "cell_type": "markdown",
   "metadata": {},
   "source": [
    "#### Conclusion: mas del 80% de los individuos que siguieron la dieta A son saludables, \n",
    "#### mientras que solo el 50% de los individuos que siguieron la dieta B lo son. \n",
    "#### El 75% de los que siguieron la dieta C tienen niveles de glucosa no saludable."
   ]
  },
  {
   "cell_type": "markdown",
   "metadata": {},
   "source": [
    "#### d) Histograma"
   ]
  },
  {
   "cell_type": "code",
   "execution_count": 24,
   "metadata": {
    "pycharm": {
     "name": "#%%\n"
    }
   },
   "outputs": [
    {
     "data": {
      "image/png": "[encoded data removed]",
      "text/plain": [
       "Plot with title “Histogram of DietaC”"
      ]
     },
     "metadata": {
      "image/png": {
       "height": 420,
       "width": 420
      },
      "text/plain": {
       "height": 420,
       "width": 420
      }
     },
     "output_type": "display_data"
    },
    {
     "data": {
      "image/png": "[encoded data removed]",
      "text/plain": [
       "Plot with title “Histograma de areas”"
      ]
     },
     "metadata": {
      "image/png": {
       "height": 420,
       "width": 420
      },
      "text/plain": {
       "height": 420,
       "width": 420
      }
     },
     "output_type": "display_data"
    }
   ],
   "source": [
    "par(mfrow=c(1,3))\n",
    "hist(DietaA,probability=F)\n",
    "hist(DietaB)\n",
    "hist(DietaC)\n",
    "par(mfrow=c(1,1)) # no elige la misma escala y \n",
    "\n",
    "par(mfrow=c(1,3))\n",
    "hist(DietaA,nclass=20,probability=T,main=\"Histograma de areas\",xlab= \"DietaA\",ylab=\"densidad\",xlim=c(60,130),ylim=c(0,0.15),border=\"darkred\",col=\"pink\")\n",
    "hist(DietaB,nclass=20,probability=T,main=\"Histograma de areas\",xlab= \"DietaB\",ylab=\"densidad\",xlim=c(60,130),ylim=c(0,0.15),border=\"darkred\",col=\"blue\")\n",
    "hist(DietaC,nclass=20,probability=T,main=\"Histograma de areas\",xlab= \"DietaC\",ylab=\"densidad\",xlim=c(60,130),ylim=c(0,0.15),border=\"darkred\",col=\"green\")\n",
    "par(mfrow=c(1,1))\n",
    "\n",
    "\n",
    "par(mfrow=c(1,3))"
   ]
  },
  {
   "cell_type": "code",
   "execution_count": 25,
   "metadata": {
    "pycharm": {
     "name": "#%%\n"
    }
   },
   "outputs": [
    {
     "data": {
      "image/png": "[encoded data removed]",
      "text/plain": [
       "Plot with title “Histograma de �reas”"
      ]
     },
     "metadata": {
      "image/png": {
       "height": 420,
       "width": 420
      },
      "text/plain": {
       "height": 420,
       "width": 420
      }
     },
     "output_type": "display_data"
    },
    {
     "data": {
      "image/png": "[encoded data removed]",
      "text/plain": [
       "Plot with title “Histograma de �reas”"
      ]
     },
     "metadata": {
      "image/png": {
       "height": 420,
       "width": 420
      },
      "text/plain": {
       "height": 420,
       "width": 420
      }
     },
     "output_type": "display_data"
    },
    {
     "data": {
      "image/png": "[encoded data removed]",
      "text/plain": [
       "Plot with title “Histograma de �reas”"
      ]
     },
     "metadata": {
      "image/png": {
       "height": 420,
       "width": 420
      },
      "text/plain": {
       "height": 420,
       "width": 420
      }
     },
     "output_type": "display_data"
    }
   ],
   "source": [
    "hist(DietaA,nclass=20,probability=T,main=\"Histograma de �reas\",xlab= \"DietaA\",ylab=\"densidad\",xlim=c(60,130),ylim=c(0,0.15),border=\"darkred\",col=\"pink\")\n",
    "equis<-seq(min(DietaA),max(DietaA),by=0.01)\n",
    "lines(equis,dnorm(equis, mean = mean(DietaA),sd =sqrt(var(DietaA))),col=2,lwd=2)\n",
    "\n",
    "hist(DietaB,nclass=20,probability=T,main=\"Histograma de �reas\",xlab= \"DietaB\",ylab=\"densidad\",xlim=c(60,130),ylim=c(0,0.15),border=\"darkred\",col=\"blue\")\n",
    "equis<-seq(min(DietaA),max(DietaA),by=0.01)\n",
    "lines(equis,dnorm(equis, mean = mean(DietaB),sd =sqrt(var(DietaB))),col=2,lwd=2)\n",
    "\n",
    "hist(DietaC,nclass=20,probability=T,main=\"Histograma de �reas\",xlab= \"DietaC\",ylab=\"densidad\",xlim=c(60,130),ylim=c(0,0.15),border=\"darkred\",col=\"green\")\n",
    "equis<-seq(min(DietaA),max(DietaA),by=0.01)\n",
    "lines(equis,dnorm(equis, mean = mean(DietaC),sd =sqrt(var(DietaC))),col=2,lwd=2)\n",
    "\n",
    "par(mfrow=c(1,1))"
   ]
  },
  {
   "cell_type": "code",
   "execution_count": 26,
   "metadata": {
    "pycharm": {
     "name": "#%%\n"
    }
   },
   "outputs": [
    {
     "data": {
      "text/html": [
       "<style>\n",
       ".list-inline {list-style: none; margin:0; padding: 0}\n",
       ".list-inline>li {display: inline-block}\n",
       ".list-inline>li:not(:last-child)::after {content: \"\\00b7\"; padding: 0 .5ex}\n",
       "</style>\n",
       "<ol class=list-inline><li>1</li><li>0</li><li>0</li><li>0</li><li>0</li><li>1</li><li>2</li><li>1</li><li>7</li><li>8</li><li>5</li><li>4</li><li>3</li><li>10</li><li>6</li><li>11</li><li>8</li><li>4</li><li>6</li><li>4</li><li>6</li><li>4</li><li>2</li><li>3</li><li>1</li><li>2</li><li>1</li></ol>\n"
      ],
      "text/latex": [
       "\\begin{enumerate*}\n",
       "\\item 1\n",
       "\\item 0\n",
       "\\item 0\n",
       "\\item 0\n",
       "\\item 0\n",
       "\\item 1\n",
       "\\item 2\n",
       "\\item 1\n",
       "\\item 7\n",
       "\\item 8\n",
       "\\item 5\n",
       "\\item 4\n",
       "\\item 3\n",
       "\\item 10\n",
       "\\item 6\n",
       "\\item 11\n",
       "\\item 8\n",
       "\\item 4\n",
       "\\item 6\n",
       "\\item 4\n",
       "\\item 6\n",
       "\\item 4\n",
       "\\item 2\n",
       "\\item 3\n",
       "\\item 1\n",
       "\\item 2\n",
       "\\item 1\n",
       "\\end{enumerate*}\n"
      ],
      "text/markdown": [
       "1. 1\n",
       "2. 0\n",
       "3. 0\n",
       "4. 0\n",
       "5. 0\n",
       "6. 1\n",
       "7. 2\n",
       "8. 1\n",
       "9. 7\n",
       "10. 8\n",
       "11. 5\n",
       "12. 4\n",
       "13. 3\n",
       "14. 10\n",
       "15. 6\n",
       "16. 11\n",
       "17. 8\n",
       "18. 4\n",
       "19. 6\n",
       "20. 4\n",
       "21. 6\n",
       "22. 4\n",
       "23. 2\n",
       "24. 3\n",
       "25. 1\n",
       "26. 2\n",
       "27. 1\n",
       "\n",
       "\n"
      ],
      "text/plain": [
       " [1]  1  0  0  0  0  1  2  1  7  8  5  4  3 10  6 11  8  4  6  4  6  4  2  3  1\n",
       "[26]  2  1"
      ]
     },
     "metadata": {},
     "output_type": "display_data"
    },
    {
     "data": {
      "image/png": "[encoded data removed]",
      "text/plain": [
       "Plot with title “Histograma de �reas”"
      ]
     },
     "metadata": {
      "image/png": {
       "height": 420,
       "width": 420
      },
      "text/plain": {
       "height": 420,
       "width": 420
      }
     },
     "output_type": "display_data"
    }
   ],
   "source": [
    "histA<-hist(DietaA,nclass=20,probability=T,main=\"Histograma de �reas\",xlab= \"DietaA\",ylab=\"densidad\",xlim=c(60,130),ylim=c(0,0.15),border=\"darkred\",col=\"pink\")\n",
    "histA$counts"
   ]
  },
  {
   "cell_type": "code",
   "execution_count": 27,
   "metadata": {
    "pycharm": {
     "name": "#%%\n"
    }
   },
   "outputs": [
    {
     "data": {
      "image/png": "[encoded data removed]",
      "text/plain": [
       "Plot with title “Histograma de �reas”"
      ]
     },
     "metadata": {
      "image/png": {
       "height": 420,
       "width": 420
      },
      "text/plain": {
       "height": 420,
       "width": 420
      }
     },
     "output_type": "display_data"
    }
   ],
   "source": [
    "# variantes\n",
    "hist(DietaA,breaks=c(65,75,85,95,105,125),probability=T,main=\"Histograma de �reas\",xlab= \"DietaA\",ylab=\"densidad\",xlim=c(60,130),ylim=c(0,0.15),border=\"darkred\",col=\"pink\")\n"
   ]
  },
  {
   "cell_type": "markdown",
   "metadata": {},
   "source": [
    "#### Conclusion: La dieta B parece bimodal. En la dieta A pareceria haber un valor mas alejado hacia la izquierda.\n",
    "#### La dieta A tiene una distribucion bastante simetrica y unimodal, por lo que un ajuste normal podria ser razonable.\n",
    "#### Observemos que la dieta B tambien tiene una distribucion bastante simetrica, pero bimodal!\n",
    "#### La dieta C es fuertemente asimetrica hacia la derecha."
   ]
  },
  {
   "cell_type": "markdown",
   "metadata": {},
   "source": [
    "### e): Box-Plots"
   ]
  },
  {
   "cell_type": "code",
   "execution_count": 28,
   "metadata": {
    "pycharm": {
     "name": "#%%\n"
    }
   },
   "outputs": [
    {
     "data": {
      "image/png": "[encoded data removed]",
      "text/plain": [
       "plot without title"
      ]
     },
     "metadata": {
      "image/png": {
       "height": 420,
       "width": 420
      },
      "text/plain": {
       "height": 420,
       "width": 420
      }
     },
     "output_type": "display_data"
    },
    {
     "data": {
      "text/html": [
       "<style>\n",
       ".list-inline {list-style: none; margin:0; padding: 0}\n",
       ".list-inline>li {display: inline-block}\n",
       ".list-inline>li:not(:last-child)::after {content: \"\\00b7\"; padding: 0 .5ex}\n",
       "</style>\n",
       "<ol class=list-inline><li>'stats'</li><li>'n'</li><li>'conf'</li><li>'out'</li><li>'group'</li><li>'names'</li></ol>\n"
      ],
      "text/latex": [
       "\\begin{enumerate*}\n",
       "\\item 'stats'\n",
       "\\item 'n'\n",
       "\\item 'conf'\n",
       "\\item 'out'\n",
       "\\item 'group'\n",
       "\\item 'names'\n",
       "\\end{enumerate*}\n"
      ],
      "text/markdown": [
       "1. 'stats'\n",
       "2. 'n'\n",
       "3. 'conf'\n",
       "4. 'out'\n",
       "5. 'group'\n",
       "6. 'names'\n",
       "\n",
       "\n"
      ],
      "text/plain": [
       "[1] \"stats\" \"n\"     \"conf\"  \"out\"   \"group\" \"names\""
      ]
     },
     "metadata": {},
     "output_type": "display_data"
    },
    {
     "data": {
      "image/png": "[encoded data removed]",
      "text/plain": [
       "plot without title"
      ]
     },
     "metadata": {
      "image/png": {
       "height": 420,
       "width": 420
      },
      "text/plain": {
       "height": 420,
       "width": 420
      }
     },
     "output_type": "display_data"
    },
    {
     "data": {
      "text/html": [
       "<style>\n",
       ".list-inline {list-style: none; margin:0; padding: 0}\n",
       ".list-inline>li {display: inline-block}\n",
       ".list-inline>li:not(:last-child)::after {content: \"\\00b7\"; padding: 0 .5ex}\n",
       "</style>\n",
       "<ol class=list-inline><li>103</li><li>121</li><li>101</li><li>109</li><li>107</li><li>110</li></ol>\n"
      ],
      "text/latex": [
       "\\begin{enumerate*}\n",
       "\\item 103\n",
       "\\item 121\n",
       "\\item 101\n",
       "\\item 109\n",
       "\\item 107\n",
       "\\item 110\n",
       "\\end{enumerate*}\n"
      ],
      "text/markdown": [
       "1. 103\n",
       "2. 121\n",
       "3. 101\n",
       "4. 109\n",
       "5. 107\n",
       "6. 110\n",
       "\n",
       "\n"
      ],
      "text/plain": [
       "[1] 103 121 101 109 107 110"
      ]
     },
     "metadata": {},
     "output_type": "display_data"
    },
    {
     "data": {
      "image/png": "[encoded data removed]",
      "text/plain": [
       "plot without title"
      ]
     },
     "metadata": {
      "image/png": {
       "height": 420,
       "width": 420
      },
      "text/plain": {
       "height": 420,
       "width": 420
      }
     },
     "output_type": "display_data"
    },
    {
     "data": {
      "image/png": "[encoded data removed]",
      "text/plain": [
       "plot without title"
      ]
     },
     "metadata": {
      "image/png": {
       "height": 420,
       "width": 420
      },
      "text/plain": {
       "height": 420,
       "width": 420
      }
     },
     "output_type": "display_data"
    }
   ],
   "source": [
    "par(mfrow=c(1,3))\n",
    "boxplot(DietaA)\n",
    "boxplot(DietaB)\n",
    "boxplot(DietaC)\n",
    "par(mfrow=c(1,1))\n",
    "\n",
    "names(boxplot(DietaA))\n",
    "\n",
    "boxplot(DietaC)$out\n",
    "\n",
    "boxplot(DietaA,DietaB,DietaC)"
   ]
  },
  {
   "cell_type": "code",
   "execution_count": 29,
   "metadata": {
    "pycharm": {
     "name": "#%%\n"
    }
   },
   "outputs": [
    {
     "data": {
      "image/png": "[encoded data removed]",
      "text/plain": [
       "Plot with title “Boxplot de las tres dietas”"
      ]
     },
     "metadata": {
      "image/png": {
       "height": 420,
       "width": 420
      },
      "text/plain": {
       "height": 420,
       "width": 420
      }
     },
     "output_type": "display_data"
    }
   ],
   "source": [
    "par(mfrow=c(1,3))\n",
    "boxplot(DietaA,ylim=c(65,125),border=\"brown\",xlab=\"dieta A\",col=\"yellow2\",horizontal=F)\n",
    "boxplot(DietaB,ylim=c(65,125),border=\"brown\",xlab=\"dieta B\",col=\"yellow2\",horizontal=F)\n",
    "boxplot(DietaC,ylim=c(65,125),border=\"brown\",xlab=\"dieta C\",col=\"yellow2\",horizontal=F)\n",
    "par(mfrow=c(1,1))\n",
    "title(\"Boxplot de las tres dietas\")"
   ]
  },
  {
   "cell_type": "code",
   "execution_count": 30,
   "metadata": {
    "pycharm": {
     "name": "#%%\n"
    }
   },
   "outputs": [
    {
     "data": {
      "image/png": "[encoded data removed]",
      "text/plain": [
       "plot without title"
      ]
     },
     "metadata": {
      "image/png": {
       "height": 420,
       "width": 420
      },
      "text/plain": {
       "height": 420,
       "width": 420
      }
     },
     "output_type": "display_data"
    }
   ],
   "source": [
    "par(mfrow=c(3,1))\n",
    "boxplot(DietaA,ylim=c(65,125),border=\"brown\",xlab=\"dieta A\",col=\"yellow2\",horizontal=T)\n",
    "boxplot(DietaB,ylim=c(65,125),border=\"brown\",xlab=\"dieta B\",col=\"yellow2\",horizontal=T)\n",
    "boxplot(DietaC,ylim=c(65,125),border=\"brown\",xlab=\"dieta C\",col=\"yellow2\",horizontal=T)\n",
    "par(mfrow=c(1,1))"
   ]
  },
  {
   "cell_type": "code",
   "execution_count": 31,
   "metadata": {
    "pycharm": {
     "name": "#%%\n"
    }
   },
   "outputs": [
    {
     "data": {
      "image/png": "[encoded data removed]",
      "text/plain": [
       "plot without title"
      ]
     },
     "metadata": {
      "image/png": {
       "height": 420,
       "width": 420
      },
      "text/plain": {
       "height": 420,
       "width": 420
      }
     },
     "output_type": "display_data"
    }
   ],
   "source": [
    "# Tambien se puede hacer asi: \n",
    "\n",
    "boxplot(gluco,ylim=c(65,125),border=\"brown\",col=\"yellow2\")"
   ]
  },
  {
   "cell_type": "code",
   "execution_count": 32,
   "metadata": {
    "pycharm": {
     "name": "#%%\n"
    }
   },
   "outputs": [
    {
     "data": {
      "text/html": [
       "<dl>\n",
       "\t<dt>$stats</dt>\n",
       "\t\t<dd><style>\n",
       ".list-inline {list-style: none; margin:0; padding: 0}\n",
       ".list-inline>li {display: inline-block}\n",
       ".list-inline>li:not(:last-child)::after {content: \"\\00b7\"; padding: 0 .5ex}\n",
       "</style>\n",
       "<ol class=list-inline><li>68</li><li>70</li><li>73</li><li>81</li><li>95</li></ol>\n",
       "</dd>\n",
       "\t<dt>$n</dt>\n",
       "\t\t<dd>100</dd>\n",
       "\t<dt>$conf</dt>\n",
       "\t\t<dd><table>\n",
       "<caption>A matrix: 2 × 1 of type dbl</caption>\n",
       "<tbody>\n",
       "\t<tr><td>71.262</td></tr>\n",
       "\t<tr><td>74.738</td></tr>\n",
       "</tbody>\n",
       "</table>\n",
       "</dd>\n",
       "\t<dt>$out</dt>\n",
       "\t\t<dd><style>\n",
       ".list-inline {list-style: none; margin:0; padding: 0}\n",
       ".list-inline>li {display: inline-block}\n",
       ".list-inline>li:not(:last-child)::after {content: \"\\00b7\"; padding: 0 .5ex}\n",
       "</style>\n",
       "<ol class=list-inline><li>103</li><li>121</li><li>101</li><li>109</li><li>107</li><li>110</li></ol>\n",
       "</dd>\n",
       "\t<dt>$group</dt>\n",
       "\t\t<dd><style>\n",
       ".list-inline {list-style: none; margin:0; padding: 0}\n",
       ".list-inline>li {display: inline-block}\n",
       ".list-inline>li:not(:last-child)::after {content: \"\\00b7\"; padding: 0 .5ex}\n",
       "</style>\n",
       "<ol class=list-inline><li>1</li><li>1</li><li>1</li><li>1</li><li>1</li><li>1</li></ol>\n",
       "</dd>\n",
       "\t<dt>$names</dt>\n",
       "\t\t<dd>'1'</dd>\n",
       "</dl>\n"
      ],
      "text/latex": [
       "\\begin{description}\n",
       "\\item[\\$stats] \\begin{enumerate*}\n",
       "\\item 68\n",
       "\\item 70\n",
       "\\item 73\n",
       "\\item 81\n",
       "\\item 95\n",
       "\\end{enumerate*}\n",
       "\n",
       "\\item[\\$n] 100\n",
       "\\item[\\$conf] A matrix: 2 × 1 of type dbl\n",
       "\\begin{tabular}{l}\n",
       "\t 71.262\\\\\n",
       "\t 74.738\\\\\n",
       "\\end{tabular}\n",
       "\n",
       "\\item[\\$out] \\begin{enumerate*}\n",
       "\\item 103\n",
       "\\item 121\n",
       "\\item 101\n",
       "\\item 109\n",
       "\\item 107\n",
       "\\item 110\n",
       "\\end{enumerate*}\n",
       "\n",
       "\\item[\\$group] \\begin{enumerate*}\n",
       "\\item 1\n",
       "\\item 1\n",
       "\\item 1\n",
       "\\item 1\n",
       "\\item 1\n",
       "\\item 1\n",
       "\\end{enumerate*}\n",
       "\n",
       "\\item[\\$names] '1'\n",
       "\\end{description}\n"
      ],
      "text/markdown": [
       "$stats\n",
       ":   1. 68\n",
       "2. 70\n",
       "3. 73\n",
       "4. 81\n",
       "5. 95\n",
       "\n",
       "\n",
       "\n",
       "$n\n",
       ":   100\n",
       "$conf\n",
       ":   \n",
       "A matrix: 2 × 1 of type dbl\n",
       "\n",
       "| 71.262 |\n",
       "| 74.738 |\n",
       "\n",
       "\n",
       "$out\n",
       ":   1. 103\n",
       "2. 121\n",
       "3. 101\n",
       "4. 109\n",
       "5. 107\n",
       "6. 110\n",
       "\n",
       "\n",
       "\n",
       "$group\n",
       ":   1. 1\n",
       "2. 1\n",
       "3. 1\n",
       "4. 1\n",
       "5. 1\n",
       "6. 1\n",
       "\n",
       "\n",
       "\n",
       "$names\n",
       ":   '1'\n",
       "\n",
       "\n"
      ],
      "text/plain": [
       "$stats\n",
       "     [,1]\n",
       "[1,]   68\n",
       "[2,]   70\n",
       "[3,]   73\n",
       "[4,]   81\n",
       "[5,]   95\n",
       "attr(,\"class\")\n",
       "        1 \n",
       "\"integer\" \n",
       "\n",
       "$n\n",
       "[1] 100\n",
       "\n",
       "$conf\n",
       "       [,1]\n",
       "[1,] 71.262\n",
       "[2,] 74.738\n",
       "\n",
       "$out\n",
       "[1] 103 121 101 109 107 110\n",
       "\n",
       "$group\n",
       "[1] 1 1 1 1 1 1\n",
       "\n",
       "$names\n",
       "[1] \"1\"\n"
      ]
     },
     "metadata": {},
     "output_type": "display_data"
    },
    {
     "data": {
      "image/png": "[encoded data removed]",
      "text/plain": [
       "plot without title"
      ]
     },
     "metadata": {
      "image/png": {
       "height": 420,
       "width": 420
      },
      "text/plain": {
       "height": 420,
       "width": 420
      }
     },
     "output_type": "display_data"
    },
    {
     "data": {
      "text/html": [
       "<dl>\n",
       "\t<dt>$stats</dt>\n",
       "\t\t<dd><style>\n",
       ".list-inline {list-style: none; margin:0; padding: 0}\n",
       ".list-inline>li {display: inline-block}\n",
       ".list-inline>li:not(:last-child)::after {content: \"\\00b7\"; padding: 0 .5ex}\n",
       "</style>\n",
       "<ol class=list-inline><li>68</li><li>79</li><li>94.5</li><li>110.5</li><li>122</li></ol>\n",
       "</dd>\n",
       "\t<dt>$n</dt>\n",
       "\t\t<dd>100</dd>\n",
       "\t<dt>$conf</dt>\n",
       "\t\t<dd><table>\n",
       "<caption>A matrix: 2 × 1 of type dbl</caption>\n",
       "<tbody>\n",
       "\t<tr><td>89.523</td></tr>\n",
       "\t<tr><td>99.477</td></tr>\n",
       "</tbody>\n",
       "</table>\n",
       "</dd>\n",
       "\t<dt>$out</dt>\n",
       "\t\t<dd></dd>\n",
       "\t<dt>$group</dt>\n",
       "\t\t<dd></dd>\n",
       "\t<dt>$names</dt>\n",
       "\t\t<dd>'1'</dd>\n",
       "</dl>\n"
      ],
      "text/latex": [
       "\\begin{description}\n",
       "\\item[\\$stats] \\begin{enumerate*}\n",
       "\\item 68\n",
       "\\item 79\n",
       "\\item 94.5\n",
       "\\item 110.5\n",
       "\\item 122\n",
       "\\end{enumerate*}\n",
       "\n",
       "\\item[\\$n] 100\n",
       "\\item[\\$conf] A matrix: 2 × 1 of type dbl\n",
       "\\begin{tabular}{l}\n",
       "\t 89.523\\\\\n",
       "\t 99.477\\\\\n",
       "\\end{tabular}\n",
       "\n",
       "\\item[\\$out] \n",
       "\\item[\\$group] \n",
       "\\item[\\$names] '1'\n",
       "\\end{description}\n"
      ],
      "text/markdown": [
       "$stats\n",
       ":   1. 68\n",
       "2. 79\n",
       "3. 94.5\n",
       "4. 110.5\n",
       "5. 122\n",
       "\n",
       "\n",
       "\n",
       "$n\n",
       ":   100\n",
       "$conf\n",
       ":   \n",
       "A matrix: 2 × 1 of type dbl\n",
       "\n",
       "| 89.523 |\n",
       "| 99.477 |\n",
       "\n",
       "\n",
       "$out\n",
       ":   \n",
       "$group\n",
       ":   \n",
       "$names\n",
       ":   '1'\n",
       "\n",
       "\n"
      ],
      "text/plain": [
       "$stats\n",
       "      [,1]\n",
       "[1,]  68.0\n",
       "[2,]  79.0\n",
       "[3,]  94.5\n",
       "[4,] 110.5\n",
       "[5,] 122.0\n",
       "attr(,\"class\")\n",
       "        1 \n",
       "\"integer\" \n",
       "\n",
       "$n\n",
       "[1] 100\n",
       "\n",
       "$conf\n",
       "       [,1]\n",
       "[1,] 89.523\n",
       "[2,] 99.477\n",
       "\n",
       "$out\n",
       "numeric(0)\n",
       "\n",
       "$group\n",
       "numeric(0)\n",
       "\n",
       "$names\n",
       "[1] \"1\"\n"
      ]
     },
     "metadata": {},
     "output_type": "display_data"
    },
    {
     "data": {
      "image/png": "[encoded data removed]",
      "text/plain": [
       "plot without title"
      ]
     },
     "metadata": {
      "image/png": {
       "height": 420,
       "width": 420
      },
      "text/plain": {
       "height": 420,
       "width": 420
      }
     },
     "output_type": "display_data"
    }
   ],
   "source": [
    "# Si queremos obtener la informacion con la que se construyen los box-plots\n",
    "\n",
    "boxplotC<-boxplot(DietaC)\n",
    "boxplotC\n",
    "\n",
    "boxplotB<-boxplot(DietaB)\n",
    "boxplotB"
   ]
  },
  {
   "cell_type": "markdown",
   "metadata": {},
   "source": [
    "### f) QQ plots"
   ]
  },
  {
   "cell_type": "code",
   "execution_count": 33,
   "metadata": {
    "pycharm": {
     "name": "#%%\n"
    }
   },
   "outputs": [
    {
     "data": {
      "image/png": "[encoded data removed]",
      "text/plain": [
       "Plot with title “Normal Q-Q Plot”"
      ]
     },
     "metadata": {
      "image/png": {
       "height": 420,
       "width": 420
      },
      "text/plain": {
       "height": 420,
       "width": 420
      }
     },
     "output_type": "display_data"
    }
   ],
   "source": [
    "par(mfrow=c(1,3))\n",
    "qqnorm(DietaA) #Tiene forma de recta\n",
    "qqnorm(DietaB) #Tiene colas livianas respecto de la distribucion normal\n",
    "qqnorm(DietaC) #Tiene cola liviana a izquierda y cola pesada a derecha respecto de la normal\n",
    "par(mfrow=c(1,1))"
   ]
  },
  {
   "cell_type": "markdown",
   "metadata": {},
   "source": [
    "#### Conclusion: La dieta A tiene una distribucion que podria aproximarse con una normal.\n"
   ]
  },
  {
   "cell_type": "markdown",
   "metadata": {},
   "source": [
    "### g)\n",
    "\n",
    "#### La dieta que parece mas razonable es la Dieta ...\n",
    "\n",
    "#### Podemos ver que, dado que los valores de glucosa saludable estan entre \n",
    "#### 80 y 110 mg/dl, la dieta C tiene aproximadamente un 75% de los datos en \n",
    "#### rangos no saludables.\n",
    "#### La dieta B tiene al 50% de los valores centrales (entre el primer y tercer cuantil)\n",
    "#### en el rango esperado.\n",
    "#### La dieta A pareceria tener mas del 50% de los datos en el rango esperado."
   ]
  }
 ],
 "metadata": {
  "kernelspec": {
   "display_name": "R",
   "language": "R",
   "name": "ir"
  },
  "language_info": {
   "codemirror_mode": "r",
   "file_extension": ".r",
   "mimetype": "text/x-r-source",
   "name": "R",
   "pygments_lexer": "r",
   "version": "3.6.1"
  }
 },
 "nbformat": 4,
 "nbformat_minor": 1
}
