{
 "cells": [
  {
   "cell_type": "markdown",
   "metadata": {
    "collapsed": true
   },
   "source": [
    "### Give me the data \n",
    "[Datos](https://probac2020.shinyapps.io/shiny_uniformes/) generados con num de libreta.\n",
    "\n",
    "Completar [planilla](https://docs.google.com/forms/d/e/1FAIpQLSf96aSsyTjEAEnW9DVKNMZ2Gu83ZW0r0gq2bgXUiStR8mZpDw/viewform) con los valores obtenidos de momentos y maxima verosimilitud en el rango: *10,50,100,1000*.\n",
    "\n",
    "Ver teóricas [1](https://www.youtube.com/watch?v=33zg-fkuePQ&) y [2](https://www.youtube.com/watch?v=YJBXWsHfT6Q&feature=emb_logo)."
   ]
  },
  {
   "cell_type": "code",
   "execution_count": 8,
   "metadata": {},
   "outputs": [
    {
     "ename": "ERROR",
     "evalue": "Error in eunif(datos, method = \"mle\"): could not find function \"eunif\"\n",
     "output_type": "error",
     "traceback": [
      "Error in eunif(datos, method = \"mle\"): could not find function \"eunif\"\nTraceback:\n"
     ]
    }
   ],
   "source": [
    "datos <- read.csv(\"datos_id43319_n_1000.csv\")\n",
    "eunif(datos, method = \"mle\")\n",
    "#Eθ(X)=∫θ0x1θdx=θ2=1n∑i=1nXi,"
   ]
  },
  {
   "cell_type": "markdown",
   "metadata": {},
   "source": [
    "Maximum Likelihood Estimation (method=\"mle\")\n",
    "The maximum likelihood estimators (mle's) of a and b are given by (Johnson et al, 1995, p.286): \n",
    "\n",
    "$\\hat{a}_{mle} = x_{(1)} \\;\\;\\;\\; (1)$\n",
    "\n",
    "$\\hat{b}_{mle} = x_{(n)} \\;\\;\\;\\; (2)$\n",
    "\n",
    "\n",
    "Method of Moments Estimation (method=\"mme\")\n",
    "The method of moments estimators (mme's) of a and b are given by (Forbes et al., 2011):\n",
    "\n",
    "$\\hat{a}_{mme} = \\bar{x} - √{3} s_m \\;\\;\\;\\; (3)$\n",
    "\n",
    "$\\hat{b}_{mme} = \\bar{x} + √{3} s_m \\;\\;\\;\\; (4)$\n",
    "\n",
    "where\n",
    "\n",
    "$\\bar{x} = \\frac{1}{n} ∑_{i=1}^n x_i \\;\\;\\;\\; (5)$\n",
    "\n",
    "$s^2_m = \\frac{1}{n} ∑_{i=1}^n (x_i - \\bar{x})^2 \\;\\;\\;\\; (6)$\n",
    "\n",
    "\n",
    "Method of Moments Estimation Based on the Unbiased Estimator of Variance (method=\"mmue\")\n",
    "The method of moments estimators based on the unbiased estimator of variance are exactly the same as the method of moments estimators given in equations (3-6) above, except that the method of moments estimator of variance in equation (6) is replaced with the unbiased estimator of variance:\n",
    "\n",
    "$\\hat{a}_{mmue} = \\bar{x} - √{3} s \\;\\;\\;\\; (7)$\n",
    "\n",
    "$\\hat{b}_{mmue} = \\bar{x} + √{3} s \\;\\;\\;\\; (8)$\n",
    "\n",
    "where\n",
    "\n",
    "$s^2 = \\frac{1}{n-1} ∑_{i=1}^n (x_i - \\bar{x})^2 \\;\\;\\;\\; (9)$"
   ]
  }
 ],
 "metadata": {
  "kernelspec": {
   "display_name": "R",
   "language": "R",
   "name": "ir"
  },
  "language_info": {
   "codemirror_mode": "r",
   "file_extension": ".r",
   "mimetype": "text/x-r-source",
   "name": "R",
   "pygments_lexer": "r",
   "version": "3.6.1"
  }
 },
 "nbformat": 4,
 "nbformat_minor": 1
}
