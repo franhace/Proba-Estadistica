{
 "cells": [
  {
   "cell_type": "markdown",
   "metadata": {
    "collapsed": true
   },
   "source": [
    "### Give me the data \n",
    "[Datos](https://probac2020.shinyapps.io/shiny_uniformes/) generados con num de libreta.\n",
    "\n",
    "Completar [planilla](https://docs.google.com/forms/d/e/1FAIpQLSf96aSsyTjEAEnW9DVKNMZ2Gu83ZW0r0gq2bgXUiStR8mZpDw/viewform) con los valores obtenidos de momentos y maxima verosimilitud en el rango: *10,50,100,1000*.\n",
    "\n",
    "Ver teóricas [1](https://www.youtube.com/watch?v=33zg-fkuePQ&) y [2](https://www.youtube.com/watch?v=YJBXWsHfT6Q&feature=emb_logo)."
   ]
  },
  {
   "cell_type": "markdown",
   "metadata": {},
   "source": []
  }
 ],
 "metadata": {
  "kernelspec": {
   "display_name": "Python 3",
   "language": "python",
   "name": "python3"
  },
  "language_info": {
   "codemirror_mode": {
    "name": "ipython",
    "version": 3
   },
   "file_extension": ".py",
   "mimetype": "text/x-python",
   "name": "python",
   "nbconvert_exporter": "python",
   "pygments_lexer": "ipython3",
   "version": "3.7.5"
  }
 },
 "nbformat": 4,
 "nbformat_minor": 1
}