{
 "cells": [
  {
   "cell_type": "markdown",
   "metadata": {
    "collapsed": true
   },
   "source": [
    "### Give me the data \n",
    "[Datos](https://probac2020.shinyapps.io/shiny_uniformes/) generados con num de libreta.\n",
    "\n",
    "Completar [planilla](https://docs.google.com/forms/d/e/1FAIpQLSf96aSsyTjEAEnW9DVKNMZ2Gu83ZW0r0gq2bgXUiStR8mZpDw/viewform) con los valores obtenidos de momentos y maxima verosimilitud en el rango: *10,50,100,1000*.\n",
    "\n",
    "Ver teóricas [1](https://www.youtube.com/watch?v=33zg-fkuePQ&) y [2](https://www.youtube.com/watch?v=YJBXWsHfT6Q&feature=emb_logo)."
   ]
  },
  {
   "cell_type": "code",
   "execution_count": 2,
   "metadata": {},
   "outputs": [
    {
     "data": {
      "text/plain": [
       "     datos       \n",
       " Min.   :0.0000  \n",
       " 1st Qu.:0.4000  \n",
       " Median :0.7600  \n",
       " Mean   :0.7755  \n",
       " 3rd Qu.:1.1600  \n",
       " Max.   :1.5000  "
      ]
     },
     "metadata": {},
     "output_type": "display_data"
    },
    {
     "data": {
      "text/html": [
       "<strong>datos:</strong> 0.77555"
      ],
      "text/latex": [
       "\\textbf{datos:} 0.77555"
      ],
      "text/markdown": [
       "**datos:** 0.77555"
      ],
      "text/plain": [
       "  datos \n",
       "0.77555 "
      ]
     },
     "metadata": {},
     "output_type": "display_data"
    }
   ],
   "source": [
    "datos <- read.csv(\"datos_id43319_n_1000.csv\")\n",
    "summary(datos)\n",
    "apply(datos, 2, mean)\n"
   ]
  },
  {
   "cell_type": "markdown",
   "metadata": {},
   "source": [
    "Maximum Likelihood Estimation (method=\"mle\")\n",
    "The maximum likelihood estimators (mle's) of a and b are given by (Johnson et al, 1995, p.286): \n",
    "\n",
    "$\\hat{a}_{mle} = x_{(1)} \\;\\;\\;\\; (1)$\n",
    "\n",
    "$\\hat{b}_{mle} = x_{(n)} \\;\\;\\;\\; (2)$\n",
    "\n",
    "\n",
    "Method of Moments Estimation (method=\"mme\")\n",
    "The method of moments estimators (mme's) of a and b are given by (Forbes et al., 2011):\n",
    "\n",
    "$\\hat{a}_{mme} = \\bar{x} - √{3} s_m \\;\\;\\;\\; (3)$\n",
    "\n",
    "$\\hat{b}_{mme} = \\bar{x} + √{3} s_m \\;\\;\\;\\; (4)$\n",
    "\n",
    "where\n",
    "\n",
    "$\\bar{x} = \\frac{1}{n} ∑_{i=1}^n x_i \\;\\;\\;\\; (5)$\n",
    "\n",
    "$s^2_m = \\frac{1}{n} ∑_{i=1}^n (x_i - \\bar{x})^2 \\;\\;\\;\\; (6)$\n",
    "\n",
    "\n",
    "Method of Moments Estimation Based on the Unbiased Estimator of Variance (method=\"mmue\")\n",
    "The method of moments estimators based on the unbiased estimator of variance are exactly the same as the method of moments estimators given in equations (3-6) above, except that the method of moments estimator of variance in equation (6) is replaced with the unbiased estimator of variance:\n",
    "\n",
    "$\\hat{a}_{mmue} = \\bar{x} - √{3} s \\;\\;\\;\\; (7)$\n",
    "\n",
    "$\\hat{b}_{mmue} = \\bar{x} + √{3} s \\;\\;\\;\\; (8)$\n",
    "\n",
    "where\n",
    "\n",
    "$s^2 = \\frac{1}{n-1} ∑_{i=1}^n (x_i - \\bar{x})^2 \\;\\;\\;\\; (9)$"
   ]
  }
 ],
 "metadata": {
  "kernelspec": {
   "display_name": "R",
   "language": "R",
   "name": "ir"
  },
  "language_info": {
   "codemirror_mode": "r",
   "file_extension": ".r",
   "mimetype": "text/x-r-source",
   "name": "R",
   "pygments_lexer": "r",
   "version": "3.6.1"
  }
 },
 "nbformat": 4,
 "nbformat_minor": 1
}