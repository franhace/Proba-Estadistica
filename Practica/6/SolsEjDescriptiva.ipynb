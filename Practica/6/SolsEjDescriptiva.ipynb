{
 "cells": [
  {
   "cell_type": "markdown",
   "source": [
    "![EjercicioEstadisticaDescriptivca.png](attachment:EjercicioEstadisticaDescriptivca.png)"
   ],
   "metadata": {
    "collapsed": false
   }
  },
  {
   "cell_type": "markdown",
   "source": [
    "#### a) Calcular media, mediana, media a-podada. Que dieta no parece saludable?"
   ],
   "metadata": {
    "collapsed": false
   }
  },
  {
   "cell_type": "code",
   "execution_count": null,
   "outputs": [],
   "source": [
    "# Leemos los datos\n",
    "gluco <- read.delim(\"dietas.txt\")\n",
    "\n",
    "# attach(gluco)\n",
    "\n",
    "dietaa  \n",
    "dietab\n",
    "dietac\n",
    "\n",
    "# # o bien si las columnas no tienen nombre\n",
    "\n",
    "# DietaA<-gluco[,1]\n",
    "# DietaA\n",
    "# DietaB<-gluco[,2]\n",
    "# DietaC<-gluco[,3]"
   ],
   "metadata": {
    "collapsed": false,
    "pycharm": {
     "name": "#%%\n"
    }
   }
  },
  {
   "cell_type": "code",
   "execution_count": null,
   "outputs": [],
   "source": [
    "summary(gluco)"
   ],
   "metadata": {
    "collapsed": false,
    "pycharm": {
     "name": "#%%\n"
    }
   }
  },
  {
   "cell_type": "code",
   "execution_count": null,
   "outputs": [],
   "source": [
    "apply(gluco, 2, mean)\n",
    "\n",
    "mean(DietaA)\n",
    "mean(DietaB)\n",
    "mean(DietaC)"
   ],
   "metadata": {
    "collapsed": false,
    "pycharm": {
     "name": "#%%\n"
    }
   }
  },
  {
   "cell_type": "code",
   "execution_count": null,
   "outputs": [],
   "source": [
    "# Mediana muestral:\n",
    "\n",
    "apply(gluco, 2, median)\n",
    "\n",
    "median(DietaA)\n",
    "median(DietaB)\n",
    "median(DietaC)\n",
    "\n",
    "# o bien como length(DietaA) es par podemos hacer:\n",
    "\n",
    "(sort(DietaA)[50]+sort(DietaA)[51])/2\n",
    "\n",
    "# O bien a mano porque nos interesa la posicion 1/2(100+1)=50.5\n",
    "\n",
    "DietaAOrdenada<- sort(DietaA)\n",
    "med<-DietaAOrdenada[lengths(list(DietaAOrdenada))/2]\n",
    "med\n"
   ],
   "metadata": {
    "collapsed": false,
    "pycharm": {
     "name": "#%%\n"
    }
   }
  },
  {
   "cell_type": "code",
   "execution_count": null,
   "outputs": [],
   "source": [
    "# Media alpha podada al 10%\n",
    "\n",
    "mean(gluco,trim=0.1) # anda segn la version de R\n",
    "\n",
    "mean(DietaA,trim=0.1)\n",
    "mean(DietaB,trim=0.1)\n",
    "mean(DietaC,trim=0.1)"
   ],
   "metadata": {
    "collapsed": false,
    "pycharm": {
     "name": "#%%\n"
    }
   }
  },
  {
   "cell_type": "code",
   "execution_count": null,
   "outputs": [],
   "source": [
    "# Observemos que coincide con\n",
    "\n",
    "DietaAordenada<-sort(DietaA)\n",
    "mean(DietaAordenada[11:90])"
   ],
   "metadata": {
    "collapsed": false,
    "pycharm": {
     "name": "#%%\n"
    }
   }
  },
  {
   "cell_type": "code",
   "execution_count": null,
   "outputs": [],
   "source": [
    "# si hay muchas columnas mejor hacer los siguiente:\n",
    "\n",
    "gluco.ord<-apply(gluco, 2, sort)\n",
    "apply(gluco.ord[11:90,], 2, mean)"
   ],
   "metadata": {
    "collapsed": false,
    "pycharm": {
     "name": "#%%\n"
    }
   }
  },
  {
   "cell_type": "markdown",
   "source": [
    "#### b) Calcular medidas de dispersion"
   ],
   "metadata": {
    "collapsed": false
   }
  },
  {
   "cell_type": "code",
   "execution_count": null,
   "outputs": [],
   "source": [
    "# Varianza muestral\n",
    "\n",
    "apply(gluco, 2, var)\n",
    "\n",
    "var(DietaA)\n",
    "var(DietaB)\n",
    "var(DietaC)"
   ],
   "metadata": {
    "collapsed": false,
    "pycharm": {
     "name": "#%%\n"
    }
   }
  },
  {
   "cell_type": "code",
   "execution_count": null,
   "outputs": [],
   "source": [
    "# Desvio Muestral: raiz cuadrada de la varianza muestral\n",
    "\n",
    "sqrt(apply(gluco, 2, var))\n",
    "\n",
    "c(sqrt(var(DietaA)),sqrt(var(DietaB)),sqrt(var(DietaC)))\n"
   ],
   "metadata": {
    "collapsed": false,
    "pycharm": {
     "name": "#%%\n"
    }
   }
  },
  {
   "cell_type": "code",
   "execution_count": null,
   "outputs": [],
   "source": [
    "# MAD\n",
    "\n",
    "c(median(abs(DietaA-median(DietaA))),median(abs(DietaB-median(DietaB))),median(abs(DietaC-median(DietaC))))\n",
    "\n",
    "c(median(abs(DietaA-median(DietaA))),median(abs(DietaB-median(DietaB))),median(abs(DietaC-median(DietaC))))/0.675\n"
   ],
   "metadata": {
    "collapsed": false,
    "pycharm": {
     "name": "#%%\n"
    }
   }
  },
  {
   "cell_type": "markdown",
   "source": [
    "#### c) Obtener percentiles y comparar"
   ],
   "metadata": {
    "collapsed": false
   }
  },
  {
   "cell_type": "code",
   "execution_count": null,
   "outputs": [],
   "source": [
    "##Item c): Percentiles\n",
    "\n",
    "apply(gluco, 2, quantile) #Da los percentiles 0% (m�nimo), 25%, 50%, 75% y 100% (m�ximo)\n",
    "\n",
    "#Percentiles 10% y 90%\n",
    "\n",
    "c(quantile(DietaA,0.10), quantile(DietaB,0.10),quantile(DietaC,0.10))\n",
    "\n",
    "c(quantile(DietaA,0.90), quantile(DietaB,0.90), quantile(DietaC,0.90))\n",
    "\n",
    "c(quantile(DietaA,0.05), quantile(DietaB,0.05),quantile(DietaC,0.05))"
   ],
   "metadata": {
    "collapsed": false,
    "pycharm": {
     "name": "#%%\n"
    }
   }
  },
  {
   "cell_type": "code",
   "execution_count": null,
   "outputs": [],
   "source": [
    "# a mano el percentil 90% se consigue buscando la posici�n =0.9 * 101=90.9\n",
    "\n",
    "sort(DietaA)[90]\n",
    "sort(DietaA)[91]\n",
    "\n",
    "sort(DietaA)[90]*0.1 + sort(DietaA)[91]*0.9# esto es lo correcto!!!\n",
    "\n",
    "sort(DietaA)[90]*0.9 + sort(DietaA)[91]*0.1# est� mal!!! pero da lo mismo que el R\n",
    "\n",
    "quantile(DietaA,0.90) "
   ],
   "metadata": {
    "collapsed": false,
    "pycharm": {
     "name": "#%%\n"
    }
   }
  },
  {
   "cell_type": "code",
   "execution_count": null,
   "outputs": [],
   "source": [
    "# Obervacion: Para obtener las distancias intercuartiles podemos hacer:\n",
    "\n",
    "apply(gluco, 2, quantile)[4,]-apply(gluco, 2, quantile)[2,]\n",
    "\n",
    "quantile(DietaA,0.75)-quantile(DietaA,0.25)\n",
    "quantile(DietaB,0.75)-quantile(DietaB,0.25)\n",
    "quantile(DietaC,0.75)-quantile(DietaC,0.25)"
   ],
   "metadata": {
    "collapsed": false,
    "pycharm": {
     "name": "#%%\n"
    }
   }
  },
  {
   "cell_type": "code",
   "execution_count": null,
   "outputs": [],
   "source": [
    "# Rango muestral\n",
    "\n",
    "apply(gluco, 2, range)"
   ],
   "metadata": {
    "collapsed": false,
    "pycharm": {
     "name": "#%%\n"
    }
   }
  },
  {
   "cell_type": "markdown",
   "source": [
    "#### Conclusion: mas del 80% de los individuos que siguieron la dieta A son saludables, \n",
    "#### mientras que solo el 50% de los individuos que siguieron la dieta B lo son. \n",
    "#### El 75% de los que siguieron la dieta C tienen niveles de glucosa no saludable."
   ],
   "metadata": {
    "collapsed": false
   }
  },
  {
   "cell_type": "markdown",
   "source": [
    "#### d) Histograma"
   ],
   "metadata": {
    "collapsed": false
   }
  },
  {
   "cell_type": "code",
   "execution_count": null,
   "outputs": [],
   "source": [
    "par(mfrow=c(1,3))\n",
    "hist(DietaA,probability=F)\n",
    "hist(DietaB)\n",
    "hist(DietaC)\n",
    "par(mfrow=c(1,1)) # no elige la misma escala y \n",
    "\n",
    "par(mfrow=c(1,3))\n",
    "hist(DietaA,nclass=20,probability=T,main=\"Histograma de areas\",xlab= \"DietaA\",ylab=\"densidad\",xlim=c(60,130),ylim=c(0,0.15),border=\"darkred\",col=\"pink\")\n",
    "hist(DietaB,nclass=20,probability=T,main=\"Histograma de areas\",xlab= \"DietaB\",ylab=\"densidad\",xlim=c(60,130),ylim=c(0,0.15),border=\"darkred\",col=\"blue\")\n",
    "hist(DietaC,nclass=20,probability=T,main=\"Histograma de areas\",xlab= \"DietaC\",ylab=\"densidad\",xlim=c(60,130),ylim=c(0,0.15),border=\"darkred\",col=\"green\")\n",
    "par(mfrow=c(1,1))\n",
    "\n",
    "\n",
    "par(mfrow=c(1,3))"
   ],
   "metadata": {
    "collapsed": false,
    "pycharm": {
     "name": "#%%\n"
    }
   }
  },
  {
   "cell_type": "code",
   "execution_count": null,
   "outputs": [],
   "source": [
    "hist(DietaA,nclass=20,probability=T,main=\"Histograma de �reas\",xlab= \"DietaA\",ylab=\"densidad\",xlim=c(60,130),ylim=c(0,0.15),border=\"darkred\",col=\"pink\")\n",
    "equis<-seq(min(DietaA),max(DietaA),by=0.01)\n",
    "lines(equis,dnorm(equis, mean = mean(DietaA),sd =sqrt(var(DietaA))),col=2,lwd=2)\n",
    "\n",
    "hist(DietaB,nclass=20,probability=T,main=\"Histograma de �reas\",xlab= \"DietaB\",ylab=\"densidad\",xlim=c(60,130),ylim=c(0,0.15),border=\"darkred\",col=\"blue\")\n",
    "equis<-seq(min(DietaA),max(DietaA),by=0.01)\n",
    "lines(equis,dnorm(equis, mean = mean(DietaB),sd =sqrt(var(DietaB))),col=2,lwd=2)\n",
    "\n",
    "hist(DietaC,nclass=20,probability=T,main=\"Histograma de �reas\",xlab= \"DietaC\",ylab=\"densidad\",xlim=c(60,130),ylim=c(0,0.15),border=\"darkred\",col=\"green\")\n",
    "equis<-seq(min(DietaA),max(DietaA),by=0.01)\n",
    "lines(equis,dnorm(equis, mean = mean(DietaC),sd =sqrt(var(DietaC))),col=2,lwd=2)\n",
    "\n",
    "par(mfrow=c(1,1))"
   ],
   "metadata": {
    "collapsed": false,
    "pycharm": {
     "name": "#%%\n"
    }
   }
  },
  {
   "cell_type": "code",
   "execution_count": null,
   "outputs": [],
   "source": [
    "histA<-hist(DietaA,nclass=20,probability=T,main=\"Histograma de �reas\",xlab= \"DietaA\",ylab=\"densidad\",xlim=c(60,130),ylim=c(0,0.15),border=\"darkred\",col=\"pink\")\n",
    "histA$counts"
   ],
   "metadata": {
    "collapsed": false,
    "pycharm": {
     "name": "#%%\n"
    }
   }
  },
  {
   "cell_type": "code",
   "execution_count": null,
   "outputs": [],
   "source": [
    "# variantes\n",
    "hist(DietaA,breaks=c(65,75,85,95,105,125),probability=T,main=\"Histograma de �reas\",xlab= \"DietaA\",ylab=\"densidad\",xlim=c(60,130),ylim=c(0,0.15),border=\"darkred\",col=\"pink\")\n"
   ],
   "metadata": {
    "collapsed": false,
    "pycharm": {
     "name": "#%%\n"
    }
   }
  },
  {
   "cell_type": "markdown",
   "source": [
    "#### Conclusion: La dieta B parece bimodal. En la dieta A pareceria haber un valor mas alejado hacia la izquierda.\n",
    "#### La dieta A tiene una distribucion bastante simetrica y unimodal, por lo que un ajuste normal podria ser razonable.\n",
    "#### Observemos que la dieta B tambien tiene una distribucion bastante simetrica, pero bimodal!\n",
    "#### La dieta C es fuertemente asimetrica hacia la derecha."
   ],
   "metadata": {
    "collapsed": false
   }
  },
  {
   "cell_type": "markdown",
   "source": [
    "### e): Box-Plots"
   ],
   "metadata": {
    "collapsed": false
   }
  },
  {
   "cell_type": "code",
   "execution_count": null,
   "outputs": [],
   "source": [
    "par(mfrow=c(1,3))\n",
    "boxplot(DietaA)\n",
    "boxplot(DietaB)\n",
    "boxplot(DietaC)\n",
    "par(mfrow=c(1,1))\n",
    "\n",
    "names(boxplot(DietaA))\n",
    "\n",
    "boxplot(DietaC)$out\n",
    "\n",
    "boxplot(DietaA,DietaB,DietaC)"
   ],
   "metadata": {
    "collapsed": false,
    "pycharm": {
     "name": "#%%\n"
    }
   }
  },
  {
   "cell_type": "code",
   "execution_count": null,
   "outputs": [],
   "source": [
    "par(mfrow=c(1,3))\n",
    "boxplot(DietaA,ylim=c(65,125),border=\"brown\",xlab=\"dieta A\",col=\"yellow2\",horizontal=F)\n",
    "boxplot(DietaB,ylim=c(65,125),border=\"brown\",xlab=\"dieta B\",col=\"yellow2\",horizontal=F)\n",
    "boxplot(DietaC,ylim=c(65,125),border=\"brown\",xlab=\"dieta C\",col=\"yellow2\",horizontal=F)\n",
    "par(mfrow=c(1,1))\n",
    "title(\"Boxplot de las tres dietas\")"
   ],
   "metadata": {
    "collapsed": false,
    "pycharm": {
     "name": "#%%\n"
    }
   }
  },
  {
   "cell_type": "code",
   "execution_count": null,
   "outputs": [],
   "source": [
    "par(mfrow=c(3,1))\n",
    "boxplot(DietaA,ylim=c(65,125),border=\"brown\",xlab=\"dieta A\",col=\"yellow2\",horizontal=T)\n",
    "boxplot(DietaB,ylim=c(65,125),border=\"brown\",xlab=\"dieta B\",col=\"yellow2\",horizontal=T)\n",
    "boxplot(DietaC,ylim=c(65,125),border=\"brown\",xlab=\"dieta C\",col=\"yellow2\",horizontal=T)\n",
    "par(mfrow=c(1,1))"
   ],
   "metadata": {
    "collapsed": false,
    "pycharm": {
     "name": "#%%\n"
    }
   }
  },
  {
   "cell_type": "code",
   "execution_count": null,
   "outputs": [],
   "source": [
    "# Tambien se puede hacer asi: \n",
    "\n",
    "boxplot(gluco,ylim=c(65,125),border=\"brown\",col=\"yellow2\")"
   ],
   "metadata": {
    "collapsed": false,
    "pycharm": {
     "name": "#%%\n"
    }
   }
  },
  {
   "cell_type": "code",
   "execution_count": null,
   "outputs": [],
   "source": [
    "# Si queremos obtener la informacion con la que se construyen los box-plots\n",
    "\n",
    "boxplotC<-boxplot(DietaC)\n",
    "boxplotC\n",
    "\n",
    "boxplotB<-boxplot(DietaB)\n",
    "boxplotB"
   ],
   "metadata": {
    "collapsed": false,
    "pycharm": {
     "name": "#%%\n"
    }
   }
  },
  {
   "cell_type": "markdown",
   "source": [
    "### f) QQ plots"
   ],
   "metadata": {
    "collapsed": false
   }
  },
  {
   "cell_type": "code",
   "execution_count": null,
   "outputs": [],
   "source": [
    "par(mfrow=c(1,3))\n",
    "qqnorm(DietaA) #Tiene forma de recta\n",
    "qqnorm(DietaB) #Tiene colas livianas respecto de la distribucion normal\n",
    "qqnorm(DietaC) #Tiene cola liviana a izquierda y cola pesada a derecha respecto de la normal\n",
    "par(mfrow=c(1,1))"
   ],
   "metadata": {
    "collapsed": false,
    "pycharm": {
     "name": "#%%\n"
    }
   }
  },
  {
   "cell_type": "markdown",
   "source": [
    "#### Conclusion: La dieta A tiene una distribucion que podria aproximarse con una normal.\n"
   ],
   "metadata": {
    "collapsed": false
   }
  },
  {
   "cell_type": "markdown",
   "source": [
    "### g)\n",
    "\n",
    "#### La dieta que parece mas razonable es la Dieta ...\n",
    "\n",
    "#### Podemos ver que, dado que los valores de glucosa saludable estan entre \n",
    "#### 80 y 110 mg/dl, la dieta C tiene aproximadamente un 75% de los datos en \n",
    "#### rangos no saludables.\n",
    "#### La dieta B tiene al 50% de los valores centrales (entre el primer y tercer cuantil)\n",
    "#### en el rango esperado.\n",
    "#### La dieta A pareceria tener mas del 50% de los datos en el rango esperado."
   ],
   "metadata": {
    "collapsed": false
   }
  }
 ],
 "metadata": {
  "kernelspec": {
   "display_name": "R",
   "language": "R",
   "name": "ir"
  },
  "language_info": {
   "codemirror_mode": "r",
   "file_extension": ".r",
   "mimetype": "text/x-r-source",
   "name": "R",
   "pygments_lexer": "r",
   "version": "3.6.1"
  }
 },
 "nbformat": 4,
 "nbformat_minor": 1
}