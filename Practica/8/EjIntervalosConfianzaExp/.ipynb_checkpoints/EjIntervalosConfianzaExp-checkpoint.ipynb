{
 "cells": [
  {
   "cell_type": "markdown",
   "metadata": {
    "collapsed": true
   },
   "source": [
    "### Give me the data \n",
    "[Datos](https://probac2020.shinyapps.io/clase_30_junio/) generados con num de libreta.\n",
    "\n",
    "Completar [planilla](https://docs.google.com/forms/d/e/1FAIpQLSdgLpcGbO0hpijeASOMjAB-A96gZk99fvQ0k5qLilf3Bz_U9g/viewform) con los valores obtenidos de momentos y maxima verosimilitud en el rango: *10,50,100,1000*.\n",
    "\n",
    "Ver teóricas [1](https://www.youtube.com/watch?v=33zg-fkuePQ&) y [2](https://www.youtube.com/watch?v=YJBXWsHfT6Q&feature=emb_logo)."
   ]
  },
  {
   "cell_type": "code",
   "execution_count": 30,
   "metadata": {},
   "outputs": [],
   "source": [
    "datos <- read.csv(\"datos_id43319_n_50.csv0.95.csv\")"
   ]
  },
  {
   "cell_type": "code",
   "execution_count": 31,
   "metadata": {},
   "outputs": [
    {
     "data": {
      "text/plain": [
       "     datos        \n",
       " Min.   :0.00910  \n",
       " 1st Qu.:0.06295  \n",
       " Median :0.24185  \n",
       " Mean   :0.48818  \n",
       " 3rd Qu.:0.43555  \n",
       " Max.   :2.29900  "
      ]
     },
     "metadata": {},
     "output_type": "display_data"
    }
   ],
   "source": [
    "datos_n10<- head(datos,10)\n",
    "summary(datos_n10)"
   ]
  },
  {
   "cell_type": "code",
   "execution_count": 32,
   "metadata": {},
   "outputs": [
    {
     "data": {
      "text/plain": [
       "     datos       \n",
       " Min.   :0.0091  \n",
       " 1st Qu.:0.1612  \n",
       " Median :0.3103  \n",
       " Mean   :0.4936  \n",
       " 3rd Qu.:0.6392  \n",
       " Max.   :2.2990  "
      ]
     },
     "metadata": {},
     "output_type": "display_data"
    }
   ],
   "source": [
    "datos_n50<- head(datos,50)\n",
    "summary(datos_n50)"
   ]
  },
  {
   "cell_type": "code",
   "execution_count": 47,
   "metadata": {},
   "outputs": [
    {
     "data": {
      "text/html": [
       "<style>\n",
       ".list-inline {list-style: none; margin:0; padding: 0}\n",
       ".list-inline>li {display: inline-block}\n",
       ".list-inline>li:not(:last-child)::after {content: \"\\00b7\"; padding: 0 .5ex}\n",
       "</style>\n",
       "<ol class=list-inline><li>0.3019</li><li>2.299</li><li>0.1953</li><li>0.0225</li><li>0.0091</li><li>0.4801</li><li>0.2884</li><li>0.0101</li><li>0.1843</li><li>1.0911</li></ol>\n"
      ],
      "text/latex": [
       "\\begin{enumerate*}\n",
       "\\item 0.3019\n",
       "\\item 2.299\n",
       "\\item 0.1953\n",
       "\\item 0.0225\n",
       "\\item 0.0091\n",
       "\\item 0.4801\n",
       "\\item 0.2884\n",
       "\\item 0.0101\n",
       "\\item 0.1843\n",
       "\\item 1.0911\n",
       "\\end{enumerate*}\n"
      ],
      "text/markdown": [
       "1. 0.3019\n",
       "2. 2.299\n",
       "3. 0.1953\n",
       "4. 0.0225\n",
       "5. 0.0091\n",
       "6. 0.4801\n",
       "7. 0.2884\n",
       "8. 0.0101\n",
       "9. 0.1843\n",
       "10. 1.0911\n",
       "\n",
       "\n"
      ],
      "text/plain": [
       " [1] 0.3019 2.2990 0.1953 0.0225 0.0091 0.4801 0.2884 0.0101 0.1843 1.0911"
      ]
     },
     "metadata": {},
     "output_type": "display_data"
    }
   ],
   "source": [
    "media_n10<-mean(datos_n10$\"datos\", na.rm = TRUE)\n",
    "avector10 <- datos_n10[,'datos']\n",
    "avector"
   ]
  },
  {
   "cell_type": "code",
   "execution_count": 49,
   "metadata": {},
   "outputs": [
    {
     "data": {
      "text/html": [
       "0.997950474005779"
      ],
      "text/latex": [
       "0.997950474005779"
      ],
      "text/markdown": [
       "0.997950474005779"
      ],
      "text/plain": [
       "[1] 0.9979505"
      ]
     },
     "metadata": {},
     "output_type": "display_data"
    },
    {
     "data": {
      "text/html": [
       "-0.0215904740057789"
      ],
      "text/latex": [
       "-0.0215904740057789"
      ],
      "text/markdown": [
       "-0.0215904740057789"
      ],
      "text/plain": [
       "[1] -0.02159047"
      ]
     },
     "metadata": {},
     "output_type": "display_data"
    }
   ],
   "source": [
    "mean(avector10) - qt(0.025, df=9)* sd(avector10) / sqrt(10)\n",
    "mean(avector10) + qt(0.025, df=9)* sd(avector10) / sqrt(10)"
   ]
  },
  {
   "cell_type": "code",
   "execution_count": 52,
   "metadata": {},
   "outputs": [
    {
     "data": {
      "text/html": [
       "0.493586"
      ],
      "text/latex": [
       "0.493586"
      ],
      "text/markdown": [
       "0.493586"
      ],
      "text/plain": [
       "[1] 0.493586"
      ]
     },
     "metadata": {},
     "output_type": "display_data"
    },
    {
     "data": {
      "text/html": [
       "<style>\n",
       ".list-inline {list-style: none; margin:0; padding: 0}\n",
       ".list-inline>li {display: inline-block}\n",
       ".list-inline>li:not(:last-child)::after {content: \"\\00b7\"; padding: 0 .5ex}\n",
       "</style>\n",
       "<ol class=list-inline><li>0.3019</li><li>2.299</li><li>0.1953</li><li>0.0225</li><li>0.0091</li><li>0.4801</li><li>0.2884</li><li>0.0101</li><li>0.1843</li><li>1.0911</li></ol>\n"
      ],
      "text/latex": [
       "\\begin{enumerate*}\n",
       "\\item 0.3019\n",
       "\\item 2.299\n",
       "\\item 0.1953\n",
       "\\item 0.0225\n",
       "\\item 0.0091\n",
       "\\item 0.4801\n",
       "\\item 0.2884\n",
       "\\item 0.0101\n",
       "\\item 0.1843\n",
       "\\item 1.0911\n",
       "\\end{enumerate*}\n"
      ],
      "text/markdown": [
       "1. 0.3019\n",
       "2. 2.299\n",
       "3. 0.1953\n",
       "4. 0.0225\n",
       "5. 0.0091\n",
       "6. 0.4801\n",
       "7. 0.2884\n",
       "8. 0.0101\n",
       "9. 0.1843\n",
       "10. 1.0911\n",
       "\n",
       "\n"
      ],
      "text/plain": [
       " [1] 0.3019 2.2990 0.1953 0.0225 0.0091 0.4801 0.2884 0.0101 0.1843 1.0911"
      ]
     },
     "metadata": {},
     "output_type": "display_data"
    }
   ],
   "source": [
    "media_n50<-mean(datos_n50$\"datos\", na.rm = TRUE)\n",
    "media_n50\n",
    "avector50 <- datos_n50[,'datos']\n",
    "avector"
   ]
  },
  {
   "cell_type": "code",
   "execution_count": 57,
   "metadata": {},
   "outputs": [
    {
     "data": {
      "text/html": [
       "0.636912924800321"
      ],
      "text/latex": [
       "0.636912924800321"
      ],
      "text/markdown": [
       "0.636912924800321"
      ],
      "text/plain": [
       "[1] 0.6369129"
      ]
     },
     "metadata": {},
     "output_type": "display_data"
    },
    {
     "data": {
      "text/html": [
       "0.350259075199679"
      ],
      "text/latex": [
       "0.350259075199679"
      ],
      "text/markdown": [
       "0.350259075199679"
      ],
      "text/plain": [
       "[1] 0.3502591"
      ]
     },
     "metadata": {},
     "output_type": "display_data"
    }
   ],
   "source": [
    "mean(avector50) - qt(0.025, df=49)* sd(avector50) / sqrt(50)\n",
    "mean(avector50) + qt(0.025, df=49)* sd(avector50) / sqrt(50)"
   ]
  },
  {
   "cell_type": "code",
   "execution_count": 65,
   "metadata": {},
   "outputs": [
    {
     "data": {
      "text/html": [
       "0.876346530756956"
      ],
      "text/latex": [
       "0.876346530756956"
      ],
      "text/markdown": [
       "0.876346530756956"
      ],
      "text/plain": [
       "[1] 0.8763465"
      ]
     },
     "metadata": {},
     "output_type": "display_data"
    },
    {
     "data": {
      "text/html": [
       "3.76505693501458"
      ],
      "text/latex": [
       "3.76505693501458"
      ],
      "text/markdown": [
       "3.76505693501458"
      ],
      "text/plain": [
       "[1] 3.765057"
      ]
     },
     "metadata": {},
     "output_type": "display_data"
    }
   ],
   "source": [
    "# Intervalos de confianza\n",
    "# 100-95 = 5 , 5/2 = 2.5 , en porciento es 0.025 (ese seria el alpha)\n",
    "alpha=0.025\n",
    "# Tamaño de la muestra\n",
    "n = 10\n",
    "lim_inf<- qchisq(alpha/2,2*n)/(2*sum(avector10))\n",
    "lim_sup<- qchisq(1-alpha/2,2*n)/(2*sum(avector10))\n",
    "lim_inf\n",
    "lim_sup"
   ]
  },
  {
   "cell_type": "code",
   "execution_count": 66,
   "metadata": {},
   "outputs": [
    {
     "data": {
      "text/html": [
       "1.43873810427602"
      ],
      "text/latex": [
       "1.43873810427602"
      ],
      "text/markdown": [
       "1.43873810427602"
      ],
      "text/plain": [
       "[1] 1.438738"
      ]
     },
     "metadata": {},
     "output_type": "display_data"
    },
    {
     "data": {
      "text/html": [
       "2.72174759102092"
      ],
      "text/latex": [
       "2.72174759102092"
      ],
      "text/markdown": [
       "2.72174759102092"
      ],
      "text/plain": [
       "[1] 2.721748"
      ]
     },
     "metadata": {},
     "output_type": "display_data"
    }
   ],
   "source": [
    "# Intervalos de confianza\n",
    "alpha=0.025\n",
    "n = 50\n",
    "lim_inf<- qchisq(alpha/2,2*n)/(2*sum(avector50))\n",
    "lim_sup<- qchisq(1-alpha/2,2*n)/(2*sum(avector50))\n",
    "lim_inf\n",
    "lim_sup"
   ]
  },
  {
   "cell_type": "code",
   "execution_count": null,
   "metadata": {},
   "outputs": [],
   "source": []
  }
 ],
 "metadata": {
  "kernelspec": {
   "display_name": "R",
   "language": "R",
   "name": "ir"
  },
  "language_info": {
   "codemirror_mode": "r",
   "file_extension": ".r",
   "mimetype": "text/x-r-source",
   "name": "R",
   "pygments_lexer": "r",
   "version": "3.6.1"
  }
 },
 "nbformat": 4,
 "nbformat_minor": 1
}
