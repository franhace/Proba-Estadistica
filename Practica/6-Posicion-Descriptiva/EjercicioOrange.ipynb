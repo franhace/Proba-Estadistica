{
 "cells": [
  {
   "cell_type": "code",
   "execution_count": null,
   "metadata": {},
   "outputs": [],
   "source": [
    "# Ej donde vamos a buscar el mejor predictor lineal(recta de regresion lineal)  entre 2 variables"
   ]
  },
  {
   "cell_type": "code",
   "execution_count": null,
   "outputs": [],
   "source": [
    "data(Orange)\n",
    "colnames(Orange)\n",
    "summary(Orange$Tree)\n",
    "summary(Orange$age)\n",
    "summary(Orange$circumference)"
   ],
   "metadata": {
    "collapsed": false,
    "pycharm": {
     "name": "#%%\n"
    }
   }
  },
  {
   "cell_type": "code",
   "execution_count": null,
   "outputs": [],
   "source": [
    "mean(Orange$age)"
   ],
   "metadata": {
    "collapsed": false,
    "pycharm": {
     "name": "#%%\n"
    }
   }
  },
  {
   "cell_type": "code",
   "execution_count": null,
   "outputs": [],
   "source": [
    "sd(Orange$circumference)"
   ],
   "metadata": {
    "collapsed": false,
    "pycharm": {
     "name": "#%%\n"
    }
   }
  },
  {
   "cell_type": "code",
   "execution_count": null,
   "outputs": [],
   "source": [
    "edades3<-Orange[which(Orange$Tree==3),]\n",
    "median(edades3$age)"
   ],
   "metadata": {
    "collapsed": false,
    "pycharm": {
     "name": "#%%\n"
    }
   }
  },
  {
   "cell_type": "code",
   "execution_count": null,
   "outputs": [],
   "source": [
    "# Hallar la recta de regresion que permite predecir la edad de un naranjo usando la circunferencia del tronco\n",
    "ajuste1<-(lm.fit=lm(age~circumference,data=Orange))\n",
    "\n",
    "# recta de regresion > y = alpha + beta.x \n",
    "# donde alpha es el primer numero que da y beta el segundo\n",
    "ajuste1\n",
    "\n",
    "# hacemos el plot \n",
    "with(data=Orange, plot(circumference, age))\n",
    "\n",
    "# dibujamos la recta de regresion lineal encima\n",
    "abline(ajuste1$coefficients)"
   ],
   "metadata": {
    "collapsed": false,
    "pycharm": {
     "name": "#%%\n"
    }
   }
  },
  {
   "cell_type": "code",
   "execution_count": null,
   "outputs": [],
   "source": [
    "# Haciendolo a mano \n",
    "# El mejor predictor lineal de Y basado en X segun el criterio del ECM es:\n",
    "# recta de regresion > y = alpha + beta.x \n",
    "\n",
    "# definimos nuestras variables\n",
    "X<-Orange$circumference\n",
    "Y<-Orange$age\n",
    "\n",
    "mean_X<-mean(X)\n",
    "sd_X<-sd(X)\n",
    "mean_Y<-mean(Y)\n",
    "sd_Y<-sd(Y)\n",
    "corr_XY<-cor(X,Y)\n",
    "\n",
    "# coeficientes de la recta\n",
    "alpha = mean_Y - (sd_Y/sd_X)*corr_XY*mean_X\n",
    "beta = (sd_Y/sd_X)*corr_XY\n",
    "\n",
    "cat(\"alpha:\",alpha)\n",
    "cat(\"\\nbeta:\",beta)\n",
    "library(glue)\n",
    "i = glue(\"recta regresion: y = {alpha} + {beta}x\")\n",
    "i"
   ],
   "metadata": {
    "collapsed": false,
    "pycharm": {
     "name": "#%%\n"
    }
   }
  },
  {
   "cell_type": "code",
   "execution_count": null,
   "outputs": [],
   "source": [
    "# Si quisieramos predecir la edad de un naranjo a partir de una circumferencia de 150.4mm\n",
    "x<-150.4\n",
    "y<-alpha+beta*x\n",
    "\n",
    "j = glue(\"edad estimada de un naranjo de {x}mm de circumferencia: {y}\")\n",
    "j"
   ],
   "metadata": {
    "collapsed": false,
    "pycharm": {
     "name": "#%%\n"
    }
   }
  },
  {
   "cell_type": "code",
   "execution_count": 17,
   "metadata": {},
   "outputs": [
    {
     "data": {
      "text/html": [
       "<style>\n",
       ".list-inline {list-style: none; margin:0; padding: 0}\n",
       ".list-inline>li {display: inline-block}\n",
       ".list-inline>li:not(:last-child)::after {content: \"\\00b7\"; padding: 0 .5ex}\n",
       "</style>\n",
       "<ol class=list-inline><li>'Tree'</li><li>'age'</li><li>'circumference'</li></ol>\n"
      ],
      "text/latex": [
       "\\begin{enumerate*}\n",
       "\\item 'Tree'\n",
       "\\item 'age'\n",
       "\\item 'circumference'\n",
       "\\end{enumerate*}\n"
      ],
      "text/markdown": [
       "1. 'Tree'\n",
       "2. 'age'\n",
       "3. 'circumference'\n",
       "\n",
       "\n"
      ],
      "text/plain": [
       "[1] \"Tree\"          \"age\"           \"circumference\""
      ]
     },
     "metadata": {},
     "output_type": "display_data"
    },
    {
     "data": {
      "text/html": [
       "<style>\n",
       ".dl-inline {width: auto; margin:0; padding: 0}\n",
       ".dl-inline>dt, .dl-inline>dd {float: none; width: auto; display: inline-block}\n",
       ".dl-inline>dt::after {content: \":\\0020\"; padding-right: .5ex}\n",
       ".dl-inline>dt:not(:first-of-type) {padding-left: .5ex}\n",
       "</style><dl class=dl-inline><dt>3</dt><dd>7</dd><dt>1</dt><dd>7</dd><dt>5</dt><dd>7</dd><dt>2</dt><dd>7</dd><dt>4</dt><dd>7</dd></dl>\n"
      ],
      "text/latex": [
       "\\begin{description*}\n",
       "\\item[3] 7\n",
       "\\item[1] 7\n",
       "\\item[5] 7\n",
       "\\item[2] 7\n",
       "\\item[4] 7\n",
       "\\end{description*}\n"
      ],
      "text/markdown": [
       "3\n",
       ":   71\n",
       ":   75\n",
       ":   72\n",
       ":   74\n",
       ":   7\n",
       "\n"
      ],
      "text/plain": [
       "3 1 5 2 4 \n",
       "7 7 7 7 7 "
      ]
     },
     "metadata": {},
     "output_type": "display_data"
    },
    {
     "data": {
      "text/plain": [
       "   Min. 1st Qu.  Median    Mean 3rd Qu.    Max. \n",
       "  118.0   484.0  1004.0   922.1  1372.0  1582.0 "
      ]
     },
     "metadata": {},
     "output_type": "display_data"
    },
    {
     "data": {
      "text/plain": [
       "   Min. 1st Qu.  Median    Mean 3rd Qu.    Max. \n",
       "   30.0    65.5   115.0   115.9   161.5   214.0 "
      ]
     },
     "metadata": {},
     "output_type": "display_data"
    }
   ],
   "source": [
    "# Si quisieramos predecir la edad de un naranjo a partir de una circumferencia de 150.4mm\n",
    "x<-150.4\n",
    "y<-alpha+beta*x\n",
    "\n",
    "j = glue(\"edad estimada de un naranjo de {x}mm de circumferencia: {y}\")\n",
    "j"
   ]
  },
  {
   "cell_type": "code",
   "execution_count": 4,
   "metadata": {},
   "outputs": [
    {
     "data": {
      "text/html": [
       "922.142857142857"
      ],
      "text/latex": [
       "922.142857142857"
      ],
      "text/markdown": [
       "922.142857142857"
      ],
      "text/plain": [
       "[1] 922.1429"
      ]
     },
     "metadata": {},
     "output_type": "display_data"
    }
   ],
   "source": [
    "mean(Orange$age)"
   ]
  },
  {
   "cell_type": "code",
   "execution_count": 6,
   "metadata": {},
   "outputs": [
    {
     "data": {
      "text/html": [
       "57.4881792745476"
      ],
      "text/latex": [
       "57.4881792745476"
      ],
      "text/markdown": [
       "57.4881792745476"
      ],
      "text/plain": [
       "[1] 57.48818"
      ]
     },
     "metadata": {},
     "output_type": "display_data"
    }
   ],
   "source": [
    "sd(Orange$circumference)"
   ]
  },
  {
   "cell_type": "code",
   "execution_count": 8,
   "metadata": {},
   "outputs": [
    {
     "data": {
      "text/html": [
       "1004"
      ],
      "text/latex": [
       "1004"
      ],
      "text/markdown": [
       "1004"
      ],
      "text/plain": [
       "[1] 1004"
      ]
     },
     "metadata": {},
     "output_type": "display_data"
    }
   ],
   "source": [
    "edades3<-Orange[which(Orange$Tree==3),]\n",
    "median(edades3$age)"
   ]
  },
  {
   "cell_type": "code",
   "execution_count": 78,
   "metadata": {},
   "outputs": [
    {
     "data": {
      "text/plain": [
       "\n",
       "Call:\n",
       "lm(formula = age ~ circumference, data = Orange)\n",
       "\n",
       "Coefficients:\n",
       "  (Intercept)  circumference  \n",
       "       16.604          7.816  \n"
      ]
     },
     "metadata": {},
     "output_type": "display_data"
    },
    {
     "data": {
      "image/png": "[encoded data removed]",
      "text/plain": [
       "plot without title"
      ]
     },
     "metadata": {
      "image/png": {
       "height": 420,
       "width": 420
      },
      "text/plain": {
       "height": 420,
       "width": 420
      }
     },
     "output_type": "display_data"
    }
   ],
   "source": [
    "# Hallar la recta de regresion que permite predecir la edad de un naranjo usando la circunferencia del tronco\n",
    "ajuste1<-(lm.fit=lm(age~circumference,data=Orange))\n",
    "\n",
    "# recta de regresion > y = alpha + beta.x \n",
    "# donde alpha es el primer numero que da y beta el segundo\n",
    "ajuste1\n",
    "\n",
    "# hacemos el plot \n",
    "with(data=Orange, plot(circumference, age))\n",
    "\n",
    "# dibujamos la recta de regresion lineal encima\n",
    "abline(ajuste1$coefficients)"
   ]
  },
  {
   "cell_type": "code",
   "execution_count": 79,
   "metadata": {},
   "outputs": [
    {
     "name": "stdout",
     "output_type": "stream",
     "text": [
      "alpha: 16.60361\n",
      "beta: 7.815998"
     ]
    },
    {
     "data": {
      "text/html": [
       "'recta regresion: y = 16.6036088608173 + 7.81599844386471x'"
      ],
      "text/latex": [
       "'recta regresion: y = 16.6036088608173 + 7.81599844386471x'"
      ],
      "text/markdown": [
       "'recta regresion: y = 16.6036088608173 + 7.81599844386471x'"
      ],
      "text/plain": [
       "recta regresion: y = 16.6036088608173 + 7.81599844386471x"
      ]
     },
     "metadata": {},
     "output_type": "display_data"
    }
   ],
   "source": [
    "# Haciendolo a mano \n",
    "# El mejor predictor lineal de Y basado en X segun el criterio del ECM es:\n",
    "# recta de regresion > y = alpha + beta.x \n",
    "\n",
    "# definimos nuestras variables\n",
    "X<-Orange$circumference\n",
    "Y<-Orange$age\n",
    "\n",
    "mean_X<-mean(X)\n",
    "sd_X<-sd(X)\n",
    "mean_Y<-mean(Y)\n",
    "sd_Y<-sd(Y)\n",
    "corr_XY<-cor(X,Y)\n",
    "\n",
    "# coeficientes de la recta\n",
    "alpha = mean_Y - (sd_Y/sd_X)*corr_XY*mean_X\n",
    "beta = (sd_Y/sd_X)*corr_XY\n",
    "\n",
    "cat(\"alpha:\",alpha)\n",
    "cat(\"\\nbeta:\",beta)\n",
    "library(glue)\n",
    "i = glue(\"recta regresion: y = {alpha} + {beta}x\")\n",
    "i"
   ]
  },
  {
   "cell_type": "code",
   "execution_count": 77,
   "metadata": {},
   "outputs": [
    {
     "data": {
      "text/html": [
       "'edad estimada de un naranjo de 150.4mm de circumferencia: 1192.12977481807'"
      ],
      "text/latex": [
       "'edad estimada de un naranjo de 150.4mm de circumferencia: 1192.12977481807'"
      ],
      "text/markdown": [
       "'edad estimada de un naranjo de 150.4mm de circumferencia: 1192.12977481807'"
      ],
      "text/plain": [
       "edad estimada de un naranjo de 150.4mm de circumferencia: 1192.12977481807"
      ]
     },
     "metadata": {},
     "output_type": "display_data"
    }
   ],
   "source": [
    "# Si quisieramos predecir la edad de un naranjo a partir de una circumferencia de 150.4mm\n",
    "x<-150.4\n",
    "y<-alpha+beta*x\n",
    "\n",
    "j = glue(\"edad estimada de un naranjo de {x}mm de circumferencia: {y}\")\n",
    "j"
   ]
  }
 ],
 "metadata": {
  "kernelspec": {
   "display_name": "R",
   "language": "R",
   "name": "ir"
  },
  "language_info": {
   "codemirror_mode": "r",
   "file_extension": ".r",
   "mimetype": "text/x-r-source",
   "name": "R",
   "pygments_lexer": "r",
   "version": "3.6.1"
  }
 },
 "nbformat": 4,
 "nbformat_minor": 1
}