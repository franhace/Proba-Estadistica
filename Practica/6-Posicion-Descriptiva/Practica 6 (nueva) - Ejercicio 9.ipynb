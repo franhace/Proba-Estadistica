{
 "cells": [
  {
   "cell_type": "code",
   "execution_count": 40,
   "metadata": {},
   "outputs": [
    {
     "data": {
      "text/html": [
       "'CALLE.NUMERO.ID_ZONAPRO.OPERACION.TIPO.M2.M2CUB.PRECIOTEXT.PRECIOARS.PRECIOARSM.DOLARES.U_S_M2.AMBIENTES.ANTIGUEDAD.BAÑOS.DIRECCION.LOCATION.PUBLICADO.PROCESADO.URL.REVISION.NOTA.DIRECCION_NORMALIZADA.BARRIO.COMUNA.CODIGO_POSTAL.CODIGO_POSTAL_ARGENTINO.LATITUD.LONGITUD'"
      ],
      "text/latex": [
       "'CALLE.NUMERO.ID\\_ZONAPRO.OPERACION.TIPO.M2.M2CUB.PRECIOTEXT.PRECIOARS.PRECIOARSM.DOLARES.U\\_S\\_M2.AMBIENTES.ANTIGUEDAD.BAÑOS.DIRECCION.LOCATION.PUBLICADO.PROCESADO.URL.REVISION.NOTA.DIRECCION\\_NORMALIZADA.BARRIO.COMUNA.CODIGO\\_POSTAL.CODIGO\\_POSTAL\\_ARGENTINO.LATITUD.LONGITUD'"
      ],
      "text/markdown": [
       "'CALLE.NUMERO.ID_ZONAPRO.OPERACION.TIPO.M2.M2CUB.PRECIOTEXT.PRECIOARS.PRECIOARSM.DOLARES.U_S_M2.AMBIENTES.ANTIGUEDAD.BAÑOS.DIRECCION.LOCATION.PUBLICADO.PROCESADO.URL.REVISION.NOTA.DIRECCION_NORMALIZADA.BARRIO.COMUNA.CODIGO_POSTAL.CODIGO_POSTAL_ARGENTINO.LATITUD.LONGITUD'"
      ],
      "text/plain": [
       "[1] \"CALLE.NUMERO.ID_ZONAPRO.OPERACION.TIPO.M2.M2CUB.PRECIOTEXT.PRECIOARS.PRECIOARSM.DOLARES.U_S_M2.AMBIENTES.ANTIGUEDAD.BAÑOS.DIRECCION.LOCATION.PUBLICADO.PROCESADO.URL.REVISION.NOTA.DIRECCION_NORMALIZADA.BARRIO.COMUNA.CODIGO_POSTAL.CODIGO_POSTAL_ARGENTINO.LATITUD.LONGITUD\""
      ]
     },
     "metadata": {},
     "output_type": "display_data"
    },
    {
     "ename": "ERROR",
     "evalue": "Error in deptos$CALLE$NUMERO: $ operator is invalid for atomic vectors\n",
     "output_type": "error",
     "traceback": [
      "Error in deptos$CALLE$NUMERO: $ operator is invalid for atomic vectors\nTraceback:\n"
     ]
    }
   ],
   "source": [
    "deptos <- read.csv(\"./Datos/departamentos.csv\",header=TRUE)\n",
    "# ciudades\n",
    "# View(ciudades)\n",
    "colnames(deptos)\n",
    "deptos$CALLE\n"
   ]
  }
 ],
 "metadata": {
  "kernelspec": {
   "display_name": "R",
   "language": "R",
   "name": "ir"
  },
  "language_info": {
   "codemirror_mode": "r",
   "file_extension": ".r",
   "mimetype": "text/x-r-source",
   "name": "R",
   "pygments_lexer": "r",
   "version": "3.6.3"
  }
 },
 "nbformat": 4,
 "nbformat_minor": 1
}