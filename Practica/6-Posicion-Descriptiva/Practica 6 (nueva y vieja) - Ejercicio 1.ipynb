{
 "cells": [
  {
   "cell_type": "code",
   "execution_count": 23,
   "metadata": {},
   "outputs": [
    {
     "data": {
      "text/plain": [
       "           fabrica\n",
       "defectuosos   0   1\n",
       "          0  48   2\n",
       "          1  45  17\n",
       "          2  26  83\n",
       "          3   9 144\n",
       "          4   0 126"
      ]
     },
     "metadata": {},
     "output_type": "display_data"
    }
   ],
   "source": [
    "# Ej 1 nueva\n",
    "alfajores <- read.table(\"Datos/alfajores.txt\", header = TRUE)\n",
    "table(alfajores)"
   ]
  },
  {
   "cell_type": "code",
   "execution_count": 24,
   "metadata": {},
   "outputs": [
    {
     "data": {
      "text/html": [
       "15"
      ],
      "text/latex": [
       "15"
      ],
      "text/markdown": [
       "15"
      ],
      "text/plain": [
       "[1] 15"
      ]
     },
     "metadata": {},
     "output_type": "display_data"
    },
    {
     "data": {
      "text/plain": [
       "   Min. 1st Qu.  Median    Mean 3rd Qu.    Max. \n",
       "  181.0   190.5   197.0   199.2   209.0   220.0 "
      ]
     },
     "metadata": {},
     "output_type": "display_data"
    }
   ],
   "source": [
    "# Ej 3 p6 vieja\n",
    "pesos<-c(210,197,187,217,194,208,220,199,193,201,181,212,188,196,185)\n",
    "(length(pesos))\n",
    "summary(pesos)"
   ]
  },
  {
   "cell_type": "code",
   "execution_count": 30,
   "metadata": {},
   "outputs": [
    {
     "data": {
      "text/html": [
       "133.226666666676"
      ],
      "text/latex": [
       "133.226666666676"
      ],
      "text/markdown": [
       "133.226666666676"
      ],
      "text/plain": [
       "[1] 133.2267"
      ]
     },
     "metadata": {},
     "output_type": "display_data"
    },
    {
     "data": {
      "text/html": [
       "133.226666666667"
      ],
      "text/latex": [
       "133.226666666667"
      ],
      "text/markdown": [
       "133.226666666667"
      ],
      "text/plain": [
       "[1] 133.2267"
      ]
     },
     "metadata": {},
     "output_type": "display_data"
    },
    {
     "data": {
      "text/html": [
       "133.226666666667"
      ],
      "text/latex": [
       "133.226666666667"
      ],
      "text/markdown": [
       "133.226666666667"
      ],
      "text/plain": [
       "[1] 133.2267"
      ]
     },
     "metadata": {},
     "output_type": "display_data"
    },
    {
     "data": {
      "text/html": [
       "142.742857142857"
      ],
      "text/latex": [
       "142.742857142857"
      ],
      "text/markdown": [
       "142.742857142857"
      ],
      "text/plain": [
       "[1] 142.7429"
      ]
     },
     "metadata": {},
     "output_type": "display_data"
    },
    {
     "data": {
      "text/html": [
       "142.742857142857"
      ],
      "text/latex": [
       "142.742857142857"
      ],
      "text/markdown": [
       "142.742857142857"
      ],
      "text/plain": [
       "[1] 142.7429"
      ]
     },
     "metadata": {},
     "output_type": "display_data"
    }
   ],
   "source": [
    "mean(pesos^2)-mean(pesos)^2\n",
    "mean((pesos-mean(pesos))^2)\n",
    "# Estimacion de la varianza a partir del estimador \\hat{sigma}²\n",
    "sum((pesos-mean(pesos))^2)/(n)\n",
    "\n",
    "# Varianza Muestral S²\n",
    "n<-15\n",
    "sum((pesos-mean(pesos))^2)/(n-1)\n",
    "\n",
    "var(pesos)"
   ]
  }
 ],
 "metadata": {
  "kernelspec": {
   "display_name": "R",
   "language": "R",
   "name": "ir"
  },
  "language_info": {
   "codemirror_mode": "r",
   "file_extension": ".r",
   "mimetype": "text/x-r-source",
   "name": "R",
   "pygments_lexer": "r",
   "version": "3.6.1"
  }
 },
 "nbformat": 4,
 "nbformat_minor": 1
}