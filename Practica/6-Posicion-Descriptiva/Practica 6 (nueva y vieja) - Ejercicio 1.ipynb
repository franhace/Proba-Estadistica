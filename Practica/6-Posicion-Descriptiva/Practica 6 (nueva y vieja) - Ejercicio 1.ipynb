{
 "cells": [
  {
   "cell_type": "code",
   "execution_count": 28,
   "metadata": {},
   "outputs": [
    {
     "data": {
      "text/html": [
       "<style>\n",
       ".list-inline {list-style: none; margin:0; padding: 0}\n",
       ".list-inline>li {display: inline-block}\n",
       ".list-inline>li:not(:last-child)::after {content: \"\\00b7\"; padding: 0 .5ex}\n",
       "</style>\n",
       "<ol class=list-inline><li>'defectuosos'</li><li>'fabrica'</li></ol>\n"
      ],
      "text/latex": [
       "\\begin{enumerate*}\n",
       "\\item 'defectuosos'\n",
       "\\item 'fabrica'\n",
       "\\end{enumerate*}\n"
      ],
      "text/markdown": [
       "1. 'defectuosos'\n",
       "2. 'fabrica'\n",
       "\n",
       "\n"
      ],
      "text/plain": [
       "[1] \"defectuosos\" \"fabrica\"    "
      ]
     },
     "metadata": {},
     "output_type": "display_data"
    },
    {
     "data": {
      "text/plain": [
       "           fabrica\n",
       "defectuosos   0   1\n",
       "          0  48   2\n",
       "          1  45  17\n",
       "          2  26  83\n",
       "          3   9 144\n",
       "          4   0 126"
      ]
     },
     "metadata": {},
     "output_type": "display_data"
    }
   ],
   "source": [
    "# Ej 1 nueva\n",
    "alfajores <- read.table(\"Datos/alfajores.txt\", header = TRUE)\n",
    "colnames(alfajores)"
   ]
  },
  {
   "cell_type": "code",
   "execution_count": 36,
   "metadata": {},
   "outputs": [
    {
     "data": {
      "text/html": [
       "128"
      ],
      "text/latex": [
       "128"
      ],
      "text/markdown": [
       "128"
      ],
      "text/plain": [
       "[1] 128"
      ]
     },
     "metadata": {},
     "output_type": "display_data"
    },
    {
     "data": {
      "text/html": [
       "500"
      ],
      "text/latex": [
       "500"
      ],
      "text/markdown": [
       "500"
      ],
      "text/plain": [
       "[1] 500"
      ]
     },
     "metadata": {},
     "output_type": "display_data"
    },
    {
     "name": "stdout",
     "output_type": "stream",
     "text": [
      "Proba que una caja venga de sede Quilmes: 0.256"
     ]
    }
   ],
   "source": [
    "# a) Proba que una caja venga de sede Quilmes\n",
    "# Quilmes(Y = 0) o Pilar (Y = 1)\n",
    "\n",
    "sede_quilmes<-alfajores[which(alfajores$fabrica==0),]\n",
    "sede_pilar<-alfajores[which(alfajores$fabrica==1),]\n",
    "\n",
    "nrow(sede_quilmes)\n",
    "nrow(alfajores)\n",
    "\n",
    "proporcion_cajas_quilmes<-nrow(sede_quilmes)/nrow(alfajores)\n",
    "cat(\"Proba que una caja venga de sede Quilmes:\", proporcion_cajas_quilmes)\n",
    "# sum(alfajores$defectuosos)\n",
    "# sum(sede_quilmes$defectuosos)\n",
    "# sum(sede_pilar$defectuosos)"
   ]
  },
  {
   "cell_type": "code",
   "execution_count": 73,
   "metadata": {},
   "outputs": [
    {
     "data": {
      "text/html": [
       "9"
      ],
      "text/latex": [
       "9"
      ],
      "text/markdown": [
       "9"
      ],
      "text/plain": [
       "[1] 9"
      ]
     },
     "metadata": {},
     "output_type": "display_data"
    },
    {
     "name": "stdout",
     "output_type": "stream",
     "text": [
      "La probabilidad de que una caja sea producida por la sede Quilmes y tenga 3 alfajores defectuosos: 0.018"
     ]
    }
   ],
   "source": [
    "# b) la probabilidad de que una caja sea producida por la sede Quilmes y tenga 3 alfajores defectuosos.\n",
    "# Seria la proba cond P(X>=3|Y=0)=P(X>=3,Y=0)/P(Y=0)\n",
    "sede_quilmes_3_mal<-alfajores[which(alfajores$fabrica==0 & alfajores$defectuosos>=3),]\n",
    "nrow(sede_quilmes_3_mal)\n",
    "p_quilmes_3_mal<-proporcion_cajas_quilmes*(nrow(sede_quilmes_3_mal)/nrow(sede_quilmes)\n",
    ")\n",
    "cat(\"La probabilidad de que una caja sea producida por la sede Quilmes y tenga 3 alfajores defectuosos:\",p_quilmes_3_mal)"
   ]
  },
  {
   "cell_type": "code",
   "execution_count": 84,
   "metadata": {},
   "outputs": [
    {
     "data": {
      "text/plain": [
       "   \n",
       "        0     1     2     3     4\n",
       "  0 0.096 0.090 0.052 0.018 0.000\n",
       "  1 0.004 0.034 0.166 0.288 0.252"
      ]
     },
     "metadata": {},
     "output_type": "display_data"
    },
    {
     "data": {
      "image/png": "[encoded data removed]",
      "text/plain": [
       "Plot with title “Histogram of a[2]”"
      ]
     },
     "metadata": {
      "image/png": {
       "height": 420,
       "width": 420
      },
      "text/plain": {
       "height": 420,
       "width": 420
      }
     },
     "output_type": "display_data"
    }
   ],
   "source": [
    "# c) la funcion de probabilidad puntual conjunta del vector (X,Y).\n",
    "# X: cantidad de alfajores defectuosos\n",
    "# Y: sede\n",
    "fpp = as.table(table(alfajores$fabrica,alfajores$defectuosos))\n",
    "a<-prop.table(fpp)\n",
    "a"
   ]
  },
  {
   "cell_type": "code",
   "execution_count": 68,
   "metadata": {},
   "outputs": [
    {
     "data": {
      "text/html": [
       "2.486"
      ],
      "text/latex": [
       "2.486"
      ],
      "text/markdown": [
       "2.486"
      ],
      "text/plain": [
       "[1] 2.486"
      ]
     },
     "metadata": {},
     "output_type": "display_data"
    },
    {
     "data": {
      "text/html": [
       "1.60501402805611"
      ],
      "text/latex": [
       "1.60501402805611"
      ],
      "text/markdown": [
       "1.60501402805611"
      ],
      "text/plain": [
       "[1] 1.605014"
      ]
     },
     "metadata": {},
     "output_type": "display_data"
    },
    {
     "data": {
      "text/html": [
       "1.26689148235203"
      ],
      "text/latex": [
       "1.26689148235203"
      ],
      "text/markdown": [
       "1.26689148235203"
      ],
      "text/plain": [
       "[1] 1.266891"
      ]
     },
     "metadata": {},
     "output_type": "display_data"
    }
   ],
   "source": [
    "# d) la esperanza y la varianza de X.\n",
    "mean(alfajores$defectuosos)\n",
    "var(alfajores$defectuosos)\n"
   ]
  },
  {
   "cell_type": "code",
   "execution_count": 20,
   "metadata": {},
   "outputs": [
    {
     "ename": "ERROR",
     "evalue": "Error in hist.default(alfajores, prob = TRUE): 'x' must be numeric\n",
     "output_type": "error",
     "traceback": [
      "Error in hist.default(alfajores, prob = TRUE): 'x' must be numeric\nTraceback:\n",
      "1. hist(alfajores, prob = TRUE)",
      "2. hist.default(alfajores, prob = TRUE)",
      "3. stop(\"'x' must be numeric\")"
     ]
    }
   ],
   "source": [
    "par(mfrow=c(2,2))\n",
    "\n",
    "hist(alfajores, prob=TRUE)\n",
    "\n",
    "boxplot(alfajores)\n",
    "\n",
    "qqnorm(alfajores)\n",
    "\n",
    "qqline(alfajores)"
   ]
  },
  {
   "cell_type": "code",
   "execution_count": null,
   "metadata": {},
   "outputs": [],
   "source": []
  },
  {
   "cell_type": "code",
   "execution_count": 24,
   "metadata": {},
   "outputs": [
    {
     "data": {
      "text/html": [
       "15"
      ],
      "text/latex": [
       "15"
      ],
      "text/markdown": [
       "15"
      ],
      "text/plain": [
       "[1] 15"
      ]
     },
     "metadata": {},
     "output_type": "display_data"
    },
    {
     "data": {
      "text/plain": [
       "   Min. 1st Qu.  Median    Mean 3rd Qu.    Max. \n",
       "  181.0   190.5   197.0   199.2   209.0   220.0 "
      ]
     },
     "metadata": {},
     "output_type": "display_data"
    }
   ],
   "source": [
    "# Ej 3 p6 vieja\n",
    "pesos<-c(210,197,187,217,194,208,220,199,193,201,181,212,188,196,185)\n",
    "(length(pesos))\n",
    "summary(pesos)"
   ]
  },
  {
   "cell_type": "code",
   "execution_count": 30,
   "metadata": {},
   "outputs": [
    {
     "data": {
      "text/html": [
       "133.226666666676"
      ],
      "text/latex": [
       "133.226666666676"
      ],
      "text/markdown": [
       "133.226666666676"
      ],
      "text/plain": [
       "[1] 133.2267"
      ]
     },
     "metadata": {},
     "output_type": "display_data"
    },
    {
     "data": {
      "text/html": [
       "133.226666666667"
      ],
      "text/latex": [
       "133.226666666667"
      ],
      "text/markdown": [
       "133.226666666667"
      ],
      "text/plain": [
       "[1] 133.2267"
      ]
     },
     "metadata": {},
     "output_type": "display_data"
    },
    {
     "data": {
      "text/html": [
       "133.226666666667"
      ],
      "text/latex": [
       "133.226666666667"
      ],
      "text/markdown": [
       "133.226666666667"
      ],
      "text/plain": [
       "[1] 133.2267"
      ]
     },
     "metadata": {},
     "output_type": "display_data"
    },
    {
     "data": {
      "text/html": [
       "142.742857142857"
      ],
      "text/latex": [
       "142.742857142857"
      ],
      "text/markdown": [
       "142.742857142857"
      ],
      "text/plain": [
       "[1] 142.7429"
      ]
     },
     "metadata": {},
     "output_type": "display_data"
    },
    {
     "data": {
      "text/html": [
       "142.742857142857"
      ],
      "text/latex": [
       "142.742857142857"
      ],
      "text/markdown": [
       "142.742857142857"
      ],
      "text/plain": [
       "[1] 142.7429"
      ]
     },
     "metadata": {},
     "output_type": "display_data"
    }
   ],
   "source": [
    "mean(pesos^2)-mean(pesos)^2\n",
    "mean((pesos-mean(pesos))^2)\n",
    "# Estimacion de la varianza a partir del estimador \\hat{sigma}²\n",
    "sum((pesos-mean(pesos))^2)/(n)\n",
    "\n",
    "# Varianza Muestral S²\n",
    "n<-15\n",
    "sum((pesos-mean(pesos))^2)/(n-1)\n",
    "\n",
    "var(pesos)"
   ]
  }
 ],
 "metadata": {
  "kernelspec": {
   "display_name": "R",
   "language": "R",
   "name": "ir"
  },
  "language_info": {
   "codemirror_mode": "r",
   "file_extension": ".r",
   "mimetype": "text/x-r-source",
   "name": "R",
   "pygments_lexer": "r",
   "version": "3.6.1"
  }
 },
 "nbformat": 4,
 "nbformat_minor": 1
}
