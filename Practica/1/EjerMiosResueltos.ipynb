{
 "cells": [
  {
   "cell_type": "markdown",
   "metadata": {
    "collapsed": true
   },
   "source": [
    "## Tirando Dados"
   ]
  },
  {
   "cell_type": "code",
   "execution_count": 14,
   "metadata": {},
   "outputs": [
    {
     "data": {
      "text/html": [
       "<style>\n",
       ".list-inline {list-style: none; margin:0; padding: 0}\n",
       ".list-inline>li {display: inline-block}\n",
       ".list-inline>li:not(:last-child)::after {content: \"\\00b7\"; padding: 0 .5ex}\n",
       "</style>\n",
       "<ol class=list-inline><li>1</li><li>4</li></ol>\n"
      ],
      "text/latex": [
       "\\begin{enumerate*}\n",
       "\\item 1\n",
       "\\item 4\n",
       "\\end{enumerate*}\n"
      ],
      "text/markdown": [
       "1. 1\n",
       "2. 4\n",
       "\n",
       "\n"
      ],
      "text/plain": [
       "[1] 1 4"
      ]
     },
     "metadata": {},
     "output_type": "display_data"
    },
    {
     "data": {
      "text/html": [
       "8"
      ],
      "text/latex": [
       "8"
      ],
      "text/markdown": [
       "8"
      ],
      "text/plain": [
       "[1] 8"
      ]
     },
     "metadata": {},
     "output_type": "display_data"
    }
   ],
   "source": [
    "tirar_dos_dados <- function() sample(1:6, 2, replace=TRUE)\n",
    "tirar_dos_dados_y_sumarlos <- function() sum(tirar_dos_dados())\n",
    "tirar_dos_dados()\n",
    "tirar_dos_dados_y_sumarlos()"
   ]
  },
  {
   "cell_type": "markdown",
   "metadata": {},
   "source": [
    "### Estimar probabilidad de que la suma de 2 dados sea 8"
   ]
  },
  {
   "cell_type": "code",
   "execution_count": 22,
   "metadata": {},
   "outputs": [
    {
     "data": {
      "text/html": [
       "<style>\n",
       ".list-inline {list-style: none; margin:0; padding: 0}\n",
       ".list-inline>li {display: inline-block}\n",
       ".list-inline>li:not(:last-child)::after {content: \"\\00b7\"; padding: 0 .5ex}\n",
       "</style>\n",
       "<ol class=list-inline><li>7</li><li>3</li><li>6</li><li>7</li><li>6</li><li>8</li><li>9</li><li>3</li><li>8</li><li>8</li><li>7</li><li>7</li><li>5</li><li>6</li><li>11</li><li>8</li><li>9</li><li>5</li><li>9</li><li>3</li><li>9</li><li>6</li><li>7</li><li>6</li><li>4</li><li>8</li><li>7</li><li>7</li><li>11</li><li>6</li><li>10</li><li>6</li><li>9</li><li>9</li><li>5</li><li>3</li><li>8</li><li>11</li><li>9</li><li>6</li><li>8</li><li>9</li><li>8</li><li>7</li><li>9</li><li>4</li><li>5</li><li>2</li><li>6</li><li>5</li><li>12</li><li>4</li><li>11</li><li>12</li><li>5</li><li>8</li><li>12</li><li>9</li><li>6</li><li>8</li><li>9</li><li>9</li><li>4</li><li>4</li><li>8</li><li>2</li><li>7</li><li>6</li><li>4</li><li>10</li><li>10</li><li>10</li><li>7</li><li>5</li><li>5</li><li>7</li><li>10</li><li>6</li><li>7</li><li>9</li><li>5</li><li>9</li><li>4</li><li>7</li><li>7</li><li>4</li><li>5</li><li>7</li><li>7</li><li>7</li><li>8</li><li>10</li><li>8</li><li>10</li><li>11</li><li>3</li><li>7</li><li>6</li><li>8</li><li>11</li></ol>\n"
      ],
      "text/latex": [
       "\\begin{enumerate*}\n",
       "\\item 7\n",
       "\\item 3\n",
       "\\item 6\n",
       "\\item 7\n",
       "\\item 6\n",
       "\\item 8\n",
       "\\item 9\n",
       "\\item 3\n",
       "\\item 8\n",
       "\\item 8\n",
       "\\item 7\n",
       "\\item 7\n",
       "\\item 5\n",
       "\\item 6\n",
       "\\item 11\n",
       "\\item 8\n",
       "\\item 9\n",
       "\\item 5\n",
       "\\item 9\n",
       "\\item 3\n",
       "\\item 9\n",
       "\\item 6\n",
       "\\item 7\n",
       "\\item 6\n",
       "\\item 4\n",
       "\\item 8\n",
       "\\item 7\n",
       "\\item 7\n",
       "\\item 11\n",
       "\\item 6\n",
       "\\item 10\n",
       "\\item 6\n",
       "\\item 9\n",
       "\\item 9\n",
       "\\item 5\n",
       "\\item 3\n",
       "\\item 8\n",
       "\\item 11\n",
       "\\item 9\n",
       "\\item 6\n",
       "\\item 8\n",
       "\\item 9\n",
       "\\item 8\n",
       "\\item 7\n",
       "\\item 9\n",
       "\\item 4\n",
       "\\item 5\n",
       "\\item 2\n",
       "\\item 6\n",
       "\\item 5\n",
       "\\item 12\n",
       "\\item 4\n",
       "\\item 11\n",
       "\\item 12\n",
       "\\item 5\n",
       "\\item 8\n",
       "\\item 12\n",
       "\\item 9\n",
       "\\item 6\n",
       "\\item 8\n",
       "\\item 9\n",
       "\\item 9\n",
       "\\item 4\n",
       "\\item 4\n",
       "\\item 8\n",
       "\\item 2\n",
       "\\item 7\n",
       "\\item 6\n",
       "\\item 4\n",
       "\\item 10\n",
       "\\item 10\n",
       "\\item 10\n",
       "\\item 7\n",
       "\\item 5\n",
       "\\item 5\n",
       "\\item 7\n",
       "\\item 10\n",
       "\\item 6\n",
       "\\item 7\n",
       "\\item 9\n",
       "\\item 5\n",
       "\\item 9\n",
       "\\item 4\n",
       "\\item 7\n",
       "\\item 7\n",
       "\\item 4\n",
       "\\item 5\n",
       "\\item 7\n",
       "\\item 7\n",
       "\\item 7\n",
       "\\item 8\n",
       "\\item 10\n",
       "\\item 8\n",
       "\\item 10\n",
       "\\item 11\n",
       "\\item 3\n",
       "\\item 7\n",
       "\\item 6\n",
       "\\item 8\n",
       "\\item 11\n",
       "\\end{enumerate*}\n"
      ],
      "text/markdown": [
       "1. 7\n",
       "2. 3\n",
       "3. 6\n",
       "4. 7\n",
       "5. 6\n",
       "6. 8\n",
       "7. 9\n",
       "8. 3\n",
       "9. 8\n",
       "10. 8\n",
       "11. 7\n",
       "12. 7\n",
       "13. 5\n",
       "14. 6\n",
       "15. 11\n",
       "16. 8\n",
       "17. 9\n",
       "18. 5\n",
       "19. 9\n",
       "20. 3\n",
       "21. 9\n",
       "22. 6\n",
       "23. 7\n",
       "24. 6\n",
       "25. 4\n",
       "26. 8\n",
       "27. 7\n",
       "28. 7\n",
       "29. 11\n",
       "30. 6\n",
       "31. 10\n",
       "32. 6\n",
       "33. 9\n",
       "34. 9\n",
       "35. 5\n",
       "36. 3\n",
       "37. 8\n",
       "38. 11\n",
       "39. 9\n",
       "40. 6\n",
       "41. 8\n",
       "42. 9\n",
       "43. 8\n",
       "44. 7\n",
       "45. 9\n",
       "46. 4\n",
       "47. 5\n",
       "48. 2\n",
       "49. 6\n",
       "50. 5\n",
       "51. 12\n",
       "52. 4\n",
       "53. 11\n",
       "54. 12\n",
       "55. 5\n",
       "56. 8\n",
       "57. 12\n",
       "58. 9\n",
       "59. 6\n",
       "60. 8\n",
       "61. 9\n",
       "62. 9\n",
       "63. 4\n",
       "64. 4\n",
       "65. 8\n",
       "66. 2\n",
       "67. 7\n",
       "68. 6\n",
       "69. 4\n",
       "70. 10\n",
       "71. 10\n",
       "72. 10\n",
       "73. 7\n",
       "74. 5\n",
       "75. 5\n",
       "76. 7\n",
       "77. 10\n",
       "78. 6\n",
       "79. 7\n",
       "80. 9\n",
       "81. 5\n",
       "82. 9\n",
       "83. 4\n",
       "84. 7\n",
       "85. 7\n",
       "86. 4\n",
       "87. 5\n",
       "88. 7\n",
       "89. 7\n",
       "90. 7\n",
       "91. 8\n",
       "92. 10\n",
       "93. 8\n",
       "94. 10\n",
       "95. 11\n",
       "96. 3\n",
       "97. 7\n",
       "98. 6\n",
       "99. 8\n",
       "100. 11\n",
       "\n",
       "\n"
      ],
      "text/plain": [
       "  [1]  7  3  6  7  6  8  9  3  8  8  7  7  5  6 11  8  9  5  9  3  9  6  7  6  4\n",
       " [26]  8  7  7 11  6 10  6  9  9  5  3  8 11  9  6  8  9  8  7  9  4  5  2  6  5\n",
       " [51] 12  4 11 12  5  8 12  9  6  8  9  9  4  4  8  2  7  6  4 10 10 10  7  5  5\n",
       " [76]  7 10  6  7  9  5  9  4  7  7  4  5  7  7  7  8 10  8 10 11  3  7  6  8 11"
      ]
     },
     "metadata": {},
     "output_type": "display_data"
    },
    {
     "data": {
      "text/html": [
       "0.14"
      ],
      "text/latex": [
       "0.14"
      ],
      "text/markdown": [
       "0.14"
      ],
      "text/plain": [
       "[1] 0.14"
      ]
     },
     "metadata": {},
     "output_type": "display_data"
    }
   ],
   "source": [
    "cantidad_de_eventos_simples <- 100\n",
    "eventos_simples <- replicate(cantidad_de_eventos_simples, tirar_dos_dados_y_sumarlos())\n",
    "n<-8\n",
    "\n",
    "probabilidad_estimada <- mean(eventos_simples == n)\n",
    "\n",
    "eventos_simples\n",
    "probabilidad_estimada"
   ]
  },
  {
   "cell_type": "markdown",
   "metadata": {},
   "source": [
    "### Probabilidad de que la suma de 2 dados sea n"
   ]
  },
  {
   "cell_type": "code",
   "execution_count": 35,
   "metadata": {},
   "outputs": [
    {
     "data": {
      "text/html": [
       "<style>\n",
       ".list-inline {list-style: none; margin:0; padding: 0}\n",
       ".list-inline>li {display: inline-block}\n",
       ".list-inline>li:not(:last-child)::after {content: \"\\00b7\"; padding: 0 .5ex}\n",
       "</style>\n",
       "<ol class=list-inline><li>0.0277777777777778</li><li>0.0555555555555556</li><li>0.0833333333333333</li><li>0.111111111111111</li><li>0.138888888888889</li><li>0.166666666666667</li><li>0.138888888888889</li><li>0.111111111111111</li><li>0.0833333333333333</li><li>0.0555555555555556</li><li>0.0277777777777778</li></ol>\n"
      ],
      "text/latex": [
       "\\begin{enumerate*}\n",
       "\\item 0.0277777777777778\n",
       "\\item 0.0555555555555556\n",
       "\\item 0.0833333333333333\n",
       "\\item 0.111111111111111\n",
       "\\item 0.138888888888889\n",
       "\\item 0.166666666666667\n",
       "\\item 0.138888888888889\n",
       "\\item 0.111111111111111\n",
       "\\item 0.0833333333333333\n",
       "\\item 0.0555555555555556\n",
       "\\item 0.0277777777777778\n",
       "\\end{enumerate*}\n"
      ],
      "text/markdown": [
       "1. 0.0277777777777778\n",
       "2. 0.0555555555555556\n",
       "3. 0.0833333333333333\n",
       "4. 0.111111111111111\n",
       "5. 0.138888888888889\n",
       "6. 0.166666666666667\n",
       "7. 0.138888888888889\n",
       "8. 0.111111111111111\n",
       "9. 0.0833333333333333\n",
       "10. 0.0555555555555556\n",
       "11. 0.0277777777777778\n",
       "\n",
       "\n"
      ],
      "text/plain": [
       " [1] 0.02777778 0.05555556 0.08333333 0.11111111 0.13888889 0.16666667\n",
       " [7] 0.13888889 0.11111111 0.08333333 0.05555556 0.02777778"
      ]
     },
     "metadata": {},
     "output_type": "display_data"
    },
    {
     "data": {
      "image/png": "[encoded data removed]",
      "text/plain": [
       "plot without title"
      ]
     },
     "metadata": {
      "image/png": {
       "height": 420,
       "width": 420
      },
      "text/plain": {
       "height": 420,
       "width": 420
      }
     },
     "output_type": "display_data"
    }
   ],
   "source": [
    "probabilidad_que_la_suma_sea_ene <- function(n) mean(espacio_muestral == n)\n",
    "posibles_enes <- 2:(6*2)\n",
    "probabilidades <- sapply(posibles_enes, probabilidad_que_la_suma_sea_ene)\n",
    "barplot(probabilidades, names.arg = posibles_enes, xlab = \"suma\")\n",
    "probabilidades"
   ]
  }
 ],
 "metadata": {
  "kernelspec": {
   "display_name": "R",
   "language": "R",
   "name": "ir"
  },
  "language_info": {
   "codemirror_mode": "r",
   "file_extension": ".r",
   "mimetype": "text/x-r-source",
   "name": "R",
   "pygments_lexer": "r",
   "version": "3.6.3"
  }
 },
 "nbformat": 4,
 "nbformat_minor": 1
}