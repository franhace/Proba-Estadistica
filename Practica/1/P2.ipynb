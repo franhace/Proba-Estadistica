{
 "cells": [
  {
   "cell_type": "markdown",
   "metadata": {},
   "source": [
    "### 1. De un lote que contiene 15 artı́culos, de los cuales 4 son defectuosos, se eligen 3 artı́culos al azar con reposición. Si llamamos X al número de artı́culos defectuosos entre los seleccionados"
   ]
  },
  {
   "cell_type": "code",
   "execution_count": 35,
   "metadata": {},
   "outputs": [
    {
     "data": {
      "text/html": [
       "<style>\n",
       ".list-inline {list-style: none; margin:0; padding: 0}\n",
       ".list-inline>li {display: inline-block}\n",
       ".list-inline>li:not(:last-child)::after {content: \"\\00b7\"; padding: 0 .5ex}\n",
       "</style>\n",
       "<ol class=list-inline><li>0</li><li>0</li><li>0</li><li>0</li><li>0</li><li>0</li><li>0</li><li>0</li><li>0</li><li>0</li><li>0</li><li>1</li><li>1</li><li>1</li><li>1</li></ol>\n"
      ],
      "text/latex": [
       "\\begin{enumerate*}\n",
       "\\item 0\n",
       "\\item 0\n",
       "\\item 0\n",
       "\\item 0\n",
       "\\item 0\n",
       "\\item 0\n",
       "\\item 0\n",
       "\\item 0\n",
       "\\item 0\n",
       "\\item 0\n",
       "\\item 0\n",
       "\\item 1\n",
       "\\item 1\n",
       "\\item 1\n",
       "\\item 1\n",
       "\\end{enumerate*}\n"
      ],
      "text/markdown": [
       "1. 0\n",
       "2. 0\n",
       "3. 0\n",
       "4. 0\n",
       "5. 0\n",
       "6. 0\n",
       "7. 0\n",
       "8. 0\n",
       "9. 0\n",
       "10. 0\n",
       "11. 0\n",
       "12. 1\n",
       "13. 1\n",
       "14. 1\n",
       "15. 1\n",
       "\n",
       "\n"
      ],
      "text/plain": [
       " [1] 0 0 0 0 0 0 0 0 0 0 0 1 1 1 1"
      ]
     },
     "metadata": {},
     "output_type": "display_data"
    },
    {
     "data": {
      "text/plain": [
       "simu\n",
       "      0       1       2       3       4       5 \n",
       "0.21080 0.38604 0.28019 0.10314 0.01849 0.00134 "
      ]
     },
     "metadata": {},
     "output_type": "display_data"
    },
    {
     "data": {
      "image/png": "[encoded data removed]",
      "text/plain": [
       "Plot with title “1000 sorteos”"
      ]
     },
     "metadata": {
      "image/png": {
       "height": 420,
       "width": 420
      },
      "text/plain": {
       "height": 420,
       "width": 420
      }
     },
     "output_type": "display_data"
    },
    {
     "data": {
      "image/png": "[encoded data removed]",
      "text/plain": [
       "Plot with title “1000 sorteos”"
      ]
     },
     "metadata": {
      "image/png": {
       "height": 420,
       "width": 420
      },
      "text/plain": {
       "height": 420,
       "width": 420
      }
     },
     "output_type": "display_data"
    }
   ],
   "source": [
    "# a) Hallar la función de probabilidad puntual asociada a X y graficarla usando R.\n",
    "buenos<-rep(0,11) # art bien\n",
    "malos<-rep(1,4) # arts defectuosos\n",
    "todos<-append(buenos,malos)\n",
    "todos\n",
    "\n",
    "sorteo <-function(){\n",
    "  suma <- sample(x = todos, size = 5, replace = TRUE) # tomamos una muestra y sumamos el puntaje\n",
    "  total<-sum(suma)\n",
    "  return(total)\n",
    "}\n",
    "\n",
    "n <- 100000\n",
    "simu<-replicate(n,sorteo()) # lo hacemos n veces\n",
    "\n",
    "# Tabla de probabilidad puntual\n",
    "table(simu)/length(simu)\n",
    "\n",
    "# su grafico en frec y frec rel\n",
    "plot(table(simu), xlab = 'Sum', ylab = 'Frec', main = '1000 sorteos')\n",
    "plot(table(simu)/length(simu), xlab = 'Sum', ylab = 'Frec Rel', main = '1000 sorteos')"
   ]
  },
  {
   "cell_type": "code",
   "execution_count": 33,
   "metadata": {},
   "outputs": [
    {
     "data": {
      "text/plain": [
       "simu\n",
       " FALSE   TRUE \n",
       "0.6009 0.3991 "
      ]
     },
     "metadata": {},
     "output_type": "display_data"
    }
   ],
   "source": [
    "# b) ¿Cuál es la probabilidad de que al menos 2 artı́culos sean defectuosos?\n",
    "sorteo <-function(){\n",
    "  suma <- sample(x = todos, size = 5, replace = TRUE) # tomamos una muestra y sumamos el puntaje\n",
    "  total<-sum(suma)\n",
    "\n",
    "  s <- total > 1\n",
    "  return(s)\n",
    "}\n",
    "n <- 10000\n",
    "simu<-replicate(n,sorteo()) # lo hacemos n veces\n",
    "table(simu)/length(simu)"
   ]
  }
 ],
 "metadata": {
  "kernelspec": {
   "display_name": "R",
   "language": "R",
   "name": "ir"
  },
  "language_info": {
   "codemirror_mode": "r",
   "file_extension": ".r",
   "mimetype": "text/x-r-source",
   "name": "R",
   "pygments_lexer": "r",
   "version": "3.6.3"
  }
 },
 "nbformat": 4,
 "nbformat_minor": 4
}
