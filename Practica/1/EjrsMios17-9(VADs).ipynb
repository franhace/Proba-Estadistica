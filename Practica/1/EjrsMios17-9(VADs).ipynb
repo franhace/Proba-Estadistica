{
 "cells": [
  {
   "cell_type": "markdown",
   "metadata": {},
   "source": [
    "# Ej 1"
   ]
  },
  {
   "cell_type": "code",
   "execution_count": 23,
   "metadata": {},
   "outputs": [
    {
     "name": "stdout",
     "output_type": "stream",
     "text": [
      "respuesta:  0.9992043"
     ]
    },
    {
     "data": {
      "text/html": [
       "<style>\n",
       ".list-inline {list-style: none; margin:0; padding: 0}\n",
       ".list-inline>li {display: inline-block}\n",
       ".list-inline>li:not(:last-child)::after {content: \"\\00b7\"; padding: 0 .5ex}\n",
       "</style>\n",
       "<ol class=list-inline><li>0</li><li>1</li><li>2</li><li>3</li><li>4</li><li>5</li><li>6</li></ol>\n"
      ],
      "text/latex": [
       "\\begin{enumerate*}\n",
       "\\item 0\n",
       "\\item 1\n",
       "\\item 2\n",
       "\\item 3\n",
       "\\item 4\n",
       "\\item 5\n",
       "\\item 6\n",
       "\\end{enumerate*}\n"
      ],
      "text/markdown": [
       "1. 0\n",
       "2. 1\n",
       "3. 2\n",
       "4. 3\n",
       "5. 4\n",
       "6. 5\n",
       "7. 6\n",
       "\n",
       "\n"
      ],
      "text/plain": [
       "[1] 0 1 2 3 4 5 6"
      ]
     },
     "metadata": {},
     "output_type": "display_data"
    },
    {
     "data": {
      "text/html": [
       "<style>\n",
       ".list-inline {list-style: none; margin:0; padding: 0}\n",
       ".list-inline>li {display: inline-block}\n",
       ".list-inline>li:not(:last-child)::after {content: \"\\00b7\"; padding: 0 .5ex}\n",
       "</style>\n",
       "<ol class=list-inline><li>0.999973191246668</li><li>0.999204260414102</li><li>0.990014870261911</li><li>0.931443574262973</li><li>0.721450242798572</li><li>0.319913861015774</li><li>0</li></ol>\n"
      ],
      "text/latex": [
       "\\begin{enumerate*}\n",
       "\\item 0.999973191246668\n",
       "\\item 0.999204260414102\n",
       "\\item 0.990014870261911\n",
       "\\item 0.931443574262973\n",
       "\\item 0.721450242798572\n",
       "\\item 0.319913861015774\n",
       "\\item 0\n",
       "\\end{enumerate*}\n"
      ],
      "text/markdown": [
       "1. 0.999973191246668\n",
       "2. 0.999204260414102\n",
       "3. 0.990014870261911\n",
       "4. 0.931443574262973\n",
       "5. 0.721450242798572\n",
       "6. 0.319913861015774\n",
       "7. 0\n",
       "\n",
       "\n"
      ],
      "text/plain": [
       "[1] 0.9999732 0.9992043 0.9900149 0.9314436 0.7214502 0.3199139 0.0000000"
      ]
     },
     "metadata": {},
     "output_type": "display_data"
    },
    {
     "data": {
      "image/png": "[encoded data removed]",
      "text/plain": [
       "plot without title"
      ]
     },
     "metadata": {
      "image/png": {
       "height": 420,
       "width": 420
      },
      "text/plain": {
       "height": 420,
       "width": 420
      }
     },
     "output_type": "display_data"
    }
   ],
   "source": [
    "# Manu tiene un promedio de dobles de 0.827\n",
    "\n",
    "# a) si tira 6 veces, proba de que meta al menos 2?\n",
    "\n",
    "promedio_dobles <- 0.827\n",
    "cant_tiros <- 6\n",
    "num <- 1 # elegimos 1 pq tiene que ser menor a 2\n",
    "\n",
    "# x = tiros encestados en 6\n",
    "# queremos calcular P(X>=2) := 1-P(X<2)\n",
    "cat(\"respuesta: \", 1-pbinom(num,cant_tiros,promedio_dobles))\n",
    "\n",
    "# miramos que pasa para distintos n's\n",
    "enes <- seq(0,cant_tiros,1)\n",
    "enes\n",
    "\n",
    "proba_tiros <- function(n){\n",
    "    1-pbinom(n,cant_tiros,promedio_dobles)\n",
    "\n",
    "}\n",
    "proba_enes_tiros <- sapply(enes, proba_tiros)\n",
    "proba_enes_tiros\n",
    "plot(enes,proba_enes_tiros,type=\"l\")"
   ]
  },
  {
   "cell_type": "code",
   "execution_count": 28,
   "metadata": {},
   "outputs": [
    {
     "data": {
      "text/html": [
       "0.000895745040999985"
      ],
      "text/latex": [
       "0.000895745040999985"
      ],
      "text/markdown": [
       "0.000895745040999985"
      ],
      "text/plain": [
       "[1] 0.000895745"
      ]
     },
     "metadata": {},
     "output_type": "display_data"
    },
    {
     "data": {
      "text/html": [
       "0.000895745041000001"
      ],
      "text/latex": [
       "0.000895745041000001"
      ],
      "text/markdown": [
       "0.000895745041000001"
      ],
      "text/plain": [
       "[1] 0.000895745"
      ]
     },
     "metadata": {},
     "output_type": "display_data"
    }
   ],
   "source": [
    "# b) Cual   es   la   probabilidad   que   la   primera   vez   que   la   emboca   sealuego   del   tiro   4?\n",
    "# seria proba de que no emboque ninguno de los 4?\n",
    "# Y = cantidad de tiros hasta , geometrica\n",
    "# P (Y>4) := 1 - P(Y<=4) := (1-p)⁴ \n",
    "1- pgeom(3,promedio_dobles)\n",
    "(1-promedio_dobles)**4"
   ]
  },
  {
   "cell_type": "code",
   "execution_count": 38,
   "metadata": {},
   "outputs": [
    {
     "data": {
      "text/html": [
       "0.00479122032142625"
      ],
      "text/latex": [
       "0.00479122032142625"
      ],
      "text/markdown": [
       "0.00479122032142625"
      ],
      "text/plain": [
       "[1] 0.00479122"
      ]
     },
     "metadata": {},
     "output_type": "display_data"
    }
   ],
   "source": [
    "# c) Si   Manu   juega   hasta   que   emboca   al   aro   5   veces,   cuál   es   laprobabilidad   de   que   deje   de   jugar   luego   de   hacer   11   tiros?\n",
    "# Z = 'cant tiros hasta 5to acierto'\n",
    "# P(Z=11)\n",
    "# rsta = 0,00109\n",
    "exitos <- 5\n",
    "intentos <- 11\n",
    "db(exitos,intentos,promedio_dobles)"
   ]
  },
  {
   "cell_type": "markdown",
   "metadata": {},
   "source": [
    "# Ej 2"
   ]
  },
  {
   "cell_type": "code",
   "execution_count": 58,
   "metadata": {},
   "outputs": [
    {
     "data": {
      "text/html": [
       "1"
      ],
      "text/latex": [
       "1"
      ],
      "text/markdown": [
       "1"
      ],
      "text/plain": [
       "[1] 1"
      ]
     },
     "metadata": {},
     "output_type": "display_data"
    },
    {
     "data": {
      "text/html": [
       "3.37990289860197e-39"
      ],
      "text/latex": [
       "3.37990289860197e-39"
      ],
      "text/markdown": [
       "3.37990289860197e-39"
      ],
      "text/plain": [
       "[1] 3.379903e-39"
      ]
     },
     "metadata": {},
     "output_type": "display_data"
    }
   ],
   "source": [
    "# El mercado   aéreo   estima   que   el 5% de   las   personas   que   hacen reservas   en   un   cierto   vuelo   no   viajan.   Por   ello,   la   política   de   ventasde   la   aerolíneas   es   sobrevender   según   esa   estimación.   Se   tiene   unvuelo  de  50  pasajeros  y  se  vendieron  52  pasajes  (y  esto  es  legal!).\n",
    "# (a)Cuál   es   la   probabilidad   de   que   haya   un   asiento   disponible   paracada   pasajero   que   se   presente   de   un   vuelo?\n",
    "# X = 'cant de personas que se presentan'\n",
    "# X~Bi(52,0.95)\n",
    "# P(X<=50) := 1 - P(X>50) := 1 - P(X=51) - P(X=52)\n",
    "# Rx={0,..,52}\n",
    "proba <- 0.95\n",
    "1-dnbinom(51,50,proba)-dnbinom(52,50,proba)\n",
    "dnbinom(51,50,proba)\n",
    "# rsta=0.741"
   ]
  },
  {
   "cell_type": "code",
   "execution_count": 55,
   "metadata": {},
   "outputs": [
    {
     "data": {
      "text/html": [
       "0.740503070879285"
      ],
      "text/latex": [
       "0.740503070879285"
      ],
      "text/markdown": [
       "0.740503070879285"
      ],
      "text/plain": [
       "[1] 0.7405031"
      ]
     },
     "metadata": {},
     "output_type": "display_data"
    },
    {
     "data": {
      "text/html": [
       "0.190054088933481"
      ],
      "text/latex": [
       "0.190054088933481"
      ],
      "text/markdown": [
       "0.190054088933481"
      ],
      "text/plain": [
       "[1] 0.1900541"
      ]
     },
     "metadata": {},
     "output_type": "display_data"
    },
    {
     "data": {
      "text/html": [
       "0.0694428401872336"
      ],
      "text/latex": [
       "0.0694428401872336"
      ],
      "text/markdown": [
       "0.0694428401872336"
      ],
      "text/plain": [
       "[1] 0.06944284"
      ]
     },
     "metadata": {},
     "output_type": "display_data"
    },
    {
     "name": "stdout",
     "output_type": "stream",
     "text": [
      "esperanza de y: 0.3289398\n",
      "varianza de y: 0.3596241"
     ]
    }
   ],
   "source": [
    "# b) Cuál   es   la   esperanza   del   número   de   pasajeros   que   se   queda   sinviajar?   Y   la   varianza?\n",
    "# Y='cant de pasajeros que se quedan sin viajar'\n",
    "# Ry={0,1,2}\n",
    "# P(Y=0) := P(X<=50) pbinom(50,52,0.95)\n",
    "# P(Y=1) := P(X=51) dbinom(51,52,0.95)\n",
    "# P(Y=2) := P(X=52) dbinom(52,52,0.95)\n",
    "pbinom(50,52,0.95)\n",
    "dbinom(51,52,0.95)\n",
    "dbinom(52,52,0.95)\n",
    "E_Y <- 0*pbinom(50,52,0.95) + 1*dbinom(51,52,0.95) + 2*dbinom(52,52,0.95)\n",
    "cat(\"esperanza de y:\",E_Y)\n",
    "E_Y_2 <- 0*pbinom(50,52,0.95) + (1**2)*dbinom(51,52,0.95) + (2**2)*dbinom(52,52,0.95)\n",
    "V_Y <- E_Y_2-(E_Y)**2\n",
    "cat(\"\\nvarianza de y:\",V_Y)\n"
   ]
  },
  {
   "cell_type": "code",
   "execution_count": 59,
   "metadata": {},
   "outputs": [],
   "source": [
    "# (c)Cuando   se   presentan   más   de   50   pasajeros   al   vuelo,   las aerolíneas   deben   solventar  \n",
    "# el   daño,   y   ofrecen   a   todos   lospasajeros   del   vuelo   cambiarlo   por   otro   a   cambio   \n",
    "# de   ciertarecompensa.   Ximena   viaja(ba)   una   vez   por   año.   Cuál   es   laprobabilidad   de  \n",
    "# que   le   ofrezcan   recompensa   antes   del   quintoaño?   Y   de   que   le   ofrezcan   por   segunda  \n",
    "# vez   recompensa   en   elcuarto   año?\n",
    "\n",
    "# P = 'proba de que me ofrezcan recompensa' := P(X>50) = 1 - 0.741 = 0.259\n",
    "# Z='primer año en que me ofrecen recompensa'\n",
    "# Z~Ge(p) := 1-P(Z>=5) = 1 - 0.741**4\n",
    "# rsta = 0.6985"
   ]
  },
  {
   "cell_type": "markdown",
   "metadata": {},
   "source": [
    "# Ej 3 "
   ]
  },
  {
   "cell_type": "code",
   "execution_count": 78,
   "metadata": {},
   "outputs": [
    {
     "data": {
      "text/html": [
       "0.407224958949097"
      ],
      "text/latex": [
       "0.407224958949097"
      ],
      "text/markdown": [
       "0.407224958949097"
      ],
      "text/plain": [
       "[1] 0.407225"
      ]
     },
     "metadata": {},
     "output_type": "display_data"
    },
    {
     "data": {
      "text/html": [
       "0.407224958949097"
      ],
      "text/latex": [
       "0.407224958949097"
      ],
      "text/markdown": [
       "0.407224958949097"
      ],
      "text/plain": [
       "[1] 0.407225"
      ]
     },
     "metadata": {},
     "output_type": "display_data"
    }
   ],
   "source": [
    "# a)Para   el   final   de   Análisis   1,   Ximena   tiene   que   estudiar   lademostración   de   20   teoremas.  \n",
    "# Decide   que   sólo   va   a   estudiarla   mitad.   Si   en   el   final   le   toman   4   teoremas,   y  \n",
    "# para   aprobar tiene   que   saber   hacer   2   bien,   cuál   es   la   probabilidad  \n",
    "# de   que Ximena   apruebe?\n",
    "# X='cantidad teos que se del examen'\n",
    "# P(X>=2) =  1 - P(X<2)\n",
    "# X~HG(20,10,4) \n",
    "# rsta=0.7097\n",
    "1-(dhyper(0,10,20,4) + dhyper(1,10,20,4))\n",
    "1-phyper(1,10,20,4)\n",
    "# 1-pbinom(100,4,0.5)"
   ]
  },
  {
   "cell_type": "code",
   "execution_count": 1,
   "metadata": {},
   "outputs": [
    {
     "data": {
      "text/html": [
       "0.407400689279884"
      ],
      "text/latex": [
       "0.407400689279884"
      ],
      "text/markdown": [
       "0.407400689279884"
      ],
      "text/plain": [
       "[1] 0.4074007"
      ]
     },
     "metadata": {},
     "output_type": "display_data"
    },
    {
     "data": {
      "text/html": [
       "0.96875"
      ],
      "text/latex": [
       "0.96875"
      ],
      "text/markdown": [
       "0.96875"
      ],
      "text/plain": [
       "[1] 0.96875"
      ]
     },
     "metadata": {},
     "output_type": "display_data"
    }
   ],
   "source": [
    "# (b)Si   cambian   el   programa   de   la   materia   y   ahora   hay   que   estudiar 100   teoremas  \n",
    "#para   el   final   (!!!)   De   nuevo,   decide   que   sólo   va   aestudiar   la   mitad.  \n",
    "# Si   en   el   final   le   toman   4   teoremas,   y   paraaprobar   tiene   que   saber   hacer   2   bien,  \n",
    "# cuál   es   la   probabilidad   deque   Ximena   apruebe?\n",
    "# Calcularlo   de   manera   exacta   y   por   aproximación   por   una binomial.\n",
    "# Y='cant teos que se'\n",
    "# P(Y>=2) := 1-P(Y<2)\n",
    "# Y~H(100,50,4) $N,B,m /// Ybis~Bi(4,50/100)\n",
    "1-phyper(1,50,100,4)\n",
    "pbinom(4,5,0.5)\n",
    "# rsta=0.6914"
   ]
  },
  {
   "cell_type": "markdown",
   "source": [
    "\n",
    "Cómo estimar la esperanza\n",
    "\n",
    "Sea $X$ una variable aleatoria con resultados posibles $\\{1,2,\\dots, 6\\}$.\n",
    "\n",
    "Queremos estimar la probabilidad de que salga 1, 2, …, 6.\n",
    "\n",
    "Repetimos el experimento muchas veces y estimamos así:\n",
    "\n",
    "$[p_X(i)=P(\\text{salga } i) \\approx \\frac{\\text{cantidad de veces que sale } i}{\\text{cantidad de repeticiones del experimento}}]$\n",
    "\n",
    "¿Cómo estimamos la esperanza?\n",
    "\n",
    "$[E(X) = \\sum_{i=1}^6 i . p_X(i) \\approx \\sum_{i=1}^6 i \\frac{\\text{cantidad de veces que sale } i}{\\text{cantidad de repeticiones del experimento}}] [= \\frac{1}{\\text{cantidad de repeticiones del experimento}} \\sum_{i=1}^6 i \\text{ cantidad de veces que sale } i] [= \\frac{1}{\\text{cantidad de repeticiones del experimento}} (1+1+\\dots +1 + 2+2+\\dots 2+ 3+3+\\dots +3+...+6+6+\\dots +6)]$\n",
    "\n",
    "Donde la cantidad de veces que sumo cada número es la cantidad de veces que salió ese número en el experimento.\n",
    "\n",
    "Llamemos \\(x_i\\) al resultado del \\(i\\)-ésimo experimento y \\(n\\) a la cantidad de repeticiones del experimento. Entonces\n",
    "\n",
    "\\[E(X) \\approx \\frac{1}{n}\\sum_{i=1}^n x_i\\]\n",
    "\n",
    "La esperanza de una variable aleatoria se puede estimar repitiendo muchas veces el experimento y promediando los valores obtenidos.\n"
   ],
   "metadata": {
    "collapsed": false
   }
  },
  {
   "cell_type": "markdown",
   "metadata": {},
   "source": [
    "\n",
    "Cómo estimar la esperanza\n",
    "\n",
    "Sea $X$ una variable aleatoria con resultados posibles $\\{1,2,\\dots, 6\\}$.\n",
    "\n",
    "Queremos estimar la probabilidad de que salga 1, 2, …, 6.\n",
    "\n",
    "Repetimos el experimento muchas veces y estimamos así:\n",
    "\n",
    "$[p_X(i)=P(\\text{salga } i) \\approx \\frac{\\text{cantidad de veces que sale } i}{\\text{cantidad de repeticiones del experimento}}]$\n",
    "\n",
    "¿Cómo estimamos la esperanza?\n",
    "\n",
    "$[E(X) = \\sum_{i=1}^6 i . p_X(i) \\approx \\sum_{i=1}^6 i \\frac{\\text{cantidad de veces que sale } i}{\\text{cantidad de repeticiones del experimento}}] [= \\frac{1}{\\text{cantidad de repeticiones del experimento}} \\sum_{i=1}^6 i \\text{ cantidad de veces que sale } i] [= \\frac{1}{\\text{cantidad de repeticiones del experimento}} (1+1+\\dots +1 + 2+2+\\dots 2+ 3+3+\\dots +3+...+6+6+\\dots +6)]$\n",
    "\n",
    "Donde la cantidad de veces que sumo cada número es la cantidad de veces que salió ese número en el experimento.\n",
    "\n",
    "Llamemos \\(x_i\\) al resultado del \\(i\\)-ésimo experimento y \\(n\\) a la cantidad de repeticiones del experimento. Entonces\n",
    "\n",
    "\\[E(X) \\approx \\frac{1}{n}\\sum_{i=1}^n x_i\\]\n",
    "\n",
    "La esperanza de una variable aleatoria se puede estimar repitiendo muchas veces el experimento y promediando los valores obtenidos.\n"
   ]
  }
 ],
 "metadata": {
  "kernelspec": {
   "display_name": "R",
   "language": "R",
   "name": "ir"
  },
  "language_info": {
   "codemirror_mode": "r",
   "file_extension": ".r",
   "mimetype": "text/x-r-source",
   "name": "R",
   "pygments_lexer": "r",
   "version": "3.6.3"
  }
 },
 "nbformat": 4,
 "nbformat_minor": 4
}