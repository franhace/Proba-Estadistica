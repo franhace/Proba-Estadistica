{
 "cells": [
  {
   "cell_type": "code",
   "execution_count": 14,
   "metadata": {},
   "outputs": [
    {
     "name": "stdout",
     "output_type": "stream",
     "text": [
      "Proporcion: z_obs: 1.414214"
     ]
    },
    {
     "data": {
      "text/html": [
       "-1.64485362695147"
      ],
      "text/latex": [
       "-1.64485362695147"
      ],
      "text/markdown": [
       "-1.64485362695147"
      ],
      "text/plain": [
       "[1] -1.644854"
      ]
     },
     "metadata": {},
     "output_type": "display_data"
    },
    {
     "data": {
      "text/html": [
       "0.33724272684825"
      ],
      "text/latex": [
       "0.33724272684825"
      ],
      "text/markdown": [
       "0.33724272684825"
      ],
      "text/plain": [
       "[1] 0.3372427"
      ]
     },
     "metadata": {},
     "output_type": "display_data"
    },
    {
     "data": {
      "text/html": [
       "FALSE"
      ],
      "text/latex": [
       "FALSE"
      ],
      "text/markdown": [
       "FALSE"
      ],
      "text/plain": [
       "[1] FALSE"
      ]
     },
     "metadata": {},
     "output_type": "display_data"
    }
   ],
   "source": [
    "# proporcion\n",
    "promedio<-26/200\n",
    "e<-0.1\n",
    "p<-0.1\n",
    "n<-200\n",
    "alpha<-0.05\n",
    "\n",
    "z_obs<-(promedio-p)/(sqrt(p*(1-p)/n))\n",
    "cat(\"Proporcion: z_obs:\",z_obs)\n",
    "w<-qnorm(1-alpha)\n",
    "r<-qnorm(alpha)\n",
    "r\n",
    "t_obs<--2.263179\n",
    "p_val<-pnorm(0.42)\n",
    "1-p_val\n",
    "p_val<alpha"
   ]
  }
 ],
 "metadata": {
  "kernelspec": {
   "display_name": "R",
   "language": "R",
   "name": "ir"
  },
  "language_info": {
   "codemirror_mode": "r",
   "file_extension": ".r",
   "mimetype": "text/x-r-source",
   "name": "R",
   "pygments_lexer": "r",
   "version": "3.6.3"
  }
 },
 "nbformat": 4,
 "nbformat_minor": 4
}
