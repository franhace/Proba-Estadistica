{
 "cells": [
  {
   "cell_type": "code",
   "execution_count": 1,
   "metadata": {
    "ExecuteTime": {
     "end_time": "2019-11-07T01:08:55.397043Z",
     "start_time": "2019-11-07T01:08:55.375Z"
    }
   },
   "outputs": [
    {
     "ename": "NameError",
     "evalue": "name 'datos' is not defined",
     "output_type": "error",
     "traceback": [
      "\u001B[0;31m---------------------------------------------------------------------------\u001B[0m",
      "\u001B[0;31mNameError\u001B[0m                                 Traceback (most recent call last)",
      "\u001B[0;32m<ipython-input-1-a2621fc0b32d>\u001B[0m in \u001B[0;36m<module>\u001B[0;34m\u001B[0m\n\u001B[0;32m----> 1\u001B[0;31m \u001B[0mdatos\u001B[0m \u001B[0;34m<\u001B[0m\u001B[0;34m-\u001B[0m \u001B[0mread\u001B[0m\u001B[0;34m.\u001B[0m\u001B[0mcsv\u001B[0m\u001B[0;34m(\u001B[0m\u001B[0;34m\"./data/practica8/datos_Practica8_ej6_n_1000.csv\"\u001B[0m\u001B[0;34m)\u001B[0m\u001B[0;34m\u001B[0m\u001B[0;34m\u001B[0m\u001B[0m\n\u001B[0m\u001B[1;32m      2\u001B[0m \u001B[0mhead\u001B[0m\u001B[0;34m(\u001B[0m\u001B[0mdatos\u001B[0m\u001B[0;34m,\u001B[0m \u001B[0mn\u001B[0m\u001B[0;34m=\u001B[0m\u001B[0;36m10\u001B[0m\u001B[0;34m)\u001B[0m\u001B[0;34m\u001B[0m\u001B[0;34m\u001B[0m\u001B[0m\n\u001B[1;32m      3\u001B[0m \u001B[0;34m\u001B[0m\u001B[0m\n",
      "\u001B[0;31mNameError\u001B[0m: name 'datos' is not defined"
     ]
    }
   ],
   "source": [
    "datos <- read.csv(\"./data/practica8/datos_Practica8_ej6_n_1000.csv\")\n",
    "head(datos, n=10)"
   ]
  },
  {
   "cell_type": "code",
   "execution_count": null,
   "metadata": {
    "ExecuteTime": {
     "end_time": "2019-11-07T01:08:56.752247Z",
     "start_time": "2019-11-07T01:08:56.694Z"
    }
   },
   "outputs": [],
   "source": [
    "print(\"Encuestados:\" , quote=FALSE)\n",
    "cantEncuestados <- length(datos$encuesta)\n",
    "cantEncuestados\n",
    "\n",
    "print(\"En contra:\" , quote=FALSE)\n",
    "cantEnContra <- length(datos$encuesta[datos$encuesta == \"en contra\"])\n",
    "cantEnContra\n",
    "\n",
    "print(\"A favor:\" , quote=FALSE)\n",
    "cantAFavor <- length(datos$encuesta[datos$encuesta == \"a favor\"])\n",
    "cantAFavor\n",
    "\n",
    "print(\"Indecisos:\" , quote=FALSE)\n",
    "cantIndecisos <- length(datos$encuesta[datos$encuesta == \"indeciso\"])\n",
    "cantIndecisos"
   ]
  },
  {
   "cell_type": "code",
   "execution_count": null,
   "metadata": {
    "ExecuteTime": {
     "end_time": "2019-11-07T01:08:56.896125Z",
     "start_time": "2019-11-07T01:08:56.871Z"
    }
   },
   "outputs": [],
   "source": [
    "p_hat <- cantEnContra/cantEncuestados\n",
    "p_hat "
   ]
  },
  {
   "cell_type": "code",
   "execution_count": null,
   "metadata": {
    "ExecuteTime": {
     "end_time": "2019-11-07T01:08:57.073770Z",
     "start_time": "2019-11-07T01:08:57.048Z"
    }
   },
   "outputs": [],
   "source": [
    "zp <- -qnorm(0.05)\n",
    "sigma2_hat <- p_hat * (1 - p_hat)\n",
    "n <- cantEncuestados\n",
    "intervaloBer <- c( p_hat - zp * sqrt( sigma2_hat / n) ,\n",
    "                   p_hat + zp * sqrt( sigma2_hat / n))\n",
    "intervaloBer"
   ]
  },
  {
   "cell_type": "code",
   "execution_count": null,
   "metadata": {
    "ExecuteTime": {
     "end_time": "2019-11-07T01:08:57.458305Z",
     "start_time": "2019-11-07T01:08:57.388Z"
    }
   },
   "outputs": [],
   "source": [
    "dataBernoulli <- rep(0, 1000)\n",
    "dataBernoulli[1:cantEnContra] <- 1\n",
    "hist(dataBernoulli, col=\"steelblue\", main=\"Encuesta simplificada a Bernoulli\", xaxt='n')\n",
    "axis(1, c(0+0.05,1-0.05),  labels=c(\"A Favor + Indecisos\", \"En Contra\"))"
   ]
  },
  {
   "cell_type": "markdown",
   "metadata": {},
   "source": [
    "Teniendo los datos de esta forma, podemos calcular su varianza muestral $S_n^2 = \\sum \\frac {(X_i - \\bar X)^2}{n-1}$:"
   ]
  },
  {
   "cell_type": "code",
   "execution_count": null,
   "metadata": {
    "ExecuteTime": {
     "end_time": "2019-11-07T01:08:58.020746Z",
     "start_time": "2019-11-07T01:08:58.002Z"
    }
   },
   "outputs": [],
   "source": [
    "S2n <- var(dataBernoulli)\n",
    "S2n"
   ]
  },
  {
   "cell_type": "markdown",
   "metadata": {},
   "source": [
    "Ligeramente diferente al valor calculado a partir de que es una Bernoulli y su varianza es $p * (1-p)$\n",
    "\n",
    "Donde podemos reeplazar $p$ por la probabilidad estimada $\\hat p$"
   ]
  },
  {
   "cell_type": "code",
   "execution_count": null,
   "metadata": {
    "ExecuteTime": {
     "end_time": "2019-11-07T01:08:58.620727Z",
     "start_time": "2019-11-07T01:08:58.600Z"
    }
   },
   "outputs": [],
   "source": [
    "varBer <- p_hat*(1 - p_hat)\n",
    "varBer"
   ]
  },
  {
   "cell_type": "code",
   "execution_count": null,
   "metadata": {
    "ExecuteTime": {
     "end_time": "2019-11-07T01:08:58.933812Z",
     "start_time": "2019-11-07T01:08:58.893Z"
    }
   },
   "outputs": [],
   "source": [
    "# Usando varianza muestral:\n",
    "\n",
    "zp <- -qnorm(0.05)\n",
    "sigma2_hat <- S2n\n",
    "n <- cantEncuestados\n",
    "intervaloSn <- c( p_hat - zp * sqrt( sigma2_hat / n) ,\n",
    "                  p_hat + zp * sqrt( sigma2_hat / n))\n",
    "intervaloSn"
   ]
  },
  {
   "cell_type": "code",
   "execution_count": null,
   "metadata": {
    "ExecuteTime": {
     "end_time": "2019-11-07T01:08:59.272298Z",
     "start_time": "2019-11-07T01:08:59.245Z"
    }
   },
   "outputs": [],
   "source": [
    "longitud_Intervalo_Bernoulli <- intervaloBer[2] - intervaloBer[1]\n",
    "longitud_Intervalo_Bernoulli\n",
    "\n",
    "longitud_Intervalo_VarMuestral <- intervaloSn[2] - intervaloSn[1]\n",
    "longitud_Intervalo_VarMuestral"
   ]
  },
  {
   "cell_type": "markdown",
   "metadata": {},
   "source": [
    "El **intervalo** que hace uso de que las variables aleatorias son **Bernoulli, es más pequeño**, y por ende, **preferible** por sobre **el que usa Varianza Muestral**.\n",
    "\n"
   ]
  },
  {
   "cell_type": "markdown",
   "metadata": {},
   "source": [
    "En papel calculé que para una longitud pedida de $0.02$ como máximo, debería encuestarse a $n \\geq 6534$ personas "
   ]
  },
  {
   "cell_type": "code",
   "execution_count": null,
   "metadata": {
    "ExecuteTime": {
     "end_time": "2019-11-07T01:09:00.065404Z",
     "start_time": "2019-11-07T01:09:00.041Z"
    }
   },
   "outputs": [],
   "source": [
    "datos2 <- read.csv(\"./data/practica8/datos_Practica8_ej6_n_6534.csv\")\n",
    "head(datos, n=10)"
   ]
  },
  {
   "cell_type": "code",
   "execution_count": null,
   "metadata": {
    "ExecuteTime": {
     "end_time": "2019-11-07T01:09:00.434873Z",
     "start_time": "2019-11-07T01:09:00.410Z"
    }
   },
   "outputs": [],
   "source": [
    "cantEncuestados <- length(datos2$encuesta)\n",
    "cantEnContra <- length(datos2$encuesta[datos2$encuesta == \"en contra\"])\n",
    "\n",
    "dataBernoulli <- rep(0, 6534)\n",
    "dataBernoulli[1:cantEnContra] <- 1\n",
    "\n",
    "p_hat <- cantEnContra / cantEncuestados\n",
    "p_hat"
   ]
  },
  {
   "cell_type": "code",
   "execution_count": null,
   "metadata": {
    "ExecuteTime": {
     "end_time": "2019-11-07T01:09:00.643322Z",
     "start_time": "2019-11-07T01:09:00.616Z"
    }
   },
   "outputs": [],
   "source": [
    "zp <- -qnorm(0.05)\n",
    "sigma2_hat <- p_hat * (1 - p_hat)\n",
    "n <- cantEncuestados\n",
    "intervaloBer <- c( p_hat - zp * sqrt( sigma2_hat / n) ,\n",
    "                   p_hat + zp * sqrt( sigma2_hat / n))\n",
    "intervaloBer"
   ]
  },
  {
   "cell_type": "code",
   "execution_count": null,
   "metadata": {
    "ExecuteTime": {
     "end_time": "2019-11-07T01:09:01.114036Z",
     "start_time": "2019-11-07T01:09:01.092Z"
    }
   },
   "outputs": [],
   "source": [
    "longitud_Intervalo_Bernoulli <- intervaloBer[2] - intervaloBer[1]\n",
    "longitud_Intervalo_Bernoulli"
   ]
  },
  {
   "cell_type": "markdown",
   "metadata": {
    "ExecuteTime": {
     "end_time": "2019-11-07T01:05:59.776518Z",
     "start_time": "2019-11-07T01:05:59.751Z"
    }
   },
   "source": [
    "Que efectivamente es menor a $0.02$"
   ]
  },
  {
   "cell_type": "markdown",
   "metadata": {},
   "source": []
  }
 ],
 "metadata": {
  "kernelspec": {
   "name": "python3",
   "language": "python",
   "display_name": "Python 3"
  },
  "language_info": {
   "codemirror_mode": "r",
   "file_extension": ".r",
   "mimetype": "text/x-r-source",
   "name": "R",
   "pygments_lexer": "r",
   "version": "3.6.1"
  },
  "toc": {
   "base_numbering": 1,
   "nav_menu": {},
   "number_sections": true,
   "sideBar": true,
   "skip_h1_title": false,
   "title_cell": "Table of Contents",
   "title_sidebar": "Contents",
   "toc_cell": false,
   "toc_position": {},
   "toc_section_display": true,
   "toc_window_display": false
  }
 },
 "nbformat": 4,
 "nbformat_minor": 2
}