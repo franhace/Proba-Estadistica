{
 "cells": [
  {
   "cell_type": "code",
   "execution_count": 11,
   "metadata": {},
   "outputs": [
    {
     "ename": "ERROR",
     "evalue": "Error in get(as.character(FUN), mode = \"function\", envir = envir): object 't_obs' of mode 'function' was not found\n",
     "output_type": "error",
     "traceback": [
      "Error in get(as.character(FUN), mode = \"function\", envir = envir): object 't_obs' of mode 'function' was not found\nTraceback:\n",
      "1. apply(datos, 2, t_obs)",
      "2. match.fun(FUN)",
      "3. get(as.character(FUN), mode = \"function\", envir = envir)"
     ]
    }
   ],
   "source": [
    "vector1 <- rnorm( n = 1000, mean = mu, sd = sqrt(var) )\n",
    "datos<-replicate(1000, vector1)\n",
    "\n",
    "mu<-1\n",
    "var<-4\n",
    "n<-length(datos)\n",
    "\n",
    "s_cuadr<-sum(vector1-mu)/(n+1)\n",
    "t_obs <- (mean(vector1)-mu)*sqrt(n)/sqrt(s_cuadr)\n",
    "apply(datos, 2, t_obs)\n",
    "s_cuadr\n",
    "hist(s_cuadr)"
   ]
  }
 ],
 "metadata": {
  "kernelspec": {
   "display_name": "R",
   "language": "R",
   "name": "ir"
  },
  "language_info": {
   "codemirror_mode": "r",
   "file_extension": ".r",
   "mimetype": "text/x-r-source",
   "name": "R",
   "pygments_lexer": "r",
   "version": "3.6.3"
  }
 },
 "nbformat": 4,
 "nbformat_minor": 4
}
