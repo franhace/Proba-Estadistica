{
 "cells": [
  {
   "cell_type": "code",
   "execution_count": 23,
   "metadata": {},
   "outputs": [
    {
     "data": {
      "text/html": [
       "' IC: de nivel 0.6 para mu con sigma conocido [ 24.8970846626254 , 25.1229153373746 ], z_alpha/2: 0.841621233572914'"
      ],
      "text/latex": [
       "' IC: de nivel 0.6 para mu con sigma conocido {[} 24.8970846626254 , 25.1229153373746 {]}, z\\_alpha/2: 0.841621233572914'"
      ],
      "text/markdown": [
       "' IC: de nivel 0.6 para mu con sigma conocido [ 24.8970846626254 , 25.1229153373746 ], z_alpha/2: 0.841621233572914'"
      ],
      "text/plain": [
       " IC: de nivel 0.6 para mu con sigma conocido [ 24.8970846626254 , 25.1229153373746 ], z_alpha/2: 0.841621233572914"
      ]
     },
     "metadata": {},
     "output_type": "display_data"
    },
    {
     "data": {
      "text/html": [
       "' n: 407.995949261257'"
      ],
      "text/latex": [
       "' n: 407.995949261257'"
      ],
      "text/markdown": [
       "' n: 407.995949261257'"
      ],
      "text/plain": [
       " n: 407.995949261257"
      ]
     },
     "metadata": {},
     "output_type": "display_data"
    }
   ],
   "source": [
    "# Ejr parcial intervalos\n",
    "# calcular IC para una Bernoulli\n",
    "library(glue)\n",
    "promedio<-25.01\n",
    "n<-20\n",
    "alpha<-0.4\n",
    "nivel<-1-alpha\n",
    "sd<-sqrt(0.36)\n",
    "# sd<-0\n",
    "\n",
    "\n",
    "### Distribucion NORMAL ###\n",
    "\n",
    "### Si buscamos intervalo para mu: ###\n",
    "# Conocemos sigma\n",
    "# 1 - 1 : elegir el sd \n",
    "# Desconocemos sigma\n",
    "# 1 - 0 : elegir el s_cuadr\n",
    "\n",
    "### Si buscamos intervalo para sigma: ###\n",
    "# Conocemos mu\n",
    "# 0 - 1 : elegir el s_cuadr\n",
    "# Desconocemos mu\n",
    "# 0 - 0: \n",
    "\n",
    "mu_cond<-1\n",
    "sigma_cond<-1\n",
    "\n",
    "if (mu_cond==1 & sigma_cond==1){\n",
    "    \n",
    "  \n",
    "    if (qnorm(alpha/2)){\n",
    "\n",
    "    z_alpha_2<-qnorm(alpha/2)*(-1)\n",
    "\n",
    "    }\n",
    "    glue(\" z_alpha/2: {z_alpha_2} \")\n",
    "    IC_izq<- promedio - (sd/sqrt(n))*z_alpha_2\n",
    "    IC_der<- promedio + (sd/sqrt(n))*z_alpha_2\n",
    "    glue(\" IC: de nivel {nivel} para mu con sigma conocido [ {IC_izq} , {IC_der} ], z_alpha/2: {z_alpha_2}\")\n",
    "    \n",
    "    \n",
    "    \n",
    "    } else if ((mu_cond==1 & sigma_cond==0) | (mu_cond==0 & sigma_cond==1)) {\n",
    "    # Asi tomamos las 2 que usan chicuadrado\n",
    "    # Si sigma desconocido usamos S²\n",
    "    # a medida que n->inf, t_n-1->Z\n",
    "\n",
    "    # s_cuadr<-2/(n-1)\n",
    "    # s_cuadr<-sd**2\n",
    "    s<-340\n",
    "    s_cuadr<-s**2\n",
    "\n",
    "    if (mu_cond==1){\n",
    "    t_n_menos1_a_2<-qt(alpha/2,n-1,lower.tail = FALSE)\n",
    "    glue(\" t_n_menos1_a_2: {t_n_menos1_a_2} \")\n",
    "\n",
    "    IC_izq<- promedio - (sqrt(s_cuadr)/sqrt(n))*t_n_menos1_a_2\n",
    "    IC_der<- promedio + (sqrt(s_cuadr)/sqrt(n))*t_n_menos1_a_2\n",
    "    glue(\" IC: de nivel {nivel} para mu con sigma desconocido [ {IC_izq} , {IC_der} ]\")\n",
    "\n",
    "    } \n",
    "    else {\n",
    "    (qchisq_n_menos1_a_2<- qchisq(alpha/2,n-1,lower.tail = FALSE))\n",
    "    cat(qchisq_n_menos1_a_2)\n",
    "    cat(\"\\n\")\n",
    "    cat(qchisq_n_menos1_1_menos_a_2)\n",
    "    (qchisq_n_menos1_1_menos_a_2<-qchisq(1-alpha/2,n-1, lower.tail = FALSE))\n",
    "    IC_der<- (n-1)*s_cuadr / qchisq_n_menos1_1_menos_a_2\n",
    "    IC_izq<- (n-1)*s_cuadr / qchisq_n_menos1_a_2\n",
    "    glue(\" IC: de nivel {nivel} para sigma con mu desconocido [ {IC_izq} , {IC_der} ]\")\n",
    "        }\n",
    "    \n",
    "    \n",
    "    } else {\n",
    "\n",
    "    # mean<-2\n",
    "    # X<-3\n",
    "    # u<-sum(X-mean)**2\n",
    "\n",
    "    # S_cuadr representa: S²\n",
    "    # S_cuadr<-241.9234\n",
    "    var<-sd**2\n",
    "    S_cuadr<-var\n",
    "    (qchisq_n_menos1_a_2<- qchisq(alpha/2,n-1,lower.tail = FALSE))\n",
    "    (qchisq_n_menos1_1_menos_a_2<-qchisq(1-alpha/2,n-1, lower.tail = FALSE))\n",
    "    IC_der<- (n-1)*S_cuadr / qchisq_n_menos1_1_menos_a_2\n",
    "    IC_izq<- (n-1)*S_cuadr / qchisq_n_menos1_a_2\n",
    "    glue(\" IC: de nivel {nivel} para sigma con mu desconocido [ {IC_izq} , {IC_der} ]\") \n",
    "    }\n",
    "\n",
    "# Longitud de un intervalo no depende de los valores de la muestra pero si del tamaño de la misma\n",
    "# encontrar el n minimo tal que longitud del IC sea menor que w\n",
    "#2*z_alpha_2*(sd/sqrt(n)) <= w\n",
    "w<-0.05\n",
    "ene<-((2*z_alpha_2)*(sd/w))**2\n",
    "glue(\" n: {ene}\")"
   ]
  },
  {
   "cell_type": "code",
   "execution_count": 24,
   "metadata": {},
   "outputs": [
    {
     "data": {
      "text/html": [
       "<dl>\n",
       "\t<dt>$inferior</dt>\n",
       "\t\t<dd>24.747043237827</dd>\n",
       "\t<dt>$superior</dt>\n",
       "\t\t<dd>25.272956762173</dd>\n",
       "</dl>\n"
      ],
      "text/latex": [
       "\\begin{description}\n",
       "\\item[\\$inferior] 24.747043237827\n",
       "\\item[\\$superior] 25.272956762173\n",
       "\\end{description}\n"
      ],
      "text/markdown": [
       "$inferior\n",
       ":   24.747043237827\n",
       "$superior\n",
       ":   25.272956762173\n",
       "\n",
       "\n"
      ],
      "text/plain": [
       "$inferior\n",
       "[1] 24.74704\n",
       "\n",
       "$superior\n",
       "[1] 25.27296\n"
      ]
     },
     "metadata": {},
     "output_type": "display_data"
    }
   ],
   "source": [
    "normVarConocida <- function( desvio, alfa ) {\n",
    "#   poblacion <- length( muestra )\n",
    "#   media <- mean( muestra )\n",
    "    poblacion <- 20\n",
    "    media <- 25.01\n",
    "    cuantil <- qnorm( p = 1 - ( alfa / 2 ) )\n",
    "    radio <- desvio * ( 1 / sqrt( poblacion ) ) * cuantil\n",
    "    return(\n",
    "    list(\n",
    "      inferior = media - radio,\n",
    "      superior = media + radio\n",
    "    )\n",
    "  )\n",
    "}\n",
    "\n",
    "\n",
    "normVarConocida( desvio = sqrt(0.36), alfa = 0.05 )"
   ]
  }
 ],
 "metadata": {
  "kernelspec": {
   "display_name": "R",
   "language": "R",
   "name": "ir"
  },
  "language_info": {
   "codemirror_mode": "r",
   "file_extension": ".r",
   "mimetype": "text/x-r-source",
   "name": "R",
   "pygments_lexer": "r",
   "version": "3.6.3"
  }
 },
 "nbformat": 4,
 "nbformat_minor": 1
}