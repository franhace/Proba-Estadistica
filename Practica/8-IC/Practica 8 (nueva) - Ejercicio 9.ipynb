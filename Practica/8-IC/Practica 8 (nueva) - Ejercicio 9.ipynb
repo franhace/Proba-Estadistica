{
 "cells": [
  {
   "cell_type": "code",
   "execution_count": 9,
   "metadata": {},
   "outputs": [
    {
     "data": {
      "text/html": [
       "0.6"
      ],
      "text/latex": [
       "0.6"
      ],
      "text/markdown": [
       "0.6"
      ],
      "text/plain": [
       "[1] 0.6"
      ]
     },
     "metadata": {},
     "output_type": "display_data"
    },
    {
     "data": {
      "text/html": [
       "1.64485362695147"
      ],
      "text/latex": [
       "1.64485362695147"
      ],
      "text/markdown": [
       "1.64485362695147"
      ],
      "text/plain": [
       "[1] 1.644854"
      ]
     },
     "metadata": {},
     "output_type": "display_data"
    },
    {
     "data": {
      "text/html": [
       "<style>\n",
       ".list-inline {list-style: none; margin:0; padding: 0}\n",
       ".list-inline>li {display: inline-block}\n",
       ".list-inline>li:not(:last-child)::after {content: \"\\00b7\"; padding: 0 .5ex}\n",
       "</style>\n",
       "<ol class=list-inline><li>0.574518037183472</li><li>0.625481962816528</li></ol>\n"
      ],
      "text/latex": [
       "\\begin{enumerate*}\n",
       "\\item 0.574518037183472\n",
       "\\item 0.625481962816528\n",
       "\\end{enumerate*}\n"
      ],
      "text/markdown": [
       "1. 0.574518037183472\n",
       "2. 0.625481962816528\n",
       "\n",
       "\n"
      ],
      "text/plain": [
       "[1] 0.574518 0.625482"
      ]
     },
     "metadata": {},
     "output_type": "display_data"
    },
    {
     "data": {
      "text/html": [
       "6493.30428982899"
      ],
      "text/latex": [
       "6493.30428982899"
      ],
      "text/markdown": [
       "6493.30428982899"
      ],
      "text/plain": [
       "[1] 6493.304"
      ]
     },
     "metadata": {},
     "output_type": "display_data"
    },
    {
     "data": {
      "text/html": [
       "<style>\n",
       ".list-inline {list-style: none; margin:0; padding: 0}\n",
       ".list-inline>li {display: inline-block}\n",
       ".list-inline>li:not(:last-child)::after {content: \"\\00b7\"; padding: 0 .5ex}\n",
       "</style>\n",
       "<ol class=list-inline><li>0.6</li><li>0.6</li></ol>\n"
      ],
      "text/latex": [
       "\\begin{enumerate*}\n",
       "\\item 0.6\n",
       "\\item 0.6\n",
       "\\end{enumerate*}\n"
      ],
      "text/markdown": [
       "1. 0.6\n",
       "2. 0.6\n",
       "\n",
       "\n"
      ],
      "text/plain": [
       "[1] 0.6 0.6"
      ]
     },
     "metadata": {},
     "output_type": "display_data"
    }
   ],
   "source": [
    "# Para una bernoulli\n",
    "cantEnContra<-600\n",
    "n<-1000\n",
    "\n",
    "p_hat <- cantEnContra / n\n",
    "alpha<-0.1\n",
    "\n",
    "zp <- -qnorm(alpha/2)\n",
    "sigma2_hat <- p_hat * (1 - p_hat)\n",
    "n <- cantEncuestados\n",
    "pivote<-zp * sqrt( sigma2_hat / n)\n",
    "intervaloBer <- c( p_hat - pivote ,\n",
    "                   p_hat + pivote)\n",
    "intervaloBer\n",
    "\n",
    "#longitud del intervalo\n",
    "w<-0.02\n",
    "n<-(2*zp*sqrt(p_hat*(1-p_hat))/w)**2\n",
    "n\n",
    "\n",
    "# Para una binomial ~Bi(k,p)\n",
    "promedio<-\n",
    "k<-1\n",
    "phat<-promedio/k\n",
    "pivote<-zp*sqrt((phat*(1-phat))/n*k)\n",
    "intervaloBin <- c( p_hat - pivote ,\n",
    "                   p_hat + pivote)\n",
    "intervaloBin"
   ]
  }
 ],
 "metadata": {
  "kernelspec": {
   "display_name": "R",
   "language": "R",
   "name": "ir"
  },
  "language_info": {
   "codemirror_mode": "r",
   "file_extension": ".r",
   "mimetype": "text/x-r-source",
   "name": "R",
   "pygments_lexer": "r",
   "version": "3.6.3"
  }
 },
 "nbformat": 4,
 "nbformat_minor": 4
}
