{
 "cells": [
  {
   "cell_type": "code",
   "execution_count": 7,
   "metadata": {},
   "outputs": [
    {
     "data": {
      "text/html": [
       "' IC: de nivel 0.95 para mu con sigma desconocido [ 512.583360017962 , 537.416639982038 ]'"
      ],
      "text/latex": [
       "' IC: de nivel 0.95 para mu con sigma desconocido {[} 512.583360017962 , 537.416639982038 {]}'"
      ],
      "text/markdown": [
       "' IC: de nivel 0.95 para mu con sigma desconocido [ 512.583360017962 , 537.416639982038 ]'"
      ],
      "text/plain": [
       " IC: de nivel 0.95 para mu con sigma desconocido [ 512.583360017962 , 537.416639982038 ]"
      ]
     },
     "metadata": {},
     "output_type": "display_data"
    },
    {
     "data": {
      "text/html": [
       "' n: 61463.341131106'"
      ],
      "text/latex": [
       "' n: 61463.341131106'"
      ],
      "text/markdown": [
       "' n: 61463.341131106'"
      ],
      "text/plain": [
       " n: 61463.341131106"
      ]
     },
     "metadata": {},
     "output_type": "display_data"
    }
   ],
   "source": [
    "# Ejr parcial intervalos\n",
    "# calcular IC para una Bernoulli\n",
    "library(glue)\n",
    "promedio<-525\n",
    "n<-5\n",
    "alpha<-0.05\n",
    "nivel<-1-alpha\n",
    "# sd<-sqrt(0.36)\n",
    "sd<-sqrt(10)\n",
    "\n",
    "\n",
    "### Distribucion NORMAL ###\n",
    "\n",
    "### Si buscamos intervalo para mu: ###\n",
    "# Conocemos sigma\n",
    "# 1 - 1 : elegir el sd \n",
    "# Desconocemos sigma\n",
    "# 1 - 0 : elegir el s_cuadr\n",
    "\n",
    "### Si buscamos intervalo para sigma: ###\n",
    "# Conocemos mu\n",
    "# 0 - 1 : elegir el s_cuadr\n",
    "# Desconocemos mu\n",
    "# 0 - 0: \n",
    "\n",
    "mu_cond<-1\n",
    "sigma_cond<-0\n",
    "\n",
    "if (mu_cond==1 & sigma_cond==1){\n",
    "    \n",
    "  \n",
    "    if (qnorm(alpha/2)){\n",
    "\n",
    "    z_alpha_2<-qnorm(alpha/2)*(-1)\n",
    "\n",
    "    }\n",
    "    glue(\" z_alpha/2: {z_alpha_2} \")\n",
    "    IC_izq<- promedio - (sd/sqrt(n))*z_alpha_2\n",
    "    IC_der<- promedio + (sd/sqrt(n))*z_alpha_2\n",
    "    glue(\" IC: de nivel {nivel} para mu con sigma conocido [ {IC_izq} , {IC_der} ], z_alpha/2: {z_alpha_2}\")\n",
    "    \n",
    "    \n",
    "    \n",
    "    } else if ((mu_cond==1 & sigma_cond==0) | (mu_cond==0 & sigma_cond==1)) {\n",
    "    # Asi tomamos las 2 que usan chicuadrado\n",
    "    # Si sigma desconocido usamos S²\n",
    "    # a medida que n->inf, t_n-1->Z\n",
    "\n",
    "    # s_cuadr<-2/(n-1)\n",
    "    # s_cuadr<-sd**2\n",
    "    s<-10\n",
    "    s_cuadr<-s**2\n",
    "\n",
    "    if (mu_cond==1){\n",
    "    t_n_menos1_a_2<-qt(alpha/2,n-1,lower.tail = FALSE)\n",
    "    glue(\" t_n_menos1_a_2: {t_n_menos1_a_2} \")\n",
    "\n",
    "    IC_izq<- promedio - (sqrt(s_cuadr)/sqrt(n))*t_n_menos1_a_2\n",
    "    IC_der<- promedio + (sqrt(s_cuadr)/sqrt(n))*t_n_menos1_a_2\n",
    "    glue(\" IC: de nivel {nivel} para mu con sigma desconocido [ {IC_izq} , {IC_der} ]\")\n",
    "\n",
    "    } \n",
    "    else {\n",
    "    (qchisq_n_menos1_a_2<- qchisq(alpha/2,n-1,lower.tail = FALSE))\n",
    "    cat(qchisq_n_menos1_a_2)\n",
    "    cat(\"\\n\")\n",
    "    cat(qchisq_n_menos1_1_menos_a_2)\n",
    "    (qchisq_n_menos1_1_menos_a_2<-qchisq(1-alpha/2,n-1, lower.tail = FALSE))\n",
    "    IC_der<- (n-1)*s_cuadr / qchisq_n_menos1_1_menos_a_2\n",
    "    IC_izq<- (n-1)*s_cuadr / qchisq_n_menos1_a_2\n",
    "    glue(\" IC: de nivel {nivel} para sigma con mu desconocido [ {IC_izq} , {IC_der} ]\")\n",
    "        }\n",
    "    \n",
    "    \n",
    "    } else {\n",
    "\n",
    "    # mean<-2\n",
    "    # X<-3\n",
    "    # u<-sum(X-mean)**2\n",
    "\n",
    "    # S_cuadr representa: S²\n",
    "    # S_cuadr<-241.9234\n",
    "    var<-sd**2\n",
    "    S_cuadr<-var\n",
    "    (qchisq_n_menos1_a_2<- qchisq(alpha/2,n-1,lower.tail = FALSE))\n",
    "    (qchisq_n_menos1_1_menos_a_2<-qchisq(1-alpha/2,n-1, lower.tail = FALSE))\n",
    "    IC_der<- (n-1)*S_cuadr / qchisq_n_menos1_1_menos_a_2\n",
    "    IC_izq<- (n-1)*S_cuadr / qchisq_n_menos1_a_2\n",
    "    glue(\" IC: de nivel {nivel} para sigma con mu desconocido [ {IC_izq} , {IC_der} ]\") \n",
    "    }\n",
    "\n",
    "# Longitud de un intervalo no depende de los valores de la muestra pero si del tamaño de la misma\n",
    "# encontrar el n minimo tal que longitud del IC sea menor que w\n",
    "#2*z_alpha_2*(sd/sqrt(n)) <= w\n",
    "w<-0.05\n",
    "ene<-((2*z_alpha_2)*(sd/w))**2\n",
    "glue(\" n: {ene}\")"
   ]
  },
  {
   "cell_type": "code",
   "execution_count": 8,
   "metadata": {},
   "outputs": [
    {
     "ename": "ERROR",
     "evalue": "Error in parse(text = x, srcfile = src): <text>:1:6: unexpected symbol\n1: Para responder\n         ^\n",
     "output_type": "error",
     "traceback": [
      "Error in parse(text = x, srcfile = src): <text>:1:6: unexpected symbol\n1: Para responder\n         ^\nTraceback:\n"
     ]
    }
   ],
   "source": [
    "Para responder a las preguntas de la parte b), tenemos que repasar la interpretación que hacemos de los IC.\n",
    "i) No podemos asegurar esto. El IC es una forma de estimar un parámetro, la media, en este caso. No me da información sobre la probabilidad de los valores de la muestra.\n",
    "ii) No podemos hablar de probabilidad de que el intervalo de a) contenga al valor de la media, porque ese intervalo está fijo, y la media pertenece o no. No es una cuestión de aleatoriedad (si dijéramos “la probabilidad de que el IC asociado a un futuro experimento contenga a mu”, ahí sí).\n",
    "iii) Esta interpretación es correcta.\n"
   ]
  }
 ],
 "metadata": {
  "kernelspec": {
   "display_name": "R",
   "language": "R",
   "name": "ir"
  },
  "language_info": {
   "codemirror_mode": "r",
   "file_extension": ".r",
   "mimetype": "text/x-r-source",
   "name": "R",
   "pygments_lexer": "r",
   "version": "3.6.3"
  }
 },
 "nbformat": 4,
 "nbformat_minor": 4
}
