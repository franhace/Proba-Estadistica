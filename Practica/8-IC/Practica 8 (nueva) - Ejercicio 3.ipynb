{
 "cells": [
  {
   "cell_type": "code",
   "execution_count": 4,
   "metadata": {},
   "outputs": [
    {
     "data": {
      "text/html": [
       "' IC: de nivel 0.95 para mu con sigma desconocido [ 24.6543090511209 , 25.3656909488791 ]'"
      ],
      "text/latex": [
       "' IC: de nivel 0.95 para mu con sigma desconocido {[} 24.6543090511209 , 25.3656909488791 {]}'"
      ],
      "text/markdown": [
       "' IC: de nivel 0.95 para mu con sigma desconocido [ 24.6543090511209 , 25.3656909488791 ]'"
      ],
      "text/plain": [
       " IC: de nivel 0.95 para mu con sigma desconocido [ 24.6543090511209 , 25.3656909488791 ]"
      ]
     },
     "metadata": {},
     "output_type": "display_data"
    },
    {
     "ename": "ERROR",
     "evalue": "Error in eval(expr, envir, enclos): object 'z_alpha_2' not found\n",
     "output_type": "error",
     "traceback": [
      "Error in eval(expr, envir, enclos): object 'z_alpha_2' not found\nTraceback:\n"
     ]
    }
   ],
   "source": [
    "# Ejr parcial intervalos\n",
    "# calcular IC para una Bernoulli\n",
    "library(glue)\n",
    "promedio<-25.01\n",
    "n<-20\n",
    "alpha<-0.05\n",
    "nivel<-1-alpha\n",
    "sd<-sqrt(0.36)\n",
    "# sd<-0\n",
    "\n",
    "\n",
    "### Distribucion NORMAL ###\n",
    "\n",
    "### Si buscamos intervalo para mu: ###\n",
    "# Conocemos sigma\n",
    "# 1 - 1 : elegir el sd \n",
    "# Desconocemos sigma\n",
    "# 1 - 0 : elegir el s_cuadr\n",
    "\n",
    "### Si buscamos intervalo para sigma: ###\n",
    "# Conocemos mu\n",
    "# 0 - 1 : elegir el s_cuadr\n",
    "# Desconocemos mu\n",
    "# 0 - 0: \n",
    "\n",
    "mu_cond<-1\n",
    "sigma_cond<-0\n",
    "\n",
    "if (mu_cond==1 & sigma_cond==1){\n",
    "    \n",
    "  \n",
    "    if (qnorm(alpha/2)){\n",
    "\n",
    "    z_alpha_2<-qnorm(alpha/2)*(-1)\n",
    "\n",
    "    }\n",
    "    glue(\" z_alpha/2: {z_alpha_2} \")\n",
    "    IC_izq<- promedio - (sd/sqrt(n))*z_alpha_2\n",
    "    IC_der<- promedio + (sd/sqrt(n))*z_alpha_2\n",
    "    glue(\" IC: de nivel {nivel} para mu con sigma conocido [ {IC_izq} , {IC_der} ], z_alpha/2: {z_alpha_2}\")\n",
    "    \n",
    "    \n",
    "    \n",
    "    } else if ((mu_cond==1 & sigma_cond==0) | (mu_cond==0 & sigma_cond==1)) {\n",
    "    # Asi tomamos las 2 que usan chicuadrado\n",
    "    # Si sigma desconocido usamos S²\n",
    "    # a medida que n->inf, t_n-1->Z\n",
    "\n",
    "    # s_cuadr<-2/(n-1)\n",
    "    # s_cuadr<-sd**2\n",
    "    s<-0.76\n",
    "    s_cuadr<-s**2\n",
    "\n",
    "    if (mu_cond==1){\n",
    "    t_n_menos1_a_2<-qt(alpha/2,n-1,lower.tail = FALSE)\n",
    "    glue(\" t_n_menos1_a_2: {t_n_menos1_a_2} \")\n",
    "\n",
    "    IC_izq<- promedio - (sqrt(s_cuadr)/sqrt(n))*t_n_menos1_a_2\n",
    "    IC_der<- promedio + (sqrt(s_cuadr)/sqrt(n))*t_n_menos1_a_2\n",
    "    glue(\" IC: de nivel {nivel} para mu con sigma desconocido [ {IC_izq} , {IC_der} ]\")\n",
    "\n",
    "    } \n",
    "    else {\n",
    "    (qchisq_n_menos1_a_2<- qchisq(alpha/2,n-1,lower.tail = FALSE))\n",
    "    cat(qchisq_n_menos1_a_2)\n",
    "    cat(\"\\n\")\n",
    "    cat(qchisq_n_menos1_1_menos_a_2)\n",
    "    (qchisq_n_menos1_1_menos_a_2<-qchisq(1-alpha/2,n-1, lower.tail = FALSE))\n",
    "    IC_der<- (n-1)*s_cuadr / qchisq_n_menos1_1_menos_a_2\n",
    "    IC_izq<- (n-1)*s_cuadr / qchisq_n_menos1_a_2\n",
    "    glue(\" IC: de nivel {nivel} para sigma con mu desconocido [ {IC_izq} , {IC_der} ]\")\n",
    "        }\n",
    "    \n",
    "    \n",
    "    } else {\n",
    "\n",
    "    # mean<-2\n",
    "    # X<-3\n",
    "    # u<-sum(X-mean)**2\n",
    "\n",
    "    # S_cuadr representa: S²\n",
    "    # S_cuadr<-241.9234\n",
    "    var<-sd**2\n",
    "    S_cuadr<-var\n",
    "    (qchisq_n_menos1_a_2<- qchisq(alpha/2,n-1,lower.tail = FALSE))\n",
    "    (qchisq_n_menos1_1_menos_a_2<-qchisq(1-alpha/2,n-1, lower.tail = FALSE))\n",
    "    IC_der<- (n-1)*S_cuadr / qchisq_n_menos1_1_menos_a_2\n",
    "    IC_izq<- (n-1)*S_cuadr / qchisq_n_menos1_a_2\n",
    "    glue(\" IC: de nivel {nivel} para sigma con mu desconocido [ {IC_izq} , {IC_der} ]\") \n",
    "    }\n",
    "\n",
    "# Longitud de un intervalo no depende de los valores de la muestra pero si del tamaño de la misma\n",
    "# encontrar el n minimo tal que longitud del IC sea menor que w\n",
    "#2*z_alpha_2*(sd/sqrt(n)) <= w\n",
    "w<-0.05\n",
    "ene<-((2*z_alpha_2)*(sd/w))**2\n",
    "glue(\" n: {ene}\")"
   ]
  }
 ],
 "metadata": {
  "kernelspec": {
   "display_name": "R",
   "language": "R",
   "name": "ir"
  },
  "language_info": {
   "codemirror_mode": "r",
   "file_extension": ".r",
   "mimetype": "text/x-r-source",
   "name": "R",
   "pygments_lexer": "r",
   "version": "3.6.3"
  }
 },
 "nbformat": 4,
 "nbformat_minor": 4
}
