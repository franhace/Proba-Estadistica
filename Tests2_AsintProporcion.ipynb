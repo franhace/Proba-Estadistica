{
 "cells": [
  {
   "cell_type": "markdown",
   "metadata": {
    "collapsed": true,
    "pycharm": {
     "name": "#%% md\n"
    }
   },
   "source": [
    "### 1\n",
    "\n",
    "    Una ruleta tiene números del 0 al 39. Un inspector de casinos sospecha que los números bajos ocurren con mayor frecuencia. Para corroborarlo tira en forma independiente 108 veces una bolilla y cuenta la candidad de resultados que caen entre 0 y 9.\n",
    "\n",
    "#### a) De los 108 tiros se observan 40 resultados menores o iguales a 9. Plantear el test de hipótesis para verificar si es cierta la sospecha del inspector y decidir si hay evidencia suficiente para rechazar la hipótesis nula a nivel asintótico 0.06.\n",
    "\n",
    "#### b) Cuál es la potencia del test hallado en a) cuando la verdadera probabilidad de que salga un número entre 0 y 9 es 0.36?"
   ]
  },
  {
   "cell_type": "markdown",
   "metadata": {},
   "source": [
    "### a)\n",
    "Variables aleatorias involucradas en el test:\n",
    "\n",
    "$[X_i=\\left\\{\\begin{array}{ll} 1 &\\text{ si el } i-\\text{ésimo resultado fue menor o igual a 9}\\\\ 0 &\\text{ si no } \\end{array} \\right.]$\n",
    "\n",
    "$(X_i) son i.i.d.$\n",
    "\n",
    "$(X_i\\sim B(1,p))$\n",
    "\n",
    "$(p)$ es la verdadera probabilidad de que salga un resultado menor o igual a 9.\n",
    "\n",
    "Si la ruleta está equilibrada, $$p=1/4\\$$"
   ]
  },
  {
   "cell_type": "markdown",
   "metadata": {},
   "source": [
    "Hipótesis $(H_0:p= 0.25 \\text{ vs } H_1:p>0.25)$\n",
    "\n",
    "Recordar: $(H_1)$ es la hipótesis del investigador, es decir, lo que se quiere demostrar.\n",
    "\n",
    "Estadístico del test:\n",
    "\n",
    "$[\\hbox{ }Z:=\\frac{\\widehat p - 0.25}{\\sqrt{0.25(1-0.25)/108}}\\underset{% \\begin{array} [c]{c}% \\uparrow\\\\ \\text{Bajo $H_0$} \\end{array} }{ \\buildrel{a}\\over\\approx} \\mathcal N(0,1)]$\n",
    "\n",
    "donde $(\\hat p = \\overline X)$"
   ]
  },
  {
   "cell_type": "markdown",
   "metadata": {},
   "source": [
    "Región de rechazo de nivel \n",
    "(\\alpha\\) $\\[\\begin{eqnarray*}\\mathcal R=\\left\\{Z\\geq z_{\\alpha}\\right\\}&=& \\left\\{\\frac{\\widehat p - 0.25}{\\sqrt{0.25(1-0.25)/n}}\\geq z_{\\alpha}\\right\\}$ %&=&\\left\\{\\widehat p_n\\geq p_0+z_{\\alpha}\\sqrt{p_0(1-p_0)/108}\\right\\} \\end{eqnarray*}]\n",
    "\n",
    "p-valor: $(P(Z\\geq Z_{\\hbox{obs}}))=1-pnorm((Z_{\\hbox{obs}})-valor: (P(Z\\geq Z_{\\hbox{obs}}))=1-pnorm(\\(Z_{\\hbox{obs}})p)$\n",
    "\n",
    "Calculo $(Z_{obs})$ y me fijo si cae en la región de rechazo:\n",
    "\n",
    "\\[Z_{obs}= $\\frac{ 0.37 - 0.25}{\\sqrt{0.25(1-0.25)/108}} =2.89]$\n",
    "\n",
    "$(z_{0.06} = \\Phi^{-1}(1-0.06)=qnorm(0.94) = 1.55)$\n",
    "\n",
    "$(Z_{obs}>z_{\\alpha})$ por lo tanto estamos en la región de rechazo\n",
    "\n",
    "    Calculo el p-valor:\n",
    "\n",
    "$(P(Z\\geq Z_{\\hbox{obs}}))=1-pnorm(\\(2.89\\)) = 0.0019$"
   ]
  },
  {
   "cell_type": "markdown",
   "metadata": {},
   "source": [
    "\n",
    "Conclusión\n",
    "\n",
    "Como $(Z_{obs}>z_{0.06})$, rechazo $(H_0)$ a nivel $(0.06).$\n",
    "\n",
    "A la misma conclusión se llega mirando el p-valor :\n",
    "\n",
    "Como el p-valor<$(0.06)$, rechazo $(H_0)$ a nivel $(0.06)$\n",
    "\n",
    "Hay evidencia, a nivel $(0.06)$ de que los números bajos ocurren con mayor frecuencia.\n"
   ]
  },
  {
   "cell_type": "code",
   "execution_count": 1,
   "metadata": {
    "pycharm": {
     "name": "#%%\n"
    }
   },
   "outputs": [
    {
     "data": {
      "text/html": [
       "2.88888888888889"
      ],
      "text/latex": [
       "2.88888888888889"
      ],
      "text/markdown": [
       "2.88888888888889"
      ],
      "text/plain": [
       "[1] 2.888889"
      ]
     },
     "metadata": {},
     "output_type": "display_data"
    },
    {
     "data": {
      "text/html": [
       "TRUE"
      ],
      "text/latex": [
       "TRUE"
      ],
      "text/markdown": [
       "TRUE"
      ],
      "text/plain": [
       "[1] TRUE"
      ]
     },
     "metadata": {},
     "output_type": "display_data"
    },
    {
     "data": {
      "text/html": [
       "0.00193302826998187"
      ],
      "text/latex": [
       "0.00193302826998187"
      ],
      "text/markdown": [
       "0.00193302826998187"
      ],
      "text/plain": [
       "[1] 0.001933028"
      ]
     },
     "metadata": {},
     "output_type": "display_data"
    }
   ],
   "source": [
    "# En R\n",
    "phat <- 40/108\n",
    "p0 <- 0.25\n",
    "n <- 108\n",
    "zobs <- (phat-p0)/sqrt(p0*(1-p0)/n)\n",
    "zobs\n",
    "\n",
    "zalpha <- qnorm(0.95)\n",
    "zobs>zalpha\n",
    "\n",
    "pvalor <- 1-pnorm(zobs)\n",
    "pvalor"
   ]
  },
  {
   "cell_type": "markdown",
   "metadata": {},
   "source": [
    "### b) Tenemos que calcular la probabilidad de rechazar $(H_0)$ cuando el verdadero $(p)$ es 0.36.\n",
    "\n",
    "Uno nunca sabe cuál es el verdadero \\(p\\) pero es razonable preguntarse, ¿si el verdadero \\(p\\) fuera 0.36, cuál sería la probabilidad de que este test detecte que los números bajos salen con mayor frecuencia?\n",
    "\n",
    "$[\\pi(0.36) = P_{0.36}(\\text{ rechazar } H_0)] [= P_{0.36} \\left(\\frac{\\widehat p - 0.25}{\\sqrt{0.25(1-0.25)/108}}\\geq 1.55\\right)]$\n",
    "\n",
    "$[= P_{0.36} \\left(\\widehat p \\geq 1.55 \\sqrt{0.25(1-0.25)/108}+ 0.25 \\right)] \n",
    "\n",
    "\n",
    "    Ahora “estandarizo” usando el (p)$ correcto\n",
    "\n",
    "\n",
    "$[= P_{0.36} \\left(\\frac{\\widehat p - 0.36}{\\sqrt{0.36(1-0.36)/108}} \\geq \\frac{ 1.55 \\sqrt{0.25(1-0.25)/108}+ 0.25 -0.36}{\\sqrt{0.36(1-0.36)/108} } \\right)] [= P_{0.36} \\left(\\frac{\\widehat p - 0.36}{\\sqrt{0.36(1-0.36)/108}} \\geq -0.98\\right) \\approx 1-\\Phi(-0.98)]$"
   ]
  },
  {
   "cell_type": "code",
   "execution_count": null,
   "metadata": {
    "pycharm": {
     "name": "#%%\n"
    }
   },
   "outputs": [],
   "source": [
    "# Para calcular pi(0.36)) hago:\n",
    "(1.55 *sqrt(0.25*(1-0.25)/108)+ 0.25 -0.36)/sqrt(0.36*(1-0.36)/108)\n",
    "1-pnorm( (1.55 *sqrt(0.25*(1-0.25)/108)+ 0.25 -0.36)/sqrt(0.36*(1-0.36)/108))"
   ]
  },
  {
   "cell_type": "markdown",
   "metadata": {},
   "source": [
    "Por lo tanto\n",
    "\n",
    "$\\pi(0.36) = 0.84$"
   ]
  },
  {
   "cell_type": "markdown",
   "metadata": {},
   "source": [
    "### c)\n",
    "    Uno nunca sabe cuál es el verdadero $$(p)$$ pero es razonable preguntarse, ¿si el verdadero $(p)$ fuera mayor que 0.25, cuál sería la probabilidad de que este test detecte que los números bajos salen con mayor frecuencia?\n",
    "\n",
    "    Depende de quién sea $(p)$!! Para responder esta pregunta, hallamos la función de potencia, que es una función de $(p)$.\n",
    "\n",
    "    Intuitivamente, cuándo será mayor la probabilidad este test detecte que los números bajos salen con mayor frecuencia? Cuándo $(p)$ es grande o chico?\n"
   ]
  },
  {
   "cell_type": "markdown",
   "metadata": {},
   "source": [
    "$[\\pi(p) = P_{p} \\left(\\frac{\\widehat p - 0.25}{\\sqrt{0.25(1-0.25)/108}}\\geq 1.55\\right)]$\n",
    "\n",
    "$[= P_{p} \\left(\\widehat p \\geq 1.55 \\sqrt{0.25(1-0.25)/108}+ 0.25 \\right)]$ \n",
    "\n",
    "    Ahora “estandarizo” usando el $(p)$ correcto\n",
    "\n",
    "$[= P_{0.36} \\left(\\frac{\\widehat p - p}{\\sqrt{p(1-p)/108}} \\geq \\frac{1.55 \\sqrt{0.25(1-0.25)/108}+ 0.25 -p}{\\sqrt{p(1-p)/108} } \\right)] [= P_{p} \\left(\\frac{\\widehat p - p}{\\sqrt{p(1-p)/108}} \\geq\\frac{1.55 \\sqrt{0.25(1-0.25)}}{\\sqrt{p(1-p)}}+ \\frac{0.25 -p}{\\sqrt{p(1-p)/108} }\\right)]$\n",
    "$[ \\approx 1-\\Phi\\left(\\frac{1.55\\sqrt{0.25(1-0.25)}}{\\sqrt{p(1-p)}}+ \\frac{0.25 -p}{\\sqrt{p(1-p)/108} }\\right)]$\n",
    "\n"
   ]
  },
  {
   "cell_type": "code",
   "execution_count": null,
   "metadata": {
    "pycharm": {
     "name": "#%%\n"
    }
   },
   "outputs": [],
   "source": [
    "potencia <- function(p){\n",
    "  1-pnorm( (1.55 * sqrt(0.25*(1-0.25)/108)+ 0.25 -p)/sqrt(p*(1-p)/108))\n",
    "}\n",
    "\n",
    "\n",
    "p <- seq(0.1,0.9,0.01)\n",
    "imp <- potencia(p)\n",
    "plot(p, imp, type=\"l\", xlab=\"p\", ylab=\"potencia\")\n",
    "abline(v=0.25)\n",
    "abline(h=0.06)"
   ]
  },
  {
   "cell_type": "markdown",
   "metadata": {},
   "source": [
    "Que pasa con la potencia si $(n)$ es más chico?\n",
    "\n",
    "Graficar la potencia para un $(p)$ fijo, digamos $(0.36)$ y \\(n\\) variable.\n",
    "\n",
    "Regla: Cuando se usa el TCL para aproximar la distribución de una proporción, la aproximación se puede usar si $(n*\\hat p\\geq 5)$ y $(n*(1-\\hat p)\\geq 5)$\n"
   ]
  },
  {
   "cell_type": "code",
   "execution_count": null,
   "metadata": {
    "pycharm": {
     "name": "#%%\n"
    }
   },
   "outputs": [],
   "source": [
    "potencia_036 <- function(n){\n",
    "  p <- 0.36\n",
    "  1-pnorm(1.55 * (sqrt(0.25*(1-0.25)/n)+ 0.25 -p)/sqrt(p*(1-p)/n))\n",
    "}\n",
    "\n",
    "n <- 20:110\n",
    "imp <- potencia_036(n)\n",
    "plot(n, imp, type=\"l\", xlab=\"n\", ylab=\"potencia para p=0.36\")"
   ]
  },
  {
   "cell_type": "markdown",
   "metadata": {},
   "source": [
    "potencia_036 <- function(n){\n",
    "  p <- 0.36\n",
    "  1-pnorm(1.55 * (sqrt(0.25*(1-0.25)/n)+ 0.25 -p)/sqrt(p*(1-p)/n))\n",
    "}\n",
    "\n",
    "n <- 20:110\n",
    "imp <- potencia_036(n)\n",
    "plot(n, imp, type=\"l\", xlab=\"n\", ylab=\"potencia para p=0.36\")"
   ]
  },
  {
   "cell_type": "markdown",
   "metadata": {},
   "source": [
    "Hipótesis $(H_0:p= 0.25 \\text{ vs } H_1:p>0.25)$\n",
    "\n",
    "Recordar: $(H_1)$ es la hipótesis del investigador, es decir, lo que se quiere demostrar.\n",
    "\n",
    "Estadístico del test:\n",
    "\n",
    "$[\\hbox{ }Z:=\\frac{\\widehat p - 0.25}{\\sqrt{0.25(1-0.25)/108}}\\underset{% \\begin{array} [c]{c}% \\uparrow\\\\ \\text{Bajo $H_0$} \\end{array} }{ \\buildrel{a}\\over\\approx} \\mathcal N(0,1)]$\n",
    "\n",
    "donde $(\\hat p = \\overline X)$"
   ]
  },
  {
   "cell_type": "markdown",
   "metadata": {},
   "source": [
    "Región de rechazo de nivel \n",
    "(\\alpha\\) $\\[\\begin{eqnarray*}\\mathcal R=\\left\\{Z\\geq z_{\\alpha}\\right\\}&=& \\left\\{\\frac{\\widehat p - 0.25}{\\sqrt{0.25(1-0.25)/n}}\\geq z_{\\alpha}\\right\\}$ %&=&\\left\\{\\widehat p_n\\geq p_0+z_{\\alpha}\\sqrt{p_0(1-p_0)/108}\\right\\} \\end{eqnarray*}]\n",
    "\n",
    "p-valor: $(P(Z\\geq Z_{\\hbox{obs}}))=1-pnorm((Z_{\\hbox{obs}})-valor: (P(Z\\geq Z_{\\hbox{obs}}))=1-pnorm(\\(Z_{\\hbox{obs}})p)$\n",
    "\n",
    "Calculo $(Z_{obs})$ y me fijo si cae en la región de rechazo:\n",
    "\n",
    "\\[Z_{obs}= $\\frac{ 0.37 - 0.25}{\\sqrt{0.25(1-0.25)/108}} =2.89]$\n",
    "\n",
    "$(z_{0.06} = \\Phi^{-1}(1-0.06)=qnorm(0.94) = 1.55)$\n",
    "\n",
    "$(Z_{obs}>z_{\\alpha})$ por lo tanto estamos en la región de rechazo\n",
    "\n",
    "    Calculo el p-valor:\n",
    "\n",
    "$(P(Z\\geq Z_{\\hbox{obs}}))=1-pnorm(\\(2.89\\)) = 0.0019$"
   ]
  },
  {
   "cell_type": "markdown",
   "metadata": {},
   "source": [
    "\n",
    "Conclusión\n",
    "\n",
    "Como $(Z_{obs}>z_{0.06})$, rechazo $(H_0)$ a nivel $(0.06).$\n",
    "\n",
    "A la misma conclusión se llega mirando el p-valor :\n",
    "\n",
    "Como el p-valor<$(0.06)$, rechazo $(H_0)$ a nivel $(0.06)$\n",
    "\n",
    "Hay evidencia, a nivel $(0.06)$ de que los números bajos ocurren con mayor frecuencia.\n"
   ]
  },
  {
   "cell_type": "code",
   "execution_count": 7,
   "metadata": {},
   "outputs": [
    {
     "data": {
      "text/html": [
       "2.88888888888889"
      ],
      "text/latex": [
       "2.88888888888889"
      ],
      "text/markdown": [
       "2.88888888888889"
      ],
      "text/plain": [
       "[1] 2.888889"
      ]
     },
     "metadata": {},
     "output_type": "display_data"
    },
    {
     "data": {
      "text/html": [
       "TRUE"
      ],
      "text/latex": [
       "TRUE"
      ],
      "text/markdown": [
       "TRUE"
      ],
      "text/plain": [
       "[1] TRUE"
      ]
     },
     "metadata": {},
     "output_type": "display_data"
    },
    {
     "data": {
      "text/html": [
       "0.00193302826998187"
      ],
      "text/latex": [
       "0.00193302826998187"
      ],
      "text/markdown": [
       "0.00193302826998187"
      ],
      "text/plain": [
       "[1] 0.001933028"
      ]
     },
     "metadata": {},
     "output_type": "display_data"
    }
   ],
   "source": [
    "# En R\n",
    "phat <- 40/108\n",
    "p0 <- 0.25\n",
    "n <- 108\n",
    "zobs <- (phat-p0)/sqrt(p0*(1-p0)/n)\n",
    "zobs\n",
    "\n",
    "zalpha <- qnorm(0.95)\n",
    "zobs>zalpha\n",
    "\n",
    "pvalor <- 1-pnorm(zobs)\n",
    "pvalor"
   ]
  },
  {
   "cell_type": "markdown",
   "metadata": {},
   "source": [
    "### b) Tenemos que calcular la probabilidad de rechazar $(H_0)$ cuando el verdadero $(p)$ es 0.36.\n",
    "\n",
    "Uno nunca sabe cuál es el verdadero \\(p\\) pero es razonable preguntarse, ¿si el verdadero \\(p\\) fuera 0.36, cuál sería la probabilidad de que este test detecte que los números bajos salen con mayor frecuencia?\n",
    "\n",
    "$[\\pi(0.36) = P_{0.36}(\\text{ rechazar } H_0)] [= P_{0.36} \\left(\\frac{\\widehat p - 0.25}{\\sqrt{0.25(1-0.25)/108}}\\geq 1.55\\right)]$\n",
    "\n",
    "$[= P_{0.36} \\left(\\widehat p \\geq 1.55 \\sqrt{0.25(1-0.25)/108}+ 0.25 \\right)] \n",
    "\n",
    "\n",
    "    Ahora “estandarizo” usando el (p)$ correcto\n",
    "\n",
    "\n",
    "$[= P_{0.36} \\left(\\frac{\\widehat p - 0.36}{\\sqrt{0.36(1-0.36)/108}} \\geq \\frac{ 1.55 \\sqrt{0.25(1-0.25)/108}+ 0.25 -0.36}{\\sqrt{0.36(1-0.36)/108} } \\right)] [= P_{0.36} \\left(\\frac{\\widehat p - 0.36}{\\sqrt{0.36(1-0.36)/108}} \\geq -0.98\\right) \\approx 1-\\Phi(-0.98)]$"
   ]
  },
  {
   "cell_type": "code",
   "execution_count": 10,
   "metadata": {},
   "outputs": [
    {
     "data": {
      "text/html": [
       "-0.983299677213581"
      ],
      "text/latex": [
       "-0.983299677213581"
      ],
      "text/markdown": [
       "-0.983299677213581"
      ],
      "text/plain": [
       "[1] -0.9832997"
      ]
     },
     "metadata": {},
     "output_type": "display_data"
    },
    {
     "data": {
      "text/html": [
       "0.837270015525847"
      ],
      "text/latex": [
       "0.837270015525847"
      ],
      "text/markdown": [
       "0.837270015525847"
      ],
      "text/plain": [
       "[1] 0.83727"
      ]
     },
     "metadata": {},
     "output_type": "display_data"
    }
   ],
   "source": [
    "# Para calcular pi(0.36)) hago:\n",
    "(1.55 *sqrt(0.25*(1-0.25)/108)+ 0.25 -0.36)/sqrt(0.36*(1-0.36)/108)\n",
    "1-pnorm( (1.55 *sqrt(0.25*(1-0.25)/108)+ 0.25 -0.36)/sqrt(0.36*(1-0.36)/108))"
   ]
  },
  {
   "cell_type": "markdown",
   "metadata": {},
   "source": [
    "Por lo tanto\n",
    "\n",
    "$\\pi(0.36) = 0.84$"
   ]
  },
  {
   "cell_type": "markdown",
   "metadata": {},
   "source": [
    "### c)\n",
    "    Uno nunca sabe cuál es el verdadero $$(p)$$ pero es razonable preguntarse, ¿si el verdadero $(p)$ fuera mayor que 0.25, cuál sería la probabilidad de que este test detecte que los números bajos salen con mayor frecuencia?\n",
    "\n",
    "    Depende de quién sea $(p)$!! Para responder esta pregunta, hallamos la función de potencia, que es una función de $(p)$.\n",
    "\n",
    "    Intuitivamente, cuándo será mayor la probabilidad este test detecte que los números bajos salen con mayor frecuencia? Cuándo $(p)$ es grande o chico?\n"
   ]
  },
  {
   "cell_type": "markdown",
   "metadata": {},
   "source": [
    "$[\\pi(p) = P_{p} \\left(\\frac{\\widehat p - 0.25}{\\sqrt{0.25(1-0.25)/108}}\\geq 1.55\\right)]$\n",
    "\n",
    "$[= P_{p} \\left(\\widehat p \\geq 1.55 \\sqrt{0.25(1-0.25)/108}+ 0.25 \\right)]$ \n",
    "\n",
    "    Ahora “estandarizo” usando el $(p)$ correcto\n",
    "\n",
    "$[= P_{0.36} \\left(\\frac{\\widehat p - p}{\\sqrt{p(1-p)/108}} \\geq \\frac{1.55 \\sqrt{0.25(1-0.25)/108}+ 0.25 -p}{\\sqrt{p(1-p)/108} } \\right)] [= P_{p} \\left(\\frac{\\widehat p - p}{\\sqrt{p(1-p)/108}} \\geq\\frac{1.55 \\sqrt{0.25(1-0.25)}}{\\sqrt{p(1-p)}}+ \\frac{0.25 -p}{\\sqrt{p(1-p)/108} }\\right)]$\n",
    "$[ \\approx 1-\\Phi\\left(\\frac{1.55\\sqrt{0.25(1-0.25)}}{\\sqrt{p(1-p)}}+ \\frac{0.25 -p}{\\sqrt{p(1-p)/108} }\\right)]$\n",
    "\n"
   ]
  },
  {
   "cell_type": "code",
   "execution_count": 12,
   "metadata": {},
   "outputs": [
    {
     "data": {
      "image/png": "[encoded data removed]",
      "text/plain": [
       "plot without title"
      ]
     },
     "metadata": {
      "image/png": {
       "height": 420,
       "width": 420
      },
      "text/plain": {
       "height": 420,
       "width": 420
      }
     },
     "output_type": "display_data"
    }
   ],
   "source": [
    "potencia <- function(p){\n",
    "  1-pnorm( (1.55 * sqrt(0.25*(1-0.25)/108)+ 0.25 -p)/sqrt(p*(1-p)/108))\n",
    "}\n",
    "\n",
    "\n",
    "p <- seq(0.1,0.9,0.01)\n",
    "imp <- potencia(p)\n",
    "plot(p, imp, type=\"l\", xlab=\"p\", ylab=\"potencia\")\n",
    "abline(v=0.25)\n",
    "abline(h=0.06)"
   ]
  },
  {
   "cell_type": "markdown",
   "metadata": {},
   "source": [
    "Que pasa con la potencia si $(n)$ es más chico?\n",
    "\n",
    "Graficar la potencia para un $(p)$ fijo, digamos $(0.36)$ y \\(n\\) variable.\n",
    "\n",
    "Regla: Cuando se usa el TCL para aproximar la distribución de una proporción, la aproximación se puede usar si $(n*\\hat p\\geq 5)$ y $(n*(1-\\hat p)\\geq 5)$\n"
   ]
  },
  {
   "cell_type": "code",
   "execution_count": 14,
   "metadata": {},
   "outputs": [
    {
     "data": {
      "image/png": "[encoded data removed]",
      "text/plain": [
       "plot without title"
      ]
     },
     "metadata": {
      "image/png": {
       "height": 420,
       "width": 420
      },
      "text/plain": {
       "height": 420,
       "width": 420
      }
     },
     "output_type": "display_data"
    }
   ],
   "source": [
    "potencia_036 <- function(n){\n",
    "  p <- 0.36\n",
    "  1-pnorm(1.55 * (sqrt(0.25*(1-0.25)/n)+ 0.25 -p)/sqrt(p*(1-p)/n))\n",
    "}\n",
    "\n",
    "n <- 20:110\n",
    "imp <- potencia_036(n)\n",
    "plot(n, imp, type=\"l\", xlab=\"n\", ylab=\"potencia para p=0.36\")"
   ]
  }
 ],
 "metadata": {
  "kernelspec": {
   "display_name": "R",
   "language": "R",
   "name": "ir"
  },
  "language_info": {
   "codemirror_mode": "r",
   "file_extension": ".r",
   "mimetype": "text/x-r-source",
   "name": "R",
   "pygments_lexer": "r",
   "version": "3.6.3"
  }
 },
 "nbformat": 4,
 "nbformat_minor": 1
}