{
 "cells": [
  {
   "cell_type": "code",
   "execution_count": 12,
   "metadata": {},
   "outputs": [
    {
     "data": {
      "text/html": [
       "187.244"
      ],
      "text/latex": [
       "187.244"
      ],
      "text/markdown": [
       "187.244"
      ],
      "text/plain": [
       "[1] 187.244"
      ]
     },
     "metadata": {},
     "output_type": "display_data"
    },
    {
     "data": {
      "text/html": [
       "25"
      ],
      "text/latex": [
       "25"
      ],
      "text/markdown": [
       "25"
      ],
      "text/plain": [
       "[1] 25"
      ]
     },
     "metadata": {},
     "output_type": "display_data"
    },
    {
     "data": {
      "text/html": [
       "8.55351194929116"
      ],
      "text/latex": [
       "8.55351194929116"
      ],
      "text/markdown": [
       "8.55351194929116"
      ],
      "text/plain": [
       "[1] 8.553512"
      ]
     },
     "metadata": {},
     "output_type": "display_data"
    },
    {
     "data": {
      "text/html": [
       "' IC: de nivel 0.9 para sigma con mu desconocido [ 48.2191466611883 , 126.794317516611 ]'"
      ],
      "text/latex": [
       "' IC: de nivel 0.9 para sigma con mu desconocido {[} 48.2191466611883 , 126.794317516611 {]}'"
      ],
      "text/markdown": [
       "' IC: de nivel 0.9 para sigma con mu desconocido [ 48.2191466611883 , 126.794317516611 ]'"
      ],
      "text/plain": [
       " IC: de nivel 0.9 para sigma con mu desconocido [ 48.2191466611883 , 126.794317516611 ]"
      ]
     },
     "metadata": {},
     "output_type": "display_data"
    }
   ],
   "source": [
    "# Ejr parcial intervalos\n",
    "# calcular IC para una Bernoulli\n",
    "library(glue)\n",
    "muestra<-c(176.50,188.10,193.80,199.60,201.00,191.50,187.40,187.00,190.40,192.50,186.90,185.10,179.00,206.80,176.60,181.10,176.90,173.00,193.00,180.10,195.70,191.20,184.40,177.10,186.40)\n",
    "\n",
    "# promedio<-1060\n",
    "mean(muestra)\n",
    "# n<-25\n",
    "n<-length(muestra)\n",
    "n\n",
    "alpha<-0.1\n",
    "nivel<-1-alpha\n",
    "mu<-185\n",
    "# s<-340 # = sd(muestra)\n",
    "s<-sd(muestra)\n",
    "s\n",
    "s_cuadr<-s**2 # = var(muestra)\n",
    "\n",
    "### Distribucion NORMAL ###\n",
    "\n",
    "### Si buscamos intervalo para mu: ###\n",
    "# Conocemos sigma\n",
    "# 1 - 1 : elegir el sd (Normal Std)\n",
    "# Desconocemos sigma\n",
    "# 1 - 0 : elegir el s_cuadr (T-student)\n",
    "\n",
    "### Si buscamos intervalo para sigma: ###\n",
    "# Conocemos mu\n",
    "# 0 - 0: (Chi_Cuadrado n)\n",
    "# Desconocemos mu\n",
    "# 0 - 1 : elegir el s_cuadr (Chi_Cuadrado n-1)\n",
    "\n",
    "mu_cond<-0\n",
    "sigma_cond<-1\n",
    "\n",
    "if (mu_cond==1 & sigma_cond==1){\n",
    "    \n",
    "    # # var<- 0.25 # no confundirse con sd\n",
    "    # sd<-sqrt(var)\n",
    "\n",
    "   \n",
    "    if (qnorm(alpha/2)){\n",
    "\n",
    "    z_alpha_2<-qnorm(alpha/2)*(-1)\n",
    "\n",
    "    }\n",
    "    glue(\" z_alpha/2: {z_alpha_2} \")\n",
    "    IC_izq<- promedio - (s/sqrt(n))*z_alpha_2\n",
    "    IC_der<- promedio + (s/sqrt(n))*z_alpha_2\n",
    "    glue(\" IC: de nivel {nivel} para mu con sigma conocido [ {IC_izq} , {IC_der} ]\")\n",
    "    \n",
    "    } else if ((mu_cond==1 & sigma_cond==0) | (mu_cond==0 & sigma_cond==1)) {\n",
    "    # Asi tomamos las 2 que usan S²\n",
    "    # Si sigma desconocido usamos S²\n",
    "    # a medida que n->inf, t_n-1->Z\n",
    "\n",
    "    # s_cuadr<-2/(n-1)\n",
    "    # s_cuadr<-sd**2\n",
    "    #s<-340\n",
    "    #s_cuadr<-s**2\n",
    "\n",
    "    if (mu_cond==1){\n",
    "    t_n_menos1_a_2<-qt(alpha/2,n-1,lower.tail = FALSE)\n",
    "    glue(\" t_n_menos1_a_2: {t_n_menos1_a_2} \")\n",
    "\n",
    "    IC_izq<- promedio - (sqrt(s_cuadr)/sqrt(n))*t_n_menos1_a_2\n",
    "    IC_der<- promedio + (sqrt(s_cuadr)/sqrt(n))*t_n_menos1_a_2\n",
    "    glue(\" IC: de nivel {nivel} para mu con sigma desconocido [ {IC_izq} , {IC_der} ]\")\n",
    "\n",
    "    } else {\n",
    "    qchisq_n_menos1_a_2<- qchisq(alpha/2,n-1,lower.tail = FALSE)\n",
    "    qchisq_n_menos1_1_menos_a_2<-qchisq(1-alpha/2,n-1, lower.tail = FALSE)\n",
    "\n",
    "    IC_der<- (n-1)*s_cuadr / qchisq_n_menos1_1_menos_a_2\n",
    "    IC_izq<- (n-1)*s_cuadr / qchisq_n_menos1_a_2\n",
    "    glue(\" IC: de nivel {nivel} para sigma con mu desconocido [ {IC_izq} , {IC_der} ]\")\n",
    "        }\n",
    "    \n",
    "    } else {\n",
    "\n",
    "    # mean<-2\n",
    "    # X<-3\n",
    "    # u<-sum(X-mean)**2\n",
    "\n",
    "    # S_cuadr representa: S²\n",
    "    # S_cuadr<-241.9234\n",
    "    cat(\"HOLA\")\n",
    "    qchisq_n_a_2<- qchisq(alpha/2,n,lower.tail = FALSE)\n",
    "    qchisq_n_1_menos_a_2<-qchisq(1-alpha/2,n, lower.tail = FALSE)\n",
    "    IC_izq<- sum((muestra-mu)**2) / qchisq_n_a_2\n",
    "    IC_der<- sum((muestra-mu)**2) / qchisq_n_1_menos_a_2\n",
    "    glue(\" IC: de nivel {nivel} para sigma con mu conocido [ {IC_izq} , {IC_der} ]\") \n",
    "    }\n",
    "\n",
    "# Longitud de un intervalo no depende de los valores de la muestra pero si del tamaño de la misma\n",
    "# encontrar el n minimo tal que longitud del IC sea menor que w\n",
    "#2*z_alpha_2*(sd/sqrt(n)) <= w\n",
    "\n",
    "# w<-0.01\n",
    "# ene<-((2*z_alpha_2)*(s/w))**2\n",
    "# glue(\" n: {ene}\")"
   ]
  },
  {
   "cell_type": "code",
   "execution_count": null,
   "metadata": {},
   "outputs": [],
   "source": [
    "set.seed(424242)\n",
    "\n",
    "normVarConocida <- function( muestra, desvio, alfa ) {\n",
    "  poblacion <- length( muestra )\n",
    "  media <- mean( muestra )\n",
    "  cuantil <- qnorm( p = 1 - ( alfa / 2 ) )\n",
    "  radio <- desvio * ( 1 / sqrt( poblacion ) ) * cuantil\n",
    "  return(\n",
    "    list(\n",
    "      inferior = media - radio,\n",
    "      superior = media + radio\n",
    "    )\n",
    "  )\n",
    "}\n",
    "\n",
    "normVarDesconocida <- function( muestra, alfa ) {\n",
    "  poblacion <- length( muestra )\n",
    "  media <- mean( muestra )\n",
    "  desvioMuestral <- sd( muestra )\n",
    "  cuantil <- qt( p = 1 - ( alfa / 2 ), df = poblacion - 1 )\n",
    "  radio <- desvioMuestral * ( 1 / sqrt( poblacion ) ) * cuantil\n",
    "  return(\n",
    "    list(\n",
    "      inferior = media - radio,\n",
    "      superior = media + radio\n",
    "    )\n",
    "  )\n",
    "}\n",
    "\n",
    "## miro una salida cualquiera\n",
    "normVarDesconocida( vector1, alfa = 0.05 )\n",
    "\n",
    "## Parametrizamos una media y un desvío del proceso generador de los datos, así después en caso de querer cambios los podemos hacer fácilmente y no tenemos que ir repitiendo constantes.\n",
    "mediaTeorica <- 31\n",
    "desvioTeorico <- sqrt(2)\n",
    "## Este es el total de simulaciones a realizar entre todos los casos considerados (longitud de la prueba).\n",
    "longitud <- 800\n",
    "\n",
    "## Miro las salidas a ver si están bien en una muestra cualquiera, vector1\n",
    "vector1 <- rnorm( n = 30, mean = 31, sd = sqrt(2) )\n",
    "\n",
    "\n",
    "normVarConocida( vector1, desvio = sqrt(2), alfa = 0.05 )\n",
    "normVarDesconocida ( vector1, alfa = 0.05)"
   ]
  },
  {
   "cell_type": "code",
   "execution_count": 21,
   "metadata": {},
   "outputs": [
    {
     "data": {
      "text/html": [
       "' IC: de nivel 0.9 EXACTO para sigma con mu conocido [ 0.926439909541989 , 1.07356009045801 ]'"
      ],
      "text/latex": [
       "' IC: de nivel 0.9 EXACTO para sigma con mu conocido {[} 0.926439909541989 , 1.07356009045801 {]}'"
      ],
      "text/markdown": [
       "' IC: de nivel 0.9 EXACTO para sigma con mu conocido [ 0.926439909541989 , 1.07356009045801 ]'"
      ],
      "text/plain": [
       " IC: de nivel 0.9 EXACTO para sigma con mu conocido [ 0.926439909541989 , 1.07356009045801 ]"
      ]
     },
     "metadata": {},
     "output_type": "display_data"
    },
    {
     "data": {
      "text/html": [
       "0.198495108378474"
      ],
      "text/latex": [
       "0.198495108378474"
      ],
      "text/markdown": [
       "0.198495108378474"
      ],
      "text/plain": [
       "[1] 0.1984951"
      ]
     },
     "metadata": {},
     "output_type": "display_data"
    },
    {
     "data": {
      "text/html": [
       "' IC: de nivel 0.9 ASINTOTICO para sigma con mu conocido [ 0.912347745942342 , 1.08765225405766 ]'"
      ],
      "text/latex": [
       "' IC: de nivel 0.9 ASINTOTICO para sigma con mu conocido {[} 0.912347745942342 , 1.08765225405766 {]}'"
      ],
      "text/markdown": [
       "' IC: de nivel 0.9 ASINTOTICO para sigma con mu conocido [ 0.912347745942342 , 1.08765225405766 ]'"
      ],
      "text/plain": [
       " IC: de nivel 0.9 ASINTOTICO para sigma con mu conocido [ 0.912347745942342 , 1.08765225405766 ]"
      ]
     },
     "metadata": {},
     "output_type": "display_data"
    }
   ],
   "source": [
    "# Para una exponencial de parametro lambda\n",
    "# Nivel exacto\n",
    "n<-20\n",
    "alpha<-0.05\n",
    "muestra<-1\n",
    "\n",
    "cociente <- function(n,alpha){\n",
    "    z <- qnorm(alpha/2, lower.tail = FALSE);\n",
    "    chi1 <- qchisq(alpha/2, df = 2*n, lower.tail = FALSE);\n",
    "    chi2 <- qchisq(1-alpha/2, df = 2*n, lower.tail = FALSE);\n",
    "    nivel<-1-alpha\n",
    "    IC_izq<-chi2/(2*(sum(muestra)))\n",
    "    IC_der<-chi1/(2*(sum(muestra)))\n",
    "    return((n-z*z)/z * (1/chi2 - 1/chi1));\n",
    "}\n",
    "\n",
    "glue(\" IC: de nivel {nivel} EXACTO para sigma con mu conocido [ {IC_izq} , {IC_der} ]\") \n",
    "cociente(n,alpha)\n",
    "\n",
    "# Nivel asintotico\n",
    "n<-20\n",
    "promedio<-5\n",
    "z <- qnorm(alpha/2, lower.tail = FALSE)\n",
    "IC_izq<-(1-z/sqrt(n)*1/promedio)\n",
    "IC_der<-(1+z/sqrt(n)*1/promedio)\n",
    "glue(\" IC: de nivel {nivel} ASINTOTICO para sigma con mu conocido [ {IC_izq} , {IC_der} ]\") \n"
   ]
  },
  {
   "cell_type": "code",
   "execution_count": 98,
   "metadata": {},
   "outputs": [
    {
     "data": {
      "text/html": [
       "0.61"
      ],
      "text/latex": [
       "0.61"
      ],
      "text/markdown": [
       "0.61"
      ],
      "text/plain": [
       "[1] 0.61"
      ]
     },
     "metadata": {},
     "output_type": "display_data"
    },
    {
     "data": {
      "text/html": [
       "<style>\n",
       ".list-inline {list-style: none; margin:0; padding: 0}\n",
       ".list-inline>li {display: inline-block}\n",
       ".list-inline>li:not(:last-child)::after {content: \"\\00b7\"; padding: 0 .5ex}\n",
       "</style>\n",
       "<ol class=list-inline><li>0.529772274883972</li><li>0.690227725116028</li></ol>\n"
      ],
      "text/latex": [
       "\\begin{enumerate*}\n",
       "\\item 0.529772274883972\n",
       "\\item 0.690227725116028\n",
       "\\end{enumerate*}\n"
      ],
      "text/markdown": [
       "1. 0.529772274883972\n",
       "2. 0.690227725116028\n",
       "\n",
       "\n"
      ],
      "text/plain": [
       "[1] 0.5297723 0.6902277"
      ]
     },
     "metadata": {},
     "output_type": "display_data"
    }
   ],
   "source": [
    "# Para una bernoulli\n",
    "cantEnContra<-600\n",
    "n<-1000\n",
    "\n",
    "p_hat <- cantEnContra / n\n",
    "alpha<-0.1\n",
    "\n",
    "zp <- -qnorm(alpha/2)\n",
    "sigma2_hat <- p_hat * (1 - p_hat)\n",
    "n <- cantEncuestados\n",
    "pivote<-zp * sqrt( sigma2_hat / n)\n",
    "intervaloBer <- c( p_hat - pivote ,\n",
    "                   p_hat + pivote)\n",
    "intervaloBer\n",
    "\n",
    "#longitud del intervalo\n",
    "w<-0.02\n",
    "n<-(2*zp*sqrt(p_hat*(1-p_hat))/w)**2\n",
    "n\n",
    "\n",
    "# Para una binomial ~Bi(k,p)\n",
    "promedio<-\n",
    "k<-1\n",
    "phat<-promedio/k\n",
    "pivote<-zp*sqrt((phat*(1-phat))/n*k)\n",
    "intervaloBin <- c( p_hat - pivote ,\n",
    "                   p_hat + pivote)\n",
    "intervaloBin"
   ]
  },
  {
   "cell_type": "code",
   "execution_count": null,
   "metadata": {},
   "outputs": [],
   "source": [
    "# Para una unif (0, Tita)"
   ]
  },
  {
   "cell_type": "markdown",
   "metadata": {},
   "source": [
    "Basado en [1](http://halweb.uc3m.es/esp/Personal/personas/jmmarin/esp/Boots/tema8BooPres.pdf)"
   ]
  },
  {
   "cell_type": "code",
   "execution_count": 3,
   "metadata": {},
   "outputs": [
    {
     "data": {
      "image/png": "[encoded data removed]",
      "text/plain": [
       "Plot with title “”"
      ]
     },
     "metadata": {
      "image/png": {
       "height": 420,
       "width": 420
      },
      "text/plain": {
       "height": 420,
       "width": 420
      }
     },
     "output_type": "display_data"
    },
    {
     "data": {
      "image/png": "[encoded data removed]",
      "text/plain": [
       "Plot with title “Normal Q-Q Plot”"
      ]
     },
     "metadata": {
      "image/png": {
       "height": 420,
       "width": 420
      },
      "text/plain": {
       "height": 420,
       "width": 420
      }
     },
     "output_type": "display_data"
    }
   ],
   "source": [
    "# Datos de aites acondicionados \n",
    "data(aircondit , package=\"boot\")\n",
    "plot(ecdf(aircondit$hours),main=\"\",xlab=\"tiempos  entre  fallos\")\n",
    "qqnorm(aircondit$hours)\n",
    "qqline(aircondit$hours , col=\"blue\")\n"
   ]
  },
  {
   "cell_type": "code",
   "execution_count": 6,
   "metadata": {},
   "outputs": [
    {
     "data": {
      "image/png": "[encoded data removed]",
      "text/plain": [
       "Plot with title “”"
      ]
     },
     "metadata": {
      "image/png": {
       "height": 420,
       "width": 420
      },
      "text/plain": {
       "height": 420,
       "width": 420
      }
     },
     "output_type": "display_data"
    }
   ],
   "source": [
    "n = length(aircondit$hours)\n",
    "lambda = length(aircondit$hours)/sum(aircondit$hours)\n",
    "plot(ecdf(aircondit$hours),main=\"\",xlab=\"tiempos  entre  fallos\")\n",
    "with(list(x=seq (0 ,500,10)),lines(1-exp(-lambda*x)~x,lty=\"dotted\"))"
   ]
  },
  {
   "cell_type": "code",
   "execution_count": 9,
   "metadata": {},
   "outputs": [
    {
     "data": {
      "text/html": [
       "<style>\n",
       ".list-inline {list-style: none; margin:0; padding: 0}\n",
       ".list-inline>li {display: inline-block}\n",
       ".list-inline>li:not(:last-child)::after {content: \"\\00b7\"; padding: 0 .5ex}\n",
       "</style>\n",
       "<ol class=list-inline><li>65.8976456693463</li><li>209.174145503945</li></ol>\n"
      ],
      "text/latex": [
       "\\begin{enumerate*}\n",
       "\\item 65.8976456693463\n",
       "\\item 209.174145503945\n",
       "\\end{enumerate*}\n"
      ],
      "text/markdown": [
       "1. 65.8976456693463\n",
       "2. 209.174145503945\n",
       "\n",
       "\n"
      ],
      "text/plain": [
       "[1]  65.89765 209.17415"
      ]
     },
     "metadata": {},
     "output_type": "display_data"
    }
   ],
   "source": [
    "# Calculamos el IC para la media\n",
    "n = length(aircondit$hours)\n",
    "media = sum(aircondit$hours)/length(aircondit$hours)\n",
    "alfa = 0.05\n",
    "sapply(c(1-alfa/2, alfa/2),\n",
    "       function(alfa) (2*n*media)/qchisq(alfa ,2*n))"
   ]
  },
  {
   "cell_type": "code",
   "execution_count": 13,
   "metadata": {},
   "outputs": [
    {
     "data": {
      "text/html": [
       "<table>\n",
       "<caption>A matrix: 1 × 2 of type dbl</caption>\n",
       "<thead>\n",
       "\t<tr><th></th><th scope=col>2.5 %</th><th scope=col>97.5 %</th></tr>\n",
       "</thead>\n",
       "<tbody>\n",
       "\t<tr><th scope=row>(Intercept)</th><td>21.52561</td><td>194.6411</td></tr>\n",
       "</tbody>\n",
       "</table>\n"
      ],
      "text/latex": [
       "A matrix: 1 × 2 of type dbl\n",
       "\\begin{tabular}{r|ll}\n",
       "  & 2.5 \\% & 97.5 \\%\\\\\n",
       "\\hline\n",
       "\t(Intercept) & 21.52561 & 194.6411\\\\\n",
       "\\end{tabular}\n"
      ],
      "text/markdown": [
       "\n",
       "A matrix: 1 × 2 of type dbl\n",
       "\n",
       "| <!--/--> | 2.5 % | 97.5 % |\n",
       "|---|---|---|\n",
       "| (Intercept) | 21.52561 | 194.6411 |\n",
       "\n"
      ],
      "text/plain": [
       "            2.5 %    97.5 %  \n",
       "(Intercept) 21.52561 194.6411"
      ]
     },
     "metadata": {},
     "output_type": "display_data"
    }
   ],
   "source": [
    "# Aproximacion normal basada en estimadores parametricos deσ:\n",
    "confint(lm(hours~1, data=aircondit ))"
   ]
  },
  {
   "cell_type": "code",
   "execution_count": 23,
   "metadata": {},
   "outputs": [
    {
     "data": {
      "text/html": [
       "108.083333333333"
      ],
      "text/latex": [
       "108.083333333333"
      ],
      "text/markdown": [
       "108.083333333333"
      ],
      "text/plain": [
       "[1] 108.0833"
      ]
     },
     "metadata": {},
     "output_type": "display_data"
    },
    {
     "data": {
      "text/html": [
       "<style>\n",
       ".list-inline {list-style: none; margin:0; padding: 0}\n",
       ".list-inline>li {display: inline-block}\n",
       ".list-inline>li:not(:last-child)::after {content: \"\\00b7\"; padding: 0 .5ex}\n",
       "</style>\n",
       "<ol class=list-inline><li>2.20098516009164</li><li>-2.20098516009164</li></ol>\n"
      ],
      "text/latex": [
       "\\begin{enumerate*}\n",
       "\\item 2.20098516009164\n",
       "\\item -2.20098516009164\n",
       "\\end{enumerate*}\n"
      ],
      "text/markdown": [
       "1. 2.20098516009164\n",
       "2. -2.20098516009164\n",
       "\n",
       "\n"
      ],
      "text/plain": [
       "[1]  2.200985 -2.200985"
      ]
     },
     "metadata": {},
     "output_type": "display_data"
    }
   ],
   "source": [
    "# Una manera de mejorar los intervalos asintoticos, cuando las muestras son pequenas, es usar intervalost de Student\n",
    "N = dim(aircondit )[1]\n",
    "thetaHat = mean(aircondit [[\"hours\"]])\n",
    "thetaHat\n",
    "# Cuantiles t de student\n",
    "(t.standard = qt(c(1-alfa/2, alfa/2),N-1))"
   ]
  }
 ],
 "metadata": {
  "kernelspec": {
   "display_name": "R",
   "language": "R",
   "name": "ir"
  },
  "language_info": {
   "codemirror_mode": "r",
   "file_extension": ".r",
   "mimetype": "text/x-r-source",
   "name": "R",
   "pygments_lexer": "r",
   "version": "3.6.3"
  }
 },
 "nbformat": 4,
 "nbformat_minor": 1
}