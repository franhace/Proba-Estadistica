{
 "cells": [
  {
   "cell_type": "markdown",
   "metadata": {
    "collapsed": true
   },
   "source": [
    "$ \\text{Sea $X_t$ el tiempo que tarda en cumplirse cada proceso en minutos,} \\\\ $\n",
    "$\\mathbf X_t = \\{X_1, X_2, X_3, X_4 \\} \\thinspace \\text{independientes.} \\\\ $\n",
    "$ \\\\ \\text{Con distribuciones:} $\n",
    "> $X_1 \\sim U(3,5)\n",
    "\\thinspace X_2 \\sim N(3,1/4), \n",
    "\\thinspace X_3 \\sim \\Gamma(6,3) \n",
    "\\thinspace y \\thinspace X_4 \\sim U(2,4) $\n",
    "\n",
    "$ \\text{Sea Y la variable aleatoria que mide el tiempo que tarda un producto en pasar por toda la linea de produccion.} $\n",
    "\n",
    "$ Sea \\thinspace \\\\\n",
    "> Y = X_1 + X_2 + X_3 + X_4 \\\\\n",
    "\\text{Por lo tanto su esperanza es:} \\\\\n",
    "> E(Y) = E ( X_1 + X_2 + X_3 + X_4 ) \\\\\n",
    ">E(Y) = E(X_1) + E(X_2) + E(X_3) + E(X_4) \\\\ \n",
    ">E(Y) = 4 + 3 + 2 + 2 = 12$"
   ]
  },
  {
   "cell_type": "code",
   "execution_count": 0,
   "metadata": {},
   "outputs": [],
   "source": []
  }
 ],
 "metadata": {
  "kernelspec": {
   "display_name": "Python 3",
   "language": "python",
   "name": "python3"
  },
  "language_info": {
   "codemirror_mode": {
    "name": "ipython",
    "version": 3
   },
   "file_extension": ".py",
   "mimetype": "text/x-python",
   "name": "python",
   "nbconvert_exporter": "python",
   "pygments_lexer": "ipython3",
   "version": "3.7.5"
  }
 },
 "nbformat": 4,
 "nbformat_minor": 1
}