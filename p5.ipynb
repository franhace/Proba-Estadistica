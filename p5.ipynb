{
 "cells": [
  {
   "cell_type": "markdown",
   "metadata": {
    "collapsed": true
   },
   "source": [
    "## Ejercicio 1\n",
    "$ \\text{Sea $X_t$ el tiempo que tarda en cumplirse cada proceso en minutos,} \\\\ $\n",
    "$\\mathbf X_t = \\{X_1, X_2, X_3, X_4 \\} \\thinspace \\text{independientes.} \\\\ $\n",
    "$ \\\\ \\text{Con distribuciones:} $\n",
    "> $X_1 \\sim U(3,5)\n",
    "\\thinspace X_2 \\sim N(3,1/4), \n",
    "\\thinspace X_3 \\sim \\Gamma(6,3) \n",
    "\\thinspace y \\thinspace X_4 \\sim U(2,4) $\n",
    "\n",
    "$ \\text{Sea Y la variable aleatoria que mide el tiempo que tarda un producto en pasar por toda la linea de produccion.} $\n",
    "\n",
    "$ Sea \\thinspace \\\\\n",
    "> Y = X_1 + X_2 + X_3 + X_4 \\\\\n",
    "\\text{Por lo tanto su esperanza es:} \\\\\n",
    "> E(Y) = E ( X_1 + X_2 + X_3 + X_4 ) \\\\\n",
    ">E(Y) = E(X_1) + E(X_2) + E(X_3) + E(X_4) \\\\ \n",
    ">E(Y) = 4 + 3 + 2 + 3 = 12 \\\\\n",
    "\\text{Y su varianza:} \\\\\n",
    ">V(Y) = V(\\sum_{i=1}^{4} X_i) = \\sum_{i=1}^{4} V(X_i)) \\thinspace (\\textit{vale por ser vai}) \\\\\n",
    ">V(Y) = 1/3 + 1/4 + 2/3 + 1/3 = 19/12\n",
    "$"
   ]
  },
  {
   "cell_type": "markdown",
   "metadata": {},
   "source": [
    "## Ejercicio 2\n",
    "### a) X va de distribucion desconocida, de E(X) = 5 y V(X) = 0.1. Usando Tchebyshev determinar una cota inferior para la proba de que X este entre 4.5 y 5.5"
   ]
  },
  {
   "cell_type": "markdown",
   "metadata": {},
   "source": [
    "$ P(4.5 \\leq X \\leq 5.5) = P(|X-5|) \\leq 0.5 = 1 - P(|X-0.5| > 0.5) \\thinspace \\\\ \\textit{-por Tche tenemos-} = 1 - \\frac{V(X)}{0.5²} = 1 - \\frac{0.1}{0.5²} = 0.6\n",
    "$"
   ]
  },
  {
   "cell_type": "markdown",
   "metadata": {},
   "source": [
    "### b) Sea $X_1,..,X_n$ vaiid con $E(X_1$)=5 y $V(X_1$) = 0.1 y sea $\\bar{X}$ su promedio. Determinar una cota inferior, cuando n = para que la proba de que $\\bar{X}$ esté entre 4.5 y 5.5"
   ]
  },
  {
   "cell_type": "markdown",
   "metadata": {},
   "source": [
    "$ X_1,...,X_{10} \\thinspace \\text{muestra aleatoria},\\\\\n",
    "V(\\hat{X}_10) = V(\\frac{\\sum _{i=1}^{10} X_i} {10}) \\thinspace \\textit{-por ser independientes-} \\\\\n",
    "= \\frac{1}{10²} \\sum _{i=1}^{10} V(X_i) = \\thinspace \\textit{-por ser independientes-} \\\\\n",
    "= \\frac{1}{10²}10.V(X_1) = \\frac{1}{100} \\\\\n",
    "E(\\frac{\\sum _{i=1}^{10} X_i} {10}) = \\frac{1}{10}E({\\sum _{i=1}^{10} X_i}) = \\frac{1}{10}.10.E(X_1) = 0.5 \\\\\n",
    "P (|\\hat{X}_{10} - 5 | \\leq 0.5 ) = 1 - P (|\\hat{X}_{10} - 5 | > 0.5 ) \\thinspace \\textit{-por Tche-} \n",
    "\\leq 1 - \\frac{V(\\hat{X}_{10})}{0.5²} \\\\ = 1 - \\frac{\\frac{1}{100}}{\\frac{1}{4}} = 0.96\n",
    "$"
   ]
  },
  {
   "cell_type": "markdown",
   "metadata": {},
   "source": [
    "### c) Que pasa con la cota hhala en (b) cuando el tamaño de la muestra crece a infinito ( n $ \\to \\infty$)"
   ]
  },
  {
   "cell_type": "markdown",
   "metadata": {},
   "source": [
    "$ P (|\\hat{X}_{n} - 5 | \\leq 0.5 ) \\geq 1 - \\frac{\\frac{V(X_1)}{n}}{\\frac{1}{4}} = 1 - \\frac{0.4}{n} \\\\ \n",
    "\\text{Cuando} \\thinspace n \\to \\infty  \\thinspace = 1\\\\ \n",
    "\\text{Entonces la } P (|\\hat{X}_{n} - 5 | \\leq 0.5 ) \\to 1\n",
    "$"
   ]
  },
  {
   "cell_type": "markdown",
   "metadata": {},
   "source": [
    "## Ejercicio 3"
   ]
  },
  {
   "cell_type": "markdown",
   "metadata": {},
   "source": [
    "### El numero de aviones que aterrizan en un aeropuerto sigue un proceso de Poisson con intensidad de 10 aviones cada 20 minutos. Determinar la cota inferior para la proba de que el num de aviones que aterrizan en un periodo de 1h este entre 20 y 40."
   ]
  },
  {
   "cell_type": "markdown",
   "metadata": {},
   "source": [
    "$ X_t = \\thinspace \\text{# numero de aviones que aterrizan en t minutos} \\\\\n",
    "X_t \\sim P (0.5t) \\to X_{60} \\sim P(30)\\\\\n",
    "E(X_{60}) = V(X_{60})= 30 \\\\\n",
    "P(|\\hat{X}_{n} - 5 | \\leq 0.5 ) \\\\ P (20 \\leq X_{60} \\leq 40 ) = P (|X_{60} - 30 | \\leq 10 ) \\\\\n",
    "= 1 - P (|X_{60} - 30 | > 10 ) \\thinspace  \\textit{-por Tcheby-} \\thinspace  \\geq 1 - \\frac{30}{10²} = \\frac{7}{10}\n",
    "$"
   ]
  },
  {
   "cell_type": "markdown",
   "metadata": {},
   "source": [
    "## Ejercicio 4\n",
    "#### Sea $p$ la probabilidad que una persona elegida al azar apoye la pena de muerte. Para estimar $p$ se encuesta a $n$ personas, se cuenta la cantaidad de ellas que apoya la pena de muerte (X) y se define la $\\textit{frecuencia relativa}$: $$ f_n = \\frac{X}{n} $$ \n",
    "#### Cuanto mas cerca esté $f_n$ de $p$, mejor estimador será.\n",
    "### a) Hallar una cota superior para $P(|f_n-p| > 0.1))$ que no dependa de p. Como se puede mejorar la estimacion?\n",
    "### b) A cuanta gente deberia encuestarse para que $P(|f_n-p| \\leq 0.1))$ ?"
   ]
  },
  {
   "cell_type": "markdown",
   "metadata": {},
   "source": [
    "$a)\\; P(|f_n-p| > 0.1)) \\leq \\frac{P(1-P)}{n(0.1)²} \\leq \\frac{1}{4n0.1²} \\\\ \\; \\textit {ya que} \\; P(1-P) \\leq 1/4 \\\\\n",
    "\\frac{1}{4n0.1²} = 25/n \\\\\n",
    "\\; \\text{La estimacion podria mejorarse encuestando a mas personas}$\n",
    "\n",
    "$b) \\; P(|f_n-p| > 0.1)) \\leq 25/n \\leq 0.1 \\\\ \n",
    "25/n \\leq 0.1 \\to n \\geq 250\n",
    "$"
   ]
  },
  {
   "cell_type": "markdown",
   "metadata": {},
   "source": [
    "## Ejercicio 5\n",
    "#### Sea $X_1,X_2,..$ una sucesion de vai con $E(X_i) = \\mu$ y $V(X_i) = {\\sigma_i}²$. Sea $\\bar{X_n} = \\frac{1}{n} \\sum _{i=1}^{n} X_i$. \n",
    "#### a) Probar que si ${\\sigma_i}² = {\\sigma}² < \\infty$, entonces $\\bar{X_i} \\to_{n\\to \\infty} \\mu $en probabilidad\n",
    "#### b) Probar que si las varianzas son distintas, pero estan acotas, es decir existe $C$ tal que ${\\sigma_i}² \\leq C$ para todo i, entonces $\\bar{X_i} \\to_{n\\to \\infty} \\mu \\;$en probabilidad"
   ]
  },
  {
   "cell_type": "markdown",
   "metadata": {},
   "source": [
    "#### a) $ \\forall \\epsilon > 0, \\; P(|\\bar{X_n} - \\mu| > \\epsilon ) \\leq \\frac{\\sigma²}{n\\epsilon²} \\\\ \n",
    "\\lim\\limits_{n \\to \\infty} P(|\\bar{X_n} - \\mu| > \\epsilon ) \\leq \\lim\\limits_{n \\to \\infty} \\frac{\\sigma²}{n\\epsilon²} = 0 \\\\\n",
    "\\Rightarrow \\bar{X_n} \\to \\mu\n",
    "$\n",
    "#### b) $ \\forall, \\; 1\\leq i \\leq n, {\\sigma_i}² \\leq C \\\\ \n",
    "P(|\\bar{X_n} - \\mu| > \\epsilon ) \\leq \\frac{\\sum _{i=1}{n}\\sigma²}{n²\\epsilon²} \\leq \\frac{nC}{n²\\epsilon²}, \\, (\\forall \\epsilon > 0 ) \\\\\n",
    "\\lim\\limits_{n \\to \\infty} P(|\\bar{X_n} - \\mu| > \\epsilon ) \\leq \\lim\\limits_{n \\to \\infty} \\frac{C}{n\\epsilon²} = 0 \\, (\\forall \\epsilon > 0 ) \\\\ \n",
    "\\Rightarrow \\bar{X_n} \\to \\mu \n",
    "$"
   ]
  }
 ],
 "metadata": {
  "kernelspec": {
   "display_name": "R",
   "language": "R",
   "name": "ir"
  },
  "language_info": {
   "codemirror_mode": "r",
   "file_extension": ".r",
   "mimetype": "text/x-r-source",
   "name": "R",
   "pygments_lexer": "r",
   "version": "3.6.1"
  }
 },
 "nbformat": 4,
 "nbformat_minor": 1
}