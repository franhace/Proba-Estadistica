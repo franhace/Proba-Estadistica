{
 "cells": [
  {
   "cell_type": "markdown",
   "metadata": {
    "collapsed": true
   },
   "source": [
    "$H_0$ : Hipótesis nula. $H_0$ : $θ ∈ Θ_0 $  \n",
    "$\\\\ H_1$ : Hipótesis Alternativa. $H_1$ : $θ ∈ Θ_1$\n",
    "\n",
    "$R$: Región que indica cómo deben ser las observaciones para\n",
    "rechazar $H_0$ en favor de $H_1$ .\n",
    "\n",
    "$R:=$ Región de rechazo de $H_0$\n",
    "\n",
    "$R=:$ conjunto de resultados para los cuales $H_0$ es rechazada en\n",
    "favor de $H_1$\n",
    "\n",
    "$p-valor$: se calcula una vez realizado el experimento.\n",
    "Depende de los valores $(x_1 , . . . , x_n )$ observados.\n",
    "Indica cuán probable es observar valores extremos como el\n",
    "obtenido, en la dirección de $H_1$ , con $(x_1 , . . . , x_n )$ cuando $H_0$\n",
    "es verdadero.\n",
    "p-valor chico da evidencia contra $H_0$ , en favor de $H_1$\n",
    "Con los datos rechazo $H_0$ a nivel $\\alpha$ si y solo si p-valor ≤ $\\alpha$.\n",
    "\n",
    "Error (es) tipo I: rechazar $H_0$ cuando es verdadera.\n",
    "Probabilidad (ERROR TIPO I) = $P_θ (R)$,\n",
    "\n",
    "$\\\\$Error (es) tipo II: NO rechazar $H_0$ cuando es falsa.\n",
    "Probabilidad (ERROR TIPO II) = $P_θ (R_c )$ = $1 − P_θ (R)$,\n",
    "con θ satisfaciendo $H_1$\n",
    "\n",
    "Dado un valor $θ_1$ en $H_1$ y $\\beta$, se puede encontrar n para que el\n",
    "error tipo II en $θ_1$ sea  $\\leq a \\beta$\n",
    "\n",
    "\n",
    "$\\beta \\geq P_θ1(R_c) = 1 − \\pi(θ_1)$ $== \\pi(θ_1) \\geq 1 − \\beta$\n",
    "\n",
    "\n",
    "$\\pi(θ) potencia: \\text{es la probabilidad de rechazar} \\; H_0 \\; \\text{cuando el valor verdadero\n",
    "del parámetro es} \\theta$.\n",
    "\n",
    "$\\pi(θ) = P_θ(R)$\n",
    "\n",
    "Si $\\theta$ satisface $H_0 , P_θ (R_c )$ = $\\pi(θ)$ es la probabilidad de un error\n",
    "tipo I.\n",
    "\n",
    "Queremos $\\pi(θ)$ chico cuando $\\theta$ satisface $H_0$ .\n",
    "\n",
    "Si $\\theta$ satisface $H_1$ , $P_θ (R_c )$ = $1-\\pi(θ)$ es la probabilidad de un\n",
    "error tipo II.\n",
    "\n",
    "Queremos $\\pi(θ)$ GRANDE cuando $\\theta$ satisface $H_1$ . Potencia\n",
    "grande en las alternativas\n",
    "\n",
    "\n",
    "Dados $H_0 : \\theta = \\theta_0 , H_1$ : $θ ∈ Θ_1$ y R, decimos que el test es de\n",
    "nivel $\\alpha$ si:\n",
    "\n",
    "$$P_θ0(R) \\leq  \\alpha\n",
    "P_θ0(R) = \\pi(θ)_0 \\leq \\alpha$$"
   ]
  },
  {
   "cell_type": "markdown",
   "metadata": {},
   "source": [
    "### Region de rechazo de nivel $\\alpha$\n",
    "$$Z :=\n",
    "\\frac{\\bar{X}_n −\\mu}{\\sqrt{\\frac{\\sigma²_0}{n}}}$$\n",
    "\n",
    "1) $H_0 : \\mu = \\mu_0 \\; vs. \\; H_1  : \\mu > \\mu_0$ ---> $Z \\geq z_\\alpha \\;$ ---> $p-valor=P(Z ≥ z_{obs} )$\n",
    "\n",
    "2) $H_0 : \\mu = \\mu_0 \\; vs. \\; H_1  : \\mu < \\mu_0$ ---> $Z \\leq -z_\\alpha \\; $ ---> $p-valor=P(Z ≤ z_{obs} )$\n",
    "\n",
    "3) $H_0 : \\mu = \\mu_0 \\; vs. \\; H_1  : \\mu != \\mu_0$ -> $\\mod{Z} \\geq z_\\frac{\\alpha}{2}$ --> $p-valor= 2P(Z ≥ |z_{obs} |)$\n",
    "\n",
    "Si la distribucion fuese normal, reemplazar Z por T\n",
    "Con $$T:= \\sqrt{n}\\frac{\\bar{X}_n −\\mu_0}{{\\sigma_0}}$$\n",
    "\n",
    "1)$T ≥ t_{n−1,α}$\n",
    "\n",
    "2)$T ≤ −t_{n−1,α}$\n",
    "\n",
    "3)$|T | ≥ t_{n−1,α/2}$"
   ]
  },
  {
   "cell_type": "markdown",
   "metadata": {
    "pycharm": {
     "name": "#%% md\n"
    }
   },
   "source": [
    "### La funcion de potencia esta dada por \n",
    "1) $$\\pi(\\mu) = 1 - \\phi(z_\\alpha + \\frac{\\mu_0-\\mu}{\\frac{\\sigma_0}{\\sqrt{n}}})$$\n",
    "\n",
    "2) $$\\pi(\\mu) = \\phi(-z_\\alpha + \\frac{\\mu_0-\\mu}{\\frac{\\sigma_0}{\\sqrt{n}}})$$\n",
    "\n",
    "2) $$\\pi(\\mu) = 1-\\phi(z_\\alpha + \\frac{\\mu_0-\\mu}{\\frac{\\sigma_0}{\\sqrt{n}}}) + \\phi(-z_\\alpha + \\frac{\\mu_0-\\mu}{\\frac{\\sigma_0}{\\sqrt{n}}})$$"
   ]
  },
  {
   "cell_type": "code",
   "execution_count": 31,
   "metadata": {
    "pycharm": {
     "name": "#%%\n"
    }
   },
   "outputs": [
    {
     "name": "stdout",
     "output_type": "stream",
     "text": [
      "Proporcion: z_obs: 3.233162p-valor: 0.9993879"
     ]
    },
    {
     "data": {
      "text/html": [
       "555"
      ],
      "text/latex": [
       "555"
      ],
      "text/markdown": [
       "555"
      ],
      "text/plain": [
       "[1] 555"
      ]
     },
     "metadata": {},
     "output_type": "display_data"
    },
    {
     "data": {
      "text/html": [
       "-1.17779454914684"
      ],
      "text/latex": [
       "-1.17779454914684"
      ],
      "text/markdown": [
       "-1.17779454914684"
      ],
      "text/plain": [
       "[1] -1.177795"
      ]
     },
     "metadata": {},
     "output_type": "display_data"
    },
    {
     "data": {
      "text/html": [
       "0.119439261121665"
      ],
      "text/latex": [
       "0.119439261121665"
      ],
      "text/markdown": [
       "0.119439261121665"
      ],
      "text/plain": [
       "[1] 0.1194393"
      ]
     },
     "metadata": {},
     "output_type": "display_data"
    },
    {
     "data": {
      "text/html": [
       "1.95996398454005"
      ],
      "text/latex": [
       "1.95996398454005"
      ],
      "text/markdown": [
       "1.95996398454005"
      ],
      "text/plain": [
       "[1] 1.959964"
      ]
     },
     "metadata": {},
     "output_type": "display_data"
    },
    {
     "data": {
      "text/html": [
       "0.025"
      ],
      "text/latex": [
       "0.025"
      ],
      "text/markdown": [
       "0.025"
      ],
      "text/plain": [
       "[1] 0.025"
      ]
     },
     "metadata": {},
     "output_type": "display_data"
    }
   ],
   "source": [
    "# proporcion\n",
    "promedio<-39/100\n",
    "e<-1100\n",
    "var<-340**2\n",
    "p<-1/4\n",
    "n<-100\n",
    "alpha<-0.25\n",
    "S<-sqrt(var)\n",
    "s<-340\n",
    "s_cuadr<-s**2\n",
    "\n",
    "z_obs<-(promedio-p)/(sqrt(p*(1-p)/n))\n",
    "cat(\"Proporcion: z_obs:\",z_obs)\n",
    "w<-qnorm(1-alpha)\n",
    "r<-pnorm(alpha)\n",
    "\n",
    "# Si calculamos una proporcion clase 1 \n",
    "# si es un promedio clase es 0\n",
    "clase<-1\n",
    "tipo_test<-2\n",
    "mu_cond<-1\n",
    "sigma_cond<-1\n",
    "asint<-0\n",
    "\n",
    "# T<-(sqrt(n))*(promedio-mu)/S\n",
    "\n",
    "if (clase==0){\n",
    "# Tipo de test: 1 2 3\n",
    "\n",
    "if (tipo_test==1){\n",
    "    z_obs>=r\n",
    "    \n",
    "} else if(tipo_test==2){\n",
    "    z_obs<=r*(-1)\n",
    "} else {\n",
    "    r_2<-pnorm(alpha/2)\n",
    "    if (z_obs>=0){\n",
    "        z_obs >= r_2\n",
    "    } else {\n",
    "        z_obs*(-1) >= r_2\n",
    "    }    \n",
    "}\n",
    "}\n",
    "\n",
    "# metodo 1\n",
    "# Rechazo H0 si z_obs < w\n",
    "# z_obs < w*(-1)\n",
    "\n",
    "# metodo 2\n",
    "# Rechazo H0 si p_valor < alpha\n",
    "alpha<-0.05\n",
    "p_valor<-pnorm(z_obs)\n",
    "cat(\"p-valor:\",p_valor)\n",
    "# p_valor<alpha\n",
    "# Promedio\n",
    "555\n",
    "mu<-0.9\n",
    "z_obs<-(promedio-mu)/(sqrt(p*(1-p)))\n",
    "z_obs\n",
    "pnorm(z_obs)\n",
    "z_alpha_2<- qnorm(1-alpha/2)\n",
    "\n",
    "z_alpha_2\n",
    "pnorm(-z_alpha_2)"
   ]
  },
  {
   "cell_type": "code",
   "execution_count": 19,
   "metadata": {},
   "outputs": [
    {
     "ename": "ERROR",
     "evalue": "Error in parse(text = x, srcfile = src): <text>:48:11: unexpected '{'\n47: \n48: } else if {\n              ^\n",
     "output_type": "error",
     "traceback": [
      "Error in parse(text = x, srcfile = src): <text>:48:11: unexpected '{'\n47: \n48: } else if {\n              ^\nTraceback:\n"
     ]
    }
   ],
   "source": [
    "# Promedio\n",
    "promedio<-1100\n",
    "e<-1100\n",
    "var<-340**2\n",
    "p<-0.9\n",
    "n<-260\n",
    "alpha<-0.05\n",
    "S<-sqrt(var)\n",
    "s<-340\n",
    "s_cuadr<-s**2\n",
    "\n",
    "z_obs<-(promedio-p)/(sqrt(p*(1-p)/n))\n",
    "cat(\"Proporcion: z_obs:\",z_obs)\n",
    "w<-qnorm(1-alpha)\n",
    "r<-pnorm(alpha)\n",
    "\n",
    "# Si calculamos una proporcion clase 1 \n",
    "# si es un promedio clase es 0\n",
    "clase<-0\n",
    "tipo_test<-2\n",
    "mu_cond<-1\n",
    "sigma_cond<-1\n",
    "asint<-0\n",
    "\n",
    "if (mu_cond==1 & sigma_cond==1){\n",
    "    \n",
    "T<-(sqrt(n))*(promedio-e)/var    \n",
    "if (tipo_test==1){\n",
    "\n",
    "z_alpha<-qnorm(alpha)\n",
    "glue(\" para mu con sigma conocido tipo{tipo_test} T:{T}. z_alpha: {z_alpha}. \")\n",
    "\n",
    "} else {\n",
    "z_alpha_neg<-z_alpha*(-1)\n",
    "glue(\" para mu con sigma desconocido tipo{tipo_test} T:{T}. z_alpha_neg: {z_alpha_neg}. \")\n",
    "}\n",
    "} else if ((mu_cond==1 & sigma_cond==0) | (mu_cond==0 & sigma_cond==1)) {\n",
    "    \n",
    "if (mu_cond==1){\n",
    "T<-(sqrt(n))*(promedio-e)/S   \n",
    "\n",
    "t_n_menos1_a_2<-qt(alpha/2,n-1,lower.tail = FALSE)\n",
    "glue(\" t_n_menos1_a_2: {t_n_menos1_a_2} \")\n",
    "\n",
    "IC_izq<- promedio - (sqrt(s_cuadr)/sqrt(n))*t_n_menos1_a_2\n",
    "IC_der<- promedio + (sqrt(s_cuadr)/sqrt(n))*t_n_menos1_a_2\n",
    "glue(\" IC: de nivel {nivel} para mu con sigma desconocido [ {IC_izq} , {IC_der} ]\")\n",
    "\n",
    "} else if {\n",
    "(qchisq_n_menos1_a_2<- qchisq(alpha/2,n-1,lower.tail = FALSE))\n",
    "cat(qchisq_n_menos1_a_2)\n",
    "cat(\"\\n\")\n",
    "cat(qchisq_n_menos1_1_menos_a_2)\n",
    "(qchisq_n_menos1_1_menos_a_2<-qchisq(1-alpha/2,n-1, lower.tail = FALSE))\n",
    "IC_der<- (n-1)*s_cuadr / qchisq_n_menos1_1_menos_a_2\n",
    "IC_izq<- (n-1)*s_cuadr / qchisq_n_menos1_a_2\n",
    "glue(\" IC: de nivel {nivel} para sigma con mu desconocido [ {IC_izq} , {IC_der} ]\")\n",
    "}}\n",
    "else {\n",
    "var<-sd**2\n",
    "S_cuadr<-var\n",
    "(qchisq_n_menos1_a_2<- qchisq(alpha/2,n-1,lower.tail = FALSE))\n",
    "(qchisq_n_menos1_1_menos_a_2<-qchisq(1-alpha/2,n-1, lower.tail = FALSE))\n",
    "IC_der<- (n-1)*S_cuadr / qchisq_n_menos1_1_menos_a_2\n",
    "IC_izq<- (n-1)*S_cuadr / qchisq_n_menos1_a_2\n",
    "glue(\" IC: de nivel {nivel} para sigma con mu desconocido [ {IC_izq} , {IC_der} ]\") \n",
    "}\n",
    "}"
   ]
  },
  {
   "cell_type": "code",
   "execution_count": 20,
   "metadata": {},
   "outputs": [
    {
     "name": "stdout",
     "output_type": "stream",
     "text": [
      "z_obs: -2.666667"
     ]
    },
    {
     "data": {
      "text/html": [
       "TRUE"
      ],
      "text/latex": [
       "TRUE"
      ],
      "text/markdown": [
       "TRUE"
      ],
      "text/plain": [
       "[1] TRUE"
      ]
     },
     "metadata": {},
     "output_type": "display_data"
    },
    {
     "name": "stdout",
     "output_type": "stream",
     "text": [
      "p-valor: 0.003830381"
     ]
    },
    {
     "data": {
      "text/html": [
       "555"
      ],
      "text/latex": [
       "555"
      ],
      "text/markdown": [
       "555"
      ],
      "text/plain": [
       "[1] 555"
      ]
     },
     "metadata": {},
     "output_type": "display_data"
    },
    {
     "data": {
      "text/html": [
       "-0.266666666666667"
      ],
      "text/latex": [
       "-0.266666666666667"
      ],
      "text/markdown": [
       "-0.266666666666667"
      ],
      "text/plain": [
       "[1] -0.2666667"
      ]
     },
     "metadata": {},
     "output_type": "display_data"
    },
    {
     "data": {
      "text/html": [
       "0.394862910464025"
      ],
      "text/latex": [
       "0.394862910464025"
      ],
      "text/markdown": [
       "0.394862910464025"
      ],
      "text/plain": [
       "[1] 0.3948629"
      ]
     },
     "metadata": {},
     "output_type": "display_data"
    },
    {
     "data": {
      "text/html": [
       "2.5758293035489"
      ],
      "text/latex": [
       "2.5758293035489"
      ],
      "text/markdown": [
       "2.5758293035489"
      ],
      "text/plain": [
       "[1] 2.575829"
      ]
     },
     "metadata": {},
     "output_type": "display_data"
    },
    {
     "data": {
      "text/html": [
       "0.00500000000000001"
      ],
      "text/latex": [
       "0.00500000000000001"
      ],
      "text/markdown": [
       "0.00500000000000001"
      ],
      "text/plain": [
       "[1] 0.005"
      ]
     },
     "metadata": {},
     "output_type": "display_data"
    }
   ],
   "source": [
    "# proporcion\n",
    "promedio<-0.82\n",
    "p<-0.9\n",
    "n<-100\n",
    "alpha<-0.05\n",
    "\n",
    "z_obs<-(promedio-p)/(sqrt(p*(1-p)/n))\n",
    "cat(\"z_obs:\",z_obs)\n",
    "w<-qnorm(1-alpha)\n",
    "r<-pnorm(alpha)\n",
    "# Tipo de test: 1 2 3\n",
    "tipo_test<-3\n",
    "if (tipo_test==1){\n",
    "    z_obs>=r\n",
    "    \n",
    "} else if(tipo_test==2){\n",
    "    z_obs<=r*(-1)\n",
    "} else {\n",
    "    r_2<-pnorm(alpha/2)\n",
    "    if (z_obs>=0){\n",
    "        z_obs >= r_2\n",
    "    } else {\n",
    "        z_obs*(-1) >= r_2\n",
    "    }\n",
    "    \n",
    "}\n",
    "# test tipo 2\n",
    "\n",
    "# metodo 1\n",
    "# Rechazo H0 si z_obs < w\n",
    "# z_obs < w*(-1)\n",
    "\n",
    "# metodo 2\n",
    "# Rechazo H0 si p_valor < alpha\n",
    "alpha<-0.01\n",
    "p_valor<-pnorm(z_obs)\n",
    "cat(\"p-valor:\",p_valor)\n",
    "# p_valor<alpha\n",
    "\n",
    "# Promedio\n",
    "555\n",
    "mu<-0.9\n",
    "z_obs<-(promedio-mu)/(sqrt(p*(1-p)))\n",
    "z_obs\n",
    "pnorm(z_obs)\n",
    "z_alpha_2<- qnorm(1-alpha/2)\n",
    "z_alpha_2\n",
    "pnorm(-z_alpha_2)"
   ]
  },
  {
   "cell_type": "code",
   "execution_count": 32,
   "metadata": {},
   "outputs": [
    {
     "data": {
      "text/html": [
       "1.65075813365316"
      ],
      "text/latex": [
       "1.65075813365316"
      ],
      "text/markdown": [
       "1.65075813365316"
      ],
      "text/plain": [
       "[1] 1.650758"
      ]
     },
     "metadata": {},
     "output_type": "display_data"
    },
    {
     "data": {
      "text/html": [
       "-1.89700182312907"
      ],
      "text/latex": [
       "-1.89700182312907"
      ],
      "text/markdown": [
       "-1.89700182312907"
      ],
      "text/plain": [
       "[1] -1.897002"
      ]
     },
     "metadata": {},
     "output_type": "display_data"
    }
   ],
   "source": [
    "alpha<-0.05\n",
    "n<-260\n",
    "S<-340\n",
    "promedio<-1060\n",
    "e<-1100\n",
    "# Adecuar segun tipo de test y parametro buscado y conocido/desco\n",
    "t_n_menos1_a_2<-qt(alpha,n-1,lower.tail = FALSE)\n",
    "t_n_menos1_a_2\n",
    "T<-(sqrt(n))*(promedio-e)/S   \n",
    "T"
   ]
  },
  {
   "cell_type": "code",
   "execution_count": 82,
   "metadata": {},
   "outputs": [
    {
     "name": "stdout",
     "output_type": "stream",
     "text": [
      "zobs: 3.233162\n",
      "zalpha: 0.6744898\n",
      "zalpha_2: 1.150349"
     ]
    },
    {
     "data": {
      "text/html": [
       "'IC para p:[0.333891716342416,0.446108283657584]'"
      ],
      "text/latex": [
       "'IC para p:{[}0.333891716342416,0.446108283657584{]}'"
      ],
      "text/markdown": [
       "'IC para p:[0.333891716342416,0.446108283657584]'"
      ],
      "text/plain": [
       "IC para p:[0.333891716342416,0.446108283657584]"
      ]
     },
     "metadata": {},
     "output_type": "display_data"
    },
    {
     "data": {
      "text/html": [
       "0.333891716342416"
      ],
      "text/latex": [
       "0.333891716342416"
      ],
      "text/markdown": [
       "0.333891716342416"
      ],
      "text/plain": [
       "[1] 0.3338917"
      ]
     },
     "metadata": {},
     "output_type": "display_data"
    },
    {
     "data": {
      "text/html": [
       "0.446108283657584"
      ],
      "text/latex": [
       "0.446108283657584"
      ],
      "text/markdown": [
       "0.446108283657584"
      ],
      "text/plain": [
       "[1] 0.4461083"
      ]
     },
     "metadata": {},
     "output_type": "display_data"
    },
    {
     "data": {
      "text/html": [
       "0.000612141632215568"
      ],
      "text/latex": [
       "0.000612141632215568"
      ],
      "text/markdown": [
       "0.000612141632215568"
      ],
      "text/plain": [
       "[1] 0.0006121416"
      ]
     },
     "metadata": {},
     "output_type": "display_data"
    },
    {
     "data": {
      "text/html": [
       "' n: 13233.0369693147'"
      ],
      "text/latex": [
       "' n: 13233.0369693147'"
      ],
      "text/markdown": [
       "' n: 13233.0369693147'"
      ],
      "text/plain": [
       " n: 13233.0369693147"
      ]
     },
     "metadata": {},
     "output_type": "display_data"
    }
   ],
   "source": [
    "# proporcion\n",
    "n <- 100\n",
    "phat <- 39/n\n",
    "\n",
    "# este p0 es fijo\n",
    "p0 <- 1/4\n",
    "\n",
    "alpha<-0.25\n",
    "\n",
    "zobs <- (phat-p0)/sqrt(p0*(1-p0)/n)\n",
    "cat(\"zobs:\",zobs)\n",
    "zalpha <- qnorm(1-alpha)\n",
    "zalpha_2<-qnorm(alpha/2)\n",
    "\n",
    "cat(\"\\nzalpha:\",zalpha)\n",
    "if (zalpha_2<0){\n",
    "    zalpha_2<-zalpha_2*(-1)\n",
    "}\n",
    "cat(\"\\nzalpha_2:\",zalpha_2)\n",
    "\n",
    "r<-sqrt(phat*(1-phat)/n)\n",
    "\n",
    "IC_izq<- phat - (r)*zalpha_2\n",
    "IC_der<- phat + (r)*zalpha_2\n",
    "library(glue)\n",
    "glue(\"IC para p:[{IC_izq},{IC_der}]\")\n",
    "IC_izq\n",
    "IC_der\n",
    "\n",
    "pvalor <- 1-pnorm(zobs)\n",
    "pvalor\n",
    "# Longitud de un intervalo no depende de los valores de la muestra pero si del tamaño de la misma\n",
    "# encontrar el n minimo tal que longitud del IC sea menor que w\n",
    "#2*z_alpha_2*(sd/sqrt(n)) <= w\n",
    "w<-0.01\n",
    "\n",
    "ene_raiz<-(2*zalpha_2)*(sqrt(p0))/w\n",
    "ene<-(ene_raiz)**2\n",
    "glue(\" n: {ene}\")"
   ]
  }
 ],
 "metadata": {
  "kernelspec": {
   "display_name": "R",
   "language": "R",
   "name": "ir"
  },
  "language_info": {
   "codemirror_mode": "r",
   "file_extension": ".r",
   "mimetype": "text/x-r-source",
   "name": "R",
   "pygments_lexer": "r",
   "version": "3.6.1"
  }
 },
 "nbformat": 4,
 "nbformat_minor": 1
}