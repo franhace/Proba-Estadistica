{
 "cells": [
  {
   "cell_type": "markdown",
   "metadata": {},
   "source": [
    "El número de personas que entran a un cibercafé entre las 19 y las 20 hs tiene distribución de Poisson. El dueño del local está evaluando la posibilidad de eliminar una terminal, lo cual hará si la media de clientes en ese horario es menor a 25. Para verificar si esto ocurre, durante 30 dı́as cuenta la cantidad de personas que van a su negocio en dicho horario y ve que el promedio muestral es de 24 personas.\n",
    "\n",
    "    1) Determinar una región de rechazo de nivel asintótico 0.05 para las hipótesis\n",
    "\n",
    "$$[H_0: \\lambda = 25 \\text{ vs } H_1: \\lambda < 25]$$\n",
    "\n",
    "    2) hallar el p-valor para la muestra dada. Qué decisión se toma en base a los datos que obtuvo?\n",
    "\n",
    "    3) cuál es la probabilidad de que el dueño decida no eliminar una terminal si en realidad la media verdadera de usuarios es de 24.5 personas?\n",
    "\n",
    "    4) cuántos dı́as deberı́a observar lo que ocurre en su local para obtener que la proba- bilidad calculada en b) sea a lo sumo del \\(0.05\\)?\n",
    "\n"
   ]
  },
  {
   "cell_type": "markdown",
   "metadata": {
    "collapsed": true
   },
   "source": [
    "### 1\n",
    "$$(X_i\\sim P(\\lambda)$$\n",
    "$$(\\lambda) \\text{es la verdadera media (desconocida) de clientes que entran al cibercafé entre las 19 y las 20 hs.}$$\n",
    "$$Si (X_i\\sim P(\\lambda)) y (n) \\text{es grande, se tiene} [ \\frac{\\bar{X}-\\lambda}{\\sqrt{\\lambda  n}} \\stackrel{a}{\\sim} N(0,1) ]$$\n",
    "$\\text{En este caso, bajo (H_0),}$\n",
    "\n",
    "$$[ \\frac{\\bar{X}-25}{\\sqrt{25 / 30}} \\stackrel{a}{\\sim} N(0,1) ]$$\n",
    "\n",
    "$ \\text{El estadístico del test es}$\n",
    "\n",
    "$$[ Z=\\frac{\\bar{X}-25}{\\sqrt{25 / 30}} ]$$\n",
    "\n",
    "\n",
    "$\\text{Región de rechazo de nivel \\(0.05\\):}$\n",
    "\n",
    "$$[R = \\left\\{ \\frac{\\bar{X}-25}{\\sqrt{25 / 30}} < -z_{0.05} \\right\\}]$$\n",
    "\n",
    "$$[ = \\left\\{ \\frac{\\bar{X}-25}{\\sqrt{25 / 30}} < -1.64 \\right\\} ]$$\n",
    "\n",
    "$\\text{Calculo (Z_{obs}}$\n",
    "\n",
    "$$[Z_{obs}= \\frac{ 24 - 25}{\\sqrt{25/30}} =-1.095]$$\n"
   ]
  },
  {
   "cell_type": "markdown",
   "metadata": {},
   "source": [
    "### 2\n",
    "$$ p-valor: (P(Z\\leq Z_{\\hbox{obs}}))=pnorm((Z_{\\hbox{obs}})) $$\n",
    "\n",
    "$$ p-valor (= P( Z < -1.095) = 0.14) $$ \n",
    "\n"
   ]
  },
  {
   "cell_type": "code",
   "execution_count": 3,
   "metadata": {},
   "outputs": [
    {
     "data": {
      "text/html": [
       "0.136758318240896"
      ],
      "text/latex": [
       "0.136758318240896"
      ],
      "text/markdown": [
       "0.136758318240896"
      ],
      "text/plain": [
       "[1] 0.1367583"
      ]
     },
     "metadata": {},
     "output_type": "display_data"
    }
   ],
   "source": [
    "pnorm(-1.095)"
   ]
  },
  {
   "cell_type": "markdown",
   "metadata": {},
   "source": [
    "Como el p-valor>\\(0.05\\), No rechazo \\(H_0\\) a nivel \\(0.05\\)\n",
    "\n",
    "No hay evidencia, a nivel \\(0.05\\) de que el número medio de personas que entran al cibercafé entre las 19 y las 20 hs sea menor a 25\n"
   ]
  },
  {
   "cell_type": "markdown",
   "metadata": {},
   "source": [
    "### 3\n",
    "\n",
    "    Esto es la probabilidad de no rechazar \\(H_0\\) cuando en realidad es falsa, o sea la probabilidad de error tipo 2.\n",
    "\n",
    "$[P_{24.5} \\left( \\frac{\\bar{X}-25}{\\sqrt{25 / 30}} > -1.64 \\right) = P_{24.5} \\left( \\bar{X}> -1.64 \\sqrt{25 / 30} +25 \\right)] [= P_{24.5} \\left( \\frac{\\bar{X}-24.5}{\\sqrt{24.5 / 30}} > \\frac{-1.64\\sqrt{25 / 30} +25 -24.5}{\\sqrt{24.5 / 30}} \\right) ]$\n",
    "\n",
    "$[ \\approx 1 - \\Phi\\left(\\frac{-1.64\\sqrt{25 / 30} +25 -24.5}{\\sqrt{24.5 / 30}} \\right)]$\n",
    "\n"
   ]
  },
  {
   "cell_type": "code",
   "execution_count": 6,
   "metadata": {},
   "outputs": [
    {
     "data": {
      "text/html": [
       "0.865066054095135"
      ],
      "text/latex": [
       "0.865066054095135"
      ],
      "text/markdown": [
       "0.865066054095135"
      ],
      "text/plain": [
       "[1] 0.8650661"
      ]
     },
     "metadata": {},
     "output_type": "display_data"
    }
   ],
   "source": [
    "1- pnorm((-1.64* sqrt(25 / 30) + 25 - 24.5)/sqrt(24.5 / 30))"
   ]
  },
  {
   "cell_type": "markdown",
   "metadata": {},
   "source": [
    "### 4\n",
    "Probabilidad de error de tipo 2 en función de \\(n\\)\n",
    "\n",
    "$[\\text{p_n} =1- \\Phi\\left(\\frac{-1.64 \\sqrt{25 / n} +25 -24.5}{\\sqrt{24.5 / n}} \\right)]$\n",
    "\n",
    "$[=1 -\\Phi\\left(-1.64\\frac{\\sqrt{25 }}{\\sqrt{24.5}} + \\frac{25 -24.5}{\\sqrt{24.5 / n}} \\right)]$\n",
    "\n",
    "Debo hallar \\(n\\) para que esta probabilidad sea menor que \\(0.05\\)\n",
    "\n",
    "$[1- \\Phi\\left(-1.64\\frac{\\sqrt{25 }}{\\sqrt{24.5}} + \\frac{25 -24.5}{\\sqrt{24.5 / n}} \\right) <0.05 ] [ \\Phi\\left(-1.64\\frac{\\sqrt{25 }}{\\sqrt{24.5}} + \\frac{25 -24.5}{\\sqrt{24.5 / n}} \\right) >0.95 ]$\n",
    "\n",
    "$[ \\frac{25 -24.5}{\\sqrt{24.5 }}\\sqrt{n} > \\Phi^{-1}(0.95)+1.64\\frac{\\sqrt{25 }}{\\sqrt{24.5}} ]$\n",
    "\n",
    "$[\\sqrt{n} > \\left(\\Phi^{-1}(0.95)+1.64\\frac{\\sqrt{25 }}{\\sqrt{24.5}}\\right) \\frac{\\sqrt{24.5 }}{25 -24.5} = 32.68]$"
   ]
  },
  {
   "cell_type": "code",
   "execution_count": 11,
   "metadata": {},
   "outputs": [
    {
     "data": {
      "text/html": [
       "32.6832201514734"
      ],
      "text/latex": [
       "32.6832201514734"
      ],
      "text/markdown": [
       "32.6832201514734"
      ],
      "text/plain": [
       "[1] 32.68322"
      ]
     },
     "metadata": {},
     "output_type": "display_data"
    }
   ],
   "source": [
    "raizn <- (qnorm(0.95) +1.64 * 5/sqrt(24.5)) * sqrt(24.5)/(  (25-24.5))\n",
    "raizn"
   ]
  },
  {
   "cell_type": "code",
   "execution_count": 12,
   "metadata": {},
   "outputs": [
    {
     "data": {
      "text/html": [
       "1068.19287946968"
      ],
      "text/latex": [
       "1068.19287946968"
      ],
      "text/markdown": [
       "1068.19287946968"
      ],
      "text/plain": [
       "[1] 1068.193"
      ]
     },
     "metadata": {},
     "output_type": "display_data"
    }
   ],
   "source": [
    "raizn^2"
   ]
  },
  {
   "cell_type": "code",
   "execution_count": 13,
   "metadata": {},
   "outputs": [
    {
     "data": {
      "text/html": [
       "1069"
      ],
      "text/latex": [
       "1069"
      ],
      "text/markdown": [
       "1069"
      ],
      "text/plain": [
       "[1] 1069"
      ]
     },
     "metadata": {},
     "output_type": "display_data"
    }
   ],
   "source": [
    "n <- ceiling(raizn^2)\n",
    "n"
   ]
  },
  {
   "cell_type": "markdown",
   "metadata": {},
   "source": [
    "Hace falta observar al menos 1069 días."
   ]
  },
  {
   "cell_type": "code",
   "execution_count": 16,
   "metadata": {},
   "outputs": [
    {
     "data": {
      "text/html": [
       "<dl>\n",
       "\t<dt>$root</dt>\n",
       "\t\t<dd>1068.19287534028</dd>\n",
       "\t<dt>$f.root</dt>\n",
       "\t\t<dd>6.58155349664291e-10</dd>\n",
       "\t<dt>$iter</dt>\n",
       "\t\t<dd>9</dd>\n",
       "\t<dt>$init.it</dt>\n",
       "\t\t<dd>&lt;NA&gt;</dd>\n",
       "\t<dt>$estim.prec</dt>\n",
       "\t\t<dd>6.10351567047474e-05</dd>\n",
       "</dl>\n"
      ],
      "text/latex": [
       "\\begin{description}\n",
       "\\item[\\$root] 1068.19287534028\n",
       "\\item[\\$f.root] 6.58155349664291e-10\n",
       "\\item[\\$iter] 9\n",
       "\\item[\\$init.it] <NA>\n",
       "\\item[\\$estim.prec] 6.10351567047474e-05\n",
       "\\end{description}\n"
      ],
      "text/markdown": [
       "$root\n",
       ":   1068.19287534028\n",
       "$f.root\n",
       ":   6.58155349664291e-10\n",
       "$iter\n",
       ":   9\n",
       "$init.it\n",
       ":   &lt;NA&gt;\n",
       "$estim.prec\n",
       ":   6.10351567047474e-05\n",
       "\n",
       "\n"
      ],
      "text/plain": [
       "$root\n",
       "[1] 1068.193\n",
       "\n",
       "$f.root\n",
       "[1] 6.581553e-10\n",
       "\n",
       "$iter\n",
       "[1] 9\n",
       "\n",
       "$init.it\n",
       "[1] NA\n",
       "\n",
       "$estim.prec\n",
       "[1] 6.103516e-05\n"
      ]
     },
     "metadata": {},
     "output_type": "display_data"
    }
   ],
   "source": [
    "# Con R tmb podemos hacerlo facilmente\n",
    "\n",
    "error_tipo_2 <- function(n){\n",
    "1- pnorm((-1.64* sqrt(25 / n) + 25 - 24.5)/sqrt(24.5 / n))\n",
    "}\n",
    "f <- function(n){\n",
    "  error_tipo_2(n)-0.05\n",
    "}\n",
    "uniroot(f, interval = c(30,1500))"
   ]
  },
  {
   "cell_type": "code",
   "execution_count": 15,
   "metadata": {},
   "outputs": [
    {
     "data": {
      "image/png": "[encoded data removed]",
      "text/plain": [
       "plot without title"
      ]
     },
     "metadata": {
      "image/png": {
       "height": 420,
       "width": 420
      },
      "text/plain": {
       "height": 420,
       "width": 420
      }
     },
     "output_type": "display_data"
    }
   ],
   "source": [
    "plot(30:1200, error_tipo_2(30:1200), type=\"l\")"
   ]
  },
  {
   "cell_type": "markdown",
   "metadata": {},
   "source": []
  }
 ],
 "metadata": {
  "kernelspec": {
   "display_name": "R",
   "language": "R",
   "name": "ir"
  },
  "language_info": {
   "codemirror_mode": "r",
   "file_extension": ".r",
   "mimetype": "text/x-r-source",
   "name": "R",
   "pygments_lexer": "r",
   "version": "3.6.1"
  }
 },
 "nbformat": 4,
 "nbformat_minor": 1
}
