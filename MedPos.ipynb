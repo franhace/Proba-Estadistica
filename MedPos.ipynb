{
 "cells": [
  {
   "cell_type": "code",
   "execution_count": 22,
   "metadata": {},
   "outputs": [
    {
     "data": {
      "text/plain": [
       "   Min. 1st Qu.  Median    Mean 3rd Qu.    Max. \n",
       "  15.00   15.00   18.47   87.18   89.97 1431.12 "
      ]
     },
     "metadata": {},
     "output_type": "display_data"
    }
   ],
   "source": [
    "datos <- scan(\"Practica/6/Datos/ingresos.txt\")\n",
    "# datos10<-head(datos,100)\n",
    "# datos10\n",
    "summary(datos)"
   ]
  },
  {
   "cell_type": "code",
   "execution_count": 28,
   "metadata": {},
   "outputs": [
    {
     "data": {
      "text/html": [
       "87.17647991"
      ],
      "text/latex": [
       "87.17647991"
      ],
      "text/markdown": [
       "87.17647991"
      ],
      "text/plain": [
       "[1] 87.17648"
      ]
     },
     "metadata": {},
     "output_type": "display_data"
    },
    {
     "data": {
      "text/html": [
       "18.473715"
      ],
      "text/latex": [
       "18.473715"
      ],
      "text/markdown": [
       "18.473715"
      ],
      "text/plain": [
       "[1] 18.47371"
      ]
     },
     "metadata": {},
     "output_type": "display_data"
    },
    {
     "data": {
      "text/html": [
       "<style>\n",
       ".dl-inline {width: auto; margin:0; padding: 0}\n",
       ".dl-inline>dt, .dl-inline>dd {float: none; width: auto; display: inline-block}\n",
       ".dl-inline>dt::after {content: \":\\0020\"; padding-right: .5ex}\n",
       ".dl-inline>dt:not(:first-of-type) {padding-left: .5ex}\n",
       "</style><dl class=dl-inline><dt>0%</dt><dd>15</dd><dt>25%</dt><dd>15</dd><dt>50%</dt><dd>18.473715</dd><dt>75%</dt><dd>89.9733025</dd><dt>100%</dt><dd>1431.119</dd></dl>\n"
      ],
      "text/latex": [
       "\\begin{description*}\n",
       "\\item[0\\textbackslash{}\\%] 15\n",
       "\\item[25\\textbackslash{}\\%] 15\n",
       "\\item[50\\textbackslash{}\\%] 18.473715\n",
       "\\item[75\\textbackslash{}\\%] 89.9733025\n",
       "\\item[100\\textbackslash{}\\%] 1431.119\n",
       "\\end{description*}\n"
      ],
      "text/markdown": [
       "0%\n",
       ":   1525%\n",
       ":   1550%\n",
       ":   18.47371575%\n",
       ":   89.9733025100%\n",
       ":   1431.119\n",
       "\n"
      ],
      "text/plain": [
       "        0%        25%        50%        75%       100% \n",
       "  15.00000   15.00000   18.47371   89.97330 1431.11900 "
      ]
     },
     "metadata": {},
     "output_type": "display_data"
    },
    {
     "data": {
      "text/html": [
       "23091.1099658383"
      ],
      "text/latex": [
       "23091.1099658383"
      ],
      "text/markdown": [
       "23091.1099658383"
      ],
      "text/plain": [
       "[1] 23091.11"
      ]
     },
     "metadata": {},
     "output_type": "display_data"
    },
    {
     "data": {
      "text/html": [
       "23091.1099658383"
      ],
      "text/latex": [
       "23091.1099658383"
      ],
      "text/markdown": [
       "23091.1099658383"
      ],
      "text/plain": [
       "[1] 23091.11"
      ]
     },
     "metadata": {},
     "output_type": "display_data"
    },
    {
     "data": {
      "text/html": [
       "23114.2241900283"
      ],
      "text/latex": [
       "23114.2241900283"
      ],
      "text/markdown": [
       "23114.2241900283"
      ],
      "text/plain": [
       "[1] 23114.22"
      ]
     },
     "metadata": {},
     "output_type": "display_data"
    },
    {
     "data": {
      "text/html": [
       "23114.2241900283"
      ],
      "text/latex": [
       "23114.2241900283"
      ],
      "text/markdown": [
       "23114.2241900283"
      ],
      "text/plain": [
       "[1] 23114.22"
      ]
     },
     "metadata": {},
     "output_type": "display_data"
    },
    {
     "data": {
      "text/html": [
       "74.9733025"
      ],
      "text/latex": [
       "74.9733025"
      ],
      "text/markdown": [
       "74.9733025"
      ],
      "text/plain": [
       "[1] 74.9733"
      ]
     },
     "metadata": {},
     "output_type": "display_data"
    },
    {
     "data": {
      "text/html": [
       "3.473715"
      ],
      "text/latex": [
       "3.473715"
      ],
      "text/markdown": [
       "3.473715"
      ],
      "text/plain": [
       "[1] 3.473715"
      ]
     },
     "metadata": {},
     "output_type": "display_data"
    }
   ],
   "source": [
    "mean(datos)\n",
    "median(datos)\n",
    "quantile(datos)\n",
    "# Varianza\n",
    "mean(datos^2)-mean(datos)^2\n",
    "mean((datos-mean(datos))^2)\n",
    "var(datos)\n",
    "n<-1000\n",
    "sum((datos-mean(datos))^2)/(n-1)\n",
    "IQR(datos)\n",
    "mad(datos, constant=1)"
   ]
  }
 ],
 "metadata": {
  "kernelspec": {
   "display_name": "R",
   "language": "R",
   "name": "ir"
  },
  "language_info": {
   "codemirror_mode": "r",
   "file_extension": ".r",
   "mimetype": "text/x-r-source",
   "name": "R",
   "pygments_lexer": "r",
   "version": "3.6.1"
  }
 },
 "nbformat": 4,
 "nbformat_minor": 1
}