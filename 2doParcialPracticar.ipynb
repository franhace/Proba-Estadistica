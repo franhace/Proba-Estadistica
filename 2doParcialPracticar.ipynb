{
 "cells": [
  {
   "cell_type": "code",
   "execution_count": null,
   "metadata": {
    "collapsed": true
   },
   "outputs": [],
   "source": [
    "# Ej 1\n",
    "# a) Proba que en 100 juegos gane mas de 45 veces\n",
    "# Distribucion binomial, aproximable por la normal, ya que n no es suficientemente grande para usar Poisson\n",
    "# n.100 = 30 > 5\n",
    "n = 100\n",
    "p = 0.3\n",
    "mean = n*p"
   ]
  }
 ],
 "metadata": {
  "kernelspec": {
   "display_name": "R",
   "language": "R",
   "name": "ir"
  },
  "language_info": {
   "codemirror_mode": "r",
   "file_extension": ".r",
   "mimetype": "text/x-r-source",
   "name": "R",
   "pygments_lexer": "r",
   "version": "3.6.3"
  }
 },
 "nbformat": 4,
 "nbformat_minor": 1
}
