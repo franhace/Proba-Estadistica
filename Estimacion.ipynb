{
 "cells": [
  {
   "cell_type": "code",
   "execution_count": 69,
   "metadata": {},
   "outputs": [
    {
     "name": "stdout",
     "output_type": "stream",
     "text": [
      "\n",
      "EMV Media sin var: 29.27778\n",
      "Media: 29.27778\n",
      "EMV var sesgado: 554.4427\n",
      "EMV var insesgado: 575.7674\n",
      "EMV var insesgado con mu: 885.7706\n",
      "Desvio muestral ≡ Desvio Muestral: 23.99515\n",
      "MAD: 14.44\n",
      "Sin usar dato de la media conocida (var(X)): 575.7674\n",
      "\n",
      "Varianza del error de medición ≡ Varianza que vemos en los datos\n",
      "OBS: Los datos no tienen varianza, la varianza observada en ellos corresponde completamente al error de medición.\n",
      "\n",
      "\n",
      "Da los percentiles 0% (min), 25%, 50%, 75% y 100% (max)\n",
      "              percentiles: 1.68 12.64 26.43 38.215 100.32\n",
      "Percentiles 10% y 90%: 2.866 60.37\n",
      "Largo X: 27\n",
      "a mano el percentil 90% se consigue buscando la posici�n =0.9 * 27=24.3\n",
      " 56.11 57.43 57.298\n",
      " Rango muestral: 1.68 100.32\n",
      " IC: 25.575"
     ]
    },
    {
     "data": {
      "text/html": [
       "67.4145746671034"
      ],
      "text/latex": [
       "67.4145746671034"
      ],
      "text/markdown": [
       "67.4145746671034"
      ],
      "text/plain": [
       "[1] 67.41457"
      ]
     },
     "metadata": {},
     "output_type": "display_data"
    },
    {
     "data": {
      "text/html": [
       "<style>\n",
       ".list-inline {list-style: none; margin:0; padding: 0}\n",
       ".list-inline>li {display: inline-block}\n",
       ".list-inline>li:not(:last-child)::after {content: \"\\00b7\"; padding: 0 .5ex}\n",
       "</style>\n",
       "<ol class=list-inline><li>1.68</li><li>2.09</li><li>2.41</li><li>3.17</li><li>5.92</li><li>6.47</li><li>11.99</li><li>13.29</li><li>13.54</li><li>15.31</li><li>17.96</li><li>23.59</li><li>23.6</li><li>26.43</li><li>28.04</li><li>29.18</li><li>29.63</li><li>32.27</li><li>33.39</li><li>33.58</li><li>42.85</li><li>49.61</li><li>56.11</li><li>57.43</li><li>64.78</li><li>65.86</li><li>100.32</li></ol>\n"
      ],
      "text/latex": [
       "\\begin{enumerate*}\n",
       "\\item 1.68\n",
       "\\item 2.09\n",
       "\\item 2.41\n",
       "\\item 3.17\n",
       "\\item 5.92\n",
       "\\item 6.47\n",
       "\\item 11.99\n",
       "\\item 13.29\n",
       "\\item 13.54\n",
       "\\item 15.31\n",
       "\\item 17.96\n",
       "\\item 23.59\n",
       "\\item 23.6\n",
       "\\item 26.43\n",
       "\\item 28.04\n",
       "\\item 29.18\n",
       "\\item 29.63\n",
       "\\item 32.27\n",
       "\\item 33.39\n",
       "\\item 33.58\n",
       "\\item 42.85\n",
       "\\item 49.61\n",
       "\\item 56.11\n",
       "\\item 57.43\n",
       "\\item 64.78\n",
       "\\item 65.86\n",
       "\\item 100.32\n",
       "\\end{enumerate*}\n"
      ],
      "text/markdown": [
       "1. 1.68\n",
       "2. 2.09\n",
       "3. 2.41\n",
       "4. 3.17\n",
       "5. 5.92\n",
       "6. 6.47\n",
       "7. 11.99\n",
       "8. 13.29\n",
       "9. 13.54\n",
       "10. 15.31\n",
       "11. 17.96\n",
       "12. 23.59\n",
       "13. 23.6\n",
       "14. 26.43\n",
       "15. 28.04\n",
       "16. 29.18\n",
       "17. 29.63\n",
       "18. 32.27\n",
       "19. 33.39\n",
       "20. 33.58\n",
       "21. 42.85\n",
       "22. 49.61\n",
       "23. 56.11\n",
       "24. 57.43\n",
       "25. 64.78\n",
       "26. 65.86\n",
       "27. 100.32\n",
       "\n",
       "\n"
      ],
      "text/plain": [
       " [1]   1.68   2.09   2.41   3.17   5.92   6.47  11.99  13.29  13.54  15.31\n",
       "[11]  17.96  23.59  23.60  26.43  28.04  29.18  29.63  32.27  33.39  33.58\n",
       "[21]  42.85  49.61  56.11  57.43  64.78  65.86 100.32"
      ]
     },
     "metadata": {},
     "output_type": "display_data"
    },
    {
     "data": {
      "text/html": [
       "27"
      ],
      "text/latex": [
       "27"
      ],
      "text/markdown": [
       "27"
      ],
      "text/plain": [
       "[1] 27"
      ]
     },
     "metadata": {},
     "output_type": "display_data"
    },
    {
     "data": {
      "text/html": [
       "25"
      ],
      "text/latex": [
       "25"
      ],
      "text/markdown": [
       "25"
      ],
      "text/plain": [
       "[1] 25"
      ]
     },
     "metadata": {},
     "output_type": "display_data"
    },
    {
     "data": {
      "text/html": [
       "64.78"
      ],
      "text/latex": [
       "64.78"
      ],
      "text/markdown": [
       "64.78"
      ],
      "text/plain": [
       "[1] 64.78"
      ]
     },
     "metadata": {},
     "output_type": "display_data"
    },
    {
     "data": {
      "text/html": [
       "67.4145746671034"
      ],
      "text/latex": [
       "67.4145746671034"
      ],
      "text/markdown": [
       "67.4145746671034"
      ],
      "text/plain": [
       "[1] 67.41457"
      ]
     },
     "metadata": {},
     "output_type": "display_data"
    }
   ],
   "source": [
    "X<- scan('Practica/6/Datos/lamparas.txt')\n",
    "\n",
    "# Estimador de Momentos\n",
    "estimadorMomentos <- function(x){return (1/mean(x))}\n",
    "theta_m <- estimadorMomentos(X)\n",
    "\n",
    "#### EMV (igual al de momentos) ###\n",
    "estimadorMV <- function(x){\n",
    "    return (1/mean(x))\n",
    "}\n",
    "theta_MV <- estimadorMV(X)\n",
    "\n",
    "# emv sin var\n",
    "estimadorMediaMV <- function(x){\n",
    "    n <- length(x)\n",
    "    mu_hat <- sum(x)/n\n",
    "    return (mu_hat)\n",
    "}\n",
    "\n",
    "# emv var sesgado\n",
    "estimadorVarMV <- function(x){\n",
    "    n <- length(x)\n",
    "    mu_hat <- estimadorMediaMV(x)\n",
    "    var_hat <- sum((x - mu_hat)**2)/n\n",
    "    return (var_hat)\n",
    "}\n",
    "\n",
    "# emv var insesgado (s²)\n",
    "\n",
    "estimadorVarMVInsesgado <- function(x){\n",
    "    n <- length(x)\n",
    "    mu_hat <- estimadorMediaMV(x)\n",
    "    var_hat <- sum((x - mu_hat)**2)/(n-1)\n",
    "    return (var_hat)\n",
    "}\n",
    "\n",
    "estimadorVarMVInsesgadoConMu <- function(x, mu){\n",
    "    n <- length(x)\n",
    "    var_hat <- sum((x - mu)**2)/(n-1)\n",
    "    return (var_hat)\n",
    "}\n",
    "\n",
    "\n",
    "# cat(\"EMV:\", estimadorMV(X))\n",
    "cat(\"\\nEMV Media sin var:\",estimadorMediaMV(X))\n",
    "cat(\"\\nMedia:\",mean(X))\n",
    "cat(\"\\nEMV var sesgado:\", estimadorVarMV(X))\n",
    "cat(\"\\nEMV var insesgado:\", estimadorVarMVInsesgado(X))\n",
    "cat(\"\\nEMV var insesgado con mu:\", estimadorVarMVInsesgadoConMu(X, mu=12))\n",
    "cat(\"\\nDesvio muestral ≡ Desvio Muestral:\",sqrt(var(X)))\n",
    "cat(\"\\nMAD:\", median(abs(X-median(X))))\n",
    "cat(\"\\nSin usar dato de la media conocida (var(X)):\", var(X))\n",
    "cat(\"\\n\\nVarianza del error de medición ≡ Varianza que vemos en los datos\n",
    "OBS: Los datos no tienen varianza, la varianza observada en ellos corresponde completamente al error de medición.\\n\")\n",
    "cat(\"\\n\\nDa los percentiles 0% (min), 25%, 50%, 75% y 100% (max)\n",
    "              percentiles:\", quantile(X))\n",
    "cat(\"\\nPercentiles 10% y 90%:\", quantile(X, 0.1), quantile(X,0.9))\n",
    "cat(\"\\nLargo X:\", length(X))\n",
    "cat(\"\\na mano el percentil 90% se consigue buscando la posici�n =0.9 * 27=24.3\\n\",sort(X)[23],sort(X)[24],\n",
    "    sort(X)[23]*0.1 + sort(X)[24]*0.9)\n",
    "cat(\"\\n Rango muestral:\", range(X))\n",
    "cat(\"\\n IC:\", quantile(X,0.75)-quantile(X,0.25))\n",
    "\n",
    "\n",
    "## Percentil 90 usando modelo ##\n",
    "estimadorPercentil90 <- function(theta_hat){\n",
    "    return (-log(0.1)/theta_hat)\n",
    "}\n",
    "\n",
    "k_hat <- estimadorPercentil90(theta_m)\n",
    "k_hat\n",
    "\n",
    "## Percentil 90 sin modelo ##\n",
    "sort(X)\n",
    "# Cantidad de datos\n",
    "length(X)\n",
    "# 90% de los datos (redondeo hacia arriba)\n",
    "ceiling(length(X)*0.9)\n",
    "# Elemento en el índice que corresponde al 90 percentil\n",
    "sort(X)[ceiling(length(X)*0.9)]\n",
    "\n",
    "#Lo que es aceptablemente cercano al valor calculado usando el modelo Exponencial:\n",
    "k_hat"
   ]
  },
  {
   "cell_type": "code",
   "execution_count": 16,
   "metadata": {
    "scrolled": true
   },
   "outputs": [
    {
     "data": {
      "image/png": "[encoded data removed]",
      "text/plain": [
       "Plot with title “Normal Q-Q Plot”"
      ]
     },
     "metadata": {
      "image/png": {
       "height": 420,
       "width": 420
      },
      "text/plain": {
       "height": 420,
       "width": 420
      }
     },
     "output_type": "display_data"
    }
   ],
   "source": [
    "par(mfrow=c(2,2))\n",
    "plot(X, col=\"lightblue\", cex=1.5)\n",
    "X_5<-head(X,5)\n",
    "points(X_5, col=\"red\", cex=1.25)\n",
    "points(X, col=\"blue\")\n",
    "\n",
    "hist(X, col=\"lightblue\")\n",
    "\n",
    "boxplot(X, col=\"lightblue\")\n",
    "\n",
    "qqnorm(X, col=\"black\", cex=0.5)"
   ]
  },
  {
   "cell_type": "code",
   "execution_count": null,
   "metadata": {
    "pycharm": {
     "name": "#%%\n"
    }
   },
   "outputs": [],
   "source": [
    "X = c(210, 197, 187, 217, 194,\n",
    "      208, 220, 199, 193, 203,\n",
    "      181, 212, 188, 196, 185)\n",
    "\n",
    "Estimador de **Máxima Verosimilitud** de la **Media** $\\mu$:\n",
    "\n",
    "$$\\hat \\mu_{MV} = \\frac {\\sum_{i=1}^n X_i} n$$\n",
    "\n",
    "# Si distribucion es normal\n",
    "estimadorMediaMV <- function(x){\n",
    "    n <- length(x)\n",
    "    mu_hat <- sum(x)/n\n",
    "    return (mu_hat)\n",
    "}\n",
    "\n",
    "estimadorVarMV <- function(x){\n",
    "    n <- length(x)\n",
    "    mu_hat <- estimadorMediaMV(x)\n",
    "    var_hat <- sum((x - mu_hat)**2)/n\n",
    "    return (var_hat)\n",
    "}\n",
    "\n",
    "estimadorVarMVInsesgado <- function(x){\n",
    "    n <- length(x)\n",
    "    mu_hat <- estimadorMediaMV(x)\n",
    "    var_hat <- sum((x - mu_hat)**2)/(n-1)\n",
    "    return (var_hat)\n",
    "}\n",
    "\n",
    "estimadorVarMVInsesgadoConMu <- function(x, mu){\n",
    "    n <- length(x)\n",
    "    var_hat <- sum((x - mu)**2)/(n-1)\n",
    "    return (var_hat)\n",
    "}\n",
    "estimadorVarMVInsesgadoConMu(X, mu=12)\n",
    "var(X)"
   ]
  },
  {
   "cell_type": "code",
   "execution_count": null,
   "metadata": {
    "pycharm": {
     "name": "#%%\n"
    }
   },
   "outputs": [],
   "source": [
    "# Ejr parcial intervalos\n",
    "# calcular IC para una Bernoulli\n",
    "IC_der<- 39/100 + (0.5/sqrt(100))*qnorm(0.25/2)*(-1)\n",
    "IC_izq<- 39/100 - (0.5/sqrt(100))*qnorm(0.25/2)*(-1)\n",
    "\n",
    "# encontrar el n tal que sea mayor que 0.01\n",
    "(qnorm(0.25/2)*(-1)/0.01)**2"
   ]
  }
 ],
 "metadata": {
  "kernelspec": {
   "display_name": "R",
   "language": "R",
   "name": "ir"
  },
  "language_info": {
   "codemirror_mode": "r",
   "file_extension": ".r",
   "mimetype": "text/x-r-source",
   "name": "R",
   "pygments_lexer": "r",
   "version": "3.6.3"
  }
 },
 "nbformat": 4,
 "nbformat_minor": 1
}
