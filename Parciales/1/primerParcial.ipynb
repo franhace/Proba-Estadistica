{
 "cells": [
  {
   "cell_type": "code",
   "execution_count": null,
   "metadata": {
    "collapsed": true
   },
   "outputs": [],
   "source": [
    "1-(pbinom(4,25,0.1))\n",
    "1-ppois(3,5)\n",
    "qnorm(0.9)\n",
    "pnorm(0.1)\n",
    "# ej1\n",
    "ppois(1,13)/((ppois(1,13)+ppois(1,10)))\n",
    "1-ppois(12,10)\n",
    "# ej 2\n",
    "a<- 1-sum(dunif(0:6,0,10))\n",
    "b<- 1-sum(dexp(0:6,1/6))\n",
    "a*0.3 + b*0.7\n",
    "5+6\n",
    "# ej 3\n",
    "pbinom(2,8,0.25)\n",
    "sum(dbinom(0:1,8,0.25))\n",
    "dbinom(2,8,0.25)*0.25\n",
    "# ej 6\n",
    "dpois(1,1)\n",
    "1-sum(dpois(0:1,1))\n",
    "1-sum(dpois(0:2,1))\n",
    "ppois(2,1)"
   ]
  }
 ],
 "metadata": {
  "kernelspec": {
   "name": "ir",
   "language": "R",
   "display_name": "R"
  },
  "language_info": {
   "codemirror_mode": {
    "name": "ipython",
    "version": 2
   },
   "file_extension": ".py",
   "mimetype": "text/x-python",
   "name": "python",
   "nbconvert_exporter": "python",
   "pygments_lexer": "ipython2",
   "version": "2.7.6"
  }
 },
 "nbformat": 4,
 "nbformat_minor": 0
}