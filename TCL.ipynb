{
 "cells": [
  {
   "cell_type": "markdown",
   "metadata": {},
   "source": [
    "\n",
    "2. Un negocio de mascotas ofrece servicio de vacaciones.\n",
    "Tiempo en dias en comer racion de alimento es exp con valor medio 1/2. Tiempos entre comer raciones indeps entre si.\n",
    "-i) Felipe se va 30 dias de vacas y contrata 62 raciones. Si no tiene comida el gato raja, aproximar proba de gato siga en la casa luego de los 30 dias\n",
    "-ii)"
   ]
  },
  {
   "cell_type": "markdown",
   "metadata": {},
   "source": [
    "Xi: tiempo que tarda el gato en comer iesima racion en dias\n",
    "E(Xi) = 1/2 = 1/lambda -> lambda = 2\n",
    "V(Xi) = 1/labda² = 1/4\n",
    ">$\\mu(Xi) = \\frac{1}{\\lambda} = 1/2 and V(Xi) = \\frac{1}{\\lambda^2}\n",
    ">$$X \\sim \\mathcal E(2)$$\n",
    "X1,..,Xn"
   ]
  },
  {
   "cell_type": "markdown",
   "metadata": {},
   "source": [
    "$\\mu(Xi) = 0$ and V(Xi) = $\\sigma² $"
   ]
  },
  {
   "cell_type": "markdown",
   "metadata": {},
   "source": [
    "#Hallar n tal que P(Sn>=30) ==0.99\n",
    "$\\frac {Sn-0.5n}{1\\sqrt n 0.5} \\leq \\frac{30-0.5}{\\sqrt n 0.5}$"
   ]
  },
  {
   "cell_type": "markdown",
   "metadata": {},
   "source": [
    "$\\mathbf x = \\{X_1, X_2, \\dots, X_n \\}$ muestra aleatoria\n",
    "\n",
    "$\\mathbf n = \\100\n"
   ]
  },
  {
   "cell_type": "markdown",
   "metadata": {},
   "source": [
    ">$ P((|x-E(x)|)\\leq \\epsilon ) \\geq 1 - \\frac{V(X)}{\\epsilon^{2}}$"
   ]
  },
  {
   "cell_type": "code",
   "execution_count": null,
   "metadata": {},
   "outputs": [],
   "source": []
  }
 ],
 "metadata": {
  "kernelspec": {
   "display_name": "R",
   "language": "R",
   "name": "ir"
  },
  "language_info": {
   "codemirror_mode": "r",
   "file_extension": ".r",
   "mimetype": "text/x-r-source",
   "name": "R",
   "pygments_lexer": "r",
   "version": "3.6.1"
  }
 },
 "nbformat": 4,
 "nbformat_minor": 1
}